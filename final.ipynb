{
  "cells": [
    {
      "cell_type": "markdown",
      "source": [
        "#Case Introduction\n",
        "\n",
        "**Insurance Sector**\n",
        "\n",
        "The basic concept of insurance is that one party, the insurer, will guarantee payment for an uncertain future event. Meanwhile, another party, the insured or the policyholder, pays a smaller premium to the insurer in exchange for that protection on that uncertain future occurrence.\n",
        "\n",
        "The global insurance market grew from $5,376.92 billion in 2021 to $5,838.43 billion in 2022.\n",
        "\n",
        "Types Of available insurances:Health Insurance,Motor Insurance,Home Insurance,Fire Insurance,etc\n",
        "\n",
        "Major Challenges faced are:Customer retention,Rising operation costs,**Fraudulent claims** and many more.\n",
        "\n",
        "The companies have lost $6.25 billion just due to Fraudulent claims."
      ],
      "metadata": {
        "id": "uyBfMixj4sFS"
      }
    },
    {
      "cell_type": "markdown",
      "source": [
        "#Business Case\n",
        "\n",
        "The Automobile Insurance company is facing losses due to fraudulent claims.The benefits offered by the company are being misused to claim insurance money.Its important to identify these fraudulent claims:\n",
        "\n",
        "•\tTo reduce financial loss to the company.\n",
        "\n",
        "•\tTo make sure the benefits they offer are not miss utilised.\n",
        "\n",
        "•\tFraudulent claims results in higher premium for genunine customers.\n",
        "\n"
      ],
      "metadata": {
        "id": "JMXPvE8F0A1H"
      }
    },
    {
      "cell_type": "markdown",
      "source": [
        "#ML Problem Statement\n",
        "\n",
        "The Insurance company has the Customer data,Insurance policy data,Vehicle details and the Claim data.\n",
        "\n",
        "1.Using machine learning its able to make accurate predictions of a fradulent claim which is very difficult in real time.\n",
        "\n",
        "2.Its able to find the traits and patterns from the data to identify if the claim being made is fradulent or genunine.\n",
        "\n",
        "3.The types of claims may vary in nature hence the detection process needs dynamic adaptation which is possible with the help of Machine Learning.\n",
        "\n",
        "Advantages:\n",
        "\n",
        "1.Adaptive and Time saving.\n",
        "\n",
        "2.Reliable and Cost effective\n",
        "\n",
        "3.Can offer better services to genunine customers."
      ],
      "metadata": {
        "id": "2rhFuUO11C9R"
      }
    },
    {
      "cell_type": "markdown",
      "source": [
        "**Importing necessary libraries**"
      ],
      "metadata": {
        "id": "kH0jWjk8z4kD"
      }
    },
    {
      "cell_type": "code",
      "execution_count": 155,
      "metadata": {
        "colab": {
          "base_uri": "https://localhost:8080/"
        },
        "id": "vU41puLeKqTa",
        "outputId": "5c7738c5-b7e6-44b4-eafe-fda2aae0d8f9"
      },
      "outputs": [
        {
          "output_type": "stream",
          "name": "stdout",
          "text": [
            "Drive already mounted at /content/gdrive; to attempt to forcibly remount, call drive.mount(\"/content/gdrive\", force_remount=True).\n"
          ]
        }
      ],
      "source": [
        "from google.colab import drive\n",
        "drive.mount('/content/gdrive')"
      ]
    },
    {
      "cell_type": "code",
      "source": [
        "!pip install catboost"
      ],
      "metadata": {
        "colab": {
          "base_uri": "https://localhost:8080/"
        },
        "id": "WX-1YZnpmeul",
        "outputId": "367af8cd-15e5-4f28-aa2c-8999fad585bd"
      },
      "execution_count": 156,
      "outputs": [
        {
          "output_type": "stream",
          "name": "stdout",
          "text": [
            "Looking in indexes: https://pypi.org/simple, https://us-python.pkg.dev/colab-wheels/public/simple/\n",
            "Requirement already satisfied: catboost in /usr/local/lib/python3.7/dist-packages (1.1)\n",
            "Requirement already satisfied: graphviz in /usr/local/lib/python3.7/dist-packages (from catboost) (0.10.1)\n",
            "Requirement already satisfied: scipy in /usr/local/lib/python3.7/dist-packages (from catboost) (1.7.3)\n",
            "Requirement already satisfied: plotly in /usr/local/lib/python3.7/dist-packages (from catboost) (5.5.0)\n",
            "Requirement already satisfied: six in /usr/local/lib/python3.7/dist-packages (from catboost) (1.15.0)\n",
            "Requirement already satisfied: pandas>=0.24.0 in /usr/local/lib/python3.7/dist-packages (from catboost) (1.3.5)\n",
            "Requirement already satisfied: numpy>=1.16.0 in /usr/local/lib/python3.7/dist-packages (from catboost) (1.21.6)\n",
            "Requirement already satisfied: matplotlib in /usr/local/lib/python3.7/dist-packages (from catboost) (3.2.2)\n",
            "Requirement already satisfied: pytz>=2017.3 in /usr/local/lib/python3.7/dist-packages (from pandas>=0.24.0->catboost) (2022.5)\n",
            "Requirement already satisfied: python-dateutil>=2.7.3 in /usr/local/lib/python3.7/dist-packages (from pandas>=0.24.0->catboost) (2.8.2)\n",
            "Requirement already satisfied: kiwisolver>=1.0.1 in /usr/local/lib/python3.7/dist-packages (from matplotlib->catboost) (1.4.4)\n",
            "Requirement already satisfied: cycler>=0.10 in /usr/local/lib/python3.7/dist-packages (from matplotlib->catboost) (0.11.0)\n",
            "Requirement already satisfied: pyparsing!=2.0.4,!=2.1.2,!=2.1.6,>=2.0.1 in /usr/local/lib/python3.7/dist-packages (from matplotlib->catboost) (3.0.9)\n",
            "Requirement already satisfied: typing-extensions in /usr/local/lib/python3.7/dist-packages (from kiwisolver>=1.0.1->matplotlib->catboost) (4.1.1)\n",
            "Requirement already satisfied: tenacity>=6.2.0 in /usr/local/lib/python3.7/dist-packages (from plotly->catboost) (8.1.0)\n"
          ]
        }
      ]
    },
    {
      "cell_type": "code",
      "source": [
        "import pandas as pd\n",
        "import numpy as np\n",
        "import time\n",
        "from datetime import datetime\n",
        "import matplotlib.pyplot as plt\n",
        "import seaborn as sns\n",
        "from sklearn.experimental import enable_iterative_imputer \n",
        "from sklearn.impute import IterativeImputer,SimpleImputer\n",
        "from sklearn.preprocessing import RobustScaler,StandardScaler,MinMaxScaler,LabelEncoder\n",
        "from sklearn.feature_selection import SelectKBest,f_classif,chi2\n",
        "from sklearn.model_selection import RepeatedStratifiedKFold,RandomizedSearchCV,cross_val_score,train_test_split\n",
        "from numpy import mean,std,sum,median,array\n",
        "from sklearn.metrics import f1_score,classification_report,roc_auc_score\n",
        "from sklearn.linear_model import LogisticRegression\n",
        "from sklearn.neighbors import KNeighborsClassifier\n",
        "from sklearn.tree import DecisionTreeClassifier\n",
        "from sklearn.naive_bayes import GaussianNB\n",
        "from catboost import CatBoostClassifier\n",
        "import lightgbm as lgbm\n",
        "from xgboost import XGBClassifier\n",
        "from sklearn.ensemble import VotingClassifier,RandomForestClassifier\n",
        "from imblearn.combine import SMOTEENN\n",
        "from imblearn.over_sampling import KMeansSMOTE"
      ],
      "metadata": {
        "id": "3GXhmgkhZOjE"
      },
      "execution_count": 157,
      "outputs": []
    },
    {
      "cell_type": "markdown",
      "source": [
        "Importing data from drive"
      ],
      "metadata": {
        "id": "MEqMX9gfKtsk"
      }
    },
    {
      "cell_type": "code",
      "execution_count": 158,
      "metadata": {
        "id": "XOc2QpdyLV51"
      },
      "outputs": [],
      "source": [
        "#To read Train_Claim data\n",
        "path = \"/content/gdrive/My Drive/fh/Train_NT/TC.csv\"\n",
        "claim=pd.read_csv(path)\n",
        "#To read Test_Claim data\n",
        "path = \"/content/gdrive/My Drive/fh/TestData/Test_Claim.csv\"\n",
        "claim_test=pd.read_csv(path)"
      ]
    },
    {
      "cell_type": "code",
      "execution_count": 159,
      "metadata": {
        "id": "et2ghCVzh8Tn"
      },
      "outputs": [],
      "source": [
        "#To read Train_Demographics data\n",
        "path = \"/content/gdrive/My Drive/fh/Train_NT/Train_Demographics.csv\"\n",
        "demo=pd.read_csv(path)\n",
        "#To read Test_Demographics data\n",
        "path = \"/content/gdrive/My Drive/fh/TestData/Test_Demographics.csv\"\n",
        "demo_test=pd.read_csv(path)"
      ]
    },
    {
      "cell_type": "code",
      "execution_count": 160,
      "metadata": {
        "id": "ZQlz7IInh8Tn"
      },
      "outputs": [],
      "source": [
        "#To read Train_vehicle data\n",
        "path = \"/content/gdrive/My Drive/fh/Train_NT/Train_Vehicle.csv\"\n",
        "vehicle=pd.read_csv(path)\n",
        "#To read Test_vehicle data\n",
        "path = \"/content/gdrive/My Drive/fh/TestData/Test_Vehicle.csv\"\n",
        "vehicle_test=pd.read_csv(path)"
      ]
    },
    {
      "cell_type": "code",
      "execution_count": 161,
      "metadata": {
        "id": "bgCua6alh8Tn"
      },
      "outputs": [],
      "source": [
        "#To read Train_policy data\n",
        "path = \"/content/gdrive/My Drive/fh/Train_NT/Train_Policy.csv\"\n",
        "policy=pd.read_csv(path)\n",
        "#To read Test_policy data\n",
        "path = \"/content/gdrive/My Drive/fh/TestData/Test_Policy.csv\"\n",
        "policy_test=pd.read_csv(path)"
      ]
    },
    {
      "cell_type": "code",
      "execution_count": 162,
      "metadata": {
        "id": "QcBr7mKah8To"
      },
      "outputs": [],
      "source": [
        "#To read Train data with Target values:\n",
        "path = \"/content/gdrive/My Drive/fh/Train_NT/Traindata_with_Target.csv\"\n",
        "with_target=pd.read_csv(path)\n",
        "#To read Test data i.e CustomerID\n",
        "path = \"/content/gdrive/My Drive/fh/TestData/Test.csv\"\n",
        "without_target=pd.read_csv(path)"
      ]
    },
    {
      "cell_type": "markdown",
      "source": [
        "#DATA EXPLANATION\n",
        "\n",
        "The given data contains the details regarding the Customer,issued Vehicle Insurance Policy,the Claim made and the respective Vehicle involved."
      ],
      "metadata": {
        "id": "XUjofpMr0OZk"
      }
    },
    {
      "cell_type": "markdown",
      "source": [
        "#DATA STRUCTURE EXPLORATION\n",
        " We have all the data in a single sheet.Before we combine them lets explore both the train and test data.\n",
        "\n",
        "**Procedure:**\n",
        "\n",
        "1.Check the dimension of the data\n",
        "\n",
        "2.Visualising the top5 rows\n",
        "\n",
        "3.To check the datatypes of the columns\n",
        "\n",
        "4.Understanding the statistical distribution of data,column wise\n",
        "\n",
        "5.To view unique values in all columns\n",
        "\n",
        "6.To assign them the respective datatypes.\n",
        "\n",
        "**Merging:**\n",
        "\n",
        "All the individual data sets are merged on the common column CustomerID to form a single dataset"
      ],
      "metadata": {
        "id": "evAwkwXggnuZ"
      }
    },
    {
      "cell_type": "code",
      "execution_count": 163,
      "metadata": {
        "colab": {
          "base_uri": "https://localhost:8080/"
        },
        "id": "CsaQB6ngk3kM",
        "outputId": "a65b7a33-e6b2-4e5a-ddbe-1add662e862a"
      },
      "outputs": [
        {
          "output_type": "stream",
          "name": "stdout",
          "text": [
            "(28836, 19)\n",
            "(8912, 19)\n"
          ]
        }
      ],
      "source": [
        "#Train_Claim data\n",
        "print(claim.shape)#shape of the data\n",
        "print(claim_test.shape)"
      ]
    },
    {
      "cell_type": "code",
      "execution_count": 164,
      "metadata": {
        "colab": {
          "base_uri": "https://localhost:8080/",
          "height": 357
        },
        "id": "UA308ayRMCJn",
        "outputId": "deb46f51-00d6-4b24-e559-32ad808a138c"
      },
      "outputs": [
        {
          "output_type": "execute_result",
          "data": {
            "text/plain": [
              "  CustomerID DateOfIncident            TypeOfIncident TypeOfCollission  \\\n",
              "0  Cust10000     2015-02-03   Multi-vehicle Collision   Side Collision   \n",
              "1  Cust10001     2015-02-02   Multi-vehicle Collision   Side Collision   \n",
              "2  Cust10002     2015-01-15  Single Vehicle Collision   Side Collision   \n",
              "3  Cust10003     2015-01-19  Single Vehicle Collision   Side Collision   \n",
              "4  Cust10004     2015-01-09  Single Vehicle Collision   Rear Collision   \n",
              "\n",
              "  SeverityOfIncident AuthoritiesContacted IncidentState IncidentCity  \\\n",
              "0         Total Loss               Police        State7        City1   \n",
              "1         Total Loss               Police        State7        City5   \n",
              "2       Minor Damage                Other        State8        City6   \n",
              "3       Minor Damage                Other        State9        City6   \n",
              "4       Minor Damage                 Fire        State8        City6   \n",
              "\n",
              "  IncidentAddress  IncidentTime  NumberOfVehicles PropertyDamage  \\\n",
              "0   Location 1311            17                 3              ?   \n",
              "1   Location 1311            10                 3            YES   \n",
              "2   Location 2081            22                 1            YES   \n",
              "3   Location 2081            22                 1            YES   \n",
              "4   Location 1695            10                 1             NO   \n",
              "\n",
              "   BodilyInjuries Witnesses PoliceReport AmountOfTotalClaim  \\\n",
              "0               1         0            ?              65501   \n",
              "1               2         1          YES              61382   \n",
              "2               2         3           NO              66755   \n",
              "3               2         3           NO              66243   \n",
              "4               2         1          YES              53544   \n",
              "\n",
              "   AmountOfInjuryClaim  AmountOfPropertyClaim  AmountOfVehicleDamage  \n",
              "0                13417                   6071                  46013  \n",
              "1                15560                   5919                  39903  \n",
              "2                11630                  11630                  43495  \n",
              "3                12003                  12003                  42237  \n",
              "4                 8829                   7234                  37481  "
            ],
            "text/html": [
              "\n",
              "  <div id=\"df-d4c3863d-bc89-41d7-89d1-91109de1a02f\">\n",
              "    <div class=\"colab-df-container\">\n",
              "      <div>\n",
              "<style scoped>\n",
              "    .dataframe tbody tr th:only-of-type {\n",
              "        vertical-align: middle;\n",
              "    }\n",
              "\n",
              "    .dataframe tbody tr th {\n",
              "        vertical-align: top;\n",
              "    }\n",
              "\n",
              "    .dataframe thead th {\n",
              "        text-align: right;\n",
              "    }\n",
              "</style>\n",
              "<table border=\"1\" class=\"dataframe\">\n",
              "  <thead>\n",
              "    <tr style=\"text-align: right;\">\n",
              "      <th></th>\n",
              "      <th>CustomerID</th>\n",
              "      <th>DateOfIncident</th>\n",
              "      <th>TypeOfIncident</th>\n",
              "      <th>TypeOfCollission</th>\n",
              "      <th>SeverityOfIncident</th>\n",
              "      <th>AuthoritiesContacted</th>\n",
              "      <th>IncidentState</th>\n",
              "      <th>IncidentCity</th>\n",
              "      <th>IncidentAddress</th>\n",
              "      <th>IncidentTime</th>\n",
              "      <th>NumberOfVehicles</th>\n",
              "      <th>PropertyDamage</th>\n",
              "      <th>BodilyInjuries</th>\n",
              "      <th>Witnesses</th>\n",
              "      <th>PoliceReport</th>\n",
              "      <th>AmountOfTotalClaim</th>\n",
              "      <th>AmountOfInjuryClaim</th>\n",
              "      <th>AmountOfPropertyClaim</th>\n",
              "      <th>AmountOfVehicleDamage</th>\n",
              "    </tr>\n",
              "  </thead>\n",
              "  <tbody>\n",
              "    <tr>\n",
              "      <th>0</th>\n",
              "      <td>Cust10000</td>\n",
              "      <td>2015-02-03</td>\n",
              "      <td>Multi-vehicle Collision</td>\n",
              "      <td>Side Collision</td>\n",
              "      <td>Total Loss</td>\n",
              "      <td>Police</td>\n",
              "      <td>State7</td>\n",
              "      <td>City1</td>\n",
              "      <td>Location 1311</td>\n",
              "      <td>17</td>\n",
              "      <td>3</td>\n",
              "      <td>?</td>\n",
              "      <td>1</td>\n",
              "      <td>0</td>\n",
              "      <td>?</td>\n",
              "      <td>65501</td>\n",
              "      <td>13417</td>\n",
              "      <td>6071</td>\n",
              "      <td>46013</td>\n",
              "    </tr>\n",
              "    <tr>\n",
              "      <th>1</th>\n",
              "      <td>Cust10001</td>\n",
              "      <td>2015-02-02</td>\n",
              "      <td>Multi-vehicle Collision</td>\n",
              "      <td>Side Collision</td>\n",
              "      <td>Total Loss</td>\n",
              "      <td>Police</td>\n",
              "      <td>State7</td>\n",
              "      <td>City5</td>\n",
              "      <td>Location 1311</td>\n",
              "      <td>10</td>\n",
              "      <td>3</td>\n",
              "      <td>YES</td>\n",
              "      <td>2</td>\n",
              "      <td>1</td>\n",
              "      <td>YES</td>\n",
              "      <td>61382</td>\n",
              "      <td>15560</td>\n",
              "      <td>5919</td>\n",
              "      <td>39903</td>\n",
              "    </tr>\n",
              "    <tr>\n",
              "      <th>2</th>\n",
              "      <td>Cust10002</td>\n",
              "      <td>2015-01-15</td>\n",
              "      <td>Single Vehicle Collision</td>\n",
              "      <td>Side Collision</td>\n",
              "      <td>Minor Damage</td>\n",
              "      <td>Other</td>\n",
              "      <td>State8</td>\n",
              "      <td>City6</td>\n",
              "      <td>Location 2081</td>\n",
              "      <td>22</td>\n",
              "      <td>1</td>\n",
              "      <td>YES</td>\n",
              "      <td>2</td>\n",
              "      <td>3</td>\n",
              "      <td>NO</td>\n",
              "      <td>66755</td>\n",
              "      <td>11630</td>\n",
              "      <td>11630</td>\n",
              "      <td>43495</td>\n",
              "    </tr>\n",
              "    <tr>\n",
              "      <th>3</th>\n",
              "      <td>Cust10003</td>\n",
              "      <td>2015-01-19</td>\n",
              "      <td>Single Vehicle Collision</td>\n",
              "      <td>Side Collision</td>\n",
              "      <td>Minor Damage</td>\n",
              "      <td>Other</td>\n",
              "      <td>State9</td>\n",
              "      <td>City6</td>\n",
              "      <td>Location 2081</td>\n",
              "      <td>22</td>\n",
              "      <td>1</td>\n",
              "      <td>YES</td>\n",
              "      <td>2</td>\n",
              "      <td>3</td>\n",
              "      <td>NO</td>\n",
              "      <td>66243</td>\n",
              "      <td>12003</td>\n",
              "      <td>12003</td>\n",
              "      <td>42237</td>\n",
              "    </tr>\n",
              "    <tr>\n",
              "      <th>4</th>\n",
              "      <td>Cust10004</td>\n",
              "      <td>2015-01-09</td>\n",
              "      <td>Single Vehicle Collision</td>\n",
              "      <td>Rear Collision</td>\n",
              "      <td>Minor Damage</td>\n",
              "      <td>Fire</td>\n",
              "      <td>State8</td>\n",
              "      <td>City6</td>\n",
              "      <td>Location 1695</td>\n",
              "      <td>10</td>\n",
              "      <td>1</td>\n",
              "      <td>NO</td>\n",
              "      <td>2</td>\n",
              "      <td>1</td>\n",
              "      <td>YES</td>\n",
              "      <td>53544</td>\n",
              "      <td>8829</td>\n",
              "      <td>7234</td>\n",
              "      <td>37481</td>\n",
              "    </tr>\n",
              "  </tbody>\n",
              "</table>\n",
              "</div>\n",
              "      <button class=\"colab-df-convert\" onclick=\"convertToInteractive('df-d4c3863d-bc89-41d7-89d1-91109de1a02f')\"\n",
              "              title=\"Convert this dataframe to an interactive table.\"\n",
              "              style=\"display:none;\">\n",
              "        \n",
              "  <svg xmlns=\"http://www.w3.org/2000/svg\" height=\"24px\"viewBox=\"0 0 24 24\"\n",
              "       width=\"24px\">\n",
              "    <path d=\"M0 0h24v24H0V0z\" fill=\"none\"/>\n",
              "    <path d=\"M18.56 5.44l.94 2.06.94-2.06 2.06-.94-2.06-.94-.94-2.06-.94 2.06-2.06.94zm-11 1L8.5 8.5l.94-2.06 2.06-.94-2.06-.94L8.5 2.5l-.94 2.06-2.06.94zm10 10l.94 2.06.94-2.06 2.06-.94-2.06-.94-.94-2.06-.94 2.06-2.06.94z\"/><path d=\"M17.41 7.96l-1.37-1.37c-.4-.4-.92-.59-1.43-.59-.52 0-1.04.2-1.43.59L10.3 9.45l-7.72 7.72c-.78.78-.78 2.05 0 2.83L4 21.41c.39.39.9.59 1.41.59.51 0 1.02-.2 1.41-.59l7.78-7.78 2.81-2.81c.8-.78.8-2.07 0-2.86zM5.41 20L4 18.59l7.72-7.72 1.47 1.35L5.41 20z\"/>\n",
              "  </svg>\n",
              "      </button>\n",
              "      \n",
              "  <style>\n",
              "    .colab-df-container {\n",
              "      display:flex;\n",
              "      flex-wrap:wrap;\n",
              "      gap: 12px;\n",
              "    }\n",
              "\n",
              "    .colab-df-convert {\n",
              "      background-color: #E8F0FE;\n",
              "      border: none;\n",
              "      border-radius: 50%;\n",
              "      cursor: pointer;\n",
              "      display: none;\n",
              "      fill: #1967D2;\n",
              "      height: 32px;\n",
              "      padding: 0 0 0 0;\n",
              "      width: 32px;\n",
              "    }\n",
              "\n",
              "    .colab-df-convert:hover {\n",
              "      background-color: #E2EBFA;\n",
              "      box-shadow: 0px 1px 2px rgba(60, 64, 67, 0.3), 0px 1px 3px 1px rgba(60, 64, 67, 0.15);\n",
              "      fill: #174EA6;\n",
              "    }\n",
              "\n",
              "    [theme=dark] .colab-df-convert {\n",
              "      background-color: #3B4455;\n",
              "      fill: #D2E3FC;\n",
              "    }\n",
              "\n",
              "    [theme=dark] .colab-df-convert:hover {\n",
              "      background-color: #434B5C;\n",
              "      box-shadow: 0px 1px 3px 1px rgba(0, 0, 0, 0.15);\n",
              "      filter: drop-shadow(0px 1px 2px rgba(0, 0, 0, 0.3));\n",
              "      fill: #FFFFFF;\n",
              "    }\n",
              "  </style>\n",
              "\n",
              "      <script>\n",
              "        const buttonEl =\n",
              "          document.querySelector('#df-d4c3863d-bc89-41d7-89d1-91109de1a02f button.colab-df-convert');\n",
              "        buttonEl.style.display =\n",
              "          google.colab.kernel.accessAllowed ? 'block' : 'none';\n",
              "\n",
              "        async function convertToInteractive(key) {\n",
              "          const element = document.querySelector('#df-d4c3863d-bc89-41d7-89d1-91109de1a02f');\n",
              "          const dataTable =\n",
              "            await google.colab.kernel.invokeFunction('convertToInteractive',\n",
              "                                                     [key], {});\n",
              "          if (!dataTable) return;\n",
              "\n",
              "          const docLinkHtml = 'Like what you see? Visit the ' +\n",
              "            '<a target=\"_blank\" href=https://colab.research.google.com/notebooks/data_table.ipynb>data table notebook</a>'\n",
              "            + ' to learn more about interactive tables.';\n",
              "          element.innerHTML = '';\n",
              "          dataTable['output_type'] = 'display_data';\n",
              "          await google.colab.output.renderOutput(dataTable, element);\n",
              "          const docLink = document.createElement('div');\n",
              "          docLink.innerHTML = docLinkHtml;\n",
              "          element.appendChild(docLink);\n",
              "        }\n",
              "      </script>\n",
              "    </div>\n",
              "  </div>\n",
              "  "
            ]
          },
          "metadata": {},
          "execution_count": 164
        }
      ],
      "source": [
        "claim.head()#Checking the top5 rows to get an idea of the data"
      ]
    },
    {
      "cell_type": "code",
      "source": [
        "claim_test.head()"
      ],
      "metadata": {
        "colab": {
          "base_uri": "https://localhost:8080/",
          "height": 340
        },
        "id": "GWm1yKiYr7_c",
        "outputId": "bc362883-1583-4de7-f8bc-bbe755207345"
      },
      "execution_count": 165,
      "outputs": [
        {
          "output_type": "execute_result",
          "data": {
            "text/plain": [
              "  CustomerID DateOfIncident            TypeOfIncident TypeOfCollission  \\\n",
              "0  Cust10008     2015-02-05   Multi-vehicle Collision  Front Collision   \n",
              "1  Cust10010     2015-01-13  Single Vehicle Collision   Rear Collision   \n",
              "2  Cust10015     2015-01-05   Multi-vehicle Collision   Rear Collision   \n",
              "3  Cust10020     2015-01-03             Vehicle Theft                ?   \n",
              "4   Cust1003     2015-02-22   Multi-vehicle Collision   Rear Collision   \n",
              "\n",
              "  SeverityOfIncident AuthoritiesContacted IncidentState IncidentCity  \\\n",
              "0       Minor Damage            Ambulance        State5        City2   \n",
              "1       Minor Damage                 Fire        State9        City5   \n",
              "2       Minor Damage               Police        State5        City2   \n",
              "3     Trivial Damage                 None        State7        City5   \n",
              "4       Minor Damage               Police        State5        City2   \n",
              "\n",
              "  IncidentAddress  IncidentTime  NumberOfVehicles PropertyDamage  \\\n",
              "0   Location 1354             4                 3             NO   \n",
              "1   Location 1383            16                 1              ?   \n",
              "2   Location 2030            20                 3             NO   \n",
              "3   Location 1449            10                 1              ?   \n",
              "4   Location 1916             7                 3             NO   \n",
              "\n",
              "   BodilyInjuries Witnesses PoliceReport AmountOfTotalClaim  \\\n",
              "0               0         0            ?              68354   \n",
              "1               1         1            ?              55270   \n",
              "2               0         1            ?              59515   \n",
              "3               2         1            ?               4941   \n",
              "4               2         3           NO              34650   \n",
              "\n",
              "   AmountOfInjuryClaim  AmountOfPropertyClaim  AmountOfVehicleDamage  \n",
              "0                 6835                   8059                  53460  \n",
              "1                 8113                   5240                  41917  \n",
              "2                 7490                   9110                  42915  \n",
              "3                  494                    866                   3581  \n",
              "4                 7700                   3850                  23100  "
            ],
            "text/html": [
              "\n",
              "  <div id=\"df-246bfa47-686d-4d3d-bda5-782f7c4e2ccc\">\n",
              "    <div class=\"colab-df-container\">\n",
              "      <div>\n",
              "<style scoped>\n",
              "    .dataframe tbody tr th:only-of-type {\n",
              "        vertical-align: middle;\n",
              "    }\n",
              "\n",
              "    .dataframe tbody tr th {\n",
              "        vertical-align: top;\n",
              "    }\n",
              "\n",
              "    .dataframe thead th {\n",
              "        text-align: right;\n",
              "    }\n",
              "</style>\n",
              "<table border=\"1\" class=\"dataframe\">\n",
              "  <thead>\n",
              "    <tr style=\"text-align: right;\">\n",
              "      <th></th>\n",
              "      <th>CustomerID</th>\n",
              "      <th>DateOfIncident</th>\n",
              "      <th>TypeOfIncident</th>\n",
              "      <th>TypeOfCollission</th>\n",
              "      <th>SeverityOfIncident</th>\n",
              "      <th>AuthoritiesContacted</th>\n",
              "      <th>IncidentState</th>\n",
              "      <th>IncidentCity</th>\n",
              "      <th>IncidentAddress</th>\n",
              "      <th>IncidentTime</th>\n",
              "      <th>NumberOfVehicles</th>\n",
              "      <th>PropertyDamage</th>\n",
              "      <th>BodilyInjuries</th>\n",
              "      <th>Witnesses</th>\n",
              "      <th>PoliceReport</th>\n",
              "      <th>AmountOfTotalClaim</th>\n",
              "      <th>AmountOfInjuryClaim</th>\n",
              "      <th>AmountOfPropertyClaim</th>\n",
              "      <th>AmountOfVehicleDamage</th>\n",
              "    </tr>\n",
              "  </thead>\n",
              "  <tbody>\n",
              "    <tr>\n",
              "      <th>0</th>\n",
              "      <td>Cust10008</td>\n",
              "      <td>2015-02-05</td>\n",
              "      <td>Multi-vehicle Collision</td>\n",
              "      <td>Front Collision</td>\n",
              "      <td>Minor Damage</td>\n",
              "      <td>Ambulance</td>\n",
              "      <td>State5</td>\n",
              "      <td>City2</td>\n",
              "      <td>Location 1354</td>\n",
              "      <td>4</td>\n",
              "      <td>3</td>\n",
              "      <td>NO</td>\n",
              "      <td>0</td>\n",
              "      <td>0</td>\n",
              "      <td>?</td>\n",
              "      <td>68354</td>\n",
              "      <td>6835</td>\n",
              "      <td>8059</td>\n",
              "      <td>53460</td>\n",
              "    </tr>\n",
              "    <tr>\n",
              "      <th>1</th>\n",
              "      <td>Cust10010</td>\n",
              "      <td>2015-01-13</td>\n",
              "      <td>Single Vehicle Collision</td>\n",
              "      <td>Rear Collision</td>\n",
              "      <td>Minor Damage</td>\n",
              "      <td>Fire</td>\n",
              "      <td>State9</td>\n",
              "      <td>City5</td>\n",
              "      <td>Location 1383</td>\n",
              "      <td>16</td>\n",
              "      <td>1</td>\n",
              "      <td>?</td>\n",
              "      <td>1</td>\n",
              "      <td>1</td>\n",
              "      <td>?</td>\n",
              "      <td>55270</td>\n",
              "      <td>8113</td>\n",
              "      <td>5240</td>\n",
              "      <td>41917</td>\n",
              "    </tr>\n",
              "    <tr>\n",
              "      <th>2</th>\n",
              "      <td>Cust10015</td>\n",
              "      <td>2015-01-05</td>\n",
              "      <td>Multi-vehicle Collision</td>\n",
              "      <td>Rear Collision</td>\n",
              "      <td>Minor Damage</td>\n",
              "      <td>Police</td>\n",
              "      <td>State5</td>\n",
              "      <td>City2</td>\n",
              "      <td>Location 2030</td>\n",
              "      <td>20</td>\n",
              "      <td>3</td>\n",
              "      <td>NO</td>\n",
              "      <td>0</td>\n",
              "      <td>1</td>\n",
              "      <td>?</td>\n",
              "      <td>59515</td>\n",
              "      <td>7490</td>\n",
              "      <td>9110</td>\n",
              "      <td>42915</td>\n",
              "    </tr>\n",
              "    <tr>\n",
              "      <th>3</th>\n",
              "      <td>Cust10020</td>\n",
              "      <td>2015-01-03</td>\n",
              "      <td>Vehicle Theft</td>\n",
              "      <td>?</td>\n",
              "      <td>Trivial Damage</td>\n",
              "      <td>None</td>\n",
              "      <td>State7</td>\n",
              "      <td>City5</td>\n",
              "      <td>Location 1449</td>\n",
              "      <td>10</td>\n",
              "      <td>1</td>\n",
              "      <td>?</td>\n",
              "      <td>2</td>\n",
              "      <td>1</td>\n",
              "      <td>?</td>\n",
              "      <td>4941</td>\n",
              "      <td>494</td>\n",
              "      <td>866</td>\n",
              "      <td>3581</td>\n",
              "    </tr>\n",
              "    <tr>\n",
              "      <th>4</th>\n",
              "      <td>Cust1003</td>\n",
              "      <td>2015-02-22</td>\n",
              "      <td>Multi-vehicle Collision</td>\n",
              "      <td>Rear Collision</td>\n",
              "      <td>Minor Damage</td>\n",
              "      <td>Police</td>\n",
              "      <td>State5</td>\n",
              "      <td>City2</td>\n",
              "      <td>Location 1916</td>\n",
              "      <td>7</td>\n",
              "      <td>3</td>\n",
              "      <td>NO</td>\n",
              "      <td>2</td>\n",
              "      <td>3</td>\n",
              "      <td>NO</td>\n",
              "      <td>34650</td>\n",
              "      <td>7700</td>\n",
              "      <td>3850</td>\n",
              "      <td>23100</td>\n",
              "    </tr>\n",
              "  </tbody>\n",
              "</table>\n",
              "</div>\n",
              "      <button class=\"colab-df-convert\" onclick=\"convertToInteractive('df-246bfa47-686d-4d3d-bda5-782f7c4e2ccc')\"\n",
              "              title=\"Convert this dataframe to an interactive table.\"\n",
              "              style=\"display:none;\">\n",
              "        \n",
              "  <svg xmlns=\"http://www.w3.org/2000/svg\" height=\"24px\"viewBox=\"0 0 24 24\"\n",
              "       width=\"24px\">\n",
              "    <path d=\"M0 0h24v24H0V0z\" fill=\"none\"/>\n",
              "    <path d=\"M18.56 5.44l.94 2.06.94-2.06 2.06-.94-2.06-.94-.94-2.06-.94 2.06-2.06.94zm-11 1L8.5 8.5l.94-2.06 2.06-.94-2.06-.94L8.5 2.5l-.94 2.06-2.06.94zm10 10l.94 2.06.94-2.06 2.06-.94-2.06-.94-.94-2.06-.94 2.06-2.06.94z\"/><path d=\"M17.41 7.96l-1.37-1.37c-.4-.4-.92-.59-1.43-.59-.52 0-1.04.2-1.43.59L10.3 9.45l-7.72 7.72c-.78.78-.78 2.05 0 2.83L4 21.41c.39.39.9.59 1.41.59.51 0 1.02-.2 1.41-.59l7.78-7.78 2.81-2.81c.8-.78.8-2.07 0-2.86zM5.41 20L4 18.59l7.72-7.72 1.47 1.35L5.41 20z\"/>\n",
              "  </svg>\n",
              "      </button>\n",
              "      \n",
              "  <style>\n",
              "    .colab-df-container {\n",
              "      display:flex;\n",
              "      flex-wrap:wrap;\n",
              "      gap: 12px;\n",
              "    }\n",
              "\n",
              "    .colab-df-convert {\n",
              "      background-color: #E8F0FE;\n",
              "      border: none;\n",
              "      border-radius: 50%;\n",
              "      cursor: pointer;\n",
              "      display: none;\n",
              "      fill: #1967D2;\n",
              "      height: 32px;\n",
              "      padding: 0 0 0 0;\n",
              "      width: 32px;\n",
              "    }\n",
              "\n",
              "    .colab-df-convert:hover {\n",
              "      background-color: #E2EBFA;\n",
              "      box-shadow: 0px 1px 2px rgba(60, 64, 67, 0.3), 0px 1px 3px 1px rgba(60, 64, 67, 0.15);\n",
              "      fill: #174EA6;\n",
              "    }\n",
              "\n",
              "    [theme=dark] .colab-df-convert {\n",
              "      background-color: #3B4455;\n",
              "      fill: #D2E3FC;\n",
              "    }\n",
              "\n",
              "    [theme=dark] .colab-df-convert:hover {\n",
              "      background-color: #434B5C;\n",
              "      box-shadow: 0px 1px 3px 1px rgba(0, 0, 0, 0.15);\n",
              "      filter: drop-shadow(0px 1px 2px rgba(0, 0, 0, 0.3));\n",
              "      fill: #FFFFFF;\n",
              "    }\n",
              "  </style>\n",
              "\n",
              "      <script>\n",
              "        const buttonEl =\n",
              "          document.querySelector('#df-246bfa47-686d-4d3d-bda5-782f7c4e2ccc button.colab-df-convert');\n",
              "        buttonEl.style.display =\n",
              "          google.colab.kernel.accessAllowed ? 'block' : 'none';\n",
              "\n",
              "        async function convertToInteractive(key) {\n",
              "          const element = document.querySelector('#df-246bfa47-686d-4d3d-bda5-782f7c4e2ccc');\n",
              "          const dataTable =\n",
              "            await google.colab.kernel.invokeFunction('convertToInteractive',\n",
              "                                                     [key], {});\n",
              "          if (!dataTable) return;\n",
              "\n",
              "          const docLinkHtml = 'Like what you see? Visit the ' +\n",
              "            '<a target=\"_blank\" href=https://colab.research.google.com/notebooks/data_table.ipynb>data table notebook</a>'\n",
              "            + ' to learn more about interactive tables.';\n",
              "          element.innerHTML = '';\n",
              "          dataTable['output_type'] = 'display_data';\n",
              "          await google.colab.output.renderOutput(dataTable, element);\n",
              "          const docLink = document.createElement('div');\n",
              "          docLink.innerHTML = docLinkHtml;\n",
              "          element.appendChild(docLink);\n",
              "        }\n",
              "      </script>\n",
              "    </div>\n",
              "  </div>\n",
              "  "
            ]
          },
          "metadata": {},
          "execution_count": 165
        }
      ]
    },
    {
      "cell_type": "code",
      "execution_count": 166,
      "metadata": {
        "colab": {
          "base_uri": "https://localhost:8080/"
        },
        "id": "f9OPA3hIOMpA",
        "outputId": "58a4d62a-01ab-4464-e415-fd1c8847bedb"
      },
      "outputs": [
        {
          "output_type": "execute_result",
          "data": {
            "text/plain": [
              "CustomerID               object\n",
              "DateOfIncident           object\n",
              "TypeOfIncident           object\n",
              "TypeOfCollission         object\n",
              "SeverityOfIncident       object\n",
              "AuthoritiesContacted     object\n",
              "IncidentState            object\n",
              "IncidentCity             object\n",
              "IncidentAddress          object\n",
              "IncidentTime              int64\n",
              "NumberOfVehicles          int64\n",
              "PropertyDamage           object\n",
              "BodilyInjuries            int64\n",
              "Witnesses                object\n",
              "PoliceReport             object\n",
              "AmountOfTotalClaim       object\n",
              "AmountOfInjuryClaim       int64\n",
              "AmountOfPropertyClaim     int64\n",
              "AmountOfVehicleDamage     int64\n",
              "dtype: object"
            ]
          },
          "metadata": {},
          "execution_count": 166
        }
      ],
      "source": [
        "claim.dtypes\n",
        "#datatypes of the features"
      ]
    },
    {
      "cell_type": "code",
      "source": [
        "claim_test.dtypes"
      ],
      "metadata": {
        "colab": {
          "base_uri": "https://localhost:8080/"
        },
        "id": "g7HVhxMAr-Xb",
        "outputId": "38966c96-53e9-4e2d-9de0-8b2d2c11c811"
      },
      "execution_count": 167,
      "outputs": [
        {
          "output_type": "execute_result",
          "data": {
            "text/plain": [
              "CustomerID               object\n",
              "DateOfIncident           object\n",
              "TypeOfIncident           object\n",
              "TypeOfCollission         object\n",
              "SeverityOfIncident       object\n",
              "AuthoritiesContacted     object\n",
              "IncidentState            object\n",
              "IncidentCity             object\n",
              "IncidentAddress          object\n",
              "IncidentTime              int64\n",
              "NumberOfVehicles          int64\n",
              "PropertyDamage           object\n",
              "BodilyInjuries            int64\n",
              "Witnesses                object\n",
              "PoliceReport             object\n",
              "AmountOfTotalClaim       object\n",
              "AmountOfInjuryClaim       int64\n",
              "AmountOfPropertyClaim     int64\n",
              "AmountOfVehicleDamage     int64\n",
              "dtype: object"
            ]
          },
          "metadata": {},
          "execution_count": 167
        }
      ]
    },
    {
      "cell_type": "code",
      "execution_count": 168,
      "metadata": {
        "colab": {
          "base_uri": "https://localhost:8080/",
          "height": 476
        },
        "id": "QKsgF66iOkyQ",
        "outputId": "1d1b064c-8eb6-4436-d58b-1e662e8c4ece"
      },
      "outputs": [
        {
          "output_type": "execute_result",
          "data": {
            "text/plain": [
              "       CustomerID DateOfIncident           TypeOfIncident TypeOfCollission  \\\n",
              "count       28836          28836                    28836            28836   \n",
              "unique      28836             72                        4                4   \n",
              "top     Cust10000     2015-01-10  Multi-vehicle Collision   Rear Collision   \n",
              "freq            1            661                    11966             8561   \n",
              "mean          NaN            NaN                      NaN              NaN   \n",
              "std           NaN            NaN                      NaN              NaN   \n",
              "min           NaN            NaN                      NaN              NaN   \n",
              "25%           NaN            NaN                      NaN              NaN   \n",
              "50%           NaN            NaN                      NaN              NaN   \n",
              "75%           NaN            NaN                      NaN              NaN   \n",
              "max           NaN            NaN                      NaN              NaN   \n",
              "\n",
              "       SeverityOfIncident AuthoritiesContacted IncidentState IncidentCity  \\\n",
              "count               28836                28836         28836        28836   \n",
              "unique                  4                    5             7            7   \n",
              "top          Minor Damage               Police        State5        City2   \n",
              "freq                10400                 8324          7886         4486   \n",
              "mean                  NaN                  NaN           NaN          NaN   \n",
              "std                   NaN                  NaN           NaN          NaN   \n",
              "min                   NaN                  NaN           NaN          NaN   \n",
              "25%                   NaN                  NaN           NaN          NaN   \n",
              "50%                   NaN                  NaN           NaN          NaN   \n",
              "75%                   NaN                  NaN           NaN          NaN   \n",
              "max                   NaN                  NaN           NaN          NaN   \n",
              "\n",
              "       IncidentAddress  IncidentTime  NumberOfVehicles PropertyDamage  \\\n",
              "count            28836  28836.000000      28836.000000          28836   \n",
              "unique            1000           NaN               NaN              3   \n",
              "top      Location 1341           NaN               NaN              ?   \n",
              "freq                73           NaN               NaN          10459   \n",
              "mean               NaN     11.746047          1.823207            NaN   \n",
              "std                NaN      6.170069          0.980099            NaN   \n",
              "min                NaN     -5.000000          1.000000            NaN   \n",
              "25%                NaN      6.000000          1.000000            NaN   \n",
              "50%                NaN     12.000000          1.000000            NaN   \n",
              "75%                NaN     17.000000          3.000000            NaN   \n",
              "max                NaN     23.000000          4.000000            NaN   \n",
              "\n",
              "        BodilyInjuries Witnesses PoliceReport AmountOfTotalClaim  \\\n",
              "count     28836.000000     28836        28836              28836   \n",
              "unique             NaN         5            3              21976   \n",
              "top                NaN         2           NO         MISSEDDATA   \n",
              "freq               NaN      8449         9898                 50   \n",
              "mean          0.985782       NaN          NaN                NaN   \n",
              "std           0.784764       NaN          NaN                NaN   \n",
              "min           0.000000       NaN          NaN                NaN   \n",
              "25%           0.000000       NaN          NaN                NaN   \n",
              "50%           1.000000       NaN          NaN                NaN   \n",
              "75%           2.000000       NaN          NaN                NaN   \n",
              "max           2.000000       NaN          NaN                NaN   \n",
              "\n",
              "        AmountOfInjuryClaim  AmountOfPropertyClaim  AmountOfVehicleDamage  \n",
              "count          28836.000000           28836.000000           28836.000000  \n",
              "unique                  NaN                    NaN                    NaN  \n",
              "top                     NaN                    NaN                    NaN  \n",
              "freq                    NaN                    NaN                    NaN  \n",
              "mean            7337.118428            7283.870197           37687.129387  \n",
              "std             4427.638593            4375.842738           17977.048232  \n",
              "min                0.000000               0.000000             109.000000  \n",
              "25%             4743.750000            4862.000000           32193.250000  \n",
              "50%             7147.000000            7051.000000           42457.500000  \n",
              "75%            10571.250000           10327.000000           49535.750000  \n",
              "max            21450.000000           23670.000000           79560.000000  "
            ],
            "text/html": [
              "\n",
              "  <div id=\"df-3c35b10a-85b1-4af3-bb46-4b1729fb82fd\">\n",
              "    <div class=\"colab-df-container\">\n",
              "      <div>\n",
              "<style scoped>\n",
              "    .dataframe tbody tr th:only-of-type {\n",
              "        vertical-align: middle;\n",
              "    }\n",
              "\n",
              "    .dataframe tbody tr th {\n",
              "        vertical-align: top;\n",
              "    }\n",
              "\n",
              "    .dataframe thead th {\n",
              "        text-align: right;\n",
              "    }\n",
              "</style>\n",
              "<table border=\"1\" class=\"dataframe\">\n",
              "  <thead>\n",
              "    <tr style=\"text-align: right;\">\n",
              "      <th></th>\n",
              "      <th>CustomerID</th>\n",
              "      <th>DateOfIncident</th>\n",
              "      <th>TypeOfIncident</th>\n",
              "      <th>TypeOfCollission</th>\n",
              "      <th>SeverityOfIncident</th>\n",
              "      <th>AuthoritiesContacted</th>\n",
              "      <th>IncidentState</th>\n",
              "      <th>IncidentCity</th>\n",
              "      <th>IncidentAddress</th>\n",
              "      <th>IncidentTime</th>\n",
              "      <th>NumberOfVehicles</th>\n",
              "      <th>PropertyDamage</th>\n",
              "      <th>BodilyInjuries</th>\n",
              "      <th>Witnesses</th>\n",
              "      <th>PoliceReport</th>\n",
              "      <th>AmountOfTotalClaim</th>\n",
              "      <th>AmountOfInjuryClaim</th>\n",
              "      <th>AmountOfPropertyClaim</th>\n",
              "      <th>AmountOfVehicleDamage</th>\n",
              "    </tr>\n",
              "  </thead>\n",
              "  <tbody>\n",
              "    <tr>\n",
              "      <th>count</th>\n",
              "      <td>28836</td>\n",
              "      <td>28836</td>\n",
              "      <td>28836</td>\n",
              "      <td>28836</td>\n",
              "      <td>28836</td>\n",
              "      <td>28836</td>\n",
              "      <td>28836</td>\n",
              "      <td>28836</td>\n",
              "      <td>28836</td>\n",
              "      <td>28836.000000</td>\n",
              "      <td>28836.000000</td>\n",
              "      <td>28836</td>\n",
              "      <td>28836.000000</td>\n",
              "      <td>28836</td>\n",
              "      <td>28836</td>\n",
              "      <td>28836</td>\n",
              "      <td>28836.000000</td>\n",
              "      <td>28836.000000</td>\n",
              "      <td>28836.000000</td>\n",
              "    </tr>\n",
              "    <tr>\n",
              "      <th>unique</th>\n",
              "      <td>28836</td>\n",
              "      <td>72</td>\n",
              "      <td>4</td>\n",
              "      <td>4</td>\n",
              "      <td>4</td>\n",
              "      <td>5</td>\n",
              "      <td>7</td>\n",
              "      <td>7</td>\n",
              "      <td>1000</td>\n",
              "      <td>NaN</td>\n",
              "      <td>NaN</td>\n",
              "      <td>3</td>\n",
              "      <td>NaN</td>\n",
              "      <td>5</td>\n",
              "      <td>3</td>\n",
              "      <td>21976</td>\n",
              "      <td>NaN</td>\n",
              "      <td>NaN</td>\n",
              "      <td>NaN</td>\n",
              "    </tr>\n",
              "    <tr>\n",
              "      <th>top</th>\n",
              "      <td>Cust10000</td>\n",
              "      <td>2015-01-10</td>\n",
              "      <td>Multi-vehicle Collision</td>\n",
              "      <td>Rear Collision</td>\n",
              "      <td>Minor Damage</td>\n",
              "      <td>Police</td>\n",
              "      <td>State5</td>\n",
              "      <td>City2</td>\n",
              "      <td>Location 1341</td>\n",
              "      <td>NaN</td>\n",
              "      <td>NaN</td>\n",
              "      <td>?</td>\n",
              "      <td>NaN</td>\n",
              "      <td>2</td>\n",
              "      <td>NO</td>\n",
              "      <td>MISSEDDATA</td>\n",
              "      <td>NaN</td>\n",
              "      <td>NaN</td>\n",
              "      <td>NaN</td>\n",
              "    </tr>\n",
              "    <tr>\n",
              "      <th>freq</th>\n",
              "      <td>1</td>\n",
              "      <td>661</td>\n",
              "      <td>11966</td>\n",
              "      <td>8561</td>\n",
              "      <td>10400</td>\n",
              "      <td>8324</td>\n",
              "      <td>7886</td>\n",
              "      <td>4486</td>\n",
              "      <td>73</td>\n",
              "      <td>NaN</td>\n",
              "      <td>NaN</td>\n",
              "      <td>10459</td>\n",
              "      <td>NaN</td>\n",
              "      <td>8449</td>\n",
              "      <td>9898</td>\n",
              "      <td>50</td>\n",
              "      <td>NaN</td>\n",
              "      <td>NaN</td>\n",
              "      <td>NaN</td>\n",
              "    </tr>\n",
              "    <tr>\n",
              "      <th>mean</th>\n",
              "      <td>NaN</td>\n",
              "      <td>NaN</td>\n",
              "      <td>NaN</td>\n",
              "      <td>NaN</td>\n",
              "      <td>NaN</td>\n",
              "      <td>NaN</td>\n",
              "      <td>NaN</td>\n",
              "      <td>NaN</td>\n",
              "      <td>NaN</td>\n",
              "      <td>11.746047</td>\n",
              "      <td>1.823207</td>\n",
              "      <td>NaN</td>\n",
              "      <td>0.985782</td>\n",
              "      <td>NaN</td>\n",
              "      <td>NaN</td>\n",
              "      <td>NaN</td>\n",
              "      <td>7337.118428</td>\n",
              "      <td>7283.870197</td>\n",
              "      <td>37687.129387</td>\n",
              "    </tr>\n",
              "    <tr>\n",
              "      <th>std</th>\n",
              "      <td>NaN</td>\n",
              "      <td>NaN</td>\n",
              "      <td>NaN</td>\n",
              "      <td>NaN</td>\n",
              "      <td>NaN</td>\n",
              "      <td>NaN</td>\n",
              "      <td>NaN</td>\n",
              "      <td>NaN</td>\n",
              "      <td>NaN</td>\n",
              "      <td>6.170069</td>\n",
              "      <td>0.980099</td>\n",
              "      <td>NaN</td>\n",
              "      <td>0.784764</td>\n",
              "      <td>NaN</td>\n",
              "      <td>NaN</td>\n",
              "      <td>NaN</td>\n",
              "      <td>4427.638593</td>\n",
              "      <td>4375.842738</td>\n",
              "      <td>17977.048232</td>\n",
              "    </tr>\n",
              "    <tr>\n",
              "      <th>min</th>\n",
              "      <td>NaN</td>\n",
              "      <td>NaN</td>\n",
              "      <td>NaN</td>\n",
              "      <td>NaN</td>\n",
              "      <td>NaN</td>\n",
              "      <td>NaN</td>\n",
              "      <td>NaN</td>\n",
              "      <td>NaN</td>\n",
              "      <td>NaN</td>\n",
              "      <td>-5.000000</td>\n",
              "      <td>1.000000</td>\n",
              "      <td>NaN</td>\n",
              "      <td>0.000000</td>\n",
              "      <td>NaN</td>\n",
              "      <td>NaN</td>\n",
              "      <td>NaN</td>\n",
              "      <td>0.000000</td>\n",
              "      <td>0.000000</td>\n",
              "      <td>109.000000</td>\n",
              "    </tr>\n",
              "    <tr>\n",
              "      <th>25%</th>\n",
              "      <td>NaN</td>\n",
              "      <td>NaN</td>\n",
              "      <td>NaN</td>\n",
              "      <td>NaN</td>\n",
              "      <td>NaN</td>\n",
              "      <td>NaN</td>\n",
              "      <td>NaN</td>\n",
              "      <td>NaN</td>\n",
              "      <td>NaN</td>\n",
              "      <td>6.000000</td>\n",
              "      <td>1.000000</td>\n",
              "      <td>NaN</td>\n",
              "      <td>0.000000</td>\n",
              "      <td>NaN</td>\n",
              "      <td>NaN</td>\n",
              "      <td>NaN</td>\n",
              "      <td>4743.750000</td>\n",
              "      <td>4862.000000</td>\n",
              "      <td>32193.250000</td>\n",
              "    </tr>\n",
              "    <tr>\n",
              "      <th>50%</th>\n",
              "      <td>NaN</td>\n",
              "      <td>NaN</td>\n",
              "      <td>NaN</td>\n",
              "      <td>NaN</td>\n",
              "      <td>NaN</td>\n",
              "      <td>NaN</td>\n",
              "      <td>NaN</td>\n",
              "      <td>NaN</td>\n",
              "      <td>NaN</td>\n",
              "      <td>12.000000</td>\n",
              "      <td>1.000000</td>\n",
              "      <td>NaN</td>\n",
              "      <td>1.000000</td>\n",
              "      <td>NaN</td>\n",
              "      <td>NaN</td>\n",
              "      <td>NaN</td>\n",
              "      <td>7147.000000</td>\n",
              "      <td>7051.000000</td>\n",
              "      <td>42457.500000</td>\n",
              "    </tr>\n",
              "    <tr>\n",
              "      <th>75%</th>\n",
              "      <td>NaN</td>\n",
              "      <td>NaN</td>\n",
              "      <td>NaN</td>\n",
              "      <td>NaN</td>\n",
              "      <td>NaN</td>\n",
              "      <td>NaN</td>\n",
              "      <td>NaN</td>\n",
              "      <td>NaN</td>\n",
              "      <td>NaN</td>\n",
              "      <td>17.000000</td>\n",
              "      <td>3.000000</td>\n",
              "      <td>NaN</td>\n",
              "      <td>2.000000</td>\n",
              "      <td>NaN</td>\n",
              "      <td>NaN</td>\n",
              "      <td>NaN</td>\n",
              "      <td>10571.250000</td>\n",
              "      <td>10327.000000</td>\n",
              "      <td>49535.750000</td>\n",
              "    </tr>\n",
              "    <tr>\n",
              "      <th>max</th>\n",
              "      <td>NaN</td>\n",
              "      <td>NaN</td>\n",
              "      <td>NaN</td>\n",
              "      <td>NaN</td>\n",
              "      <td>NaN</td>\n",
              "      <td>NaN</td>\n",
              "      <td>NaN</td>\n",
              "      <td>NaN</td>\n",
              "      <td>NaN</td>\n",
              "      <td>23.000000</td>\n",
              "      <td>4.000000</td>\n",
              "      <td>NaN</td>\n",
              "      <td>2.000000</td>\n",
              "      <td>NaN</td>\n",
              "      <td>NaN</td>\n",
              "      <td>NaN</td>\n",
              "      <td>21450.000000</td>\n",
              "      <td>23670.000000</td>\n",
              "      <td>79560.000000</td>\n",
              "    </tr>\n",
              "  </tbody>\n",
              "</table>\n",
              "</div>\n",
              "      <button class=\"colab-df-convert\" onclick=\"convertToInteractive('df-3c35b10a-85b1-4af3-bb46-4b1729fb82fd')\"\n",
              "              title=\"Convert this dataframe to an interactive table.\"\n",
              "              style=\"display:none;\">\n",
              "        \n",
              "  <svg xmlns=\"http://www.w3.org/2000/svg\" height=\"24px\"viewBox=\"0 0 24 24\"\n",
              "       width=\"24px\">\n",
              "    <path d=\"M0 0h24v24H0V0z\" fill=\"none\"/>\n",
              "    <path d=\"M18.56 5.44l.94 2.06.94-2.06 2.06-.94-2.06-.94-.94-2.06-.94 2.06-2.06.94zm-11 1L8.5 8.5l.94-2.06 2.06-.94-2.06-.94L8.5 2.5l-.94 2.06-2.06.94zm10 10l.94 2.06.94-2.06 2.06-.94-2.06-.94-.94-2.06-.94 2.06-2.06.94z\"/><path d=\"M17.41 7.96l-1.37-1.37c-.4-.4-.92-.59-1.43-.59-.52 0-1.04.2-1.43.59L10.3 9.45l-7.72 7.72c-.78.78-.78 2.05 0 2.83L4 21.41c.39.39.9.59 1.41.59.51 0 1.02-.2 1.41-.59l7.78-7.78 2.81-2.81c.8-.78.8-2.07 0-2.86zM5.41 20L4 18.59l7.72-7.72 1.47 1.35L5.41 20z\"/>\n",
              "  </svg>\n",
              "      </button>\n",
              "      \n",
              "  <style>\n",
              "    .colab-df-container {\n",
              "      display:flex;\n",
              "      flex-wrap:wrap;\n",
              "      gap: 12px;\n",
              "    }\n",
              "\n",
              "    .colab-df-convert {\n",
              "      background-color: #E8F0FE;\n",
              "      border: none;\n",
              "      border-radius: 50%;\n",
              "      cursor: pointer;\n",
              "      display: none;\n",
              "      fill: #1967D2;\n",
              "      height: 32px;\n",
              "      padding: 0 0 0 0;\n",
              "      width: 32px;\n",
              "    }\n",
              "\n",
              "    .colab-df-convert:hover {\n",
              "      background-color: #E2EBFA;\n",
              "      box-shadow: 0px 1px 2px rgba(60, 64, 67, 0.3), 0px 1px 3px 1px rgba(60, 64, 67, 0.15);\n",
              "      fill: #174EA6;\n",
              "    }\n",
              "\n",
              "    [theme=dark] .colab-df-convert {\n",
              "      background-color: #3B4455;\n",
              "      fill: #D2E3FC;\n",
              "    }\n",
              "\n",
              "    [theme=dark] .colab-df-convert:hover {\n",
              "      background-color: #434B5C;\n",
              "      box-shadow: 0px 1px 3px 1px rgba(0, 0, 0, 0.15);\n",
              "      filter: drop-shadow(0px 1px 2px rgba(0, 0, 0, 0.3));\n",
              "      fill: #FFFFFF;\n",
              "    }\n",
              "  </style>\n",
              "\n",
              "      <script>\n",
              "        const buttonEl =\n",
              "          document.querySelector('#df-3c35b10a-85b1-4af3-bb46-4b1729fb82fd button.colab-df-convert');\n",
              "        buttonEl.style.display =\n",
              "          google.colab.kernel.accessAllowed ? 'block' : 'none';\n",
              "\n",
              "        async function convertToInteractive(key) {\n",
              "          const element = document.querySelector('#df-3c35b10a-85b1-4af3-bb46-4b1729fb82fd');\n",
              "          const dataTable =\n",
              "            await google.colab.kernel.invokeFunction('convertToInteractive',\n",
              "                                                     [key], {});\n",
              "          if (!dataTable) return;\n",
              "\n",
              "          const docLinkHtml = 'Like what you see? Visit the ' +\n",
              "            '<a target=\"_blank\" href=https://colab.research.google.com/notebooks/data_table.ipynb>data table notebook</a>'\n",
              "            + ' to learn more about interactive tables.';\n",
              "          element.innerHTML = '';\n",
              "          dataTable['output_type'] = 'display_data';\n",
              "          await google.colab.output.renderOutput(dataTable, element);\n",
              "          const docLink = document.createElement('div');\n",
              "          docLink.innerHTML = docLinkHtml;\n",
              "          element.appendChild(docLink);\n",
              "        }\n",
              "      </script>\n",
              "    </div>\n",
              "  </div>\n",
              "  "
            ]
          },
          "metadata": {},
          "execution_count": 168
        }
      ],
      "source": [
        "claim.describe(include='all')\n",
        "#to understand the statistical distribution of the data in the columns\n",
        "#can differentiate b/w categorical and continous values"
      ]
    },
    {
      "cell_type": "code",
      "execution_count": 169,
      "metadata": {
        "colab": {
          "base_uri": "https://localhost:8080/"
        },
        "id": "tEcus1xNkqiX",
        "outputId": "560da9e8-3b1e-48ea-ea36-a4ac7ab585a3"
      },
      "outputs": [
        {
          "output_type": "stream",
          "name": "stdout",
          "text": [
            "Cust10000    1\n",
            "Cust33397    1\n",
            "Cust33356    1\n",
            "Cust33354    1\n",
            "Cust33353    1\n",
            "            ..\n",
            "Cust21600    1\n",
            "Cust2160     1\n",
            "Cust21599    1\n",
            "Cust21598    1\n",
            "Cust9999     1\n",
            "Name: CustomerID, Length: 28836, dtype: int64\n",
            "2015-01-10    661\n",
            "2015-01-18    657\n",
            "2015-02-17    648\n",
            "2015-01-17    647\n",
            "2015-01-09    646\n",
            "             ... \n",
            "2015-03-08      2\n",
            "2015-03-07      1\n",
            "2015-03-12      1\n",
            "2015-03-10      1\n",
            "2015-03-14      1\n",
            "Name: DateOfIncident, Length: 72, dtype: int64\n",
            "Multi-vehicle Collision     11966\n",
            "Single Vehicle Collision    11677\n",
            "Vehicle Theft                2685\n",
            "Parked Car                   2508\n",
            "Name: TypeOfIncident, dtype: int64\n",
            "Rear Collision     8561\n",
            "Side Collision     7867\n",
            "Front Collision    7246\n",
            "?                  5162\n",
            "Name: TypeOfCollission, dtype: int64\n",
            "Minor Damage      10400\n",
            "Total Loss         8218\n",
            "Major Damage       7671\n",
            "Trivial Damage     2547\n",
            "Name: SeverityOfIncident, dtype: int64\n",
            "Police       8324\n",
            "Fire         6518\n",
            "Ambulance    5732\n",
            "Other        5570\n",
            "None         2692\n",
            "Name: AuthoritiesContacted, dtype: int64\n",
            "State5    7886\n",
            "State7    7168\n",
            "State9    6161\n",
            "State8    3181\n",
            "State4    3029\n",
            "State6     810\n",
            "State3     601\n",
            "Name: IncidentState, dtype: int64\n",
            "City2    4486\n",
            "City1    4374\n",
            "City4    4311\n",
            "City7    4216\n",
            "City3    4073\n",
            "City5    3698\n",
            "City6    3678\n",
            "Name: IncidentCity, dtype: int64\n",
            "Location 1341    73\n",
            "Location 1254    72\n",
            "Location 1227    71\n",
            "Location 2006    70\n",
            "Location 1136    68\n",
            "                 ..\n",
            "Location 1359    10\n",
            "Location 1464    10\n",
            "Location 2072     9\n",
            "Location 1043     9\n",
            "Location 1555     9\n",
            "Name: IncidentAddress, Length: 1000, dtype: int64\n",
            " 16    1616\n",
            " 17    1615\n",
            " 6     1564\n",
            " 15    1541\n",
            " 14    1461\n",
            " 5     1434\n",
            " 13    1420\n",
            " 18    1419\n",
            " 4     1406\n",
            " 12    1363\n",
            " 7     1331\n",
            " 11    1286\n",
            " 19    1280\n",
            " 8     1251\n",
            " 3     1232\n",
            " 9     1210\n",
            " 10    1165\n",
            " 20    1153\n",
            " 21     971\n",
            " 22     809\n",
            " 2      713\n",
            " 1      648\n",
            " 23     526\n",
            " 0      391\n",
            "-5       31\n",
            "Name: IncidentTime, dtype: int64\n",
            "1    16169\n",
            "3     9711\n",
            "2     2276\n",
            "4      680\n",
            "Name: NumberOfVehicles, dtype: int64\n",
            "?      10459\n",
            "NO      9687\n",
            "YES     8690\n",
            "Name: PropertyDamage, dtype: int64\n",
            "1    11072\n",
            "0     9087\n",
            "2     8677\n",
            "Name: BodilyInjuries, dtype: int64\n",
            "2               8449\n",
            "1               8345\n",
            "0               6128\n",
            "3               5868\n",
            "MISSINGVALUE      46\n",
            "Name: Witnesses, dtype: int64\n",
            "NO     9898\n",
            "?      9805\n",
            "YES    9133\n",
            "Name: PoliceReport, dtype: int64\n",
            "MISSEDDATA    50\n",
            "6820          12\n",
            "5400           8\n",
            "60600          8\n",
            "55000          7\n",
            "              ..\n",
            "37863          1\n",
            "33412          1\n",
            "62879          1\n",
            "54465          1\n",
            "55830          1\n",
            "Name: AmountOfTotalClaim, Length: 21976, dtype: int64\n",
            "0        68\n",
            "480      51\n",
            "640      34\n",
            "580      19\n",
            "536      17\n",
            "         ..\n",
            "14398     1\n",
            "5925      1\n",
            "16236     1\n",
            "15321     1\n",
            "14699     1\n",
            "Name: AmountOfInjuryClaim, Length: 11958, dtype: int64\n",
            "0        35\n",
            "580      17\n",
            "578      16\n",
            "606      16\n",
            "506      15\n",
            "         ..\n",
            "12312     1\n",
            "11987     1\n",
            "12477     1\n",
            "10953     1\n",
            "13131     1\n",
            "Name: AmountOfPropertyClaim, Length: 11785, dtype: int64\n",
            "2560     19\n",
            "5040     12\n",
            "28000    11\n",
            "3600      8\n",
            "3290      8\n",
            "         ..\n",
            "62176     1\n",
            "30734     1\n",
            "43250     1\n",
            "42999     1\n",
            "41183     1\n",
            "Name: AmountOfVehicleDamage, Length: 20041, dtype: int64\n"
          ]
        }
      ],
      "source": [
        "#To explore the unique values in categorical columns\n",
        "for x in claim.columns:\n",
        "  print(claim[x].value_counts())"
      ]
    },
    {
      "cell_type": "code",
      "source": [
        "#To explore the unique values of claim_test categorical columns\n",
        "for x in claim_test.select_dtypes(exclude=['int','float']).columns:\n",
        "  print(claim_test[x].value_counts())"
      ],
      "metadata": {
        "colab": {
          "base_uri": "https://localhost:8080/"
        },
        "id": "QWStAmzgsGCy",
        "outputId": "96f617c7-51b2-4afe-ead1-15b2d7c40e3c"
      },
      "execution_count": 170,
      "outputs": [
        {
          "output_type": "stream",
          "name": "stdout",
          "text": [
            "Cust10008    1\n",
            "Cust32827    1\n",
            "Cust32789    1\n",
            "Cust32794    1\n",
            "Cust32802    1\n",
            "            ..\n",
            "Cust21506    1\n",
            "Cust21495    1\n",
            "Cust21488    1\n",
            "Cust21486    1\n",
            "Cust9998     1\n",
            "Name: CustomerID, Length: 8912, dtype: int64\n",
            "2015-02-17    211\n",
            "2015-01-19    210\n",
            "2015-01-24    208\n",
            "2015-02-14    206\n",
            "2015-01-09    204\n",
            "             ... \n",
            "2015-03-04      6\n",
            "2015-03-05      3\n",
            "2015-03-06      2\n",
            "2015-03-07      1\n",
            "2015-03-09      1\n",
            "Name: DateOfIncident, Length: 67, dtype: int64\n",
            "Multi-vehicle Collision     3594\n",
            "Single Vehicle Collision    3569\n",
            "Vehicle Theft                942\n",
            "Parked Car                   807\n",
            "Name: TypeOfIncident, dtype: int64\n",
            "Rear Collision     2602\n",
            "Side Collision     2388\n",
            "Front Collision    2159\n",
            "?                  1763\n",
            "Name: TypeOfCollission, dtype: int64\n",
            "Minor Damage      3378\n",
            "Total Loss        2587\n",
            "Major Damage      2043\n",
            "Trivial Damage     904\n",
            "Name: SeverityOfIncident, dtype: int64\n",
            "Police       2623\n",
            "Fire         1906\n",
            "Other        1759\n",
            "Ambulance    1677\n",
            "None          947\n",
            "Name: AuthoritiesContacted, dtype: int64\n",
            "State5    2489\n",
            "State7    2136\n",
            "State9    1980\n",
            "State8    1010\n",
            "State4     881\n",
            "State6     241\n",
            "State3     175\n",
            "Name: IncidentState, dtype: int64\n",
            "City2    1405\n",
            "City1    1331\n",
            "City7    1325\n",
            "City3    1261\n",
            "City4    1251\n",
            "City6    1180\n",
            "City5    1159\n",
            "Name: IncidentCity, dtype: int64\n",
            "Location 1341    29\n",
            "Location 1136    28\n",
            "Location 1469    28\n",
            "Location 2006    26\n",
            "Location 1517    25\n",
            "                 ..\n",
            "Location 1031     1\n",
            "Location 1780     1\n",
            "Location 1540     1\n",
            "Location 1776     1\n",
            "Location 1284     1\n",
            "Name: IncidentAddress, Length: 996, dtype: int64\n",
            "?      3199\n",
            "NO     3039\n",
            "YES    2674\n",
            "Name: PropertyDamage, dtype: int64\n",
            "1               2605\n",
            "2               2534\n",
            "0               1886\n",
            "3               1875\n",
            "MISSINGVALUE      12\n",
            "Name: Witnesses, dtype: int64\n",
            "NO     3055\n",
            "?      3014\n",
            "YES    2843\n",
            "Name: PoliceReport, dtype: int64\n",
            "MISSEDDATA    8\n",
            "5900          5\n",
            "5952          5\n",
            "4647          4\n",
            "59040         4\n",
            "             ..\n",
            "59986         1\n",
            "78628         1\n",
            "72408         1\n",
            "47077         1\n",
            "67499         1\n",
            "Name: AmountOfTotalClaim, Length: 8102, dtype: int64\n"
          ]
        }
      ]
    },
    {
      "cell_type": "markdown",
      "source": [
        "**From observation:**\n",
        "\n",
        "Categorical_features=TypeOfIncident,SeverityOfIncident,TypeOfCollision,AuthoritiesContacted,IncidentState,IncidentCity,IncidentAddess,PropertyDamage,BodilyInjuries,Witnesses,PoliceReport,NumberOfVehicles,IncidentTime(hours)\n",
        "\n",
        "Continous_features=CustomerID,AmountOfInjuryClaim,AmountOfPropertyClaim,AmountOfTotalClaim,AmountOfPropertyClaim,AmountOfVehicleDamage,DateOfIncident"
      ],
      "metadata": {
        "id": "7shsfY4kajyh"
      }
    },
    {
      "cell_type": "code",
      "source": [
        "date=[]\n",
        "old_date=claim['DateOfIncident'].to_list()\n",
        "for x in range(len(old_date)):\n",
        "  date.append(datetime.strptime(str(old_date[x]),\"%Y-%m-%d\"))\n",
        "\n",
        "claim['DateOfIncident']=pd.Series(date)\n",
        "#claim['DateOfIncident']=datetime.strptime(claim['DateOfIncident'],'%Y-%m-%d')\n",
        "date_test=[]\n",
        "old_date_test=claim_test['DateOfIncident'].to_list()\n",
        "for y in range(len(old_date_test)):\n",
        "  date_test.append(datetime.strptime(str(old_date_test[y]),\"%Y-%m-%d\"))"
      ],
      "metadata": {
        "id": "hGRSqoK2uJ1z"
      },
      "execution_count": 171,
      "outputs": []
    },
    {
      "cell_type": "code",
      "execution_count": 172,
      "metadata": {
        "id": "mirt1I1JTBJS"
      },
      "outputs": [],
      "source": [
        "claim_test['DateOfIncident']=pd.Series(date_test)\n",
        "\n",
        "cat_cols=['TypeOfIncident','IncidentAddress','IncidentTime','TypeOfCollission','NumberOfVehicles','SeverityOfIncident',\n",
        "          'AuthoritiesContacted','IncidentState','IncidentCity','PropertyDamage','Witnesses','PoliceReport','BodilyInjuries']\n",
        "claim[cat_cols]=claim[cat_cols].astype('category')\n",
        "claim['DateOfIncident']=pd.to_datetime(claim['DateOfIncident'],\"%Y-%m-%d\")\n",
        "\n",
        "claim_test[cat_cols]=claim_test[cat_cols].astype('category')\n",
        "claim_test['DateOfIncident']=pd.to_datetime(claim_test['DateOfIncident'],\"%Y-%m-%d\")"
      ]
    },
    {
      "cell_type": "markdown",
      "source": [
        "**Insights**\n",
        "\n",
        "CustomerID is of no use,but required to merge with other datasets\n",
        "\n",
        "DateOfIncident:Convert into date and time stamp\n",
        "\n",
        "TypeOfCollision has missing values:\"?\"...\n",
        "\n",
        "IncidentTime has missing values:\"-5\"\n",
        "\n",
        "PropertyDamage has missing values:\"?\"\n",
        "\n",
        "AmountOfTotalClaim has missing values:\"MISSEDDATA\"\n",
        "\n",
        "PoliceReport has missing values:\"?\"\n",
        "\n",
        "Witnesses has missing values:\"MISSINGVALUE\""
      ],
      "metadata": {
        "id": "XCc4reJLa1bv"
      }
    },
    {
      "cell_type": "code",
      "source": [
        "print(demo.shape)\n",
        "print(demo_test.shape)"
      ],
      "metadata": {
        "id": "Nh04Kz6-lFoC",
        "colab": {
          "base_uri": "https://localhost:8080/"
        },
        "outputId": "02136b05-bbf6-4b35-d823-538643ca8fd5"
      },
      "execution_count": 173,
      "outputs": [
        {
          "output_type": "stream",
          "name": "stdout",
          "text": [
            "(28836, 10)\n",
            "(8912, 10)\n"
          ]
        }
      ]
    },
    {
      "cell_type": "code",
      "source": [
        "demo.head()"
      ],
      "metadata": {
        "colab": {
          "base_uri": "https://localhost:8080/",
          "height": 206
        },
        "id": "fSMCyOq1cnd1",
        "outputId": "fe740f91-7ff7-42e9-9b5e-f12ee0220901"
      },
      "execution_count": 174,
      "outputs": [
        {
          "output_type": "execute_result",
          "data": {
            "text/plain": [
              "  CustomerID  InsuredAge  InsuredZipCode InsuredGender InsuredEducationLevel  \\\n",
              "0  Cust10000          35          454776          MALE                    JD   \n",
              "1  Cust10001          36          454776          MALE                    JD   \n",
              "2  Cust10002          33          603260          MALE                    JD   \n",
              "3  Cust10003          36          474848          MALE                    JD   \n",
              "4  Cust10004          29          457942        FEMALE           High School   \n",
              "\n",
              "  InsuredOccupation InsuredHobbies  CapitalGains  CapitalLoss Country  \n",
              "0      armed-forces         movies         56700       -48500   India  \n",
              "1      tech-support      cross-fit         70600       -48500   India  \n",
              "2      armed-forces           polo         66400       -63700   India  \n",
              "3      armed-forces           polo         47900       -73400   India  \n",
              "4   exec-managerial        dancing             0       -41500   India  "
            ],
            "text/html": [
              "\n",
              "  <div id=\"df-63fe2db0-7ef0-46bf-8fde-64c05bdb8e90\">\n",
              "    <div class=\"colab-df-container\">\n",
              "      <div>\n",
              "<style scoped>\n",
              "    .dataframe tbody tr th:only-of-type {\n",
              "        vertical-align: middle;\n",
              "    }\n",
              "\n",
              "    .dataframe tbody tr th {\n",
              "        vertical-align: top;\n",
              "    }\n",
              "\n",
              "    .dataframe thead th {\n",
              "        text-align: right;\n",
              "    }\n",
              "</style>\n",
              "<table border=\"1\" class=\"dataframe\">\n",
              "  <thead>\n",
              "    <tr style=\"text-align: right;\">\n",
              "      <th></th>\n",
              "      <th>CustomerID</th>\n",
              "      <th>InsuredAge</th>\n",
              "      <th>InsuredZipCode</th>\n",
              "      <th>InsuredGender</th>\n",
              "      <th>InsuredEducationLevel</th>\n",
              "      <th>InsuredOccupation</th>\n",
              "      <th>InsuredHobbies</th>\n",
              "      <th>CapitalGains</th>\n",
              "      <th>CapitalLoss</th>\n",
              "      <th>Country</th>\n",
              "    </tr>\n",
              "  </thead>\n",
              "  <tbody>\n",
              "    <tr>\n",
              "      <th>0</th>\n",
              "      <td>Cust10000</td>\n",
              "      <td>35</td>\n",
              "      <td>454776</td>\n",
              "      <td>MALE</td>\n",
              "      <td>JD</td>\n",
              "      <td>armed-forces</td>\n",
              "      <td>movies</td>\n",
              "      <td>56700</td>\n",
              "      <td>-48500</td>\n",
              "      <td>India</td>\n",
              "    </tr>\n",
              "    <tr>\n",
              "      <th>1</th>\n",
              "      <td>Cust10001</td>\n",
              "      <td>36</td>\n",
              "      <td>454776</td>\n",
              "      <td>MALE</td>\n",
              "      <td>JD</td>\n",
              "      <td>tech-support</td>\n",
              "      <td>cross-fit</td>\n",
              "      <td>70600</td>\n",
              "      <td>-48500</td>\n",
              "      <td>India</td>\n",
              "    </tr>\n",
              "    <tr>\n",
              "      <th>2</th>\n",
              "      <td>Cust10002</td>\n",
              "      <td>33</td>\n",
              "      <td>603260</td>\n",
              "      <td>MALE</td>\n",
              "      <td>JD</td>\n",
              "      <td>armed-forces</td>\n",
              "      <td>polo</td>\n",
              "      <td>66400</td>\n",
              "      <td>-63700</td>\n",
              "      <td>India</td>\n",
              "    </tr>\n",
              "    <tr>\n",
              "      <th>3</th>\n",
              "      <td>Cust10003</td>\n",
              "      <td>36</td>\n",
              "      <td>474848</td>\n",
              "      <td>MALE</td>\n",
              "      <td>JD</td>\n",
              "      <td>armed-forces</td>\n",
              "      <td>polo</td>\n",
              "      <td>47900</td>\n",
              "      <td>-73400</td>\n",
              "      <td>India</td>\n",
              "    </tr>\n",
              "    <tr>\n",
              "      <th>4</th>\n",
              "      <td>Cust10004</td>\n",
              "      <td>29</td>\n",
              "      <td>457942</td>\n",
              "      <td>FEMALE</td>\n",
              "      <td>High School</td>\n",
              "      <td>exec-managerial</td>\n",
              "      <td>dancing</td>\n",
              "      <td>0</td>\n",
              "      <td>-41500</td>\n",
              "      <td>India</td>\n",
              "    </tr>\n",
              "  </tbody>\n",
              "</table>\n",
              "</div>\n",
              "      <button class=\"colab-df-convert\" onclick=\"convertToInteractive('df-63fe2db0-7ef0-46bf-8fde-64c05bdb8e90')\"\n",
              "              title=\"Convert this dataframe to an interactive table.\"\n",
              "              style=\"display:none;\">\n",
              "        \n",
              "  <svg xmlns=\"http://www.w3.org/2000/svg\" height=\"24px\"viewBox=\"0 0 24 24\"\n",
              "       width=\"24px\">\n",
              "    <path d=\"M0 0h24v24H0V0z\" fill=\"none\"/>\n",
              "    <path d=\"M18.56 5.44l.94 2.06.94-2.06 2.06-.94-2.06-.94-.94-2.06-.94 2.06-2.06.94zm-11 1L8.5 8.5l.94-2.06 2.06-.94-2.06-.94L8.5 2.5l-.94 2.06-2.06.94zm10 10l.94 2.06.94-2.06 2.06-.94-2.06-.94-.94-2.06-.94 2.06-2.06.94z\"/><path d=\"M17.41 7.96l-1.37-1.37c-.4-.4-.92-.59-1.43-.59-.52 0-1.04.2-1.43.59L10.3 9.45l-7.72 7.72c-.78.78-.78 2.05 0 2.83L4 21.41c.39.39.9.59 1.41.59.51 0 1.02-.2 1.41-.59l7.78-7.78 2.81-2.81c.8-.78.8-2.07 0-2.86zM5.41 20L4 18.59l7.72-7.72 1.47 1.35L5.41 20z\"/>\n",
              "  </svg>\n",
              "      </button>\n",
              "      \n",
              "  <style>\n",
              "    .colab-df-container {\n",
              "      display:flex;\n",
              "      flex-wrap:wrap;\n",
              "      gap: 12px;\n",
              "    }\n",
              "\n",
              "    .colab-df-convert {\n",
              "      background-color: #E8F0FE;\n",
              "      border: none;\n",
              "      border-radius: 50%;\n",
              "      cursor: pointer;\n",
              "      display: none;\n",
              "      fill: #1967D2;\n",
              "      height: 32px;\n",
              "      padding: 0 0 0 0;\n",
              "      width: 32px;\n",
              "    }\n",
              "\n",
              "    .colab-df-convert:hover {\n",
              "      background-color: #E2EBFA;\n",
              "      box-shadow: 0px 1px 2px rgba(60, 64, 67, 0.3), 0px 1px 3px 1px rgba(60, 64, 67, 0.15);\n",
              "      fill: #174EA6;\n",
              "    }\n",
              "\n",
              "    [theme=dark] .colab-df-convert {\n",
              "      background-color: #3B4455;\n",
              "      fill: #D2E3FC;\n",
              "    }\n",
              "\n",
              "    [theme=dark] .colab-df-convert:hover {\n",
              "      background-color: #434B5C;\n",
              "      box-shadow: 0px 1px 3px 1px rgba(0, 0, 0, 0.15);\n",
              "      filter: drop-shadow(0px 1px 2px rgba(0, 0, 0, 0.3));\n",
              "      fill: #FFFFFF;\n",
              "    }\n",
              "  </style>\n",
              "\n",
              "      <script>\n",
              "        const buttonEl =\n",
              "          document.querySelector('#df-63fe2db0-7ef0-46bf-8fde-64c05bdb8e90 button.colab-df-convert');\n",
              "        buttonEl.style.display =\n",
              "          google.colab.kernel.accessAllowed ? 'block' : 'none';\n",
              "\n",
              "        async function convertToInteractive(key) {\n",
              "          const element = document.querySelector('#df-63fe2db0-7ef0-46bf-8fde-64c05bdb8e90');\n",
              "          const dataTable =\n",
              "            await google.colab.kernel.invokeFunction('convertToInteractive',\n",
              "                                                     [key], {});\n",
              "          if (!dataTable) return;\n",
              "\n",
              "          const docLinkHtml = 'Like what you see? Visit the ' +\n",
              "            '<a target=\"_blank\" href=https://colab.research.google.com/notebooks/data_table.ipynb>data table notebook</a>'\n",
              "            + ' to learn more about interactive tables.';\n",
              "          element.innerHTML = '';\n",
              "          dataTable['output_type'] = 'display_data';\n",
              "          await google.colab.output.renderOutput(dataTable, element);\n",
              "          const docLink = document.createElement('div');\n",
              "          docLink.innerHTML = docLinkHtml;\n",
              "          element.appendChild(docLink);\n",
              "        }\n",
              "      </script>\n",
              "    </div>\n",
              "  </div>\n",
              "  "
            ]
          },
          "metadata": {},
          "execution_count": 174
        }
      ]
    },
    {
      "cell_type": "code",
      "source": [
        "demo_test.head()"
      ],
      "metadata": {
        "colab": {
          "base_uri": "https://localhost:8080/",
          "height": 206
        },
        "id": "lPanzTaacp8M",
        "outputId": "d680fc8b-a1b0-4194-ce66-c24093049838"
      },
      "execution_count": 175,
      "outputs": [
        {
          "output_type": "execute_result",
          "data": {
            "text/plain": [
              "  CustomerID  InsuredAge  InsuredZipCode InsuredGender InsuredEducationLevel  \\\n",
              "0  Cust10008          27          471704        FEMALE           High School   \n",
              "1  Cust10010          40          455810        FEMALE                    MD   \n",
              "2  Cust10015          39          461919          MALE                    JD   \n",
              "3  Cust10020          38          600904        FEMALE               Masters   \n",
              "4   Cust1003          29          430632        FEMALE                   PhD   \n",
              "\n",
              "  InsuredOccupation InsuredHobbies  CapitalGains  CapitalLoss Country  \n",
              "0      adm-clerical   base-jumping         56400       -57000   India  \n",
              "1    prof-specialty           golf         56700       -65600   India  \n",
              "2     other-service         movies         30400            0   India  \n",
              "3   exec-managerial    video-games         68500            0   India  \n",
              "4             sales    board-games         35100            0   India  "
            ],
            "text/html": [
              "\n",
              "  <div id=\"df-0cb135ae-fa35-40fc-8a56-670cc514aa38\">\n",
              "    <div class=\"colab-df-container\">\n",
              "      <div>\n",
              "<style scoped>\n",
              "    .dataframe tbody tr th:only-of-type {\n",
              "        vertical-align: middle;\n",
              "    }\n",
              "\n",
              "    .dataframe tbody tr th {\n",
              "        vertical-align: top;\n",
              "    }\n",
              "\n",
              "    .dataframe thead th {\n",
              "        text-align: right;\n",
              "    }\n",
              "</style>\n",
              "<table border=\"1\" class=\"dataframe\">\n",
              "  <thead>\n",
              "    <tr style=\"text-align: right;\">\n",
              "      <th></th>\n",
              "      <th>CustomerID</th>\n",
              "      <th>InsuredAge</th>\n",
              "      <th>InsuredZipCode</th>\n",
              "      <th>InsuredGender</th>\n",
              "      <th>InsuredEducationLevel</th>\n",
              "      <th>InsuredOccupation</th>\n",
              "      <th>InsuredHobbies</th>\n",
              "      <th>CapitalGains</th>\n",
              "      <th>CapitalLoss</th>\n",
              "      <th>Country</th>\n",
              "    </tr>\n",
              "  </thead>\n",
              "  <tbody>\n",
              "    <tr>\n",
              "      <th>0</th>\n",
              "      <td>Cust10008</td>\n",
              "      <td>27</td>\n",
              "      <td>471704</td>\n",
              "      <td>FEMALE</td>\n",
              "      <td>High School</td>\n",
              "      <td>adm-clerical</td>\n",
              "      <td>base-jumping</td>\n",
              "      <td>56400</td>\n",
              "      <td>-57000</td>\n",
              "      <td>India</td>\n",
              "    </tr>\n",
              "    <tr>\n",
              "      <th>1</th>\n",
              "      <td>Cust10010</td>\n",
              "      <td>40</td>\n",
              "      <td>455810</td>\n",
              "      <td>FEMALE</td>\n",
              "      <td>MD</td>\n",
              "      <td>prof-specialty</td>\n",
              "      <td>golf</td>\n",
              "      <td>56700</td>\n",
              "      <td>-65600</td>\n",
              "      <td>India</td>\n",
              "    </tr>\n",
              "    <tr>\n",
              "      <th>2</th>\n",
              "      <td>Cust10015</td>\n",
              "      <td>39</td>\n",
              "      <td>461919</td>\n",
              "      <td>MALE</td>\n",
              "      <td>JD</td>\n",
              "      <td>other-service</td>\n",
              "      <td>movies</td>\n",
              "      <td>30400</td>\n",
              "      <td>0</td>\n",
              "      <td>India</td>\n",
              "    </tr>\n",
              "    <tr>\n",
              "      <th>3</th>\n",
              "      <td>Cust10020</td>\n",
              "      <td>38</td>\n",
              "      <td>600904</td>\n",
              "      <td>FEMALE</td>\n",
              "      <td>Masters</td>\n",
              "      <td>exec-managerial</td>\n",
              "      <td>video-games</td>\n",
              "      <td>68500</td>\n",
              "      <td>0</td>\n",
              "      <td>India</td>\n",
              "    </tr>\n",
              "    <tr>\n",
              "      <th>4</th>\n",
              "      <td>Cust1003</td>\n",
              "      <td>29</td>\n",
              "      <td>430632</td>\n",
              "      <td>FEMALE</td>\n",
              "      <td>PhD</td>\n",
              "      <td>sales</td>\n",
              "      <td>board-games</td>\n",
              "      <td>35100</td>\n",
              "      <td>0</td>\n",
              "      <td>India</td>\n",
              "    </tr>\n",
              "  </tbody>\n",
              "</table>\n",
              "</div>\n",
              "      <button class=\"colab-df-convert\" onclick=\"convertToInteractive('df-0cb135ae-fa35-40fc-8a56-670cc514aa38')\"\n",
              "              title=\"Convert this dataframe to an interactive table.\"\n",
              "              style=\"display:none;\">\n",
              "        \n",
              "  <svg xmlns=\"http://www.w3.org/2000/svg\" height=\"24px\"viewBox=\"0 0 24 24\"\n",
              "       width=\"24px\">\n",
              "    <path d=\"M0 0h24v24H0V0z\" fill=\"none\"/>\n",
              "    <path d=\"M18.56 5.44l.94 2.06.94-2.06 2.06-.94-2.06-.94-.94-2.06-.94 2.06-2.06.94zm-11 1L8.5 8.5l.94-2.06 2.06-.94-2.06-.94L8.5 2.5l-.94 2.06-2.06.94zm10 10l.94 2.06.94-2.06 2.06-.94-2.06-.94-.94-2.06-.94 2.06-2.06.94z\"/><path d=\"M17.41 7.96l-1.37-1.37c-.4-.4-.92-.59-1.43-.59-.52 0-1.04.2-1.43.59L10.3 9.45l-7.72 7.72c-.78.78-.78 2.05 0 2.83L4 21.41c.39.39.9.59 1.41.59.51 0 1.02-.2 1.41-.59l7.78-7.78 2.81-2.81c.8-.78.8-2.07 0-2.86zM5.41 20L4 18.59l7.72-7.72 1.47 1.35L5.41 20z\"/>\n",
              "  </svg>\n",
              "      </button>\n",
              "      \n",
              "  <style>\n",
              "    .colab-df-container {\n",
              "      display:flex;\n",
              "      flex-wrap:wrap;\n",
              "      gap: 12px;\n",
              "    }\n",
              "\n",
              "    .colab-df-convert {\n",
              "      background-color: #E8F0FE;\n",
              "      border: none;\n",
              "      border-radius: 50%;\n",
              "      cursor: pointer;\n",
              "      display: none;\n",
              "      fill: #1967D2;\n",
              "      height: 32px;\n",
              "      padding: 0 0 0 0;\n",
              "      width: 32px;\n",
              "    }\n",
              "\n",
              "    .colab-df-convert:hover {\n",
              "      background-color: #E2EBFA;\n",
              "      box-shadow: 0px 1px 2px rgba(60, 64, 67, 0.3), 0px 1px 3px 1px rgba(60, 64, 67, 0.15);\n",
              "      fill: #174EA6;\n",
              "    }\n",
              "\n",
              "    [theme=dark] .colab-df-convert {\n",
              "      background-color: #3B4455;\n",
              "      fill: #D2E3FC;\n",
              "    }\n",
              "\n",
              "    [theme=dark] .colab-df-convert:hover {\n",
              "      background-color: #434B5C;\n",
              "      box-shadow: 0px 1px 3px 1px rgba(0, 0, 0, 0.15);\n",
              "      filter: drop-shadow(0px 1px 2px rgba(0, 0, 0, 0.3));\n",
              "      fill: #FFFFFF;\n",
              "    }\n",
              "  </style>\n",
              "\n",
              "      <script>\n",
              "        const buttonEl =\n",
              "          document.querySelector('#df-0cb135ae-fa35-40fc-8a56-670cc514aa38 button.colab-df-convert');\n",
              "        buttonEl.style.display =\n",
              "          google.colab.kernel.accessAllowed ? 'block' : 'none';\n",
              "\n",
              "        async function convertToInteractive(key) {\n",
              "          const element = document.querySelector('#df-0cb135ae-fa35-40fc-8a56-670cc514aa38');\n",
              "          const dataTable =\n",
              "            await google.colab.kernel.invokeFunction('convertToInteractive',\n",
              "                                                     [key], {});\n",
              "          if (!dataTable) return;\n",
              "\n",
              "          const docLinkHtml = 'Like what you see? Visit the ' +\n",
              "            '<a target=\"_blank\" href=https://colab.research.google.com/notebooks/data_table.ipynb>data table notebook</a>'\n",
              "            + ' to learn more about interactive tables.';\n",
              "          element.innerHTML = '';\n",
              "          dataTable['output_type'] = 'display_data';\n",
              "          await google.colab.output.renderOutput(dataTable, element);\n",
              "          const docLink = document.createElement('div');\n",
              "          docLink.innerHTML = docLinkHtml;\n",
              "          element.appendChild(docLink);\n",
              "        }\n",
              "      </script>\n",
              "    </div>\n",
              "  </div>\n",
              "  "
            ]
          },
          "metadata": {},
          "execution_count": 175
        }
      ]
    },
    {
      "cell_type": "code",
      "source": [
        "#to understand the distribution of data\n",
        "#can differentiate b/w categorical and continous values\n",
        "demo.describe(include='all')"
      ],
      "metadata": {
        "id": "O9mcTiAwlutG",
        "colab": {
          "base_uri": "https://localhost:8080/",
          "height": 394
        },
        "outputId": "3dcc01f5-000c-42f9-e082-286e4d75b389"
      },
      "execution_count": 176,
      "outputs": [
        {
          "output_type": "execute_result",
          "data": {
            "text/plain": [
              "       CustomerID    InsuredAge  InsuredZipCode InsuredGender  \\\n",
              "count       28836  28836.000000    28836.000000         28806   \n",
              "unique      28836           NaN             NaN             2   \n",
              "top     Cust10000           NaN             NaN        FEMALE   \n",
              "freq            1           NaN             NaN         15644   \n",
              "mean          NaN     38.815370   502436.579068           NaN   \n",
              "std           NaN      7.996377    72250.868871           NaN   \n",
              "min           NaN     19.000000   430104.000000           NaN   \n",
              "25%           NaN     33.000000   448603.000000           NaN   \n",
              "50%           NaN     38.000000   466691.000000           NaN   \n",
              "75%           NaN     44.000000   603848.000000           NaN   \n",
              "max           NaN     64.000000   620962.000000           NaN   \n",
              "\n",
              "       InsuredEducationLevel  InsuredOccupation  InsuredHobbies  \\\n",
              "count                  28836              28836           28836   \n",
              "unique                     7                 14              20   \n",
              "top                       JD  machine-op-inspct  bungie-jumping   \n",
              "freq                    4808               2798            1751   \n",
              "mean                     NaN                NaN             NaN   \n",
              "std                      NaN                NaN             NaN   \n",
              "min                      NaN                NaN             NaN   \n",
              "25%                      NaN                NaN             NaN   \n",
              "50%                      NaN                NaN             NaN   \n",
              "75%                      NaN                NaN             NaN   \n",
              "max                      NaN                NaN             NaN   \n",
              "\n",
              "         CapitalGains    CapitalLoss Country  \n",
              "count    28836.000000   28836.000000   28834  \n",
              "unique            NaN            NaN       1  \n",
              "top               NaN            NaN   India  \n",
              "freq              NaN            NaN   28834  \n",
              "mean     23066.569566  -24940.612429     NaN  \n",
              "std      27637.813724   27913.209608     NaN  \n",
              "min          0.000000 -111100.000000     NaN  \n",
              "25%          0.000000  -50000.000000     NaN  \n",
              "50%          0.000000       0.000000     NaN  \n",
              "75%      49000.000000       0.000000     NaN  \n",
              "max     100500.000000       0.000000     NaN  "
            ],
            "text/html": [
              "\n",
              "  <div id=\"df-f3fa6d58-f8ca-40ce-9101-04a2f88dd2f5\">\n",
              "    <div class=\"colab-df-container\">\n",
              "      <div>\n",
              "<style scoped>\n",
              "    .dataframe tbody tr th:only-of-type {\n",
              "        vertical-align: middle;\n",
              "    }\n",
              "\n",
              "    .dataframe tbody tr th {\n",
              "        vertical-align: top;\n",
              "    }\n",
              "\n",
              "    .dataframe thead th {\n",
              "        text-align: right;\n",
              "    }\n",
              "</style>\n",
              "<table border=\"1\" class=\"dataframe\">\n",
              "  <thead>\n",
              "    <tr style=\"text-align: right;\">\n",
              "      <th></th>\n",
              "      <th>CustomerID</th>\n",
              "      <th>InsuredAge</th>\n",
              "      <th>InsuredZipCode</th>\n",
              "      <th>InsuredGender</th>\n",
              "      <th>InsuredEducationLevel</th>\n",
              "      <th>InsuredOccupation</th>\n",
              "      <th>InsuredHobbies</th>\n",
              "      <th>CapitalGains</th>\n",
              "      <th>CapitalLoss</th>\n",
              "      <th>Country</th>\n",
              "    </tr>\n",
              "  </thead>\n",
              "  <tbody>\n",
              "    <tr>\n",
              "      <th>count</th>\n",
              "      <td>28836</td>\n",
              "      <td>28836.000000</td>\n",
              "      <td>28836.000000</td>\n",
              "      <td>28806</td>\n",
              "      <td>28836</td>\n",
              "      <td>28836</td>\n",
              "      <td>28836</td>\n",
              "      <td>28836.000000</td>\n",
              "      <td>28836.000000</td>\n",
              "      <td>28834</td>\n",
              "    </tr>\n",
              "    <tr>\n",
              "      <th>unique</th>\n",
              "      <td>28836</td>\n",
              "      <td>NaN</td>\n",
              "      <td>NaN</td>\n",
              "      <td>2</td>\n",
              "      <td>7</td>\n",
              "      <td>14</td>\n",
              "      <td>20</td>\n",
              "      <td>NaN</td>\n",
              "      <td>NaN</td>\n",
              "      <td>1</td>\n",
              "    </tr>\n",
              "    <tr>\n",
              "      <th>top</th>\n",
              "      <td>Cust10000</td>\n",
              "      <td>NaN</td>\n",
              "      <td>NaN</td>\n",
              "      <td>FEMALE</td>\n",
              "      <td>JD</td>\n",
              "      <td>machine-op-inspct</td>\n",
              "      <td>bungie-jumping</td>\n",
              "      <td>NaN</td>\n",
              "      <td>NaN</td>\n",
              "      <td>India</td>\n",
              "    </tr>\n",
              "    <tr>\n",
              "      <th>freq</th>\n",
              "      <td>1</td>\n",
              "      <td>NaN</td>\n",
              "      <td>NaN</td>\n",
              "      <td>15644</td>\n",
              "      <td>4808</td>\n",
              "      <td>2798</td>\n",
              "      <td>1751</td>\n",
              "      <td>NaN</td>\n",
              "      <td>NaN</td>\n",
              "      <td>28834</td>\n",
              "    </tr>\n",
              "    <tr>\n",
              "      <th>mean</th>\n",
              "      <td>NaN</td>\n",
              "      <td>38.815370</td>\n",
              "      <td>502436.579068</td>\n",
              "      <td>NaN</td>\n",
              "      <td>NaN</td>\n",
              "      <td>NaN</td>\n",
              "      <td>NaN</td>\n",
              "      <td>23066.569566</td>\n",
              "      <td>-24940.612429</td>\n",
              "      <td>NaN</td>\n",
              "    </tr>\n",
              "    <tr>\n",
              "      <th>std</th>\n",
              "      <td>NaN</td>\n",
              "      <td>7.996377</td>\n",
              "      <td>72250.868871</td>\n",
              "      <td>NaN</td>\n",
              "      <td>NaN</td>\n",
              "      <td>NaN</td>\n",
              "      <td>NaN</td>\n",
              "      <td>27637.813724</td>\n",
              "      <td>27913.209608</td>\n",
              "      <td>NaN</td>\n",
              "    </tr>\n",
              "    <tr>\n",
              "      <th>min</th>\n",
              "      <td>NaN</td>\n",
              "      <td>19.000000</td>\n",
              "      <td>430104.000000</td>\n",
              "      <td>NaN</td>\n",
              "      <td>NaN</td>\n",
              "      <td>NaN</td>\n",
              "      <td>NaN</td>\n",
              "      <td>0.000000</td>\n",
              "      <td>-111100.000000</td>\n",
              "      <td>NaN</td>\n",
              "    </tr>\n",
              "    <tr>\n",
              "      <th>25%</th>\n",
              "      <td>NaN</td>\n",
              "      <td>33.000000</td>\n",
              "      <td>448603.000000</td>\n",
              "      <td>NaN</td>\n",
              "      <td>NaN</td>\n",
              "      <td>NaN</td>\n",
              "      <td>NaN</td>\n",
              "      <td>0.000000</td>\n",
              "      <td>-50000.000000</td>\n",
              "      <td>NaN</td>\n",
              "    </tr>\n",
              "    <tr>\n",
              "      <th>50%</th>\n",
              "      <td>NaN</td>\n",
              "      <td>38.000000</td>\n",
              "      <td>466691.000000</td>\n",
              "      <td>NaN</td>\n",
              "      <td>NaN</td>\n",
              "      <td>NaN</td>\n",
              "      <td>NaN</td>\n",
              "      <td>0.000000</td>\n",
              "      <td>0.000000</td>\n",
              "      <td>NaN</td>\n",
              "    </tr>\n",
              "    <tr>\n",
              "      <th>75%</th>\n",
              "      <td>NaN</td>\n",
              "      <td>44.000000</td>\n",
              "      <td>603848.000000</td>\n",
              "      <td>NaN</td>\n",
              "      <td>NaN</td>\n",
              "      <td>NaN</td>\n",
              "      <td>NaN</td>\n",
              "      <td>49000.000000</td>\n",
              "      <td>0.000000</td>\n",
              "      <td>NaN</td>\n",
              "    </tr>\n",
              "    <tr>\n",
              "      <th>max</th>\n",
              "      <td>NaN</td>\n",
              "      <td>64.000000</td>\n",
              "      <td>620962.000000</td>\n",
              "      <td>NaN</td>\n",
              "      <td>NaN</td>\n",
              "      <td>NaN</td>\n",
              "      <td>NaN</td>\n",
              "      <td>100500.000000</td>\n",
              "      <td>0.000000</td>\n",
              "      <td>NaN</td>\n",
              "    </tr>\n",
              "  </tbody>\n",
              "</table>\n",
              "</div>\n",
              "      <button class=\"colab-df-convert\" onclick=\"convertToInteractive('df-f3fa6d58-f8ca-40ce-9101-04a2f88dd2f5')\"\n",
              "              title=\"Convert this dataframe to an interactive table.\"\n",
              "              style=\"display:none;\">\n",
              "        \n",
              "  <svg xmlns=\"http://www.w3.org/2000/svg\" height=\"24px\"viewBox=\"0 0 24 24\"\n",
              "       width=\"24px\">\n",
              "    <path d=\"M0 0h24v24H0V0z\" fill=\"none\"/>\n",
              "    <path d=\"M18.56 5.44l.94 2.06.94-2.06 2.06-.94-2.06-.94-.94-2.06-.94 2.06-2.06.94zm-11 1L8.5 8.5l.94-2.06 2.06-.94-2.06-.94L8.5 2.5l-.94 2.06-2.06.94zm10 10l.94 2.06.94-2.06 2.06-.94-2.06-.94-.94-2.06-.94 2.06-2.06.94z\"/><path d=\"M17.41 7.96l-1.37-1.37c-.4-.4-.92-.59-1.43-.59-.52 0-1.04.2-1.43.59L10.3 9.45l-7.72 7.72c-.78.78-.78 2.05 0 2.83L4 21.41c.39.39.9.59 1.41.59.51 0 1.02-.2 1.41-.59l7.78-7.78 2.81-2.81c.8-.78.8-2.07 0-2.86zM5.41 20L4 18.59l7.72-7.72 1.47 1.35L5.41 20z\"/>\n",
              "  </svg>\n",
              "      </button>\n",
              "      \n",
              "  <style>\n",
              "    .colab-df-container {\n",
              "      display:flex;\n",
              "      flex-wrap:wrap;\n",
              "      gap: 12px;\n",
              "    }\n",
              "\n",
              "    .colab-df-convert {\n",
              "      background-color: #E8F0FE;\n",
              "      border: none;\n",
              "      border-radius: 50%;\n",
              "      cursor: pointer;\n",
              "      display: none;\n",
              "      fill: #1967D2;\n",
              "      height: 32px;\n",
              "      padding: 0 0 0 0;\n",
              "      width: 32px;\n",
              "    }\n",
              "\n",
              "    .colab-df-convert:hover {\n",
              "      background-color: #E2EBFA;\n",
              "      box-shadow: 0px 1px 2px rgba(60, 64, 67, 0.3), 0px 1px 3px 1px rgba(60, 64, 67, 0.15);\n",
              "      fill: #174EA6;\n",
              "    }\n",
              "\n",
              "    [theme=dark] .colab-df-convert {\n",
              "      background-color: #3B4455;\n",
              "      fill: #D2E3FC;\n",
              "    }\n",
              "\n",
              "    [theme=dark] .colab-df-convert:hover {\n",
              "      background-color: #434B5C;\n",
              "      box-shadow: 0px 1px 3px 1px rgba(0, 0, 0, 0.15);\n",
              "      filter: drop-shadow(0px 1px 2px rgba(0, 0, 0, 0.3));\n",
              "      fill: #FFFFFF;\n",
              "    }\n",
              "  </style>\n",
              "\n",
              "      <script>\n",
              "        const buttonEl =\n",
              "          document.querySelector('#df-f3fa6d58-f8ca-40ce-9101-04a2f88dd2f5 button.colab-df-convert');\n",
              "        buttonEl.style.display =\n",
              "          google.colab.kernel.accessAllowed ? 'block' : 'none';\n",
              "\n",
              "        async function convertToInteractive(key) {\n",
              "          const element = document.querySelector('#df-f3fa6d58-f8ca-40ce-9101-04a2f88dd2f5');\n",
              "          const dataTable =\n",
              "            await google.colab.kernel.invokeFunction('convertToInteractive',\n",
              "                                                     [key], {});\n",
              "          if (!dataTable) return;\n",
              "\n",
              "          const docLinkHtml = 'Like what you see? Visit the ' +\n",
              "            '<a target=\"_blank\" href=https://colab.research.google.com/notebooks/data_table.ipynb>data table notebook</a>'\n",
              "            + ' to learn more about interactive tables.';\n",
              "          element.innerHTML = '';\n",
              "          dataTable['output_type'] = 'display_data';\n",
              "          await google.colab.output.renderOutput(dataTable, element);\n",
              "          const docLink = document.createElement('div');\n",
              "          docLink.innerHTML = docLinkHtml;\n",
              "          element.appendChild(docLink);\n",
              "        }\n",
              "      </script>\n",
              "    </div>\n",
              "  </div>\n",
              "  "
            ]
          },
          "metadata": {},
          "execution_count": 176
        }
      ]
    },
    {
      "cell_type": "code",
      "source": [
        "demo_test.describe(include='all')\n",
        "#to understand the distribution of data\n",
        "#can differentiate b/w categorical and continous values"
      ],
      "metadata": {
        "id": "mhC_Tu6Aluvl",
        "colab": {
          "base_uri": "https://localhost:8080/",
          "height": 394
        },
        "outputId": "19f3060b-dece-4206-aae7-eca6499b0ded"
      },
      "execution_count": 177,
      "outputs": [
        {
          "output_type": "execute_result",
          "data": {
            "text/plain": [
              "       CustomerID   InsuredAge  InsuredZipCode InsuredGender  \\\n",
              "count        8912  8912.000000     8912.000000          8904   \n",
              "unique       8912          NaN             NaN             2   \n",
              "top     Cust10008          NaN             NaN        FEMALE   \n",
              "freq            1          NaN             NaN          4840   \n",
              "mean          NaN    38.743492   501558.312949           NaN   \n",
              "std           NaN     7.914619    72051.904910           NaN   \n",
              "min           NaN    19.000000   430104.000000           NaN   \n",
              "25%           NaN    33.000000   447469.000000           NaN   \n",
              "50%           NaN    38.000000   466303.000000           NaN   \n",
              "75%           NaN    44.000000   603527.000000           NaN   \n",
              "max           NaN    64.000000   620962.000000           NaN   \n",
              "\n",
              "       InsuredEducationLevel  InsuredOccupation InsuredHobbies   CapitalGains  \\\n",
              "count                   8912               8912           8912    8912.000000   \n",
              "unique                     7                 14             20            NaN   \n",
              "top                       JD  machine-op-inspct        reading            NaN   \n",
              "freq                    1404                830            653            NaN   \n",
              "mean                     NaN                NaN            NaN   23413.004937   \n",
              "std                      NaN                NaN            NaN   27821.325212   \n",
              "min                      NaN                NaN            NaN       0.000000   \n",
              "25%                      NaN                NaN            NaN       0.000000   \n",
              "50%                      NaN                NaN            NaN       0.000000   \n",
              "75%                      NaN                NaN            NaN   49900.000000   \n",
              "max                      NaN                NaN            NaN  100500.000000   \n",
              "\n",
              "          CapitalLoss Country  \n",
              "count     8912.000000    8908  \n",
              "unique            NaN       1  \n",
              "top               NaN   India  \n",
              "freq              NaN    8908  \n",
              "mean    -25365.888689     NaN  \n",
              "std      28032.959284     NaN  \n",
              "min    -111100.000000     NaN  \n",
              "25%     -50400.000000     NaN  \n",
              "50%          0.000000     NaN  \n",
              "75%          0.000000     NaN  \n",
              "max          0.000000     NaN  "
            ],
            "text/html": [
              "\n",
              "  <div id=\"df-af17c27d-a4cc-4216-879f-54ed4c545e38\">\n",
              "    <div class=\"colab-df-container\">\n",
              "      <div>\n",
              "<style scoped>\n",
              "    .dataframe tbody tr th:only-of-type {\n",
              "        vertical-align: middle;\n",
              "    }\n",
              "\n",
              "    .dataframe tbody tr th {\n",
              "        vertical-align: top;\n",
              "    }\n",
              "\n",
              "    .dataframe thead th {\n",
              "        text-align: right;\n",
              "    }\n",
              "</style>\n",
              "<table border=\"1\" class=\"dataframe\">\n",
              "  <thead>\n",
              "    <tr style=\"text-align: right;\">\n",
              "      <th></th>\n",
              "      <th>CustomerID</th>\n",
              "      <th>InsuredAge</th>\n",
              "      <th>InsuredZipCode</th>\n",
              "      <th>InsuredGender</th>\n",
              "      <th>InsuredEducationLevel</th>\n",
              "      <th>InsuredOccupation</th>\n",
              "      <th>InsuredHobbies</th>\n",
              "      <th>CapitalGains</th>\n",
              "      <th>CapitalLoss</th>\n",
              "      <th>Country</th>\n",
              "    </tr>\n",
              "  </thead>\n",
              "  <tbody>\n",
              "    <tr>\n",
              "      <th>count</th>\n",
              "      <td>8912</td>\n",
              "      <td>8912.000000</td>\n",
              "      <td>8912.000000</td>\n",
              "      <td>8904</td>\n",
              "      <td>8912</td>\n",
              "      <td>8912</td>\n",
              "      <td>8912</td>\n",
              "      <td>8912.000000</td>\n",
              "      <td>8912.000000</td>\n",
              "      <td>8908</td>\n",
              "    </tr>\n",
              "    <tr>\n",
              "      <th>unique</th>\n",
              "      <td>8912</td>\n",
              "      <td>NaN</td>\n",
              "      <td>NaN</td>\n",
              "      <td>2</td>\n",
              "      <td>7</td>\n",
              "      <td>14</td>\n",
              "      <td>20</td>\n",
              "      <td>NaN</td>\n",
              "      <td>NaN</td>\n",
              "      <td>1</td>\n",
              "    </tr>\n",
              "    <tr>\n",
              "      <th>top</th>\n",
              "      <td>Cust10008</td>\n",
              "      <td>NaN</td>\n",
              "      <td>NaN</td>\n",
              "      <td>FEMALE</td>\n",
              "      <td>JD</td>\n",
              "      <td>machine-op-inspct</td>\n",
              "      <td>reading</td>\n",
              "      <td>NaN</td>\n",
              "      <td>NaN</td>\n",
              "      <td>India</td>\n",
              "    </tr>\n",
              "    <tr>\n",
              "      <th>freq</th>\n",
              "      <td>1</td>\n",
              "      <td>NaN</td>\n",
              "      <td>NaN</td>\n",
              "      <td>4840</td>\n",
              "      <td>1404</td>\n",
              "      <td>830</td>\n",
              "      <td>653</td>\n",
              "      <td>NaN</td>\n",
              "      <td>NaN</td>\n",
              "      <td>8908</td>\n",
              "    </tr>\n",
              "    <tr>\n",
              "      <th>mean</th>\n",
              "      <td>NaN</td>\n",
              "      <td>38.743492</td>\n",
              "      <td>501558.312949</td>\n",
              "      <td>NaN</td>\n",
              "      <td>NaN</td>\n",
              "      <td>NaN</td>\n",
              "      <td>NaN</td>\n",
              "      <td>23413.004937</td>\n",
              "      <td>-25365.888689</td>\n",
              "      <td>NaN</td>\n",
              "    </tr>\n",
              "    <tr>\n",
              "      <th>std</th>\n",
              "      <td>NaN</td>\n",
              "      <td>7.914619</td>\n",
              "      <td>72051.904910</td>\n",
              "      <td>NaN</td>\n",
              "      <td>NaN</td>\n",
              "      <td>NaN</td>\n",
              "      <td>NaN</td>\n",
              "      <td>27821.325212</td>\n",
              "      <td>28032.959284</td>\n",
              "      <td>NaN</td>\n",
              "    </tr>\n",
              "    <tr>\n",
              "      <th>min</th>\n",
              "      <td>NaN</td>\n",
              "      <td>19.000000</td>\n",
              "      <td>430104.000000</td>\n",
              "      <td>NaN</td>\n",
              "      <td>NaN</td>\n",
              "      <td>NaN</td>\n",
              "      <td>NaN</td>\n",
              "      <td>0.000000</td>\n",
              "      <td>-111100.000000</td>\n",
              "      <td>NaN</td>\n",
              "    </tr>\n",
              "    <tr>\n",
              "      <th>25%</th>\n",
              "      <td>NaN</td>\n",
              "      <td>33.000000</td>\n",
              "      <td>447469.000000</td>\n",
              "      <td>NaN</td>\n",
              "      <td>NaN</td>\n",
              "      <td>NaN</td>\n",
              "      <td>NaN</td>\n",
              "      <td>0.000000</td>\n",
              "      <td>-50400.000000</td>\n",
              "      <td>NaN</td>\n",
              "    </tr>\n",
              "    <tr>\n",
              "      <th>50%</th>\n",
              "      <td>NaN</td>\n",
              "      <td>38.000000</td>\n",
              "      <td>466303.000000</td>\n",
              "      <td>NaN</td>\n",
              "      <td>NaN</td>\n",
              "      <td>NaN</td>\n",
              "      <td>NaN</td>\n",
              "      <td>0.000000</td>\n",
              "      <td>0.000000</td>\n",
              "      <td>NaN</td>\n",
              "    </tr>\n",
              "    <tr>\n",
              "      <th>75%</th>\n",
              "      <td>NaN</td>\n",
              "      <td>44.000000</td>\n",
              "      <td>603527.000000</td>\n",
              "      <td>NaN</td>\n",
              "      <td>NaN</td>\n",
              "      <td>NaN</td>\n",
              "      <td>NaN</td>\n",
              "      <td>49900.000000</td>\n",
              "      <td>0.000000</td>\n",
              "      <td>NaN</td>\n",
              "    </tr>\n",
              "    <tr>\n",
              "      <th>max</th>\n",
              "      <td>NaN</td>\n",
              "      <td>64.000000</td>\n",
              "      <td>620962.000000</td>\n",
              "      <td>NaN</td>\n",
              "      <td>NaN</td>\n",
              "      <td>NaN</td>\n",
              "      <td>NaN</td>\n",
              "      <td>100500.000000</td>\n",
              "      <td>0.000000</td>\n",
              "      <td>NaN</td>\n",
              "    </tr>\n",
              "  </tbody>\n",
              "</table>\n",
              "</div>\n",
              "      <button class=\"colab-df-convert\" onclick=\"convertToInteractive('df-af17c27d-a4cc-4216-879f-54ed4c545e38')\"\n",
              "              title=\"Convert this dataframe to an interactive table.\"\n",
              "              style=\"display:none;\">\n",
              "        \n",
              "  <svg xmlns=\"http://www.w3.org/2000/svg\" height=\"24px\"viewBox=\"0 0 24 24\"\n",
              "       width=\"24px\">\n",
              "    <path d=\"M0 0h24v24H0V0z\" fill=\"none\"/>\n",
              "    <path d=\"M18.56 5.44l.94 2.06.94-2.06 2.06-.94-2.06-.94-.94-2.06-.94 2.06-2.06.94zm-11 1L8.5 8.5l.94-2.06 2.06-.94-2.06-.94L8.5 2.5l-.94 2.06-2.06.94zm10 10l.94 2.06.94-2.06 2.06-.94-2.06-.94-.94-2.06-.94 2.06-2.06.94z\"/><path d=\"M17.41 7.96l-1.37-1.37c-.4-.4-.92-.59-1.43-.59-.52 0-1.04.2-1.43.59L10.3 9.45l-7.72 7.72c-.78.78-.78 2.05 0 2.83L4 21.41c.39.39.9.59 1.41.59.51 0 1.02-.2 1.41-.59l7.78-7.78 2.81-2.81c.8-.78.8-2.07 0-2.86zM5.41 20L4 18.59l7.72-7.72 1.47 1.35L5.41 20z\"/>\n",
              "  </svg>\n",
              "      </button>\n",
              "      \n",
              "  <style>\n",
              "    .colab-df-container {\n",
              "      display:flex;\n",
              "      flex-wrap:wrap;\n",
              "      gap: 12px;\n",
              "    }\n",
              "\n",
              "    .colab-df-convert {\n",
              "      background-color: #E8F0FE;\n",
              "      border: none;\n",
              "      border-radius: 50%;\n",
              "      cursor: pointer;\n",
              "      display: none;\n",
              "      fill: #1967D2;\n",
              "      height: 32px;\n",
              "      padding: 0 0 0 0;\n",
              "      width: 32px;\n",
              "    }\n",
              "\n",
              "    .colab-df-convert:hover {\n",
              "      background-color: #E2EBFA;\n",
              "      box-shadow: 0px 1px 2px rgba(60, 64, 67, 0.3), 0px 1px 3px 1px rgba(60, 64, 67, 0.15);\n",
              "      fill: #174EA6;\n",
              "    }\n",
              "\n",
              "    [theme=dark] .colab-df-convert {\n",
              "      background-color: #3B4455;\n",
              "      fill: #D2E3FC;\n",
              "    }\n",
              "\n",
              "    [theme=dark] .colab-df-convert:hover {\n",
              "      background-color: #434B5C;\n",
              "      box-shadow: 0px 1px 3px 1px rgba(0, 0, 0, 0.15);\n",
              "      filter: drop-shadow(0px 1px 2px rgba(0, 0, 0, 0.3));\n",
              "      fill: #FFFFFF;\n",
              "    }\n",
              "  </style>\n",
              "\n",
              "      <script>\n",
              "        const buttonEl =\n",
              "          document.querySelector('#df-af17c27d-a4cc-4216-879f-54ed4c545e38 button.colab-df-convert');\n",
              "        buttonEl.style.display =\n",
              "          google.colab.kernel.accessAllowed ? 'block' : 'none';\n",
              "\n",
              "        async function convertToInteractive(key) {\n",
              "          const element = document.querySelector('#df-af17c27d-a4cc-4216-879f-54ed4c545e38');\n",
              "          const dataTable =\n",
              "            await google.colab.kernel.invokeFunction('convertToInteractive',\n",
              "                                                     [key], {});\n",
              "          if (!dataTable) return;\n",
              "\n",
              "          const docLinkHtml = 'Like what you see? Visit the ' +\n",
              "            '<a target=\"_blank\" href=https://colab.research.google.com/notebooks/data_table.ipynb>data table notebook</a>'\n",
              "            + ' to learn more about interactive tables.';\n",
              "          element.innerHTML = '';\n",
              "          dataTable['output_type'] = 'display_data';\n",
              "          await google.colab.output.renderOutput(dataTable, element);\n",
              "          const docLink = document.createElement('div');\n",
              "          docLink.innerHTML = docLinkHtml;\n",
              "          element.appendChild(docLink);\n",
              "        }\n",
              "      </script>\n",
              "    </div>\n",
              "  </div>\n",
              "  "
            ]
          },
          "metadata": {},
          "execution_count": 177
        }
      ]
    },
    {
      "cell_type": "code",
      "source": [
        "\n",
        "demo.dtypes"
      ],
      "metadata": {
        "id": "d7Z4-NSHluyq",
        "colab": {
          "base_uri": "https://localhost:8080/"
        },
        "outputId": "6033b5ac-5a17-4c14-ea1e-5e9e837bb960"
      },
      "execution_count": 178,
      "outputs": [
        {
          "output_type": "execute_result",
          "data": {
            "text/plain": [
              "CustomerID               object\n",
              "InsuredAge                int64\n",
              "InsuredZipCode            int64\n",
              "InsuredGender            object\n",
              "InsuredEducationLevel    object\n",
              "InsuredOccupation        object\n",
              "InsuredHobbies           object\n",
              "CapitalGains              int64\n",
              "CapitalLoss               int64\n",
              "Country                  object\n",
              "dtype: object"
            ]
          },
          "metadata": {},
          "execution_count": 178
        }
      ]
    },
    {
      "cell_type": "code",
      "source": [
        "demo_test.dtypes"
      ],
      "metadata": {
        "id": "-R78BFYPlu2D",
        "colab": {
          "base_uri": "https://localhost:8080/"
        },
        "outputId": "fbcdb3bc-4e37-453e-d5ba-81427455af2f"
      },
      "execution_count": 179,
      "outputs": [
        {
          "output_type": "execute_result",
          "data": {
            "text/plain": [
              "CustomerID               object\n",
              "InsuredAge                int64\n",
              "InsuredZipCode            int64\n",
              "InsuredGender            object\n",
              "InsuredEducationLevel    object\n",
              "InsuredOccupation        object\n",
              "InsuredHobbies           object\n",
              "CapitalGains              int64\n",
              "CapitalLoss               int64\n",
              "Country                  object\n",
              "dtype: object"
            ]
          },
          "metadata": {},
          "execution_count": 179
        }
      ]
    },
    {
      "cell_type": "code",
      "source": [
        "#finding the unique values and analysing the data\n",
        "for x in demo.select_dtypes(include='object').columns:\n",
        "  print(demo[x].value_counts())"
      ],
      "metadata": {
        "id": "Zsz94yz7l2NR",
        "colab": {
          "base_uri": "https://localhost:8080/"
        },
        "outputId": "3e0eb610-0882-487c-f077-2367fcc6e7d7"
      },
      "execution_count": 180,
      "outputs": [
        {
          "output_type": "stream",
          "name": "stdout",
          "text": [
            "Cust10000    1\n",
            "Cust33397    1\n",
            "Cust33356    1\n",
            "Cust33354    1\n",
            "Cust33353    1\n",
            "            ..\n",
            "Cust21600    1\n",
            "Cust2160     1\n",
            "Cust21599    1\n",
            "Cust21598    1\n",
            "Cust9999     1\n",
            "Name: CustomerID, Length: 28836, dtype: int64\n",
            "FEMALE    15644\n",
            "MALE      13162\n",
            "Name: InsuredGender, dtype: int64\n",
            "JD             4808\n",
            "High School    4583\n",
            "MD             4161\n",
            "Masters        4141\n",
            "Associate      4125\n",
            "PhD            3556\n",
            "College        3462\n",
            "Name: InsuredEducationLevel, dtype: int64\n",
            "machine-op-inspct    2798\n",
            "prof-specialty       2362\n",
            "tech-support         2268\n",
            "priv-house-serv      2176\n",
            "exec-managerial      2148\n",
            "sales                2133\n",
            "craft-repair         2130\n",
            "transport-moving     2079\n",
            "armed-forces         2032\n",
            "other-service        1965\n",
            "adm-clerical         1924\n",
            "protective-serv      1715\n",
            "farming-fishing      1632\n",
            "handlers-cleaners    1474\n",
            "Name: InsuredOccupation, dtype: int64\n",
            "bungie-jumping    1751\n",
            "paintball         1688\n",
            "camping           1681\n",
            "kayaking          1611\n",
            "exercise          1589\n",
            "reading           1586\n",
            "movies            1529\n",
            "yachting          1486\n",
            "hiking            1483\n",
            "base-jumping      1470\n",
            "golf              1470\n",
            "video-games       1420\n",
            "board-games       1396\n",
            "skydiving         1395\n",
            "polo              1380\n",
            "cross-fit         1249\n",
            "sleeping          1220\n",
            "dancing           1219\n",
            "chess             1210\n",
            "basketball        1003\n",
            "Name: InsuredHobbies, dtype: int64\n",
            "India    28834\n",
            "Name: Country, dtype: int64\n"
          ]
        }
      ]
    },
    {
      "cell_type": "code",
      "source": [
        "#finding the unique values and analysing the data\n",
        "for x in demo_test.select_dtypes(include='object').columns:\n",
        "  print(demo_test[x].value_counts())"
      ],
      "metadata": {
        "id": "-naex_7BqAdW",
        "colab": {
          "base_uri": "https://localhost:8080/"
        },
        "outputId": "4bd827f8-8a23-489b-dd40-9b1b072bbec2"
      },
      "execution_count": 181,
      "outputs": [
        {
          "output_type": "stream",
          "name": "stdout",
          "text": [
            "Cust10008    1\n",
            "Cust32827    1\n",
            "Cust32789    1\n",
            "Cust32794    1\n",
            "Cust32802    1\n",
            "            ..\n",
            "Cust21506    1\n",
            "Cust21495    1\n",
            "Cust21488    1\n",
            "Cust21486    1\n",
            "Cust9998     1\n",
            "Name: CustomerID, Length: 8912, dtype: int64\n",
            "FEMALE    4840\n",
            "MALE      4064\n",
            "Name: InsuredGender, dtype: int64\n",
            "JD             1404\n",
            "High School    1392\n",
            "MD             1324\n",
            "Associate      1269\n",
            "Masters        1246\n",
            "College        1139\n",
            "PhD            1138\n",
            "Name: InsuredEducationLevel, dtype: int64\n",
            "machine-op-inspct    830\n",
            "prof-specialty       704\n",
            "priv-house-serv      702\n",
            "tech-support         696\n",
            "sales                695\n",
            "craft-repair         681\n",
            "armed-forces         630\n",
            "other-service        617\n",
            "adm-clerical         612\n",
            "exec-managerial      610\n",
            "transport-moving     600\n",
            "protective-serv      582\n",
            "handlers-cleaners    495\n",
            "farming-fishing      458\n",
            "Name: InsuredOccupation, dtype: int64\n",
            "reading           653\n",
            "golf              645\n",
            "bungie-jumping    571\n",
            "kayaking          541\n",
            "camping           540\n",
            "paintball         522\n",
            "yachting          500\n",
            "movies            492\n",
            "exercise          489\n",
            "base-jumping      464\n",
            "hiking            461\n",
            "board-games       430\n",
            "sleeping          428\n",
            "video-games       428\n",
            "polo              407\n",
            "dancing           381\n",
            "skydiving         376\n",
            "basketball        308\n",
            "chess             272\n",
            "cross-fit           4\n",
            "Name: InsuredHobbies, dtype: int64\n",
            "India    8908\n",
            "Name: Country, dtype: int64\n"
          ]
        }
      ]
    },
    {
      "cell_type": "markdown",
      "source": [
        "**Observations**\n",
        "\n",
        "Categorical_Features: InsuredGender, InsuredZipCode, InsuredEducationLevel,  InsuredOccupation, InsuredHobbies, Country\n",
        "\n",
        "Continous_Features: CapitalGains, CapitalLoss, InsuredAge"
      ],
      "metadata": {
        "id": "vruJdpKCbuTS"
      }
    },
    {
      "cell_type": "code",
      "source": [
        "cat_cols=demo.select_dtypes(include='object').columns\n",
        "demo[cat_cols]=demo[cat_cols].astype('category')\n",
        "demo_test[cat_cols]=demo_test[cat_cols].astype('category')\n",
        "\n",
        "num_cols=demo.drop('CustomerID',axis=1).select_dtypes(exclude='category').columns\n",
        "demo[num_cols]=demo[num_cols].astype('int')\n",
        "\n",
        "demo_test[num_cols]=demo_test[num_cols].astype('int')"
      ],
      "metadata": {
        "id": "pDiJ3311m1KI"
      },
      "execution_count": 182,
      "outputs": []
    },
    {
      "cell_type": "code",
      "source": [
        "#checking for missing values in the training data(of form NaN)\n",
        "demo.isna().sum()"
      ],
      "metadata": {
        "id": "Ur8zeAyhl2S1",
        "colab": {
          "base_uri": "https://localhost:8080/"
        },
        "outputId": "1becd989-dfcf-4281-fa55-24a44e40f661"
      },
      "execution_count": 183,
      "outputs": [
        {
          "output_type": "execute_result",
          "data": {
            "text/plain": [
              "CustomerID                0\n",
              "InsuredAge                0\n",
              "InsuredZipCode            0\n",
              "InsuredGender            30\n",
              "InsuredEducationLevel     0\n",
              "InsuredOccupation         0\n",
              "InsuredHobbies            0\n",
              "CapitalGains              0\n",
              "CapitalLoss               0\n",
              "Country                   2\n",
              "dtype: int64"
            ]
          },
          "metadata": {},
          "execution_count": 183
        }
      ]
    },
    {
      "cell_type": "code",
      "source": [
        "#checking for missing values in the test data(of form NaN)\n",
        "demo_test.isna().sum()"
      ],
      "metadata": {
        "id": "7Al7ZIkCl98V",
        "colab": {
          "base_uri": "https://localhost:8080/"
        },
        "outputId": "ae748815-cd73-4b63-8c05-b2724defe604"
      },
      "execution_count": 184,
      "outputs": [
        {
          "output_type": "execute_result",
          "data": {
            "text/plain": [
              "CustomerID               0\n",
              "InsuredAge               0\n",
              "InsuredZipCode           0\n",
              "InsuredGender            8\n",
              "InsuredEducationLevel    0\n",
              "InsuredOccupation        0\n",
              "InsuredHobbies           0\n",
              "CapitalGains             0\n",
              "CapitalLoss              0\n",
              "Country                  4\n",
              "dtype: int64"
            ]
          },
          "metadata": {},
          "execution_count": 184
        }
      ]
    },
    {
      "cell_type": "markdown",
      "source": [
        "**Insights**\n",
        "\n",
        "Columns InsuredGender and Country have missing values in the form of NaN"
      ],
      "metadata": {
        "id": "BtRzFvJecbxJ"
      }
    },
    {
      "cell_type": "code",
      "source": [
        "#Starting with Policy\n",
        "print(policy.shape)\n",
        "print(policy_test.shape)"
      ],
      "metadata": {
        "id": "SAHAtT12mANH",
        "colab": {
          "base_uri": "https://localhost:8080/"
        },
        "outputId": "8ecf5064-6eb9-434c-c87d-4f34f3ff7d39"
      },
      "execution_count": 185,
      "outputs": [
        {
          "output_type": "stream",
          "name": "stdout",
          "text": [
            "(28836, 10)\n",
            "(8912, 10)\n"
          ]
        }
      ]
    },
    {
      "cell_type": "code",
      "source": [
        "policy.head()"
      ],
      "metadata": {
        "colab": {
          "base_uri": "https://localhost:8080/",
          "height": 270
        },
        "id": "6DYZ9tWlc_vX",
        "outputId": "a672ad60-3b6e-40f6-b2bf-40d1be341754"
      },
      "execution_count": 186,
      "outputs": [
        {
          "output_type": "execute_result",
          "data": {
            "text/plain": [
              "   InsurancePolicyNumber  CustomerLoyaltyPeriod DateOfPolicyCoverage  \\\n",
              "0                 110122                    328           2014-10-17   \n",
              "1                 110125                    256           1990-05-25   \n",
              "2                 110126                    228           2014-06-06   \n",
              "3                 110127                    256           2006-10-12   \n",
              "4                 110128                    137           2000-06-04   \n",
              "\n",
              "  InsurancePolicyState Policy_CombinedSingleLimit  Policy_Deductible  \\\n",
              "0               State3                    250/500               1000   \n",
              "1               State1                    250/500               2000   \n",
              "2               State1                   500/1000               1000   \n",
              "3               State3                    250/500               1000   \n",
              "4               State2                    250/500               1000   \n",
              "\n",
              "   PolicyAnnualPremium  UmbrellaLimit InsuredRelationship CustomerID  \n",
              "0              1406.91              0             husband   Cust1001  \n",
              "1              1415.74        6000000           unmarried   Cust1004  \n",
              "2              1583.91        6000000           unmarried   Cust1005  \n",
              "3              1351.10              0           unmarried   Cust1006  \n",
              "4              1333.35              0             husband   Cust1007  "
            ],
            "text/html": [
              "\n",
              "  <div id=\"df-6aa2e41a-fbfd-4382-9333-f495acb69dcc\">\n",
              "    <div class=\"colab-df-container\">\n",
              "      <div>\n",
              "<style scoped>\n",
              "    .dataframe tbody tr th:only-of-type {\n",
              "        vertical-align: middle;\n",
              "    }\n",
              "\n",
              "    .dataframe tbody tr th {\n",
              "        vertical-align: top;\n",
              "    }\n",
              "\n",
              "    .dataframe thead th {\n",
              "        text-align: right;\n",
              "    }\n",
              "</style>\n",
              "<table border=\"1\" class=\"dataframe\">\n",
              "  <thead>\n",
              "    <tr style=\"text-align: right;\">\n",
              "      <th></th>\n",
              "      <th>InsurancePolicyNumber</th>\n",
              "      <th>CustomerLoyaltyPeriod</th>\n",
              "      <th>DateOfPolicyCoverage</th>\n",
              "      <th>InsurancePolicyState</th>\n",
              "      <th>Policy_CombinedSingleLimit</th>\n",
              "      <th>Policy_Deductible</th>\n",
              "      <th>PolicyAnnualPremium</th>\n",
              "      <th>UmbrellaLimit</th>\n",
              "      <th>InsuredRelationship</th>\n",
              "      <th>CustomerID</th>\n",
              "    </tr>\n",
              "  </thead>\n",
              "  <tbody>\n",
              "    <tr>\n",
              "      <th>0</th>\n",
              "      <td>110122</td>\n",
              "      <td>328</td>\n",
              "      <td>2014-10-17</td>\n",
              "      <td>State3</td>\n",
              "      <td>250/500</td>\n",
              "      <td>1000</td>\n",
              "      <td>1406.91</td>\n",
              "      <td>0</td>\n",
              "      <td>husband</td>\n",
              "      <td>Cust1001</td>\n",
              "    </tr>\n",
              "    <tr>\n",
              "      <th>1</th>\n",
              "      <td>110125</td>\n",
              "      <td>256</td>\n",
              "      <td>1990-05-25</td>\n",
              "      <td>State1</td>\n",
              "      <td>250/500</td>\n",
              "      <td>2000</td>\n",
              "      <td>1415.74</td>\n",
              "      <td>6000000</td>\n",
              "      <td>unmarried</td>\n",
              "      <td>Cust1004</td>\n",
              "    </tr>\n",
              "    <tr>\n",
              "      <th>2</th>\n",
              "      <td>110126</td>\n",
              "      <td>228</td>\n",
              "      <td>2014-06-06</td>\n",
              "      <td>State1</td>\n",
              "      <td>500/1000</td>\n",
              "      <td>1000</td>\n",
              "      <td>1583.91</td>\n",
              "      <td>6000000</td>\n",
              "      <td>unmarried</td>\n",
              "      <td>Cust1005</td>\n",
              "    </tr>\n",
              "    <tr>\n",
              "      <th>3</th>\n",
              "      <td>110127</td>\n",
              "      <td>256</td>\n",
              "      <td>2006-10-12</td>\n",
              "      <td>State3</td>\n",
              "      <td>250/500</td>\n",
              "      <td>1000</td>\n",
              "      <td>1351.10</td>\n",
              "      <td>0</td>\n",
              "      <td>unmarried</td>\n",
              "      <td>Cust1006</td>\n",
              "    </tr>\n",
              "    <tr>\n",
              "      <th>4</th>\n",
              "      <td>110128</td>\n",
              "      <td>137</td>\n",
              "      <td>2000-06-04</td>\n",
              "      <td>State2</td>\n",
              "      <td>250/500</td>\n",
              "      <td>1000</td>\n",
              "      <td>1333.35</td>\n",
              "      <td>0</td>\n",
              "      <td>husband</td>\n",
              "      <td>Cust1007</td>\n",
              "    </tr>\n",
              "  </tbody>\n",
              "</table>\n",
              "</div>\n",
              "      <button class=\"colab-df-convert\" onclick=\"convertToInteractive('df-6aa2e41a-fbfd-4382-9333-f495acb69dcc')\"\n",
              "              title=\"Convert this dataframe to an interactive table.\"\n",
              "              style=\"display:none;\">\n",
              "        \n",
              "  <svg xmlns=\"http://www.w3.org/2000/svg\" height=\"24px\"viewBox=\"0 0 24 24\"\n",
              "       width=\"24px\">\n",
              "    <path d=\"M0 0h24v24H0V0z\" fill=\"none\"/>\n",
              "    <path d=\"M18.56 5.44l.94 2.06.94-2.06 2.06-.94-2.06-.94-.94-2.06-.94 2.06-2.06.94zm-11 1L8.5 8.5l.94-2.06 2.06-.94-2.06-.94L8.5 2.5l-.94 2.06-2.06.94zm10 10l.94 2.06.94-2.06 2.06-.94-2.06-.94-.94-2.06-.94 2.06-2.06.94z\"/><path d=\"M17.41 7.96l-1.37-1.37c-.4-.4-.92-.59-1.43-.59-.52 0-1.04.2-1.43.59L10.3 9.45l-7.72 7.72c-.78.78-.78 2.05 0 2.83L4 21.41c.39.39.9.59 1.41.59.51 0 1.02-.2 1.41-.59l7.78-7.78 2.81-2.81c.8-.78.8-2.07 0-2.86zM5.41 20L4 18.59l7.72-7.72 1.47 1.35L5.41 20z\"/>\n",
              "  </svg>\n",
              "      </button>\n",
              "      \n",
              "  <style>\n",
              "    .colab-df-container {\n",
              "      display:flex;\n",
              "      flex-wrap:wrap;\n",
              "      gap: 12px;\n",
              "    }\n",
              "\n",
              "    .colab-df-convert {\n",
              "      background-color: #E8F0FE;\n",
              "      border: none;\n",
              "      border-radius: 50%;\n",
              "      cursor: pointer;\n",
              "      display: none;\n",
              "      fill: #1967D2;\n",
              "      height: 32px;\n",
              "      padding: 0 0 0 0;\n",
              "      width: 32px;\n",
              "    }\n",
              "\n",
              "    .colab-df-convert:hover {\n",
              "      background-color: #E2EBFA;\n",
              "      box-shadow: 0px 1px 2px rgba(60, 64, 67, 0.3), 0px 1px 3px 1px rgba(60, 64, 67, 0.15);\n",
              "      fill: #174EA6;\n",
              "    }\n",
              "\n",
              "    [theme=dark] .colab-df-convert {\n",
              "      background-color: #3B4455;\n",
              "      fill: #D2E3FC;\n",
              "    }\n",
              "\n",
              "    [theme=dark] .colab-df-convert:hover {\n",
              "      background-color: #434B5C;\n",
              "      box-shadow: 0px 1px 3px 1px rgba(0, 0, 0, 0.15);\n",
              "      filter: drop-shadow(0px 1px 2px rgba(0, 0, 0, 0.3));\n",
              "      fill: #FFFFFF;\n",
              "    }\n",
              "  </style>\n",
              "\n",
              "      <script>\n",
              "        const buttonEl =\n",
              "          document.querySelector('#df-6aa2e41a-fbfd-4382-9333-f495acb69dcc button.colab-df-convert');\n",
              "        buttonEl.style.display =\n",
              "          google.colab.kernel.accessAllowed ? 'block' : 'none';\n",
              "\n",
              "        async function convertToInteractive(key) {\n",
              "          const element = document.querySelector('#df-6aa2e41a-fbfd-4382-9333-f495acb69dcc');\n",
              "          const dataTable =\n",
              "            await google.colab.kernel.invokeFunction('convertToInteractive',\n",
              "                                                     [key], {});\n",
              "          if (!dataTable) return;\n",
              "\n",
              "          const docLinkHtml = 'Like what you see? Visit the ' +\n",
              "            '<a target=\"_blank\" href=https://colab.research.google.com/notebooks/data_table.ipynb>data table notebook</a>'\n",
              "            + ' to learn more about interactive tables.';\n",
              "          element.innerHTML = '';\n",
              "          dataTable['output_type'] = 'display_data';\n",
              "          await google.colab.output.renderOutput(dataTable, element);\n",
              "          const docLink = document.createElement('div');\n",
              "          docLink.innerHTML = docLinkHtml;\n",
              "          element.appendChild(docLink);\n",
              "        }\n",
              "      </script>\n",
              "    </div>\n",
              "  </div>\n",
              "  "
            ]
          },
          "metadata": {},
          "execution_count": 186
        }
      ]
    },
    {
      "cell_type": "code",
      "source": [
        "policy_test.head()"
      ],
      "metadata": {
        "colab": {
          "base_uri": "https://localhost:8080/",
          "height": 270
        },
        "id": "f9YXT2xFdCRm",
        "outputId": "5278ceb2-3ff5-42fc-8cc6-bb8106bd2bf3"
      },
      "execution_count": 187,
      "outputs": [
        {
          "output_type": "execute_result",
          "data": {
            "text/plain": [
              "   InsurancePolicyNumber  CustomerLoyaltyPeriod DateOfPolicyCoverage  \\\n",
              "0                 110124                    134           2000-09-06   \n",
              "1                 110129                    165           1990-02-03   \n",
              "2                 110137                    473           1992-10-19   \n",
              "3                 110140                    160           2014-12-28   \n",
              "4                 110141                    196           1992-08-02   \n",
              "\n",
              "  InsurancePolicyState Policy_CombinedSingleLimit  Policy_Deductible  \\\n",
              "0               State3                    100/300               2000   \n",
              "1               State1                    100/300               1000   \n",
              "2               State2                    100/300               2000   \n",
              "3               State3                   500/1000                500   \n",
              "4               State2                   500/1000               2000   \n",
              "\n",
              "   PolicyAnnualPremium  UmbrellaLimit InsuredRelationship CustomerID  \n",
              "0              1413.14        5000000           own-child   Cust1003  \n",
              "1              1137.03              0           unmarried   Cust1008  \n",
              "2              1131.40              0      other-relative   Cust1016  \n",
              "3              1374.22              0      other-relative   Cust1019  \n",
              "4              1475.73              0           own-child   Cust1020  "
            ],
            "text/html": [
              "\n",
              "  <div id=\"df-9e4320aa-4f3a-4325-bb96-347df2006406\">\n",
              "    <div class=\"colab-df-container\">\n",
              "      <div>\n",
              "<style scoped>\n",
              "    .dataframe tbody tr th:only-of-type {\n",
              "        vertical-align: middle;\n",
              "    }\n",
              "\n",
              "    .dataframe tbody tr th {\n",
              "        vertical-align: top;\n",
              "    }\n",
              "\n",
              "    .dataframe thead th {\n",
              "        text-align: right;\n",
              "    }\n",
              "</style>\n",
              "<table border=\"1\" class=\"dataframe\">\n",
              "  <thead>\n",
              "    <tr style=\"text-align: right;\">\n",
              "      <th></th>\n",
              "      <th>InsurancePolicyNumber</th>\n",
              "      <th>CustomerLoyaltyPeriod</th>\n",
              "      <th>DateOfPolicyCoverage</th>\n",
              "      <th>InsurancePolicyState</th>\n",
              "      <th>Policy_CombinedSingleLimit</th>\n",
              "      <th>Policy_Deductible</th>\n",
              "      <th>PolicyAnnualPremium</th>\n",
              "      <th>UmbrellaLimit</th>\n",
              "      <th>InsuredRelationship</th>\n",
              "      <th>CustomerID</th>\n",
              "    </tr>\n",
              "  </thead>\n",
              "  <tbody>\n",
              "    <tr>\n",
              "      <th>0</th>\n",
              "      <td>110124</td>\n",
              "      <td>134</td>\n",
              "      <td>2000-09-06</td>\n",
              "      <td>State3</td>\n",
              "      <td>100/300</td>\n",
              "      <td>2000</td>\n",
              "      <td>1413.14</td>\n",
              "      <td>5000000</td>\n",
              "      <td>own-child</td>\n",
              "      <td>Cust1003</td>\n",
              "    </tr>\n",
              "    <tr>\n",
              "      <th>1</th>\n",
              "      <td>110129</td>\n",
              "      <td>165</td>\n",
              "      <td>1990-02-03</td>\n",
              "      <td>State1</td>\n",
              "      <td>100/300</td>\n",
              "      <td>1000</td>\n",
              "      <td>1137.03</td>\n",
              "      <td>0</td>\n",
              "      <td>unmarried</td>\n",
              "      <td>Cust1008</td>\n",
              "    </tr>\n",
              "    <tr>\n",
              "      <th>2</th>\n",
              "      <td>110137</td>\n",
              "      <td>473</td>\n",
              "      <td>1992-10-19</td>\n",
              "      <td>State2</td>\n",
              "      <td>100/300</td>\n",
              "      <td>2000</td>\n",
              "      <td>1131.40</td>\n",
              "      <td>0</td>\n",
              "      <td>other-relative</td>\n",
              "      <td>Cust1016</td>\n",
              "    </tr>\n",
              "    <tr>\n",
              "      <th>3</th>\n",
              "      <td>110140</td>\n",
              "      <td>160</td>\n",
              "      <td>2014-12-28</td>\n",
              "      <td>State3</td>\n",
              "      <td>500/1000</td>\n",
              "      <td>500</td>\n",
              "      <td>1374.22</td>\n",
              "      <td>0</td>\n",
              "      <td>other-relative</td>\n",
              "      <td>Cust1019</td>\n",
              "    </tr>\n",
              "    <tr>\n",
              "      <th>4</th>\n",
              "      <td>110141</td>\n",
              "      <td>196</td>\n",
              "      <td>1992-08-02</td>\n",
              "      <td>State2</td>\n",
              "      <td>500/1000</td>\n",
              "      <td>2000</td>\n",
              "      <td>1475.73</td>\n",
              "      <td>0</td>\n",
              "      <td>own-child</td>\n",
              "      <td>Cust1020</td>\n",
              "    </tr>\n",
              "  </tbody>\n",
              "</table>\n",
              "</div>\n",
              "      <button class=\"colab-df-convert\" onclick=\"convertToInteractive('df-9e4320aa-4f3a-4325-bb96-347df2006406')\"\n",
              "              title=\"Convert this dataframe to an interactive table.\"\n",
              "              style=\"display:none;\">\n",
              "        \n",
              "  <svg xmlns=\"http://www.w3.org/2000/svg\" height=\"24px\"viewBox=\"0 0 24 24\"\n",
              "       width=\"24px\">\n",
              "    <path d=\"M0 0h24v24H0V0z\" fill=\"none\"/>\n",
              "    <path d=\"M18.56 5.44l.94 2.06.94-2.06 2.06-.94-2.06-.94-.94-2.06-.94 2.06-2.06.94zm-11 1L8.5 8.5l.94-2.06 2.06-.94-2.06-.94L8.5 2.5l-.94 2.06-2.06.94zm10 10l.94 2.06.94-2.06 2.06-.94-2.06-.94-.94-2.06-.94 2.06-2.06.94z\"/><path d=\"M17.41 7.96l-1.37-1.37c-.4-.4-.92-.59-1.43-.59-.52 0-1.04.2-1.43.59L10.3 9.45l-7.72 7.72c-.78.78-.78 2.05 0 2.83L4 21.41c.39.39.9.59 1.41.59.51 0 1.02-.2 1.41-.59l7.78-7.78 2.81-2.81c.8-.78.8-2.07 0-2.86zM5.41 20L4 18.59l7.72-7.72 1.47 1.35L5.41 20z\"/>\n",
              "  </svg>\n",
              "      </button>\n",
              "      \n",
              "  <style>\n",
              "    .colab-df-container {\n",
              "      display:flex;\n",
              "      flex-wrap:wrap;\n",
              "      gap: 12px;\n",
              "    }\n",
              "\n",
              "    .colab-df-convert {\n",
              "      background-color: #E8F0FE;\n",
              "      border: none;\n",
              "      border-radius: 50%;\n",
              "      cursor: pointer;\n",
              "      display: none;\n",
              "      fill: #1967D2;\n",
              "      height: 32px;\n",
              "      padding: 0 0 0 0;\n",
              "      width: 32px;\n",
              "    }\n",
              "\n",
              "    .colab-df-convert:hover {\n",
              "      background-color: #E2EBFA;\n",
              "      box-shadow: 0px 1px 2px rgba(60, 64, 67, 0.3), 0px 1px 3px 1px rgba(60, 64, 67, 0.15);\n",
              "      fill: #174EA6;\n",
              "    }\n",
              "\n",
              "    [theme=dark] .colab-df-convert {\n",
              "      background-color: #3B4455;\n",
              "      fill: #D2E3FC;\n",
              "    }\n",
              "\n",
              "    [theme=dark] .colab-df-convert:hover {\n",
              "      background-color: #434B5C;\n",
              "      box-shadow: 0px 1px 3px 1px rgba(0, 0, 0, 0.15);\n",
              "      filter: drop-shadow(0px 1px 2px rgba(0, 0, 0, 0.3));\n",
              "      fill: #FFFFFF;\n",
              "    }\n",
              "  </style>\n",
              "\n",
              "      <script>\n",
              "        const buttonEl =\n",
              "          document.querySelector('#df-9e4320aa-4f3a-4325-bb96-347df2006406 button.colab-df-convert');\n",
              "        buttonEl.style.display =\n",
              "          google.colab.kernel.accessAllowed ? 'block' : 'none';\n",
              "\n",
              "        async function convertToInteractive(key) {\n",
              "          const element = document.querySelector('#df-9e4320aa-4f3a-4325-bb96-347df2006406');\n",
              "          const dataTable =\n",
              "            await google.colab.kernel.invokeFunction('convertToInteractive',\n",
              "                                                     [key], {});\n",
              "          if (!dataTable) return;\n",
              "\n",
              "          const docLinkHtml = 'Like what you see? Visit the ' +\n",
              "            '<a target=\"_blank\" href=https://colab.research.google.com/notebooks/data_table.ipynb>data table notebook</a>'\n",
              "            + ' to learn more about interactive tables.';\n",
              "          element.innerHTML = '';\n",
              "          dataTable['output_type'] = 'display_data';\n",
              "          await google.colab.output.renderOutput(dataTable, element);\n",
              "          const docLink = document.createElement('div');\n",
              "          docLink.innerHTML = docLinkHtml;\n",
              "          element.appendChild(docLink);\n",
              "        }\n",
              "      </script>\n",
              "    </div>\n",
              "  </div>\n",
              "  "
            ]
          },
          "metadata": {},
          "execution_count": 187
        }
      ]
    },
    {
      "cell_type": "code",
      "source": [
        "print(policy.dtypes)\n",
        "print(policy_test.dtypes)"
      ],
      "metadata": {
        "id": "r3yEA3JjmAPz",
        "colab": {
          "base_uri": "https://localhost:8080/"
        },
        "outputId": "ea80fb1b-cd5e-4e10-d6be-adead6366fba"
      },
      "execution_count": 188,
      "outputs": [
        {
          "output_type": "stream",
          "name": "stdout",
          "text": [
            "InsurancePolicyNumber           int64\n",
            "CustomerLoyaltyPeriod           int64\n",
            "DateOfPolicyCoverage           object\n",
            "InsurancePolicyState           object\n",
            "Policy_CombinedSingleLimit     object\n",
            "Policy_Deductible               int64\n",
            "PolicyAnnualPremium           float64\n",
            "UmbrellaLimit                   int64\n",
            "InsuredRelationship            object\n",
            "CustomerID                     object\n",
            "dtype: object\n",
            "InsurancePolicyNumber           int64\n",
            "CustomerLoyaltyPeriod           int64\n",
            "DateOfPolicyCoverage           object\n",
            "InsurancePolicyState           object\n",
            "Policy_CombinedSingleLimit     object\n",
            "Policy_Deductible               int64\n",
            "PolicyAnnualPremium           float64\n",
            "UmbrellaLimit                   int64\n",
            "InsuredRelationship            object\n",
            "CustomerID                     object\n",
            "dtype: object\n"
          ]
        }
      ]
    },
    {
      "cell_type": "code",
      "source": [
        "policy.describe(include='all')"
      ],
      "metadata": {
        "id": "vpM0CUBFmASi",
        "colab": {
          "base_uri": "https://localhost:8080/",
          "height": 458
        },
        "outputId": "5c152a6f-cf4a-4783-f022-2539f46854fb"
      },
      "execution_count": 189,
      "outputs": [
        {
          "output_type": "execute_result",
          "data": {
            "text/plain": [
              "        InsurancePolicyNumber  CustomerLoyaltyPeriod DateOfPolicyCoverage  \\\n",
              "count            28836.000000           28836.000000                28836   \n",
              "unique                    NaN                    NaN                 6779   \n",
              "top                       NaN                    NaN           1998-11-11   \n",
              "freq                      NaN                    NaN                   38   \n",
              "mean            129312.517097             203.067867                  NaN   \n",
              "std              11114.060267              99.932951                  NaN   \n",
              "min             110122.000000               1.000000                  NaN   \n",
              "25%             119698.750000             126.000000                  NaN   \n",
              "50%             129278.500000             199.000000                  NaN   \n",
              "75%             138933.250000             267.000000                  NaN   \n",
              "max             148619.000000             479.000000                  NaN   \n",
              "\n",
              "       InsurancePolicyState Policy_CombinedSingleLimit  Policy_Deductible  \\\n",
              "count                 28836                      28836       28836.000000   \n",
              "unique                    3                          9                NaN   \n",
              "top                  State3                    250/500                NaN   \n",
              "freq                  10146                       8260                NaN   \n",
              "mean                    NaN                        NaN        1114.282529   \n",
              "std                     NaN                        NaN         546.632816   \n",
              "min                     NaN                        NaN         500.000000   \n",
              "25%                     NaN                        NaN         622.000000   \n",
              "50%                     NaN                        NaN        1000.000000   \n",
              "75%                     NaN                        NaN        1627.000000   \n",
              "max                     NaN                        NaN        2000.000000   \n",
              "\n",
              "        PolicyAnnualPremium  UmbrellaLimit InsuredRelationship CustomerID  \n",
              "count          28836.000000   2.883600e+04               28836      28836  \n",
              "unique                  NaN            NaN                   6      28836  \n",
              "top                     NaN            NaN           own-child   Cust1001  \n",
              "freq                    NaN            NaN                5242          1  \n",
              "mean            1255.528382   9.836680e+05                 NaN        NaN  \n",
              "std              223.013899   1.969282e+06                 NaN        NaN  \n",
              "min               -1.000000  -1.000000e+06                 NaN        NaN  \n",
              "25%             1122.007500   0.000000e+00                 NaN        NaN  \n",
              "50%             1265.205000   0.000000e+00                 NaN        NaN  \n",
              "75%             1396.605000   4.859610e+05                 NaN        NaN  \n",
              "max             2047.590000   1.000000e+07                 NaN        NaN  "
            ],
            "text/html": [
              "\n",
              "  <div id=\"df-4961da47-d673-4012-ba28-1f2533f91d8c\">\n",
              "    <div class=\"colab-df-container\">\n",
              "      <div>\n",
              "<style scoped>\n",
              "    .dataframe tbody tr th:only-of-type {\n",
              "        vertical-align: middle;\n",
              "    }\n",
              "\n",
              "    .dataframe tbody tr th {\n",
              "        vertical-align: top;\n",
              "    }\n",
              "\n",
              "    .dataframe thead th {\n",
              "        text-align: right;\n",
              "    }\n",
              "</style>\n",
              "<table border=\"1\" class=\"dataframe\">\n",
              "  <thead>\n",
              "    <tr style=\"text-align: right;\">\n",
              "      <th></th>\n",
              "      <th>InsurancePolicyNumber</th>\n",
              "      <th>CustomerLoyaltyPeriod</th>\n",
              "      <th>DateOfPolicyCoverage</th>\n",
              "      <th>InsurancePolicyState</th>\n",
              "      <th>Policy_CombinedSingleLimit</th>\n",
              "      <th>Policy_Deductible</th>\n",
              "      <th>PolicyAnnualPremium</th>\n",
              "      <th>UmbrellaLimit</th>\n",
              "      <th>InsuredRelationship</th>\n",
              "      <th>CustomerID</th>\n",
              "    </tr>\n",
              "  </thead>\n",
              "  <tbody>\n",
              "    <tr>\n",
              "      <th>count</th>\n",
              "      <td>28836.000000</td>\n",
              "      <td>28836.000000</td>\n",
              "      <td>28836</td>\n",
              "      <td>28836</td>\n",
              "      <td>28836</td>\n",
              "      <td>28836.000000</td>\n",
              "      <td>28836.000000</td>\n",
              "      <td>2.883600e+04</td>\n",
              "      <td>28836</td>\n",
              "      <td>28836</td>\n",
              "    </tr>\n",
              "    <tr>\n",
              "      <th>unique</th>\n",
              "      <td>NaN</td>\n",
              "      <td>NaN</td>\n",
              "      <td>6779</td>\n",
              "      <td>3</td>\n",
              "      <td>9</td>\n",
              "      <td>NaN</td>\n",
              "      <td>NaN</td>\n",
              "      <td>NaN</td>\n",
              "      <td>6</td>\n",
              "      <td>28836</td>\n",
              "    </tr>\n",
              "    <tr>\n",
              "      <th>top</th>\n",
              "      <td>NaN</td>\n",
              "      <td>NaN</td>\n",
              "      <td>1998-11-11</td>\n",
              "      <td>State3</td>\n",
              "      <td>250/500</td>\n",
              "      <td>NaN</td>\n",
              "      <td>NaN</td>\n",
              "      <td>NaN</td>\n",
              "      <td>own-child</td>\n",
              "      <td>Cust1001</td>\n",
              "    </tr>\n",
              "    <tr>\n",
              "      <th>freq</th>\n",
              "      <td>NaN</td>\n",
              "      <td>NaN</td>\n",
              "      <td>38</td>\n",
              "      <td>10146</td>\n",
              "      <td>8260</td>\n",
              "      <td>NaN</td>\n",
              "      <td>NaN</td>\n",
              "      <td>NaN</td>\n",
              "      <td>5242</td>\n",
              "      <td>1</td>\n",
              "    </tr>\n",
              "    <tr>\n",
              "      <th>mean</th>\n",
              "      <td>129312.517097</td>\n",
              "      <td>203.067867</td>\n",
              "      <td>NaN</td>\n",
              "      <td>NaN</td>\n",
              "      <td>NaN</td>\n",
              "      <td>1114.282529</td>\n",
              "      <td>1255.528382</td>\n",
              "      <td>9.836680e+05</td>\n",
              "      <td>NaN</td>\n",
              "      <td>NaN</td>\n",
              "    </tr>\n",
              "    <tr>\n",
              "      <th>std</th>\n",
              "      <td>11114.060267</td>\n",
              "      <td>99.932951</td>\n",
              "      <td>NaN</td>\n",
              "      <td>NaN</td>\n",
              "      <td>NaN</td>\n",
              "      <td>546.632816</td>\n",
              "      <td>223.013899</td>\n",
              "      <td>1.969282e+06</td>\n",
              "      <td>NaN</td>\n",
              "      <td>NaN</td>\n",
              "    </tr>\n",
              "    <tr>\n",
              "      <th>min</th>\n",
              "      <td>110122.000000</td>\n",
              "      <td>1.000000</td>\n",
              "      <td>NaN</td>\n",
              "      <td>NaN</td>\n",
              "      <td>NaN</td>\n",
              "      <td>500.000000</td>\n",
              "      <td>-1.000000</td>\n",
              "      <td>-1.000000e+06</td>\n",
              "      <td>NaN</td>\n",
              "      <td>NaN</td>\n",
              "    </tr>\n",
              "    <tr>\n",
              "      <th>25%</th>\n",
              "      <td>119698.750000</td>\n",
              "      <td>126.000000</td>\n",
              "      <td>NaN</td>\n",
              "      <td>NaN</td>\n",
              "      <td>NaN</td>\n",
              "      <td>622.000000</td>\n",
              "      <td>1122.007500</td>\n",
              "      <td>0.000000e+00</td>\n",
              "      <td>NaN</td>\n",
              "      <td>NaN</td>\n",
              "    </tr>\n",
              "    <tr>\n",
              "      <th>50%</th>\n",
              "      <td>129278.500000</td>\n",
              "      <td>199.000000</td>\n",
              "      <td>NaN</td>\n",
              "      <td>NaN</td>\n",
              "      <td>NaN</td>\n",
              "      <td>1000.000000</td>\n",
              "      <td>1265.205000</td>\n",
              "      <td>0.000000e+00</td>\n",
              "      <td>NaN</td>\n",
              "      <td>NaN</td>\n",
              "    </tr>\n",
              "    <tr>\n",
              "      <th>75%</th>\n",
              "      <td>138933.250000</td>\n",
              "      <td>267.000000</td>\n",
              "      <td>NaN</td>\n",
              "      <td>NaN</td>\n",
              "      <td>NaN</td>\n",
              "      <td>1627.000000</td>\n",
              "      <td>1396.605000</td>\n",
              "      <td>4.859610e+05</td>\n",
              "      <td>NaN</td>\n",
              "      <td>NaN</td>\n",
              "    </tr>\n",
              "    <tr>\n",
              "      <th>max</th>\n",
              "      <td>148619.000000</td>\n",
              "      <td>479.000000</td>\n",
              "      <td>NaN</td>\n",
              "      <td>NaN</td>\n",
              "      <td>NaN</td>\n",
              "      <td>2000.000000</td>\n",
              "      <td>2047.590000</td>\n",
              "      <td>1.000000e+07</td>\n",
              "      <td>NaN</td>\n",
              "      <td>NaN</td>\n",
              "    </tr>\n",
              "  </tbody>\n",
              "</table>\n",
              "</div>\n",
              "      <button class=\"colab-df-convert\" onclick=\"convertToInteractive('df-4961da47-d673-4012-ba28-1f2533f91d8c')\"\n",
              "              title=\"Convert this dataframe to an interactive table.\"\n",
              "              style=\"display:none;\">\n",
              "        \n",
              "  <svg xmlns=\"http://www.w3.org/2000/svg\" height=\"24px\"viewBox=\"0 0 24 24\"\n",
              "       width=\"24px\">\n",
              "    <path d=\"M0 0h24v24H0V0z\" fill=\"none\"/>\n",
              "    <path d=\"M18.56 5.44l.94 2.06.94-2.06 2.06-.94-2.06-.94-.94-2.06-.94 2.06-2.06.94zm-11 1L8.5 8.5l.94-2.06 2.06-.94-2.06-.94L8.5 2.5l-.94 2.06-2.06.94zm10 10l.94 2.06.94-2.06 2.06-.94-2.06-.94-.94-2.06-.94 2.06-2.06.94z\"/><path d=\"M17.41 7.96l-1.37-1.37c-.4-.4-.92-.59-1.43-.59-.52 0-1.04.2-1.43.59L10.3 9.45l-7.72 7.72c-.78.78-.78 2.05 0 2.83L4 21.41c.39.39.9.59 1.41.59.51 0 1.02-.2 1.41-.59l7.78-7.78 2.81-2.81c.8-.78.8-2.07 0-2.86zM5.41 20L4 18.59l7.72-7.72 1.47 1.35L5.41 20z\"/>\n",
              "  </svg>\n",
              "      </button>\n",
              "      \n",
              "  <style>\n",
              "    .colab-df-container {\n",
              "      display:flex;\n",
              "      flex-wrap:wrap;\n",
              "      gap: 12px;\n",
              "    }\n",
              "\n",
              "    .colab-df-convert {\n",
              "      background-color: #E8F0FE;\n",
              "      border: none;\n",
              "      border-radius: 50%;\n",
              "      cursor: pointer;\n",
              "      display: none;\n",
              "      fill: #1967D2;\n",
              "      height: 32px;\n",
              "      padding: 0 0 0 0;\n",
              "      width: 32px;\n",
              "    }\n",
              "\n",
              "    .colab-df-convert:hover {\n",
              "      background-color: #E2EBFA;\n",
              "      box-shadow: 0px 1px 2px rgba(60, 64, 67, 0.3), 0px 1px 3px 1px rgba(60, 64, 67, 0.15);\n",
              "      fill: #174EA6;\n",
              "    }\n",
              "\n",
              "    [theme=dark] .colab-df-convert {\n",
              "      background-color: #3B4455;\n",
              "      fill: #D2E3FC;\n",
              "    }\n",
              "\n",
              "    [theme=dark] .colab-df-convert:hover {\n",
              "      background-color: #434B5C;\n",
              "      box-shadow: 0px 1px 3px 1px rgba(0, 0, 0, 0.15);\n",
              "      filter: drop-shadow(0px 1px 2px rgba(0, 0, 0, 0.3));\n",
              "      fill: #FFFFFF;\n",
              "    }\n",
              "  </style>\n",
              "\n",
              "      <script>\n",
              "        const buttonEl =\n",
              "          document.querySelector('#df-4961da47-d673-4012-ba28-1f2533f91d8c button.colab-df-convert');\n",
              "        buttonEl.style.display =\n",
              "          google.colab.kernel.accessAllowed ? 'block' : 'none';\n",
              "\n",
              "        async function convertToInteractive(key) {\n",
              "          const element = document.querySelector('#df-4961da47-d673-4012-ba28-1f2533f91d8c');\n",
              "          const dataTable =\n",
              "            await google.colab.kernel.invokeFunction('convertToInteractive',\n",
              "                                                     [key], {});\n",
              "          if (!dataTable) return;\n",
              "\n",
              "          const docLinkHtml = 'Like what you see? Visit the ' +\n",
              "            '<a target=\"_blank\" href=https://colab.research.google.com/notebooks/data_table.ipynb>data table notebook</a>'\n",
              "            + ' to learn more about interactive tables.';\n",
              "          element.innerHTML = '';\n",
              "          dataTable['output_type'] = 'display_data';\n",
              "          await google.colab.output.renderOutput(dataTable, element);\n",
              "          const docLink = document.createElement('div');\n",
              "          docLink.innerHTML = docLinkHtml;\n",
              "          element.appendChild(docLink);\n",
              "        }\n",
              "      </script>\n",
              "    </div>\n",
              "  </div>\n",
              "  "
            ]
          },
          "metadata": {},
          "execution_count": 189
        }
      ]
    },
    {
      "cell_type": "code",
      "source": [
        "policy_test.describe(include='all',datetime_is_numeric=True)"
      ],
      "metadata": {
        "id": "RykItTCemVsQ",
        "colab": {
          "base_uri": "https://localhost:8080/",
          "height": 458
        },
        "outputId": "d84f9f57-af3a-418b-dfd3-61a3292d40d6"
      },
      "execution_count": 190,
      "outputs": [
        {
          "output_type": "execute_result",
          "data": {
            "text/plain": [
              "        InsurancePolicyNumber  CustomerLoyaltyPeriod DateOfPolicyCoverage  \\\n",
              "count             8912.000000            8912.000000                 8912   \n",
              "unique                    NaN                    NaN                 4533   \n",
              "top                       NaN                    NaN           1992-04-14   \n",
              "freq                      NaN                    NaN                   15   \n",
              "mean            130481.939295             203.055206                  NaN   \n",
              "std              10879.022180              98.423250                  NaN   \n",
              "min             110124.000000               0.000000                  NaN   \n",
              "25%             121312.500000             127.000000                  NaN   \n",
              "50%             130807.000000             199.000000                  NaN   \n",
              "75%             139904.000000             265.000000                  NaN   \n",
              "max             148617.000000             478.000000                  NaN   \n",
              "\n",
              "       InsurancePolicyState Policy_CombinedSingleLimit  Policy_Deductible  \\\n",
              "count                  8912                       8912        8912.000000   \n",
              "unique                    3                          9                NaN   \n",
              "top                  State3                    100/300                NaN   \n",
              "freq                   3132                       2561                NaN   \n",
              "mean                    NaN                        NaN        1123.580790   \n",
              "std                     NaN                        NaN         553.139684   \n",
              "min                     NaN                        NaN         500.000000   \n",
              "25%                     NaN                        NaN         622.000000   \n",
              "50%                     NaN                        NaN        1000.000000   \n",
              "75%                     NaN                        NaN        1691.250000   \n",
              "max                     NaN                        NaN        2000.000000   \n",
              "\n",
              "        PolicyAnnualPremium  UmbrellaLimit InsuredRelationship CustomerID  \n",
              "count           8912.000000   8.912000e+03                8912       8912  \n",
              "unique                  NaN            NaN                   6       8912  \n",
              "top                     NaN            NaN           own-child   Cust1003  \n",
              "freq                    NaN            NaN                1643          1  \n",
              "mean            1253.583573   9.318594e+05                 NaN        NaN  \n",
              "std              224.426443   1.919603e+06                 NaN        NaN  \n",
              "min               -1.000000  -8.836920e+05                 NaN        NaN  \n",
              "25%             1117.010000   0.000000e+00                 NaN        NaN  \n",
              "50%             1264.615000   0.000000e+00                 NaN        NaN  \n",
              "75%             1398.722500   2.836810e+05                 NaN        NaN  \n",
              "max             2033.540000   9.699227e+06                 NaN        NaN  "
            ],
            "text/html": [
              "\n",
              "  <div id=\"df-ff301526-888a-418b-b191-ace468aec0fa\">\n",
              "    <div class=\"colab-df-container\">\n",
              "      <div>\n",
              "<style scoped>\n",
              "    .dataframe tbody tr th:only-of-type {\n",
              "        vertical-align: middle;\n",
              "    }\n",
              "\n",
              "    .dataframe tbody tr th {\n",
              "        vertical-align: top;\n",
              "    }\n",
              "\n",
              "    .dataframe thead th {\n",
              "        text-align: right;\n",
              "    }\n",
              "</style>\n",
              "<table border=\"1\" class=\"dataframe\">\n",
              "  <thead>\n",
              "    <tr style=\"text-align: right;\">\n",
              "      <th></th>\n",
              "      <th>InsurancePolicyNumber</th>\n",
              "      <th>CustomerLoyaltyPeriod</th>\n",
              "      <th>DateOfPolicyCoverage</th>\n",
              "      <th>InsurancePolicyState</th>\n",
              "      <th>Policy_CombinedSingleLimit</th>\n",
              "      <th>Policy_Deductible</th>\n",
              "      <th>PolicyAnnualPremium</th>\n",
              "      <th>UmbrellaLimit</th>\n",
              "      <th>InsuredRelationship</th>\n",
              "      <th>CustomerID</th>\n",
              "    </tr>\n",
              "  </thead>\n",
              "  <tbody>\n",
              "    <tr>\n",
              "      <th>count</th>\n",
              "      <td>8912.000000</td>\n",
              "      <td>8912.000000</td>\n",
              "      <td>8912</td>\n",
              "      <td>8912</td>\n",
              "      <td>8912</td>\n",
              "      <td>8912.000000</td>\n",
              "      <td>8912.000000</td>\n",
              "      <td>8.912000e+03</td>\n",
              "      <td>8912</td>\n",
              "      <td>8912</td>\n",
              "    </tr>\n",
              "    <tr>\n",
              "      <th>unique</th>\n",
              "      <td>NaN</td>\n",
              "      <td>NaN</td>\n",
              "      <td>4533</td>\n",
              "      <td>3</td>\n",
              "      <td>9</td>\n",
              "      <td>NaN</td>\n",
              "      <td>NaN</td>\n",
              "      <td>NaN</td>\n",
              "      <td>6</td>\n",
              "      <td>8912</td>\n",
              "    </tr>\n",
              "    <tr>\n",
              "      <th>top</th>\n",
              "      <td>NaN</td>\n",
              "      <td>NaN</td>\n",
              "      <td>1992-04-14</td>\n",
              "      <td>State3</td>\n",
              "      <td>100/300</td>\n",
              "      <td>NaN</td>\n",
              "      <td>NaN</td>\n",
              "      <td>NaN</td>\n",
              "      <td>own-child</td>\n",
              "      <td>Cust1003</td>\n",
              "    </tr>\n",
              "    <tr>\n",
              "      <th>freq</th>\n",
              "      <td>NaN</td>\n",
              "      <td>NaN</td>\n",
              "      <td>15</td>\n",
              "      <td>3132</td>\n",
              "      <td>2561</td>\n",
              "      <td>NaN</td>\n",
              "      <td>NaN</td>\n",
              "      <td>NaN</td>\n",
              "      <td>1643</td>\n",
              "      <td>1</td>\n",
              "    </tr>\n",
              "    <tr>\n",
              "      <th>mean</th>\n",
              "      <td>130481.939295</td>\n",
              "      <td>203.055206</td>\n",
              "      <td>NaN</td>\n",
              "      <td>NaN</td>\n",
              "      <td>NaN</td>\n",
              "      <td>1123.580790</td>\n",
              "      <td>1253.583573</td>\n",
              "      <td>9.318594e+05</td>\n",
              "      <td>NaN</td>\n",
              "      <td>NaN</td>\n",
              "    </tr>\n",
              "    <tr>\n",
              "      <th>std</th>\n",
              "      <td>10879.022180</td>\n",
              "      <td>98.423250</td>\n",
              "      <td>NaN</td>\n",
              "      <td>NaN</td>\n",
              "      <td>NaN</td>\n",
              "      <td>553.139684</td>\n",
              "      <td>224.426443</td>\n",
              "      <td>1.919603e+06</td>\n",
              "      <td>NaN</td>\n",
              "      <td>NaN</td>\n",
              "    </tr>\n",
              "    <tr>\n",
              "      <th>min</th>\n",
              "      <td>110124.000000</td>\n",
              "      <td>0.000000</td>\n",
              "      <td>NaN</td>\n",
              "      <td>NaN</td>\n",
              "      <td>NaN</td>\n",
              "      <td>500.000000</td>\n",
              "      <td>-1.000000</td>\n",
              "      <td>-8.836920e+05</td>\n",
              "      <td>NaN</td>\n",
              "      <td>NaN</td>\n",
              "    </tr>\n",
              "    <tr>\n",
              "      <th>25%</th>\n",
              "      <td>121312.500000</td>\n",
              "      <td>127.000000</td>\n",
              "      <td>NaN</td>\n",
              "      <td>NaN</td>\n",
              "      <td>NaN</td>\n",
              "      <td>622.000000</td>\n",
              "      <td>1117.010000</td>\n",
              "      <td>0.000000e+00</td>\n",
              "      <td>NaN</td>\n",
              "      <td>NaN</td>\n",
              "    </tr>\n",
              "    <tr>\n",
              "      <th>50%</th>\n",
              "      <td>130807.000000</td>\n",
              "      <td>199.000000</td>\n",
              "      <td>NaN</td>\n",
              "      <td>NaN</td>\n",
              "      <td>NaN</td>\n",
              "      <td>1000.000000</td>\n",
              "      <td>1264.615000</td>\n",
              "      <td>0.000000e+00</td>\n",
              "      <td>NaN</td>\n",
              "      <td>NaN</td>\n",
              "    </tr>\n",
              "    <tr>\n",
              "      <th>75%</th>\n",
              "      <td>139904.000000</td>\n",
              "      <td>265.000000</td>\n",
              "      <td>NaN</td>\n",
              "      <td>NaN</td>\n",
              "      <td>NaN</td>\n",
              "      <td>1691.250000</td>\n",
              "      <td>1398.722500</td>\n",
              "      <td>2.836810e+05</td>\n",
              "      <td>NaN</td>\n",
              "      <td>NaN</td>\n",
              "    </tr>\n",
              "    <tr>\n",
              "      <th>max</th>\n",
              "      <td>148617.000000</td>\n",
              "      <td>478.000000</td>\n",
              "      <td>NaN</td>\n",
              "      <td>NaN</td>\n",
              "      <td>NaN</td>\n",
              "      <td>2000.000000</td>\n",
              "      <td>2033.540000</td>\n",
              "      <td>9.699227e+06</td>\n",
              "      <td>NaN</td>\n",
              "      <td>NaN</td>\n",
              "    </tr>\n",
              "  </tbody>\n",
              "</table>\n",
              "</div>\n",
              "      <button class=\"colab-df-convert\" onclick=\"convertToInteractive('df-ff301526-888a-418b-b191-ace468aec0fa')\"\n",
              "              title=\"Convert this dataframe to an interactive table.\"\n",
              "              style=\"display:none;\">\n",
              "        \n",
              "  <svg xmlns=\"http://www.w3.org/2000/svg\" height=\"24px\"viewBox=\"0 0 24 24\"\n",
              "       width=\"24px\">\n",
              "    <path d=\"M0 0h24v24H0V0z\" fill=\"none\"/>\n",
              "    <path d=\"M18.56 5.44l.94 2.06.94-2.06 2.06-.94-2.06-.94-.94-2.06-.94 2.06-2.06.94zm-11 1L8.5 8.5l.94-2.06 2.06-.94-2.06-.94L8.5 2.5l-.94 2.06-2.06.94zm10 10l.94 2.06.94-2.06 2.06-.94-2.06-.94-.94-2.06-.94 2.06-2.06.94z\"/><path d=\"M17.41 7.96l-1.37-1.37c-.4-.4-.92-.59-1.43-.59-.52 0-1.04.2-1.43.59L10.3 9.45l-7.72 7.72c-.78.78-.78 2.05 0 2.83L4 21.41c.39.39.9.59 1.41.59.51 0 1.02-.2 1.41-.59l7.78-7.78 2.81-2.81c.8-.78.8-2.07 0-2.86zM5.41 20L4 18.59l7.72-7.72 1.47 1.35L5.41 20z\"/>\n",
              "  </svg>\n",
              "      </button>\n",
              "      \n",
              "  <style>\n",
              "    .colab-df-container {\n",
              "      display:flex;\n",
              "      flex-wrap:wrap;\n",
              "      gap: 12px;\n",
              "    }\n",
              "\n",
              "    .colab-df-convert {\n",
              "      background-color: #E8F0FE;\n",
              "      border: none;\n",
              "      border-radius: 50%;\n",
              "      cursor: pointer;\n",
              "      display: none;\n",
              "      fill: #1967D2;\n",
              "      height: 32px;\n",
              "      padding: 0 0 0 0;\n",
              "      width: 32px;\n",
              "    }\n",
              "\n",
              "    .colab-df-convert:hover {\n",
              "      background-color: #E2EBFA;\n",
              "      box-shadow: 0px 1px 2px rgba(60, 64, 67, 0.3), 0px 1px 3px 1px rgba(60, 64, 67, 0.15);\n",
              "      fill: #174EA6;\n",
              "    }\n",
              "\n",
              "    [theme=dark] .colab-df-convert {\n",
              "      background-color: #3B4455;\n",
              "      fill: #D2E3FC;\n",
              "    }\n",
              "\n",
              "    [theme=dark] .colab-df-convert:hover {\n",
              "      background-color: #434B5C;\n",
              "      box-shadow: 0px 1px 3px 1px rgba(0, 0, 0, 0.15);\n",
              "      filter: drop-shadow(0px 1px 2px rgba(0, 0, 0, 0.3));\n",
              "      fill: #FFFFFF;\n",
              "    }\n",
              "  </style>\n",
              "\n",
              "      <script>\n",
              "        const buttonEl =\n",
              "          document.querySelector('#df-ff301526-888a-418b-b191-ace468aec0fa button.colab-df-convert');\n",
              "        buttonEl.style.display =\n",
              "          google.colab.kernel.accessAllowed ? 'block' : 'none';\n",
              "\n",
              "        async function convertToInteractive(key) {\n",
              "          const element = document.querySelector('#df-ff301526-888a-418b-b191-ace468aec0fa');\n",
              "          const dataTable =\n",
              "            await google.colab.kernel.invokeFunction('convertToInteractive',\n",
              "                                                     [key], {});\n",
              "          if (!dataTable) return;\n",
              "\n",
              "          const docLinkHtml = 'Like what you see? Visit the ' +\n",
              "            '<a target=\"_blank\" href=https://colab.research.google.com/notebooks/data_table.ipynb>data table notebook</a>'\n",
              "            + ' to learn more about interactive tables.';\n",
              "          element.innerHTML = '';\n",
              "          dataTable['output_type'] = 'display_data';\n",
              "          await google.colab.output.renderOutput(dataTable, element);\n",
              "          const docLink = document.createElement('div');\n",
              "          docLink.innerHTML = docLinkHtml;\n",
              "          element.appendChild(docLink);\n",
              "        }\n",
              "      </script>\n",
              "    </div>\n",
              "  </div>\n",
              "  "
            ]
          },
          "metadata": {},
          "execution_count": 190
        }
      ]
    },
    {
      "cell_type": "code",
      "source": [
        "for x in policy.drop('CustomerID',axis=1).select_dtypes(include='object').columns:\n",
        "  print(policy[x].value_counts())"
      ],
      "metadata": {
        "id": "zPdFJgq2mAVY",
        "colab": {
          "base_uri": "https://localhost:8080/"
        },
        "outputId": "a7843e27-093f-4e17-85d6-3dc6b0914b47"
      },
      "execution_count": 191,
      "outputs": [
        {
          "output_type": "stream",
          "name": "stdout",
          "text": [
            "1998-11-11    38\n",
            "1995-08-19    32\n",
            "1999-05-23    28\n",
            "2001-06-10    27\n",
            "2005-06-17    27\n",
            "              ..\n",
            "2012-09-27     1\n",
            "2004-12-31     1\n",
            "1999-07-31     1\n",
            "1997-12-22     1\n",
            "2010-12-14     1\n",
            "Name: DateOfPolicyCoverage, Length: 6779, dtype: int64\n",
            "State3    10146\n",
            "State1     9716\n",
            "State2     8974\n",
            "Name: InsurancePolicyState, dtype: int64\n",
            "250/500     8260\n",
            "100/300     8050\n",
            "500/1000    7000\n",
            "250/300     1024\n",
            "100/500      962\n",
            "250/1000     953\n",
            "500/500      872\n",
            "500/300      868\n",
            "100/1000     847\n",
            "Name: Policy_CombinedSingleLimit, dtype: int64\n",
            "own-child         5242\n",
            "not-in-family     5222\n",
            "other-relative    5153\n",
            "husband           5002\n",
            "wife              4224\n",
            "unmarried         3993\n",
            "Name: InsuredRelationship, dtype: int64\n"
          ]
        }
      ]
    },
    {
      "cell_type": "code",
      "source": [
        "for x in policy_test.drop('CustomerID',axis=1).select_dtypes(include='object').columns:\n",
        "  print(policy_test[x].value_counts())"
      ],
      "metadata": {
        "id": "SEngklOlmaQ9",
        "colab": {
          "base_uri": "https://localhost:8080/"
        },
        "outputId": "95b6e104-3257-4a86-ac9b-610c2c95665c"
      },
      "execution_count": 192,
      "outputs": [
        {
          "output_type": "stream",
          "name": "stdout",
          "text": [
            "1992-04-14    15\n",
            "2003-03-09    12\n",
            "1994-08-21    12\n",
            "1995-08-19    11\n",
            "1996-12-21     9\n",
            "              ..\n",
            "2007-11-07     1\n",
            "2007-07-06     1\n",
            "2008-12-16     1\n",
            "1999-01-15     1\n",
            "2011-11-17     1\n",
            "Name: DateOfPolicyCoverage, Length: 4533, dtype: int64\n",
            "State3    3132\n",
            "State1    2971\n",
            "State2    2809\n",
            "Name: InsurancePolicyState, dtype: int64\n",
            "100/300     2561\n",
            "250/500     2532\n",
            "500/1000    2195\n",
            "250/300      308\n",
            "100/500      302\n",
            "100/1000     278\n",
            "250/1000     264\n",
            "500/300      236\n",
            "500/500      236\n",
            "Name: Policy_CombinedSingleLimit, dtype: int64\n",
            "own-child         1643\n",
            "husband           1583\n",
            "not-in-family     1559\n",
            "other-relative    1503\n",
            "wife              1336\n",
            "unmarried         1288\n",
            "Name: InsuredRelationship, dtype: int64\n"
          ]
        }
      ]
    },
    {
      "cell_type": "markdown",
      "source": [
        "**Observations**\n",
        "\n",
        "Categorical_Features: InsurancePolicyState, Policy_CombinedSingleLimit, InsuredRelationship\n",
        "\n",
        "Continous_Features: CustomerLoyaltyPeriod, Policy_Deductible, PolicyAnnualPremium, UmbrellaLimit, InsurancePolicyNumber\n",
        "\n",
        "Datetime_Features: DateOfPolicyCoverage"
      ],
      "metadata": {
        "id": "7kUsqlyZdnvy"
      }
    },
    {
      "cell_type": "code",
      "source": [
        "#Converting DateOfPolicyCoverage into datetime format:\n",
        "dop=policy['DateOfPolicyCoverage'].to_list()\n",
        "new_dop=[]\n",
        "for x in range(len(dop)):\n",
        "  y=str(dop[x]).split(\" \")\n",
        "  new_dop.append(datetime.strptime(y[0],\"%Y-%m-%d\"))\n",
        "\n",
        "policy['DateOfPolicyCoverage']=pd.Series(new_dop)\n",
        "###############################################################\n",
        "dop_test=policy_test['DateOfPolicyCoverage'].to_list()\n",
        "new_dop_test=[]\n",
        "for x in range(len(dop_test)):\n",
        "  y=str(dop_test[x]).split(\" \")\n",
        "  new_dop_test.append(datetime.strptime(y[0],\"%Y-%m-%d\"))\n",
        "\n",
        "policy_test['DateOfPolicyCoverage']=pd.Series(new_dop_test)"
      ],
      "metadata": {
        "id": "Pqwl-PACWYnH"
      },
      "execution_count": 193,
      "outputs": []
    },
    {
      "cell_type": "code",
      "source": [
        "#seems there are no missing values in the set\n",
        "policy.isna().sum()"
      ],
      "metadata": {
        "id": "6Ez10l2OmAYM",
        "colab": {
          "base_uri": "https://localhost:8080/"
        },
        "outputId": "801693d2-2f46-4b22-da11-84c8eb2283fd"
      },
      "execution_count": 194,
      "outputs": [
        {
          "output_type": "execute_result",
          "data": {
            "text/plain": [
              "InsurancePolicyNumber         0\n",
              "CustomerLoyaltyPeriod         0\n",
              "DateOfPolicyCoverage          0\n",
              "InsurancePolicyState          0\n",
              "Policy_CombinedSingleLimit    0\n",
              "Policy_Deductible             0\n",
              "PolicyAnnualPremium           0\n",
              "UmbrellaLimit                 0\n",
              "InsuredRelationship           0\n",
              "CustomerID                    0\n",
              "dtype: int64"
            ]
          },
          "metadata": {},
          "execution_count": 194
        }
      ]
    },
    {
      "cell_type": "code",
      "source": [
        "policy_test.isna().sum()"
      ],
      "metadata": {
        "id": "w1ycsWbcmAbq",
        "colab": {
          "base_uri": "https://localhost:8080/"
        },
        "outputId": "9bf90335-fcde-444e-ddb4-9f18317b802a"
      },
      "execution_count": 195,
      "outputs": [
        {
          "output_type": "execute_result",
          "data": {
            "text/plain": [
              "InsurancePolicyNumber         0\n",
              "CustomerLoyaltyPeriod         0\n",
              "DateOfPolicyCoverage          0\n",
              "InsurancePolicyState          0\n",
              "Policy_CombinedSingleLimit    0\n",
              "Policy_Deductible             0\n",
              "PolicyAnnualPremium           0\n",
              "UmbrellaLimit                 0\n",
              "InsuredRelationship           0\n",
              "CustomerID                    0\n",
              "dtype: int64"
            ]
          },
          "metadata": {},
          "execution_count": 195
        }
      ]
    },
    {
      "cell_type": "code",
      "source": [
        "#to covert the cols into cat\n",
        "cat_cols=policy.drop('CustomerID',axis=1).select_dtypes(include='object').columns\n",
        "policy[cat_cols]=policy[cat_cols].astype('category')\n",
        "\n",
        "policy_test[cat_cols]=policy_test[cat_cols].astype('category')"
      ],
      "metadata": {
        "id": "zoVAYJu5mAh6"
      },
      "execution_count": 196,
      "outputs": []
    },
    {
      "cell_type": "code",
      "source": [
        "print(vehicle.shape)\n",
        "print(vehicle_test.shape)"
      ],
      "metadata": {
        "id": "GlUf62ltnAbJ",
        "colab": {
          "base_uri": "https://localhost:8080/"
        },
        "outputId": "ff3f16b9-1c2e-4bca-8814-34ce3bb9430b"
      },
      "execution_count": 197,
      "outputs": [
        {
          "output_type": "stream",
          "name": "stdout",
          "text": [
            "(115344, 3)\n",
            "(35648, 3)\n"
          ]
        }
      ]
    },
    {
      "cell_type": "code",
      "source": [
        "print(vehicle.head())\n",
        "print(vehicle_test.head())"
      ],
      "metadata": {
        "id": "kAMXZb39nEjs",
        "colab": {
          "base_uri": "https://localhost:8080/"
        },
        "outputId": "783cd4a7-547e-4d9a-d77a-48a66b9897c1"
      },
      "execution_count": 198,
      "outputs": [
        {
          "output_type": "stream",
          "name": "stdout",
          "text": [
            "  CustomerID VehicleAttribute VehicleAttributeDetails\n",
            "0  Cust20179        VehicleID             Vehicle8898\n",
            "1  Cust21384     VehicleModel                  Malibu\n",
            "2  Cust33335      VehicleMake                  Toyota\n",
            "3  Cust27118     VehicleModel                    Neon\n",
            "4  Cust13038        VehicleID            Vehicle30212\n",
            "  CustomerID VehicleAttribute VehicleAttributeDetails\n",
            "0  Cust28465     VehicleModel                     92x\n",
            "1  Cust20319     VehicleModel                   Jetta\n",
            "2   Cust3683        VehicleID            Vehicle22709\n",
            "3  Cust29385        VehicleID            Vehicle20347\n",
            "4  Cust34403     VehicleModel                   Camry\n"
          ]
        }
      ]
    },
    {
      "cell_type": "code",
      "source": [
        "vehicle.describe(include='all')"
      ],
      "metadata": {
        "id": "SbDZGu1UnEmb",
        "colab": {
          "base_uri": "https://localhost:8080/",
          "height": 175
        },
        "outputId": "f6662f47-68f3-4de0-eee8-3f855535ffc3"
      },
      "execution_count": 199,
      "outputs": [
        {
          "output_type": "execute_result",
          "data": {
            "text/plain": [
              "       CustomerID VehicleAttribute VehicleAttributeDetails\n",
              "count      115344           115344                  115344\n",
              "unique      28836                4                   28911\n",
              "top     Cust20179        VehicleID                    Saab\n",
              "freq            4            28836                    2415"
            ],
            "text/html": [
              "\n",
              "  <div id=\"df-9f378064-7051-4cc9-bad8-945093d3528b\">\n",
              "    <div class=\"colab-df-container\">\n",
              "      <div>\n",
              "<style scoped>\n",
              "    .dataframe tbody tr th:only-of-type {\n",
              "        vertical-align: middle;\n",
              "    }\n",
              "\n",
              "    .dataframe tbody tr th {\n",
              "        vertical-align: top;\n",
              "    }\n",
              "\n",
              "    .dataframe thead th {\n",
              "        text-align: right;\n",
              "    }\n",
              "</style>\n",
              "<table border=\"1\" class=\"dataframe\">\n",
              "  <thead>\n",
              "    <tr style=\"text-align: right;\">\n",
              "      <th></th>\n",
              "      <th>CustomerID</th>\n",
              "      <th>VehicleAttribute</th>\n",
              "      <th>VehicleAttributeDetails</th>\n",
              "    </tr>\n",
              "  </thead>\n",
              "  <tbody>\n",
              "    <tr>\n",
              "      <th>count</th>\n",
              "      <td>115344</td>\n",
              "      <td>115344</td>\n",
              "      <td>115344</td>\n",
              "    </tr>\n",
              "    <tr>\n",
              "      <th>unique</th>\n",
              "      <td>28836</td>\n",
              "      <td>4</td>\n",
              "      <td>28911</td>\n",
              "    </tr>\n",
              "    <tr>\n",
              "      <th>top</th>\n",
              "      <td>Cust20179</td>\n",
              "      <td>VehicleID</td>\n",
              "      <td>Saab</td>\n",
              "    </tr>\n",
              "    <tr>\n",
              "      <th>freq</th>\n",
              "      <td>4</td>\n",
              "      <td>28836</td>\n",
              "      <td>2415</td>\n",
              "    </tr>\n",
              "  </tbody>\n",
              "</table>\n",
              "</div>\n",
              "      <button class=\"colab-df-convert\" onclick=\"convertToInteractive('df-9f378064-7051-4cc9-bad8-945093d3528b')\"\n",
              "              title=\"Convert this dataframe to an interactive table.\"\n",
              "              style=\"display:none;\">\n",
              "        \n",
              "  <svg xmlns=\"http://www.w3.org/2000/svg\" height=\"24px\"viewBox=\"0 0 24 24\"\n",
              "       width=\"24px\">\n",
              "    <path d=\"M0 0h24v24H0V0z\" fill=\"none\"/>\n",
              "    <path d=\"M18.56 5.44l.94 2.06.94-2.06 2.06-.94-2.06-.94-.94-2.06-.94 2.06-2.06.94zm-11 1L8.5 8.5l.94-2.06 2.06-.94-2.06-.94L8.5 2.5l-.94 2.06-2.06.94zm10 10l.94 2.06.94-2.06 2.06-.94-2.06-.94-.94-2.06-.94 2.06-2.06.94z\"/><path d=\"M17.41 7.96l-1.37-1.37c-.4-.4-.92-.59-1.43-.59-.52 0-1.04.2-1.43.59L10.3 9.45l-7.72 7.72c-.78.78-.78 2.05 0 2.83L4 21.41c.39.39.9.59 1.41.59.51 0 1.02-.2 1.41-.59l7.78-7.78 2.81-2.81c.8-.78.8-2.07 0-2.86zM5.41 20L4 18.59l7.72-7.72 1.47 1.35L5.41 20z\"/>\n",
              "  </svg>\n",
              "      </button>\n",
              "      \n",
              "  <style>\n",
              "    .colab-df-container {\n",
              "      display:flex;\n",
              "      flex-wrap:wrap;\n",
              "      gap: 12px;\n",
              "    }\n",
              "\n",
              "    .colab-df-convert {\n",
              "      background-color: #E8F0FE;\n",
              "      border: none;\n",
              "      border-radius: 50%;\n",
              "      cursor: pointer;\n",
              "      display: none;\n",
              "      fill: #1967D2;\n",
              "      height: 32px;\n",
              "      padding: 0 0 0 0;\n",
              "      width: 32px;\n",
              "    }\n",
              "\n",
              "    .colab-df-convert:hover {\n",
              "      background-color: #E2EBFA;\n",
              "      box-shadow: 0px 1px 2px rgba(60, 64, 67, 0.3), 0px 1px 3px 1px rgba(60, 64, 67, 0.15);\n",
              "      fill: #174EA6;\n",
              "    }\n",
              "\n",
              "    [theme=dark] .colab-df-convert {\n",
              "      background-color: #3B4455;\n",
              "      fill: #D2E3FC;\n",
              "    }\n",
              "\n",
              "    [theme=dark] .colab-df-convert:hover {\n",
              "      background-color: #434B5C;\n",
              "      box-shadow: 0px 1px 3px 1px rgba(0, 0, 0, 0.15);\n",
              "      filter: drop-shadow(0px 1px 2px rgba(0, 0, 0, 0.3));\n",
              "      fill: #FFFFFF;\n",
              "    }\n",
              "  </style>\n",
              "\n",
              "      <script>\n",
              "        const buttonEl =\n",
              "          document.querySelector('#df-9f378064-7051-4cc9-bad8-945093d3528b button.colab-df-convert');\n",
              "        buttonEl.style.display =\n",
              "          google.colab.kernel.accessAllowed ? 'block' : 'none';\n",
              "\n",
              "        async function convertToInteractive(key) {\n",
              "          const element = document.querySelector('#df-9f378064-7051-4cc9-bad8-945093d3528b');\n",
              "          const dataTable =\n",
              "            await google.colab.kernel.invokeFunction('convertToInteractive',\n",
              "                                                     [key], {});\n",
              "          if (!dataTable) return;\n",
              "\n",
              "          const docLinkHtml = 'Like what you see? Visit the ' +\n",
              "            '<a target=\"_blank\" href=https://colab.research.google.com/notebooks/data_table.ipynb>data table notebook</a>'\n",
              "            + ' to learn more about interactive tables.';\n",
              "          element.innerHTML = '';\n",
              "          dataTable['output_type'] = 'display_data';\n",
              "          await google.colab.output.renderOutput(dataTable, element);\n",
              "          const docLink = document.createElement('div');\n",
              "          docLink.innerHTML = docLinkHtml;\n",
              "          element.appendChild(docLink);\n",
              "        }\n",
              "      </script>\n",
              "    </div>\n",
              "  </div>\n",
              "  "
            ]
          },
          "metadata": {},
          "execution_count": 199
        }
      ]
    },
    {
      "cell_type": "code",
      "source": [
        "vehicle_test.describe(include='all')"
      ],
      "metadata": {
        "id": "0s3dGjeGnRmY",
        "colab": {
          "base_uri": "https://localhost:8080/",
          "height": 175
        },
        "outputId": "47e54407-072c-46b1-d426-e5ecaa017866"
      },
      "execution_count": 200,
      "outputs": [
        {
          "output_type": "execute_result",
          "data": {
            "text/plain": [
              "       CustomerID VehicleAttribute VehicleAttributeDetails\n",
              "count       35648            35648                   35648\n",
              "unique       8912                4                    8986\n",
              "top     Cust28465     VehicleModel                  Suburu\n",
              "freq            4             8912                     743"
            ],
            "text/html": [
              "\n",
              "  <div id=\"df-72d9c05a-9eef-47de-9057-dc8b6af8e1b5\">\n",
              "    <div class=\"colab-df-container\">\n",
              "      <div>\n",
              "<style scoped>\n",
              "    .dataframe tbody tr th:only-of-type {\n",
              "        vertical-align: middle;\n",
              "    }\n",
              "\n",
              "    .dataframe tbody tr th {\n",
              "        vertical-align: top;\n",
              "    }\n",
              "\n",
              "    .dataframe thead th {\n",
              "        text-align: right;\n",
              "    }\n",
              "</style>\n",
              "<table border=\"1\" class=\"dataframe\">\n",
              "  <thead>\n",
              "    <tr style=\"text-align: right;\">\n",
              "      <th></th>\n",
              "      <th>CustomerID</th>\n",
              "      <th>VehicleAttribute</th>\n",
              "      <th>VehicleAttributeDetails</th>\n",
              "    </tr>\n",
              "  </thead>\n",
              "  <tbody>\n",
              "    <tr>\n",
              "      <th>count</th>\n",
              "      <td>35648</td>\n",
              "      <td>35648</td>\n",
              "      <td>35648</td>\n",
              "    </tr>\n",
              "    <tr>\n",
              "      <th>unique</th>\n",
              "      <td>8912</td>\n",
              "      <td>4</td>\n",
              "      <td>8986</td>\n",
              "    </tr>\n",
              "    <tr>\n",
              "      <th>top</th>\n",
              "      <td>Cust28465</td>\n",
              "      <td>VehicleModel</td>\n",
              "      <td>Suburu</td>\n",
              "    </tr>\n",
              "    <tr>\n",
              "      <th>freq</th>\n",
              "      <td>4</td>\n",
              "      <td>8912</td>\n",
              "      <td>743</td>\n",
              "    </tr>\n",
              "  </tbody>\n",
              "</table>\n",
              "</div>\n",
              "      <button class=\"colab-df-convert\" onclick=\"convertToInteractive('df-72d9c05a-9eef-47de-9057-dc8b6af8e1b5')\"\n",
              "              title=\"Convert this dataframe to an interactive table.\"\n",
              "              style=\"display:none;\">\n",
              "        \n",
              "  <svg xmlns=\"http://www.w3.org/2000/svg\" height=\"24px\"viewBox=\"0 0 24 24\"\n",
              "       width=\"24px\">\n",
              "    <path d=\"M0 0h24v24H0V0z\" fill=\"none\"/>\n",
              "    <path d=\"M18.56 5.44l.94 2.06.94-2.06 2.06-.94-2.06-.94-.94-2.06-.94 2.06-2.06.94zm-11 1L8.5 8.5l.94-2.06 2.06-.94-2.06-.94L8.5 2.5l-.94 2.06-2.06.94zm10 10l.94 2.06.94-2.06 2.06-.94-2.06-.94-.94-2.06-.94 2.06-2.06.94z\"/><path d=\"M17.41 7.96l-1.37-1.37c-.4-.4-.92-.59-1.43-.59-.52 0-1.04.2-1.43.59L10.3 9.45l-7.72 7.72c-.78.78-.78 2.05 0 2.83L4 21.41c.39.39.9.59 1.41.59.51 0 1.02-.2 1.41-.59l7.78-7.78 2.81-2.81c.8-.78.8-2.07 0-2.86zM5.41 20L4 18.59l7.72-7.72 1.47 1.35L5.41 20z\"/>\n",
              "  </svg>\n",
              "      </button>\n",
              "      \n",
              "  <style>\n",
              "    .colab-df-container {\n",
              "      display:flex;\n",
              "      flex-wrap:wrap;\n",
              "      gap: 12px;\n",
              "    }\n",
              "\n",
              "    .colab-df-convert {\n",
              "      background-color: #E8F0FE;\n",
              "      border: none;\n",
              "      border-radius: 50%;\n",
              "      cursor: pointer;\n",
              "      display: none;\n",
              "      fill: #1967D2;\n",
              "      height: 32px;\n",
              "      padding: 0 0 0 0;\n",
              "      width: 32px;\n",
              "    }\n",
              "\n",
              "    .colab-df-convert:hover {\n",
              "      background-color: #E2EBFA;\n",
              "      box-shadow: 0px 1px 2px rgba(60, 64, 67, 0.3), 0px 1px 3px 1px rgba(60, 64, 67, 0.15);\n",
              "      fill: #174EA6;\n",
              "    }\n",
              "\n",
              "    [theme=dark] .colab-df-convert {\n",
              "      background-color: #3B4455;\n",
              "      fill: #D2E3FC;\n",
              "    }\n",
              "\n",
              "    [theme=dark] .colab-df-convert:hover {\n",
              "      background-color: #434B5C;\n",
              "      box-shadow: 0px 1px 3px 1px rgba(0, 0, 0, 0.15);\n",
              "      filter: drop-shadow(0px 1px 2px rgba(0, 0, 0, 0.3));\n",
              "      fill: #FFFFFF;\n",
              "    }\n",
              "  </style>\n",
              "\n",
              "      <script>\n",
              "        const buttonEl =\n",
              "          document.querySelector('#df-72d9c05a-9eef-47de-9057-dc8b6af8e1b5 button.colab-df-convert');\n",
              "        buttonEl.style.display =\n",
              "          google.colab.kernel.accessAllowed ? 'block' : 'none';\n",
              "\n",
              "        async function convertToInteractive(key) {\n",
              "          const element = document.querySelector('#df-72d9c05a-9eef-47de-9057-dc8b6af8e1b5');\n",
              "          const dataTable =\n",
              "            await google.colab.kernel.invokeFunction('convertToInteractive',\n",
              "                                                     [key], {});\n",
              "          if (!dataTable) return;\n",
              "\n",
              "          const docLinkHtml = 'Like what you see? Visit the ' +\n",
              "            '<a target=\"_blank\" href=https://colab.research.google.com/notebooks/data_table.ipynb>data table notebook</a>'\n",
              "            + ' to learn more about interactive tables.';\n",
              "          element.innerHTML = '';\n",
              "          dataTable['output_type'] = 'display_data';\n",
              "          await google.colab.output.renderOutput(dataTable, element);\n",
              "          const docLink = document.createElement('div');\n",
              "          docLink.innerHTML = docLinkHtml;\n",
              "          element.appendChild(docLink);\n",
              "        }\n",
              "      </script>\n",
              "    </div>\n",
              "  </div>\n",
              "  "
            ]
          },
          "metadata": {},
          "execution_count": 200
        }
      ]
    },
    {
      "cell_type": "code",
      "source": [
        "#both VehicleAttribute and VehicleAttributeDetails are cat\n",
        "for x in vehicle.drop('CustomerID',axis=1).columns:\n",
        "  print(vehicle[x].value_counts())"
      ],
      "metadata": {
        "id": "dT6-RsMEnEoq",
        "colab": {
          "base_uri": "https://localhost:8080/"
        },
        "outputId": "e965dfb9-82d6-4b48-c532-f72d31736dd0"
      },
      "execution_count": 201,
      "outputs": [
        {
          "output_type": "stream",
          "name": "stdout",
          "text": [
            "VehicleID       28836\n",
            "VehicleModel    28836\n",
            "VehicleMake     28836\n",
            "VehicleYOM      28836\n",
            "Name: VehicleAttribute, dtype: int64\n",
            "Saab            2415\n",
            "Suburu          2313\n",
            "Nissan          2300\n",
            "Dodge           2263\n",
            "Chevrolet       2174\n",
            "                ... \n",
            "Vehicle10389       1\n",
            "Vehicle17695       1\n",
            "Vehicle2852        1\n",
            "Vehicle24978       1\n",
            "Vehicle19680       1\n",
            "Name: VehicleAttributeDetails, Length: 28911, dtype: int64\n"
          ]
        }
      ]
    },
    {
      "cell_type": "code",
      "source": [
        "for x in vehicle_test.drop('CustomerID',axis=1).columns:\n",
        "  print(vehicle_test[x].value_counts())"
      ],
      "metadata": {
        "id": "koOuqU4JnEq4",
        "colab": {
          "base_uri": "https://localhost:8080/"
        },
        "outputId": "4ef42bcc-6cf9-4dd6-f91e-38e5314edb30"
      },
      "execution_count": 202,
      "outputs": [
        {
          "output_type": "stream",
          "name": "stdout",
          "text": [
            "VehicleModel    8912\n",
            "VehicleID       8912\n",
            "VehicleYOM      8912\n",
            "VehicleMake     8912\n",
            "Name: VehicleAttribute, dtype: int64\n",
            "Suburu          743\n",
            "Nissan          741\n",
            "Jeep            725\n",
            "Chevrolet       718\n",
            "Saab            714\n",
            "               ... \n",
            "Vehicle25558      1\n",
            "Vehicle32691      1\n",
            "Vehicle3354       1\n",
            "Vehicle33760      1\n",
            "Vehicle33407      1\n",
            "Name: VehicleAttributeDetails, Length: 8986, dtype: int64\n"
          ]
        }
      ]
    },
    {
      "cell_type": "markdown",
      "source": [
        "**Observations**\n",
        "\n",
        "The column VehicleAttribute contains 4 different data categories which can be split into separate 4 columns: \n",
        "\n",
        "VehicleID, VehicleModel, VehicleMake, Vehicle YearOfManufacture(YOM)"
      ],
      "metadata": {
        "id": "yZH0LO42enuP"
      }
    },
    {
      "cell_type": "code",
      "source": [
        "vehicle['VehicleAttribute']=vehicle['VehicleAttribute'].astype('category')\n",
        "vehicle_test['VehicleAttribute']=vehicle_test['VehicleAttribute'].astype('category')"
      ],
      "metadata": {
        "id": "uSEJO3G0nXyP"
      },
      "execution_count": 203,
      "outputs": []
    },
    {
      "cell_type": "code",
      "source": [
        "#To separate the values VehicleAttribute,VehicleMake,Vehicle Year of Make\n",
        "new_v=pd.DataFrame(vehicle['CustomerID'].unique(),columns=['CustomerID'])\n",
        "\n",
        "df=vehicle.groupby(by='VehicleAttribute')\n",
        "\n",
        "by_model=pd.DataFrame(df.get_group('VehicleModel'))\n",
        "model_details=pd.Series(by_model.VehicleAttributeDetails)\n",
        "new_v=new_v.merge(by_model,on='CustomerID',how='inner')\n",
        "\n",
        "by_make=pd.DataFrame(df.get_group('VehicleMake'))\n",
        "make_details=pd.Series(by_make.VehicleAttributeDetails)\n",
        "new_v=new_v.merge(by_make,on='CustomerID',how='inner')\n",
        "\n",
        "by_yom=pd.DataFrame(df.get_group('VehicleYOM'))\n",
        "yom_details=pd.Series(by_yom.VehicleAttributeDetails)\n",
        "new_v=new_v.merge(by_yom,on='CustomerID',how='inner')\n",
        "\n",
        "by_ID=pd.DataFrame(df.get_group('VehicleID'))\n",
        "ID_details=pd.Series(by_ID.VehicleAttributeDetails)\n",
        "new_v=new_v.merge(by_ID,on='CustomerID',how='inner')\n",
        "\n",
        "new_v.columns=['CustomerID','VM','Model','VMK','Make','VYOM','YOM','VID','ID']\n",
        "#############################################################################\n",
        "new_v_test=pd.DataFrame(vehicle_test['CustomerID'].unique(),columns=['CustomerID'])\n",
        "\n",
        "df_test=vehicle_test.groupby(by='VehicleAttribute')\n",
        "\n",
        "by_model_test=pd.DataFrame(df_test.get_group('VehicleModel'))\n",
        "model_details_test=pd.Series(by_model_test.VehicleAttributeDetails)\n",
        "new_v_test=new_v_test.merge(by_model_test,on='CustomerID',how='inner')\n",
        "\n",
        "by_make_test=pd.DataFrame(df_test.get_group('VehicleMake'))\n",
        "make_details_test=pd.Series(by_make_test.VehicleAttributeDetails)\n",
        "new_v_test=new_v_test.merge(by_make_test,on='CustomerID',how='inner')\n",
        "\n",
        "by_yom_test=pd.DataFrame(df_test.get_group('VehicleYOM'))\n",
        "yom_details_test=pd.Series(by_yom_test.VehicleAttributeDetails)\n",
        "new_v_test=new_v_test.merge(by_yom_test,on='CustomerID',how='inner')\n",
        "\n",
        "by_ID_test=pd.DataFrame(df_test.get_group('VehicleID'))\n",
        "ID_details_test=pd.Series(by_ID_test.VehicleAttributeDetails)\n",
        "new_v_test=new_v_test.merge(by_ID_test,on='CustomerID',how='inner')\n",
        "\n",
        "new_v_test.columns=['CustomerID','VM','Model','VMK','Make','VYOM','YOM','VID','ID']"
      ],
      "metadata": {
        "id": "2RWzMXPtnean",
        "colab": {
          "base_uri": "https://localhost:8080/"
        },
        "outputId": "6b375b99-acb6-40de-a2e1-0c4972a7e9e4"
      },
      "execution_count": 204,
      "outputs": [
        {
          "output_type": "stream",
          "name": "stderr",
          "text": [
            "/usr/local/lib/python3.7/dist-packages/pandas/core/frame.py:9203: FutureWarning: Passing 'suffixes' which cause duplicate columns {'VehicleAttributeDetails_x', 'VehicleAttribute_x'} in the result is deprecated and will raise a MergeError in a future version.\n",
            "  validate=validate,\n"
          ]
        }
      ]
    },
    {
      "cell_type": "code",
      "source": [
        "new_v"
      ],
      "metadata": {
        "id": "GgD3jlySoaIG",
        "colab": {
          "base_uri": "https://localhost:8080/",
          "height": 424
        },
        "outputId": "fde0c510-415d-4b18-f465-dec4671f43c4"
      },
      "execution_count": 205,
      "outputs": [
        {
          "output_type": "execute_result",
          "data": {
            "text/plain": [
              "      CustomerID            VM       Model          VMK        Make  \\\n",
              "0      Cust20179  VehicleModel   Forrestor  VehicleMake         BMW   \n",
              "1      Cust21384  VehicleModel      Malibu  VehicleMake   Chevrolet   \n",
              "2      Cust33335  VehicleModel  Highlander  VehicleMake      Toyota   \n",
              "3      Cust27118  VehicleModel        Neon  VehicleMake        Saab   \n",
              "4      Cust13038  VehicleModel      Maxima  VehicleMake      Toyota   \n",
              "...          ...           ...         ...          ...         ...   \n",
              "28831  Cust38038  VehicleModel      Legacy  VehicleMake      Suburu   \n",
              "28832  Cust19790  VehicleModel  Highlander  VehicleMake      Toyota   \n",
              "28833  Cust24765  VehicleModel       Camry  VehicleMake      Toyota   \n",
              "28834  Cust10942  VehicleModel          95  VehicleMake        Saab   \n",
              "28835  Cust15237  VehicleModel       Jetta  VehicleMake  Volkswagen   \n",
              "\n",
              "             VYOM   YOM        VID            ID  \n",
              "0      VehicleYOM  2011  VehicleID   Vehicle8898  \n",
              "1      VehicleYOM  2010  VehicleID  Vehicle18688  \n",
              "2      VehicleYOM  2001  VehicleID   Vehicle8998  \n",
              "3      VehicleYOM  1998  VehicleID  Vehicle28504  \n",
              "4      VehicleYOM  2000  VehicleID  Vehicle30212  \n",
              "...           ...   ...        ...           ...  \n",
              "28831  VehicleYOM  2015  VehicleID  Vehicle35675  \n",
              "28832  VehicleYOM  2004  VehicleID  Vehicle25421  \n",
              "28833  VehicleYOM  2008  VehicleID   Vehicle6349  \n",
              "28834  VehicleYOM  2010  VehicleID  Vehicle23641  \n",
              "28835  VehicleYOM  2010  VehicleID  Vehicle25510  \n",
              "\n",
              "[28836 rows x 9 columns]"
            ],
            "text/html": [
              "\n",
              "  <div id=\"df-087241e3-9ef8-4917-865f-734358033fe2\">\n",
              "    <div class=\"colab-df-container\">\n",
              "      <div>\n",
              "<style scoped>\n",
              "    .dataframe tbody tr th:only-of-type {\n",
              "        vertical-align: middle;\n",
              "    }\n",
              "\n",
              "    .dataframe tbody tr th {\n",
              "        vertical-align: top;\n",
              "    }\n",
              "\n",
              "    .dataframe thead th {\n",
              "        text-align: right;\n",
              "    }\n",
              "</style>\n",
              "<table border=\"1\" class=\"dataframe\">\n",
              "  <thead>\n",
              "    <tr style=\"text-align: right;\">\n",
              "      <th></th>\n",
              "      <th>CustomerID</th>\n",
              "      <th>VM</th>\n",
              "      <th>Model</th>\n",
              "      <th>VMK</th>\n",
              "      <th>Make</th>\n",
              "      <th>VYOM</th>\n",
              "      <th>YOM</th>\n",
              "      <th>VID</th>\n",
              "      <th>ID</th>\n",
              "    </tr>\n",
              "  </thead>\n",
              "  <tbody>\n",
              "    <tr>\n",
              "      <th>0</th>\n",
              "      <td>Cust20179</td>\n",
              "      <td>VehicleModel</td>\n",
              "      <td>Forrestor</td>\n",
              "      <td>VehicleMake</td>\n",
              "      <td>BMW</td>\n",
              "      <td>VehicleYOM</td>\n",
              "      <td>2011</td>\n",
              "      <td>VehicleID</td>\n",
              "      <td>Vehicle8898</td>\n",
              "    </tr>\n",
              "    <tr>\n",
              "      <th>1</th>\n",
              "      <td>Cust21384</td>\n",
              "      <td>VehicleModel</td>\n",
              "      <td>Malibu</td>\n",
              "      <td>VehicleMake</td>\n",
              "      <td>Chevrolet</td>\n",
              "      <td>VehicleYOM</td>\n",
              "      <td>2010</td>\n",
              "      <td>VehicleID</td>\n",
              "      <td>Vehicle18688</td>\n",
              "    </tr>\n",
              "    <tr>\n",
              "      <th>2</th>\n",
              "      <td>Cust33335</td>\n",
              "      <td>VehicleModel</td>\n",
              "      <td>Highlander</td>\n",
              "      <td>VehicleMake</td>\n",
              "      <td>Toyota</td>\n",
              "      <td>VehicleYOM</td>\n",
              "      <td>2001</td>\n",
              "      <td>VehicleID</td>\n",
              "      <td>Vehicle8998</td>\n",
              "    </tr>\n",
              "    <tr>\n",
              "      <th>3</th>\n",
              "      <td>Cust27118</td>\n",
              "      <td>VehicleModel</td>\n",
              "      <td>Neon</td>\n",
              "      <td>VehicleMake</td>\n",
              "      <td>Saab</td>\n",
              "      <td>VehicleYOM</td>\n",
              "      <td>1998</td>\n",
              "      <td>VehicleID</td>\n",
              "      <td>Vehicle28504</td>\n",
              "    </tr>\n",
              "    <tr>\n",
              "      <th>4</th>\n",
              "      <td>Cust13038</td>\n",
              "      <td>VehicleModel</td>\n",
              "      <td>Maxima</td>\n",
              "      <td>VehicleMake</td>\n",
              "      <td>Toyota</td>\n",
              "      <td>VehicleYOM</td>\n",
              "      <td>2000</td>\n",
              "      <td>VehicleID</td>\n",
              "      <td>Vehicle30212</td>\n",
              "    </tr>\n",
              "    <tr>\n",
              "      <th>...</th>\n",
              "      <td>...</td>\n",
              "      <td>...</td>\n",
              "      <td>...</td>\n",
              "      <td>...</td>\n",
              "      <td>...</td>\n",
              "      <td>...</td>\n",
              "      <td>...</td>\n",
              "      <td>...</td>\n",
              "      <td>...</td>\n",
              "    </tr>\n",
              "    <tr>\n",
              "      <th>28831</th>\n",
              "      <td>Cust38038</td>\n",
              "      <td>VehicleModel</td>\n",
              "      <td>Legacy</td>\n",
              "      <td>VehicleMake</td>\n",
              "      <td>Suburu</td>\n",
              "      <td>VehicleYOM</td>\n",
              "      <td>2015</td>\n",
              "      <td>VehicleID</td>\n",
              "      <td>Vehicle35675</td>\n",
              "    </tr>\n",
              "    <tr>\n",
              "      <th>28832</th>\n",
              "      <td>Cust19790</td>\n",
              "      <td>VehicleModel</td>\n",
              "      <td>Highlander</td>\n",
              "      <td>VehicleMake</td>\n",
              "      <td>Toyota</td>\n",
              "      <td>VehicleYOM</td>\n",
              "      <td>2004</td>\n",
              "      <td>VehicleID</td>\n",
              "      <td>Vehicle25421</td>\n",
              "    </tr>\n",
              "    <tr>\n",
              "      <th>28833</th>\n",
              "      <td>Cust24765</td>\n",
              "      <td>VehicleModel</td>\n",
              "      <td>Camry</td>\n",
              "      <td>VehicleMake</td>\n",
              "      <td>Toyota</td>\n",
              "      <td>VehicleYOM</td>\n",
              "      <td>2008</td>\n",
              "      <td>VehicleID</td>\n",
              "      <td>Vehicle6349</td>\n",
              "    </tr>\n",
              "    <tr>\n",
              "      <th>28834</th>\n",
              "      <td>Cust10942</td>\n",
              "      <td>VehicleModel</td>\n",
              "      <td>95</td>\n",
              "      <td>VehicleMake</td>\n",
              "      <td>Saab</td>\n",
              "      <td>VehicleYOM</td>\n",
              "      <td>2010</td>\n",
              "      <td>VehicleID</td>\n",
              "      <td>Vehicle23641</td>\n",
              "    </tr>\n",
              "    <tr>\n",
              "      <th>28835</th>\n",
              "      <td>Cust15237</td>\n",
              "      <td>VehicleModel</td>\n",
              "      <td>Jetta</td>\n",
              "      <td>VehicleMake</td>\n",
              "      <td>Volkswagen</td>\n",
              "      <td>VehicleYOM</td>\n",
              "      <td>2010</td>\n",
              "      <td>VehicleID</td>\n",
              "      <td>Vehicle25510</td>\n",
              "    </tr>\n",
              "  </tbody>\n",
              "</table>\n",
              "<p>28836 rows × 9 columns</p>\n",
              "</div>\n",
              "      <button class=\"colab-df-convert\" onclick=\"convertToInteractive('df-087241e3-9ef8-4917-865f-734358033fe2')\"\n",
              "              title=\"Convert this dataframe to an interactive table.\"\n",
              "              style=\"display:none;\">\n",
              "        \n",
              "  <svg xmlns=\"http://www.w3.org/2000/svg\" height=\"24px\"viewBox=\"0 0 24 24\"\n",
              "       width=\"24px\">\n",
              "    <path d=\"M0 0h24v24H0V0z\" fill=\"none\"/>\n",
              "    <path d=\"M18.56 5.44l.94 2.06.94-2.06 2.06-.94-2.06-.94-.94-2.06-.94 2.06-2.06.94zm-11 1L8.5 8.5l.94-2.06 2.06-.94-2.06-.94L8.5 2.5l-.94 2.06-2.06.94zm10 10l.94 2.06.94-2.06 2.06-.94-2.06-.94-.94-2.06-.94 2.06-2.06.94z\"/><path d=\"M17.41 7.96l-1.37-1.37c-.4-.4-.92-.59-1.43-.59-.52 0-1.04.2-1.43.59L10.3 9.45l-7.72 7.72c-.78.78-.78 2.05 0 2.83L4 21.41c.39.39.9.59 1.41.59.51 0 1.02-.2 1.41-.59l7.78-7.78 2.81-2.81c.8-.78.8-2.07 0-2.86zM5.41 20L4 18.59l7.72-7.72 1.47 1.35L5.41 20z\"/>\n",
              "  </svg>\n",
              "      </button>\n",
              "      \n",
              "  <style>\n",
              "    .colab-df-container {\n",
              "      display:flex;\n",
              "      flex-wrap:wrap;\n",
              "      gap: 12px;\n",
              "    }\n",
              "\n",
              "    .colab-df-convert {\n",
              "      background-color: #E8F0FE;\n",
              "      border: none;\n",
              "      border-radius: 50%;\n",
              "      cursor: pointer;\n",
              "      display: none;\n",
              "      fill: #1967D2;\n",
              "      height: 32px;\n",
              "      padding: 0 0 0 0;\n",
              "      width: 32px;\n",
              "    }\n",
              "\n",
              "    .colab-df-convert:hover {\n",
              "      background-color: #E2EBFA;\n",
              "      box-shadow: 0px 1px 2px rgba(60, 64, 67, 0.3), 0px 1px 3px 1px rgba(60, 64, 67, 0.15);\n",
              "      fill: #174EA6;\n",
              "    }\n",
              "\n",
              "    [theme=dark] .colab-df-convert {\n",
              "      background-color: #3B4455;\n",
              "      fill: #D2E3FC;\n",
              "    }\n",
              "\n",
              "    [theme=dark] .colab-df-convert:hover {\n",
              "      background-color: #434B5C;\n",
              "      box-shadow: 0px 1px 3px 1px rgba(0, 0, 0, 0.15);\n",
              "      filter: drop-shadow(0px 1px 2px rgba(0, 0, 0, 0.3));\n",
              "      fill: #FFFFFF;\n",
              "    }\n",
              "  </style>\n",
              "\n",
              "      <script>\n",
              "        const buttonEl =\n",
              "          document.querySelector('#df-087241e3-9ef8-4917-865f-734358033fe2 button.colab-df-convert');\n",
              "        buttonEl.style.display =\n",
              "          google.colab.kernel.accessAllowed ? 'block' : 'none';\n",
              "\n",
              "        async function convertToInteractive(key) {\n",
              "          const element = document.querySelector('#df-087241e3-9ef8-4917-865f-734358033fe2');\n",
              "          const dataTable =\n",
              "            await google.colab.kernel.invokeFunction('convertToInteractive',\n",
              "                                                     [key], {});\n",
              "          if (!dataTable) return;\n",
              "\n",
              "          const docLinkHtml = 'Like what you see? Visit the ' +\n",
              "            '<a target=\"_blank\" href=https://colab.research.google.com/notebooks/data_table.ipynb>data table notebook</a>'\n",
              "            + ' to learn more about interactive tables.';\n",
              "          element.innerHTML = '';\n",
              "          dataTable['output_type'] = 'display_data';\n",
              "          await google.colab.output.renderOutput(dataTable, element);\n",
              "          const docLink = document.createElement('div');\n",
              "          docLink.innerHTML = docLinkHtml;\n",
              "          element.appendChild(docLink);\n",
              "        }\n",
              "      </script>\n",
              "    </div>\n",
              "  </div>\n",
              "  "
            ]
          },
          "metadata": {},
          "execution_count": 205
        }
      ]
    },
    {
      "cell_type": "code",
      "source": [
        "new_v_test"
      ],
      "metadata": {
        "id": "LL2iAr6poaOs",
        "colab": {
          "base_uri": "https://localhost:8080/",
          "height": 424
        },
        "outputId": "ae4b903c-adf1-4fb1-ab8e-604441f40b86"
      },
      "execution_count": 206,
      "outputs": [
        {
          "output_type": "execute_result",
          "data": {
            "text/plain": [
              "     CustomerID            VM           Model          VMK       Make  \\\n",
              "0     Cust28465  VehicleModel             92x  VehicleMake     Suburu   \n",
              "1     Cust20319  VehicleModel           Jetta  VehicleMake      Dodge   \n",
              "2      Cust3683  VehicleModel           ML350  VehicleMake       Audi   \n",
              "3     Cust29385  VehicleModel  Grand Cherokee  VehicleMake     Suburu   \n",
              "4     Cust34403  VehicleModel           Camry  VehicleMake     Toyota   \n",
              "...         ...           ...             ...          ...        ...   \n",
              "8907  Cust31324  VehicleModel             MDX  VehicleMake     Toyota   \n",
              "8908  Cust25423  VehicleModel           Tahoe  VehicleMake  Chevrolet   \n",
              "8909  Cust15558  VehicleModel             MDX  VehicleMake     Accura   \n",
              "8910  Cust20134  VehicleModel            F150  VehicleMake       Ford   \n",
              "8911   Cust8371  VehicleModel          Legacy  VehicleMake     Suburu   \n",
              "\n",
              "            VYOM   YOM        VID            ID  \n",
              "0     VehicleYOM  2001  VehicleID  Vehicle36793  \n",
              "1     VehicleYOM  2006  VehicleID   Vehicle7679  \n",
              "2     VehicleYOM  1997  VehicleID  Vehicle22709  \n",
              "3     VehicleYOM  2003  VehicleID  Vehicle20347  \n",
              "4     VehicleYOM  2014  VehicleID  Vehicle26765  \n",
              "...          ...   ...        ...           ...  \n",
              "8907  VehicleYOM  2001  VehicleID  Vehicle26914  \n",
              "8908  VehicleYOM  2009  VehicleID  Vehicle24940  \n",
              "8909  VehicleYOM  1995  VehicleID  Vehicle23640  \n",
              "8910  VehicleYOM  1997  VehicleID  Vehicle30549  \n",
              "8911  VehicleYOM  2005  VehicleID   Vehicle5195  \n",
              "\n",
              "[8912 rows x 9 columns]"
            ],
            "text/html": [
              "\n",
              "  <div id=\"df-6839a421-056a-4252-9286-84b989487693\">\n",
              "    <div class=\"colab-df-container\">\n",
              "      <div>\n",
              "<style scoped>\n",
              "    .dataframe tbody tr th:only-of-type {\n",
              "        vertical-align: middle;\n",
              "    }\n",
              "\n",
              "    .dataframe tbody tr th {\n",
              "        vertical-align: top;\n",
              "    }\n",
              "\n",
              "    .dataframe thead th {\n",
              "        text-align: right;\n",
              "    }\n",
              "</style>\n",
              "<table border=\"1\" class=\"dataframe\">\n",
              "  <thead>\n",
              "    <tr style=\"text-align: right;\">\n",
              "      <th></th>\n",
              "      <th>CustomerID</th>\n",
              "      <th>VM</th>\n",
              "      <th>Model</th>\n",
              "      <th>VMK</th>\n",
              "      <th>Make</th>\n",
              "      <th>VYOM</th>\n",
              "      <th>YOM</th>\n",
              "      <th>VID</th>\n",
              "      <th>ID</th>\n",
              "    </tr>\n",
              "  </thead>\n",
              "  <tbody>\n",
              "    <tr>\n",
              "      <th>0</th>\n",
              "      <td>Cust28465</td>\n",
              "      <td>VehicleModel</td>\n",
              "      <td>92x</td>\n",
              "      <td>VehicleMake</td>\n",
              "      <td>Suburu</td>\n",
              "      <td>VehicleYOM</td>\n",
              "      <td>2001</td>\n",
              "      <td>VehicleID</td>\n",
              "      <td>Vehicle36793</td>\n",
              "    </tr>\n",
              "    <tr>\n",
              "      <th>1</th>\n",
              "      <td>Cust20319</td>\n",
              "      <td>VehicleModel</td>\n",
              "      <td>Jetta</td>\n",
              "      <td>VehicleMake</td>\n",
              "      <td>Dodge</td>\n",
              "      <td>VehicleYOM</td>\n",
              "      <td>2006</td>\n",
              "      <td>VehicleID</td>\n",
              "      <td>Vehicle7679</td>\n",
              "    </tr>\n",
              "    <tr>\n",
              "      <th>2</th>\n",
              "      <td>Cust3683</td>\n",
              "      <td>VehicleModel</td>\n",
              "      <td>ML350</td>\n",
              "      <td>VehicleMake</td>\n",
              "      <td>Audi</td>\n",
              "      <td>VehicleYOM</td>\n",
              "      <td>1997</td>\n",
              "      <td>VehicleID</td>\n",
              "      <td>Vehicle22709</td>\n",
              "    </tr>\n",
              "    <tr>\n",
              "      <th>3</th>\n",
              "      <td>Cust29385</td>\n",
              "      <td>VehicleModel</td>\n",
              "      <td>Grand Cherokee</td>\n",
              "      <td>VehicleMake</td>\n",
              "      <td>Suburu</td>\n",
              "      <td>VehicleYOM</td>\n",
              "      <td>2003</td>\n",
              "      <td>VehicleID</td>\n",
              "      <td>Vehicle20347</td>\n",
              "    </tr>\n",
              "    <tr>\n",
              "      <th>4</th>\n",
              "      <td>Cust34403</td>\n",
              "      <td>VehicleModel</td>\n",
              "      <td>Camry</td>\n",
              "      <td>VehicleMake</td>\n",
              "      <td>Toyota</td>\n",
              "      <td>VehicleYOM</td>\n",
              "      <td>2014</td>\n",
              "      <td>VehicleID</td>\n",
              "      <td>Vehicle26765</td>\n",
              "    </tr>\n",
              "    <tr>\n",
              "      <th>...</th>\n",
              "      <td>...</td>\n",
              "      <td>...</td>\n",
              "      <td>...</td>\n",
              "      <td>...</td>\n",
              "      <td>...</td>\n",
              "      <td>...</td>\n",
              "      <td>...</td>\n",
              "      <td>...</td>\n",
              "      <td>...</td>\n",
              "    </tr>\n",
              "    <tr>\n",
              "      <th>8907</th>\n",
              "      <td>Cust31324</td>\n",
              "      <td>VehicleModel</td>\n",
              "      <td>MDX</td>\n",
              "      <td>VehicleMake</td>\n",
              "      <td>Toyota</td>\n",
              "      <td>VehicleYOM</td>\n",
              "      <td>2001</td>\n",
              "      <td>VehicleID</td>\n",
              "      <td>Vehicle26914</td>\n",
              "    </tr>\n",
              "    <tr>\n",
              "      <th>8908</th>\n",
              "      <td>Cust25423</td>\n",
              "      <td>VehicleModel</td>\n",
              "      <td>Tahoe</td>\n",
              "      <td>VehicleMake</td>\n",
              "      <td>Chevrolet</td>\n",
              "      <td>VehicleYOM</td>\n",
              "      <td>2009</td>\n",
              "      <td>VehicleID</td>\n",
              "      <td>Vehicle24940</td>\n",
              "    </tr>\n",
              "    <tr>\n",
              "      <th>8909</th>\n",
              "      <td>Cust15558</td>\n",
              "      <td>VehicleModel</td>\n",
              "      <td>MDX</td>\n",
              "      <td>VehicleMake</td>\n",
              "      <td>Accura</td>\n",
              "      <td>VehicleYOM</td>\n",
              "      <td>1995</td>\n",
              "      <td>VehicleID</td>\n",
              "      <td>Vehicle23640</td>\n",
              "    </tr>\n",
              "    <tr>\n",
              "      <th>8910</th>\n",
              "      <td>Cust20134</td>\n",
              "      <td>VehicleModel</td>\n",
              "      <td>F150</td>\n",
              "      <td>VehicleMake</td>\n",
              "      <td>Ford</td>\n",
              "      <td>VehicleYOM</td>\n",
              "      <td>1997</td>\n",
              "      <td>VehicleID</td>\n",
              "      <td>Vehicle30549</td>\n",
              "    </tr>\n",
              "    <tr>\n",
              "      <th>8911</th>\n",
              "      <td>Cust8371</td>\n",
              "      <td>VehicleModel</td>\n",
              "      <td>Legacy</td>\n",
              "      <td>VehicleMake</td>\n",
              "      <td>Suburu</td>\n",
              "      <td>VehicleYOM</td>\n",
              "      <td>2005</td>\n",
              "      <td>VehicleID</td>\n",
              "      <td>Vehicle5195</td>\n",
              "    </tr>\n",
              "  </tbody>\n",
              "</table>\n",
              "<p>8912 rows × 9 columns</p>\n",
              "</div>\n",
              "      <button class=\"colab-df-convert\" onclick=\"convertToInteractive('df-6839a421-056a-4252-9286-84b989487693')\"\n",
              "              title=\"Convert this dataframe to an interactive table.\"\n",
              "              style=\"display:none;\">\n",
              "        \n",
              "  <svg xmlns=\"http://www.w3.org/2000/svg\" height=\"24px\"viewBox=\"0 0 24 24\"\n",
              "       width=\"24px\">\n",
              "    <path d=\"M0 0h24v24H0V0z\" fill=\"none\"/>\n",
              "    <path d=\"M18.56 5.44l.94 2.06.94-2.06 2.06-.94-2.06-.94-.94-2.06-.94 2.06-2.06.94zm-11 1L8.5 8.5l.94-2.06 2.06-.94-2.06-.94L8.5 2.5l-.94 2.06-2.06.94zm10 10l.94 2.06.94-2.06 2.06-.94-2.06-.94-.94-2.06-.94 2.06-2.06.94z\"/><path d=\"M17.41 7.96l-1.37-1.37c-.4-.4-.92-.59-1.43-.59-.52 0-1.04.2-1.43.59L10.3 9.45l-7.72 7.72c-.78.78-.78 2.05 0 2.83L4 21.41c.39.39.9.59 1.41.59.51 0 1.02-.2 1.41-.59l7.78-7.78 2.81-2.81c.8-.78.8-2.07 0-2.86zM5.41 20L4 18.59l7.72-7.72 1.47 1.35L5.41 20z\"/>\n",
              "  </svg>\n",
              "      </button>\n",
              "      \n",
              "  <style>\n",
              "    .colab-df-container {\n",
              "      display:flex;\n",
              "      flex-wrap:wrap;\n",
              "      gap: 12px;\n",
              "    }\n",
              "\n",
              "    .colab-df-convert {\n",
              "      background-color: #E8F0FE;\n",
              "      border: none;\n",
              "      border-radius: 50%;\n",
              "      cursor: pointer;\n",
              "      display: none;\n",
              "      fill: #1967D2;\n",
              "      height: 32px;\n",
              "      padding: 0 0 0 0;\n",
              "      width: 32px;\n",
              "    }\n",
              "\n",
              "    .colab-df-convert:hover {\n",
              "      background-color: #E2EBFA;\n",
              "      box-shadow: 0px 1px 2px rgba(60, 64, 67, 0.3), 0px 1px 3px 1px rgba(60, 64, 67, 0.15);\n",
              "      fill: #174EA6;\n",
              "    }\n",
              "\n",
              "    [theme=dark] .colab-df-convert {\n",
              "      background-color: #3B4455;\n",
              "      fill: #D2E3FC;\n",
              "    }\n",
              "\n",
              "    [theme=dark] .colab-df-convert:hover {\n",
              "      background-color: #434B5C;\n",
              "      box-shadow: 0px 1px 3px 1px rgba(0, 0, 0, 0.15);\n",
              "      filter: drop-shadow(0px 1px 2px rgba(0, 0, 0, 0.3));\n",
              "      fill: #FFFFFF;\n",
              "    }\n",
              "  </style>\n",
              "\n",
              "      <script>\n",
              "        const buttonEl =\n",
              "          document.querySelector('#df-6839a421-056a-4252-9286-84b989487693 button.colab-df-convert');\n",
              "        buttonEl.style.display =\n",
              "          google.colab.kernel.accessAllowed ? 'block' : 'none';\n",
              "\n",
              "        async function convertToInteractive(key) {\n",
              "          const element = document.querySelector('#df-6839a421-056a-4252-9286-84b989487693');\n",
              "          const dataTable =\n",
              "            await google.colab.kernel.invokeFunction('convertToInteractive',\n",
              "                                                     [key], {});\n",
              "          if (!dataTable) return;\n",
              "\n",
              "          const docLinkHtml = 'Like what you see? Visit the ' +\n",
              "            '<a target=\"_blank\" href=https://colab.research.google.com/notebooks/data_table.ipynb>data table notebook</a>'\n",
              "            + ' to learn more about interactive tables.';\n",
              "          element.innerHTML = '';\n",
              "          dataTable['output_type'] = 'display_data';\n",
              "          await google.colab.output.renderOutput(dataTable, element);\n",
              "          const docLink = document.createElement('div');\n",
              "          docLink.innerHTML = docLinkHtml;\n",
              "          element.appendChild(docLink);\n",
              "        }\n",
              "      </script>\n",
              "    </div>\n",
              "  </div>\n",
              "  "
            ]
          },
          "metadata": {},
          "execution_count": 206
        }
      ]
    },
    {
      "cell_type": "code",
      "source": [
        "#To remove the prefix Vehicle from the VehicleID in train and test sets.\n",
        "v_id=new_v['ID']\n",
        "v_id_rm=[]\n",
        "for x in range(len(v_id)):\n",
        "  y=str(v_id[x])\n",
        "  v_id_rm.append(int(y[7:]))\n",
        "\n",
        "new_v['ID']=v_id_rm\n",
        "\n",
        "v_id_test=new_v_test['ID']\n",
        "v_id_rm_test=[]\n",
        "for x in range(len(v_id_test)):\n",
        "  y=str(v_id_test[x])\n",
        "  v_id_rm_test.append(int(y[7:]))\n",
        "\n",
        "new_v_test['ID']=v_id_rm_test"
      ],
      "metadata": {
        "id": "0FhVeTtF0zOk"
      },
      "execution_count": 207,
      "outputs": []
    },
    {
      "cell_type": "code",
      "source": [
        "print(\"Train data\")\n",
        "vehicle=pd.DataFrame()\n",
        "vehicle['CustomerID']=new_v['CustomerID']\n",
        "vehicle['VehicleModel']=new_v['Model'].astype('category')\n",
        "vehicle['VehicleMake']=new_v['Make'].astype('category')\n",
        "vehicle['VehicleYOM']=new_v['YOM'].astype('category')\n",
        "vehicle['VehicleID']=new_v['ID'].astype('int')\n",
        "print(vehicle.head())\n",
        "print(\"\\n Test data\")\n",
        "vehicle_test=pd.DataFrame()\n",
        "vehicle_test['CustomerID']=new_v_test['CustomerID']\n",
        "vehicle_test['VehicleModel']=new_v_test['Model'].astype('category')\n",
        "vehicle_test['VehicleMake']=new_v_test['Make'].astype('category')\n",
        "vehicle_test['VehicleYOM']=new_v_test['YOM'].astype('category')\n",
        "vehicle_test['VehicleID']=new_v_test['ID'].astype('int')\n",
        "print(vehicle_test.head())"
      ],
      "metadata": {
        "id": "xk6lz1GVok5g",
        "colab": {
          "base_uri": "https://localhost:8080/"
        },
        "outputId": "3ddf6bd4-510d-4af0-c68f-140aae0512bf"
      },
      "execution_count": 208,
      "outputs": [
        {
          "output_type": "stream",
          "name": "stdout",
          "text": [
            "Train data\n",
            "  CustomerID VehicleModel VehicleMake VehicleYOM  VehicleID\n",
            "0  Cust20179    Forrestor         BMW       2011       8898\n",
            "1  Cust21384       Malibu   Chevrolet       2010      18688\n",
            "2  Cust33335   Highlander      Toyota       2001       8998\n",
            "3  Cust27118         Neon        Saab       1998      28504\n",
            "4  Cust13038       Maxima      Toyota       2000      30212\n",
            "\n",
            " Test data\n",
            "  CustomerID    VehicleModel VehicleMake VehicleYOM  VehicleID\n",
            "0  Cust28465             92x      Suburu       2001      36793\n",
            "1  Cust20319           Jetta       Dodge       2006       7679\n",
            "2   Cust3683           ML350        Audi       1997      22709\n",
            "3  Cust29385  Grand Cherokee      Suburu       2003      20347\n",
            "4  Cust34403           Camry      Toyota       2014      26765\n"
          ]
        }
      ]
    },
    {
      "cell_type": "code",
      "source": [
        "print(vehicle.shape)\n",
        "print(vehicle_test.shape)"
      ],
      "metadata": {
        "id": "Qjbzwhf1ok72",
        "colab": {
          "base_uri": "https://localhost:8080/"
        },
        "outputId": "39584522-08b5-48a0-cfd7-0b3572bc024f"
      },
      "execution_count": 209,
      "outputs": [
        {
          "output_type": "stream",
          "name": "stdout",
          "text": [
            "(28836, 5)\n",
            "(8912, 5)\n"
          ]
        }
      ]
    },
    {
      "cell_type": "code",
      "source": [
        "for x in vehicle.drop('CustomerID',axis=1).columns:\n",
        "  print(vehicle[x].value_counts())"
      ],
      "metadata": {
        "id": "JJMKS9rIpAQj",
        "colab": {
          "base_uri": "https://localhost:8080/"
        },
        "outputId": "a1e9fc71-f2be-4d48-e5ad-5304b28b7296"
      },
      "execution_count": 210,
      "outputs": [
        {
          "output_type": "stream",
          "name": "stdout",
          "text": [
            "RAM               1344\n",
            "Wrangler          1261\n",
            "A3                1102\n",
            "MDX               1054\n",
            "Jetta             1037\n",
            "Neon               928\n",
            "Pathfinder         919\n",
            "Passat             888\n",
            "Legacy             887\n",
            "92x                859\n",
            "Malibu             828\n",
            "95                 820\n",
            "A5                 812\n",
            "F150               797\n",
            "Forrestor          784\n",
            "Camry              771\n",
            "Tahoe              736\n",
            "93                 724\n",
            "Maxima             722\n",
            "Grand Cherokee     718\n",
            "Escape             706\n",
            "Ultima             698\n",
            "E400               695\n",
            "X5                 691\n",
            "TL                 684\n",
            "Silverado          668\n",
            "Fusion             650\n",
            "Highlander         633\n",
            "Civic              604\n",
            "ML350              599\n",
            "Impreza            562\n",
            "CRV                542\n",
            "Corolla            530\n",
            "M5                 509\n",
            "C300               477\n",
            "X6                 454\n",
            "3 Series           436\n",
            "RSX                397\n",
            "Accord             310\n",
            "Name: VehicleModel, dtype: int64\n",
            "Saab          2415\n",
            "Suburu        2313\n",
            "Nissan        2300\n",
            "Dodge         2263\n",
            "Chevrolet     2174\n",
            "Ford          2158\n",
            "Accura        2099\n",
            "BMW           2073\n",
            "Toyota        1981\n",
            "Volkswagen    1960\n",
            "Audi          1952\n",
            "Jeep          1946\n",
            "Mercedes      1659\n",
            "Honda         1493\n",
            "???             50\n",
            "Name: VehicleMake, dtype: int64\n",
            "2007    1730\n",
            "2004    1691\n",
            "2010    1686\n",
            "2006    1680\n",
            "2009    1655\n",
            "2008    1655\n",
            "2005    1653\n",
            "2003    1606\n",
            "2011    1581\n",
            "2002    1551\n",
            "2000    1548\n",
            "1999    1521\n",
            "2001    1458\n",
            "2012    1357\n",
            "1998    1319\n",
            "2013    1271\n",
            "1997    1151\n",
            "2014     889\n",
            "1996     851\n",
            "1995     555\n",
            "2015     428\n",
            "Name: VehicleYOM, dtype: int64\n",
            "8898     1\n",
            "7050     1\n",
            "14973    1\n",
            "37156    1\n",
            "27123    1\n",
            "        ..\n",
            "27561    1\n",
            "10861    1\n",
            "7158     1\n",
            "20462    1\n",
            "25510    1\n",
            "Name: VehicleID, Length: 28836, dtype: int64\n"
          ]
        }
      ]
    },
    {
      "cell_type": "code",
      "source": [
        "for x in vehicle_test.drop('CustomerID',axis=1).columns:\n",
        "  print(vehicle_test[x].value_counts())"
      ],
      "metadata": {
        "id": "bT4_fNkzpEBf",
        "colab": {
          "base_uri": "https://localhost:8080/"
        },
        "outputId": "12489ab3-8146-4569-aa54-3a3c7b285657"
      },
      "execution_count": 211,
      "outputs": [
        {
          "output_type": "stream",
          "name": "stdout",
          "text": [
            "Wrangler          507\n",
            "RAM               400\n",
            "Jetta             400\n",
            "MDX               344\n",
            "A3                339\n",
            "Neon              329\n",
            "Legacy            314\n",
            "Malibu            298\n",
            "Pathfinder        281\n",
            "A5                277\n",
            "Forrestor         270\n",
            "92x               260\n",
            "95                247\n",
            "Passat            240\n",
            "Camry             239\n",
            "Ultima            237\n",
            "93                233\n",
            "F150              222\n",
            "TL                221\n",
            "Tahoe             219\n",
            "Grand Cherokee    216\n",
            "Highlander        206\n",
            "Escape            206\n",
            "Maxima            205\n",
            "E400              195\n",
            "Silverado         187\n",
            "X5                186\n",
            "Civic             185\n",
            "Fusion            181\n",
            "Impreza           165\n",
            "3 Series          159\n",
            "Corolla           155\n",
            "CRV               153\n",
            "ML350             148\n",
            "M5                148\n",
            "C300              139\n",
            "X6                107\n",
            "Accord             94\n",
            "Name: VehicleModel, dtype: int64\n",
            "Suburu        743\n",
            "Nissan        741\n",
            "Jeep          725\n",
            "Chevrolet     718\n",
            "Saab          714\n",
            "Dodge         706\n",
            "Volkswagen    627\n",
            "Accura        626\n",
            "Ford          612\n",
            "BMW           595\n",
            "Toyota        590\n",
            "Audi          587\n",
            "Mercedes      478\n",
            "Honda         442\n",
            "???             8\n",
            "Name: VehicleMake, dtype: int64\n",
            "2010    544\n",
            "2007    533\n",
            "2005    531\n",
            "2006    526\n",
            "2009    500\n",
            "2004    499\n",
            "2001    496\n",
            "2003    495\n",
            "2000    491\n",
            "2008    486\n",
            "2011    486\n",
            "2002    485\n",
            "1999    465\n",
            "2012    417\n",
            "1997    365\n",
            "2013    361\n",
            "1998    359\n",
            "2014    293\n",
            "1996    242\n",
            "1995    192\n",
            "2015    146\n",
            "Name: VehicleYOM, dtype: int64\n",
            "36793    1\n",
            "15553    1\n",
            "3802     1\n",
            "31417    1\n",
            "28138    1\n",
            "        ..\n",
            "34998    1\n",
            "31799    1\n",
            "13376    1\n",
            "9381     1\n",
            "5195     1\n",
            "Name: VehicleID, Length: 8912, dtype: int64\n"
          ]
        }
      ]
    },
    {
      "cell_type": "markdown",
      "source": [
        "**Insights**\n",
        "\n",
        "VehicleMake has missing values in the form:'???'\n",
        "\n",
        "VehicleModel in test data does not have RSX, which is present in train data"
      ],
      "metadata": {
        "id": "Id9x5YKBgt0e"
      }
    },
    {
      "cell_type": "markdown",
      "source": [
        "**Important Features**\n",
        "\n",
        "VehicleMake,CustomerLoyaltyPeriod,Policy_CombinedSingleLimit,InsurancePolicyState,\n",
        "InsuredRelationship,InsuredEducationLevel,InsuredOccupation,InsuredHobbies,TypeOfIncident,TypeOfCollission,SeverityOfIncident,AuthoritiesContacted,IncidentState,IncidentAddress,NumberOfVehicles,BodilyInjuries,AmountOfTotalClaim,\n",
        "AmountOfInjuryClaim,AmountOfVehicleDamage."
      ],
      "metadata": {
        "id": "zdTOYtBOOYyE"
      }
    },
    {
      "cell_type": "markdown",
      "source": [
        "**Replacing the missing values with np.nan**\n",
        "\n",
        "It would be easy to drop the np.nan values and proceed with Data Visualization as missing values affect the visualization process.\n",
        "\n",
        "Also,imputing data before visualization is not preferred as it may manipulate the original data distribution."
      ],
      "metadata": {
        "id": "iRszfV_lhJy4"
      }
    },
    {
      "cell_type": "code",
      "execution_count": 212,
      "metadata": {
        "id": "hLI0B8FzbLeo"
      },
      "outputs": [],
      "source": [
        "#Missing Value Treatment\n",
        "claim.TypeOfCollission.replace('?',np.nan,inplace=True)\n",
        "claim.IncidentTime.replace(-5,np.nan,inplace=True)\n",
        "claim.PropertyDamage.replace('?',np.nan,inplace=True)\n",
        "claim.AmountOfTotalClaim.replace('MISSEDDATA',np.nan,inplace=True)\n",
        "claim.PoliceReport.replace('?',np.nan,inplace=True)\n",
        "claim.Witnesses.replace('MISSINGVALUE',np.nan,inplace=True)\n",
        "\n",
        "claim_test.TypeOfCollission.replace('?',np.nan,inplace=True)\n",
        "claim_test.IncidentTime.replace(-5,np.nan,inplace=True)\n",
        "claim_test.PropertyDamage.replace('?',np.nan,inplace=True)\n",
        "claim_test.AmountOfTotalClaim.replace('MISSEDDATA',np.nan,inplace=True)\n",
        "claim_test.PoliceReport.replace('?',np.nan,inplace=True)\n",
        "claim_test.Witnesses.replace('MISSINGVALUE',np.nan,inplace=True)\n",
        "\n",
        "claim['AmountOfTotalClaim']=claim['AmountOfTotalClaim'].astype(\"float\")        \n",
        "claim_test['AmountOfTotalClaim']=claim_test['AmountOfTotalClaim'].astype(\"float\")"
      ]
    },
    {
      "cell_type": "code",
      "execution_count": 213,
      "metadata": {
        "id": "pJDASJ7Yh8Tv"
      },
      "outputs": [],
      "source": [
        "demo.InsuredGender.replace('NA',np.nan,inplace=True)\n",
        "demo_test.InsuredGender.replace('NA',np.nan,inplace=True)\n",
        "\n",
        "demo.Country.replace('NA',np.nan,inplace=True)\n",
        "demo_test.Country.replace('NA',np.nan,inplace=True)\n",
        "#the int and cat columns are predefined yet once again to avoid any confusions\n",
        "cat_cols=demo.select_dtypes(include='object').columns\n",
        "demo[cat_cols]=demo[cat_cols].astype('category')\n",
        "demo_test[cat_cols]=demo_test[cat_cols].astype('category')\n",
        "\n",
        "num_cols=demo.drop('CustomerID',axis=1).select_dtypes(exclude='category').columns\n",
        "demo[num_cols]=demo[num_cols].astype('int')\n",
        "demo_test[num_cols]=demo_test[num_cols].astype('int')\n",
        "\n",
        "#to replace missing values in VehicleMake with np.nan\n",
        "vehicle.VehicleMake.replace('???',np.nan,inplace=True)\n",
        "vehicle_test.VehicleMake.replace('???',np.nan,inplace=True)"
      ]
    },
    {
      "cell_type": "markdown",
      "source": [
        "**Merging the multiple sets to obtain a single dataset**\n",
        "\n",
        "Performed with the help of merge() and by considering CustomerID as the common column among all the individual datasets"
      ],
      "metadata": {
        "id": "9EcWs3UbhfB7"
      }
    },
    {
      "cell_type": "code",
      "source": [
        "#Train dataset\n",
        "data=pd.DataFrame()\n",
        "data=vehicle\n",
        "data=data.merge(right=policy,on='CustomerID',how='inner')\n",
        "data=data.merge(right=demo,on='CustomerID',how='inner')\n",
        "data=data.merge(right=claim,on='CustomerID',how='inner')\n",
        "data=data.merge(right=with_target,on='CustomerID',how='inner')\n",
        "dataset=data.dropna()\n",
        "#############################################################################\n",
        "#Test dataset\n",
        "data_test=pd.DataFrame()\n",
        "data_test=vehicle_test\n",
        "data_test=data_test.merge(right=policy_test,on='CustomerID',how='inner')\n",
        "data_test=data_test.merge(right=demo_test,on='CustomerID',how='inner')\n",
        "data_test=data_test.merge(right=claim_test,on='CustomerID',how='inner')\n",
        "data_test=data_test.merge(right=without_target,on='CustomerID',how='inner')\n",
        "dataset_test=data_test.dropna()"
      ],
      "metadata": {
        "id": "dJetM7blhpaS"
      },
      "execution_count": 214,
      "outputs": []
    },
    {
      "cell_type": "code",
      "source": [
        "dataset.columns"
      ],
      "metadata": {
        "colab": {
          "base_uri": "https://localhost:8080/"
        },
        "id": "X2tEKG7z9KGc",
        "outputId": "28aae33d-d448-422f-8ae5-ad64e5801033"
      },
      "execution_count": 215,
      "outputs": [
        {
          "output_type": "execute_result",
          "data": {
            "text/plain": [
              "Index(['CustomerID', 'VehicleModel', 'VehicleMake', 'VehicleYOM', 'VehicleID',\n",
              "       'InsurancePolicyNumber', 'CustomerLoyaltyPeriod',\n",
              "       'DateOfPolicyCoverage', 'InsurancePolicyState',\n",
              "       'Policy_CombinedSingleLimit', 'Policy_Deductible',\n",
              "       'PolicyAnnualPremium', 'UmbrellaLimit', 'InsuredRelationship',\n",
              "       'InsuredAge', 'InsuredZipCode', 'InsuredGender',\n",
              "       'InsuredEducationLevel', 'InsuredOccupation', 'InsuredHobbies',\n",
              "       'CapitalGains', 'CapitalLoss', 'Country', 'DateOfIncident',\n",
              "       'TypeOfIncident', 'TypeOfCollission', 'SeverityOfIncident',\n",
              "       'AuthoritiesContacted', 'IncidentState', 'IncidentCity',\n",
              "       'IncidentAddress', 'IncidentTime', 'NumberOfVehicles', 'PropertyDamage',\n",
              "       'BodilyInjuries', 'Witnesses', 'PoliceReport', 'AmountOfTotalClaim',\n",
              "       'AmountOfInjuryClaim', 'AmountOfPropertyClaim', 'AmountOfVehicleDamage',\n",
              "       'ReportedFraud'],\n",
              "      dtype='object')"
            ]
          },
          "metadata": {},
          "execution_count": 215
        }
      ]
    },
    {
      "cell_type": "markdown",
      "source": [
        "#Data Visualization"
      ],
      "metadata": {
        "id": "BKwHmbkvh8F7"
      }
    },
    {
      "cell_type": "markdown",
      "source": [
        "In order to understand the data we will have to look into these claims and understand their distribution and the features influencing them with the help of Data Analysis."
      ],
      "metadata": {
        "id": "rSpqGFpqsdMo"
      }
    },
    {
      "cell_type": "code",
      "source": [
        "#EDA\n",
        "#EDA ideas:\n",
        "#TypeOfIncident vs AMountOfTotalClaim\n",
        "#occupation vs umbrella limit\n",
        "#injuryclaim amount vs severity of incident\n",
        "#customer loyalty points vs total claim(hue:years)\n",
        "#amount total claim and incident state\n",
        "#PIE:totalclaim:distributions:(injury,property,vehicle)............\n",
        "#bodilyinjuries vs amountofinjuryclaim\n",
        "######################\n",
        "#frauds on vehicle damages:\n",
        "#related columns:\n",
        "#type of incident:\n",
        "#type of collission:\n",
        "#severity of incident:\n",
        "#Vehicle Make,Model,Year:Exxagerated repair cost on damages\n",
        "#InsuredState:(false registration to pay low tax)\n",
        "#Incident State:\n",
        "#NumberOfVehicles:(people with more vehicles may do frauds)\n",
        "#AmountofVehicleDamage:\n",
        "####################################\n",
        "#frauds on health:\n",
        "#related cols:\n",
        "#bodily injuries\n",
        "#type of incident\n",
        "#age\n",
        "#severity of incident\n",
        "#amount of injury claim"
      ],
      "metadata": {
        "id": "H-zFWm05616P"
      },
      "execution_count": 216,
      "outputs": []
    },
    {
      "cell_type": "code",
      "source": [
        "plt.figure(figsize=(12,6))\n",
        "ax=sns.heatmap(dataset.corr(),annot=True)\n",
        "plt.show()"
      ],
      "metadata": {
        "colab": {
          "base_uri": "https://localhost:8080/",
          "height": 497
        },
        "id": "jMUGxoRANtDW",
        "outputId": "cdbce098-f3ff-4b4b-8937-e49e83abeb41"
      },
      "execution_count": 217,
      "outputs": [
        {
          "output_type": "display_data",
          "data": {
            "text/plain": [
              "<Figure size 864x432 with 2 Axes>"
            ],
            "image/png": "[encoded data removed]"
          },
          "metadata": {
            "needs_background": "light"
          }
        }
      ]
    },
    {
      "cell_type": "markdown",
      "source": [
        "**Plot1:Correlation Map**\n",
        "\n",
        "1.Insured Age and Customer Loyalty Period are highly correlated\n",
        "\n",
        "2.The total claim amount,Injury claim,property claim and Vehicle damage claims are all correlated."
      ],
      "metadata": {
        "id": "HEN2bqIBOL8D"
      }
    },
    {
      "cell_type": "code",
      "source": [
        "vehicle_claim=sum(dataset['AmountOfVehicleDamage'].dropna())\n",
        "property_claim=sum(dataset['AmountOfPropertyClaim'].dropna())\n",
        "injury_claim=sum(dataset['AmountOfInjuryClaim'].dropna())\n",
        "\n",
        "values=[vehicle_claim,property_claim,injury_claim]\n",
        "labels=['Vehicle Claim','Property Claim','Injury Claim']\n",
        "\n",
        "palette_color = sns.color_palette('bright')\n",
        "plt.pie(x=values, labels=labels, colors=palette_color,autopct=\"%.3f\")\n",
        "#majority of claims are in vehicle claim"
      ],
      "metadata": {
        "colab": {
          "base_uri": "https://localhost:8080/",
          "height": 404
        },
        "id": "DrMc3trs7C9P",
        "outputId": "a2959dec-d80d-417a-a360-f01855292ea8"
      },
      "execution_count": 218,
      "outputs": [
        {
          "output_type": "execute_result",
          "data": {
            "text/plain": [
              "([<matplotlib.patches.Wedge at 0x7f263a81bcd0>,\n",
              "  <matplotlib.patches.Wedge at 0x7f2639ecbbd0>,\n",
              "  <matplotlib.patches.Wedge at 0x7f2639ecbd90>],\n",
              " [Text(-0.7030053634744902, 0.8460398684022523, 'Vehicle Claim'),\n",
              "  Text(0.27245948716148244, -1.0657231478464293, 'Property Claim'),\n",
              "  Text(0.9938044308828546, -0.47154294943048997, 'Injury Claim')],\n",
              " [Text(-0.3834574709860855, 0.4614762918557739, '72.069'),\n",
              "  Text(0.14861426572444494, -0.5813035351889614, '13.829'),\n",
              "  Text(0.5420751441179207, -0.2572052451439036, '14.102')])"
            ]
          },
          "metadata": {},
          "execution_count": 218
        },
        {
          "output_type": "display_data",
          "data": {
            "text/plain": [
              "<Figure size 432x288 with 1 Axes>"
            ],
            "image/png": "[encoded data removed]"
          },
          "metadata": {}
        }
      ]
    },
    {
      "cell_type": "markdown",
      "source": [
        "**Plot2:Total Claim Distribution**\n",
        "\n",
        "Division of Total claim amount paid by Insurance company into Vehicle,Property and Injury claims.\n",
        "\n",
        "Amount claimed for Vehicle is 72.069% of the total claimed amount"
      ],
      "metadata": {
        "id": "WajnDIcTvymg"
      }
    },
    {
      "cell_type": "code",
      "source": [
        "husband=dataset[['InsuredRelationship','AmountOfTotalClaim','ReportedFraud']][dataset['InsuredRelationship']=='husband']\n",
        "not_family=dataset[['InsuredRelationship','AmountOfTotalClaim','ReportedFraud']][dataset['InsuredRelationship']=='not-in-family']\n",
        "other_relative=dataset[['InsuredRelationship','AmountOfTotalClaim','ReportedFraud']][dataset['InsuredRelationship']=='other-relative']\n",
        "own_child=dataset[['InsuredRelationship','AmountOfTotalClaim','ReportedFraud']][dataset['InsuredRelationship']=='own-child']\n",
        "unmarried=dataset[['InsuredRelationship','AmountOfTotalClaim','ReportedFraud']][dataset['InsuredRelationship']=='unmarried']\n",
        "wife=dataset[['InsuredRelationship','AmountOfTotalClaim','ReportedFraud']][dataset['InsuredRelationship']=='wife']\n",
        "\n",
        "husband1=sum(husband['AmountOfTotalClaim'])\n",
        "not_family1=sum(not_family['AmountOfTotalClaim'])\n",
        "other_relative1=sum(other_relative['AmountOfTotalClaim'])\n",
        "own_child1=sum(own_child['AmountOfTotalClaim'])\n",
        "unmarried1=sum(unmarried['AmountOfTotalClaim'])\n",
        "wife1=sum(wife['AmountOfTotalClaim'])\n",
        "\n",
        "values=[husband1,not_family1,other_relative1,own_child1,unmarried1,wife1]\n",
        "labels=['husband','not-in-family','other-relative','own-child','unmarried','wife']\n",
        "palette_color = sns.color_palette('bright')\n",
        "plt.subplot(1,2,1)\n",
        "plt.pie(x=values, labels=labels, colors=palette_color,autopct='%.3f')\n",
        "plt.xlabel('Plot3:Claims \\n')\n",
        "plt.show()\n",
        "\n",
        "husband2=sum(husband['AmountOfTotalClaim'][husband['ReportedFraud']=='Y'])\n",
        "not_family2=sum(not_family['AmountOfTotalClaim'][not_family['ReportedFraud']=='Y'])\n",
        "other_relative2=sum(other_relative['AmountOfTotalClaim'][other_relative['ReportedFraud']=='Y'])\n",
        "own_child2=sum(own_child['AmountOfTotalClaim'][own_child['ReportedFraud']=='Y'])\n",
        "unmarried2=sum(unmarried['AmountOfTotalClaim'][unmarried['ReportedFraud']=='Y'])\n",
        "wife2=sum(wife['AmountOfTotalClaim'][wife['ReportedFraud']=='Y'])\n",
        "\n",
        "values=[husband2,not_family2,other_relative2,own_child2,unmarried2,wife2]\n",
        "labels=['husband','not-in-family','other-relative','own-child','unmarried','wife']\n",
        "\n",
        "palette_color = sns.color_palette('bright')\n",
        "plt.subplot(1,2,2)\n",
        "plt.pie(x=values, labels=labels, colors=palette_color,autopct='%.3f')\n",
        "plt.xlabel('Plot4:Fraud Claims')\n",
        "plt.show()"
      ],
      "metadata": {
        "colab": {
          "base_uri": "https://localhost:8080/",
          "height": 389
        },
        "id": "gMoENvHpwm13",
        "outputId": "a2c8c749-bb6d-4116-cea6-a9e3d0f28d1b"
      },
      "execution_count": 219,
      "outputs": [
        {
          "output_type": "display_data",
          "data": {
            "text/plain": [
              "<Figure size 432x288 with 1 Axes>"
            ],
            "image/png": "[encoded data removed]"
          },
          "metadata": {}
        },
        {
          "output_type": "display_data",
          "data": {
            "text/plain": [
              "<Figure size 432x288 with 1 Axes>"
            ],
            "image/png": "[encoded data removed]"
          },
          "metadata": {}
        }
      ]
    },
    {
      "cell_type": "markdown",
      "source": [
        "**Plot3 & 4:Frequency distribution of Total Claim Amount w.r.t Insured Relationship**\n",
        "\n",
        "Above plot shows that majority of the fraud claims were in the name of other-relative and not-in-family both in case of total claims and fraud claims."
      ],
      "metadata": {
        "id": "Jh3I-jwG8EZZ"
      }
    },
    {
      "cell_type": "code",
      "source": [
        "states=dataset.IncidentState.unique().to_list()\n",
        "#to calculate statewise claim ratio\n",
        "values=[]\n",
        "for i in range(len(states)):\n",
        "  values.append((np.count_nonzero(dataset['ReportedFraud'][dataset['IncidentState']==states[i]]))/(dataset.shape[0]))\n",
        "\n",
        "plt.figure(figsize=(12,6))\n",
        "ax=sns.barplot(x=states,y=values)\n",
        "plt.xlabel('Incident States')\n",
        "plt.ylabel('Statewise reports/Total reports')\n",
        "plt.show()\n",
        "print(\"Plot5:Statewise ratio of claims\\n\")\n",
        "#to calculate fraudulent claim ratio statewise\n",
        "values_ratio=[]\n",
        "for i in states:\n",
        "  values_ratio.append(np.count_nonzero(dataset['ReportedFraud'][dataset['IncidentState']==i]=='Y')/(np.count_nonzero(dataset['ReportedFraud'][dataset['IncidentState']==i])))\n",
        "\n",
        "plt.figure(figsize=(12,6))\n",
        "ax=sns.barplot(x=states,y=values_ratio)\n",
        "plt.xlabel('Incident States')\n",
        "plt.ylabel('Statewise Fraud claims/Total Reports in State')\n",
        "plt.show()\n",
        "print('Plot6:Statewise ratio of Fraudulent claims')"
      ],
      "metadata": {
        "colab": {
          "base_uri": "https://localhost:8080/",
          "height": 811
        },
        "id": "D-ALtJ_fB51o",
        "outputId": "3e6c91e6-26a5-4f1b-cbab-f74b71f7b870"
      },
      "execution_count": 220,
      "outputs": [
        {
          "output_type": "display_data",
          "data": {
            "text/plain": [
              "<Figure size 864x432 with 1 Axes>"
            ],
            "image/png": "[encoded data removed]"
          },
          "metadata": {
            "needs_background": "light"
          }
        },
        {
          "output_type": "stream",
          "name": "stdout",
          "text": [
            "Plot5:Statewise ratio of claims\n",
            "\n"
          ]
        },
        {
          "output_type": "display_data",
          "data": {
            "text/plain": [
              "<Figure size 864x432 with 1 Axes>"
            ],
            "image/png": "[encoded data removed]"
          },
          "metadata": {
            "needs_background": "light"
          }
        },
        {
          "output_type": "stream",
          "name": "stdout",
          "text": [
            "Plot6:Statewise ratio of Fraudulent claims\n"
          ]
        }
      ]
    },
    {
      "cell_type": "markdown",
      "source": [
        "**Plot5:Incident statewise representation of Frauds**\n",
        "\n",
        "State 5 followed by State 7 have the highest reports.\n",
        "\n",
        "**Plot6:Incident statewise fraud claim reports**\n",
        "\n",
        "State3 followed by state 4 have the highest ratio of fraud claim reports to the total reports within the state\n"
      ],
      "metadata": {
        "id": "yNDPaTFVOvqX"
      }
    },
    {
      "cell_type": "code",
      "source": [
        "claim=dataset[['SeverityOfIncident','AmountOfTotalClaim']]\n",
        "damages=claim['SeverityOfIncident'].unique().to_list()\n",
        "sns.countplot(x='SeverityOfIncident',data=claim)\n",
        "plt.show()\n",
        "print(\"Plot7:Count of different Severity of Incidents under total claims\")\n",
        "\n",
        "values=[]\n",
        "for i in damages:\n",
        "  values.append(np.sum(claim['AmountOfTotalClaim'][claim['SeverityOfIncident']==i]))\n",
        "\n",
        "print(\"\\n The Amount of Claim under each the incidents\")\n",
        "print(\"Total Claim Amount under Major Damage:\",values[0])\n",
        "print(\"Total Claim Amount under Minor Damage:\",values[1])\n",
        "print(\"Total Claim Amount under Trivial Damage:\",values[3])\n",
        "print(\"Total Claim Amount under Total Loss:\",values[2])\n",
        "print(\"\\n\")\n",
        "\n",
        "\n",
        "fraud=dataset[['SeverityOfIncident','AmountOfTotalClaim']][dataset['ReportedFraud']=='Y']\n",
        "values=[]\n",
        "for i in damages:\n",
        "  values.append((sum(fraud['AmountOfTotalClaim'][fraud['SeverityOfIncident']==i]))/(np.sum(claim['AmountOfTotalClaim'][claim['SeverityOfIncident']==i])))\n",
        "\n",
        "sns.barplot(x=damages,y=values)\n",
        "plt.xlabel('Severity Of Incident')\n",
        "plt.ylabel('Fraudulent claim Amount/Total claim amount')\n",
        "plt.show()\n",
        "print(\"Plot8:Severity wise Fraudulent claim Amount/Total claim amount\")\n",
        "\n"
      ],
      "metadata": {
        "colab": {
          "base_uri": "https://localhost:8080/",
          "height": 719
        },
        "id": "-qQoW-c1oUqG",
        "outputId": "073186fd-44e5-4c85-cc7b-f9204b3ec1c4"
      },
      "execution_count": 221,
      "outputs": [
        {
          "output_type": "display_data",
          "data": {
            "text/plain": [
              "<Figure size 432x288 with 1 Axes>"
            ],
            "image/png": "[encoded data removed]"
          },
          "metadata": {
            "needs_background": "light"
          }
        },
        {
          "output_type": "stream",
          "name": "stdout",
          "text": [
            "Plot7:Count of different Severity of Incidents under total claims\n",
            "\n",
            " The Amount of Claim under each the incidents\n",
            "Total Claim Amount under Major Damage: 209525973.0\n",
            "Total Claim Amount under Minor Damage: 181703375.0\n",
            "Total Claim Amount under Trivial Damage: 550329.0\n",
            "Total Claim Amount under Total Loss: 212459599.0\n",
            "\n",
            "\n"
          ]
        },
        {
          "output_type": "display_data",
          "data": {
            "text/plain": [
              "<Figure size 432x288 with 1 Axes>"
            ],
            "image/png": "[encoded data removed]"
          },
          "metadata": {
            "needs_background": "light"
          }
        },
        {
          "output_type": "stream",
          "name": "stdout",
          "text": [
            "Plot8:Severity wise Fraudulent claim Amount/Total claim amount\n"
          ]
        }
      ]
    },
    {
      "cell_type": "markdown",
      "source": [
        "**Plot7:Visualisation of number of claims according to the Severity Of the Incident**\n",
        "\n",
        "1.Number of claims under Minor and Major damage are the highest.\n",
        "\n",
        "2.Amount claimed under Total Loss followed by Major damage are the highest.\n",
        "\n",
        "**Plot8:Severity wise Fraudulent claim Amount/Total claim amount**\n",
        "\n",
        "Frauds under the Major Damage are the highest."
      ],
      "metadata": {
        "id": "rlryQ1aJ1wZA"
      }
    },
    {
      "cell_type": "code",
      "source": [
        "limit=dataset[['Policy_CombinedSingleLimit','InsuredAge']]\n",
        "\n",
        "policy=limit['Policy_CombinedSingleLimit'].unique().to_list()\n",
        "\n",
        "sns.catplot(y='Policy_CombinedSingleLimit',kind='violin',x='InsuredAge',data=limit)\n",
        "plt.xticks(rotation=30)\n",
        "plt.show()"
      ],
      "metadata": {
        "colab": {
          "base_uri": "https://localhost:8080/",
          "height": 374
        },
        "id": "7B8XRAf15iWA",
        "outputId": "b2f9b089-4029-4b5b-949c-229a90fc1f97"
      },
      "execution_count": 224,
      "outputs": [
        {
          "output_type": "display_data",
          "data": {
            "text/plain": [
              "<Figure size 360x360 with 1 Axes>"
            ],
            "image/png": "[encoded data removed]"
          },
          "metadata": {
            "needs_background": "light"
          }
        }
      ]
    },
    {
      "cell_type": "markdown",
      "source": [
        "**Plot9:Type of Policy and the respective Age group of Insured people**\n",
        "\n",
        "1.The horizontal lines represent the Type of Policy owned by the age group of Customers\n",
        "\n",
        "2.The thickness of the violin plots resemble the density of Insured people in the age group.\n",
        "\n",
        "**Reason**\n",
        "\n",
        "To identify the type of policies owned by different age group of people\n",
        "\n"
      ],
      "metadata": {
        "id": "FsOdlTtVluY0"
      }
    },
    {
      "cell_type": "code",
      "source": [
        "#types of incident plots:\n",
        "fraud=dataset[['TypeOfIncident','AmountOfTotalClaim']][dataset['ReportedFraud']=='Y']\n",
        "\n",
        "plt.figure(figsize=(12,6))\n",
        "sns.countplot(x='TypeOfIncident',data=fraud)\n",
        "plt.show()\n",
        "\n",
        "incident=fraud['TypeOfIncident'].unique().to_list()\n",
        "for i in incident:\n",
        "  print(\"The Amount of total fraud claim in\",i,sum(fraud['AmountOfTotalClaim'][fraud['TypeOfIncident']==i]))"
      ],
      "metadata": {
        "colab": {
          "base_uri": "https://localhost:8080/",
          "height": 457
        },
        "id": "GOw1dreFjbG5",
        "outputId": "586ef12a-8266-418e-f4d8-4b58999ba43c"
      },
      "execution_count": 225,
      "outputs": [
        {
          "output_type": "display_data",
          "data": {
            "text/plain": [
              "<Figure size 864x432 with 1 Axes>"
            ],
            "image/png": "[encoded data removed]"
          },
          "metadata": {
            "needs_background": "light"
          }
        },
        {
          "output_type": "stream",
          "name": "stdout",
          "text": [
            "The Amount of total fraud claim in Single Vehicle Collision 98881243.0\n",
            "The Amount of total fraud claim in Multi-vehicle Collision 74569402.0\n",
            "The Amount of total fraud claim in Vehicle Theft 39736.0\n",
            "The Amount of total fraud claim in Parked Car 53044.0\n"
          ]
        }
      ]
    },
    {
      "cell_type": "markdown",
      "source": [
        "**Plot10:Peek into the Claims as per the Type Of Incident**\n",
        "\n",
        "1.The plot shows that:count(Single Vehicle Collission claims) >> count(Multi Vehicle Collission claims) \n",
        "\n",
        "2.The total amount under (Single Vehicle Collission claims) >> (Multi Vehicle Collission claims)"
      ],
      "metadata": {
        "id": "A50F9Fc8F8l7"
      }
    },
    {
      "cell_type": "code",
      "source": [
        "fraud=dataset[['InsuredEducationLevel','AmountOfPropertyClaim','PropertyDamage']][dataset['ReportedFraud']=='Y']\n",
        "fraud=fraud[['InsuredEducationLevel','AmountOfPropertyClaim']]\n",
        "\n",
        "degree=fraud['InsuredEducationLevel'].unique().to_list()\n",
        "values=[]\n",
        "for i in degree:\n",
        "  values.append(sum(fraud['AmountOfPropertyClaim'][fraud['InsuredEducationLevel']==i]))\n",
        "\n",
        "plt.figure(figsize=(12,6))\n",
        "ax=sns.lineplot(x=degree,y=values)\n",
        "plt.xlabel('Insured Education Level')\n",
        "plt.ylabel('Total Amount Of Property Claims')\n",
        "plt.show()"
      ],
      "metadata": {
        "colab": {
          "base_uri": "https://localhost:8080/",
          "height": 399
        },
        "id": "p0m16q0gIe4f",
        "outputId": "f3bd4591-8d99-4cb9-f5cc-2a27c3caa867"
      },
      "execution_count": 226,
      "outputs": [
        {
          "output_type": "display_data",
          "data": {
            "text/plain": [
              "<Figure size 864x432 with 1 Axes>"
            ],
            "image/png": "[encoded data removed]"
          },
          "metadata": {
            "needs_background": "light"
          }
        }
      ]
    },
    {
      "cell_type": "markdown",
      "source": [
        "**Plot11:Insured Education level vs The amount of Fake Property claims**\n",
        "\n",
        "Customers with MD and Masters degree have claimed most amount in fraud Property claims"
      ],
      "metadata": {
        "id": "soTsig_nLHbp"
      }
    },
    {
      "cell_type": "code",
      "source": [
        "fraud=dataset[['AmountOfTotalClaim','InsuredOccupation','InsuredGender']][dataset['ReportedFraud']=='Y']\n",
        "\n",
        "roles=fraud['InsuredOccupation'].unique().to_list()\n",
        "men=fraud[['AmountOfTotalClaim','InsuredOccupation']][fraud['InsuredGender']=='MALE']\n",
        "women=fraud[['AmountOfTotalClaim','InsuredOccupation']][fraud['InsuredGender']=='FEMALE']\n",
        "values=[]\n",
        "male_values=[]\n",
        "female_values=[]\n",
        "for i in roles:\n",
        "  values.append(np.sum(fraud['AmountOfTotalClaim'][fraud['InsuredOccupation']==i]))\n",
        "  male_values.append(np.sum(men['AmountOfTotalClaim'][men['InsuredOccupation']==i]))\n",
        "  female_values.append(np.sum(women['AmountOfTotalClaim'][women['InsuredOccupation']==i]))\n",
        "\n",
        "plt.figure(figsize=(12,6))\n",
        "ax=sns.barplot(x=roles,y=values)\n",
        "plt.xticks(rotation=30)\n",
        "plt.xlabel('Insured Occupations')\n",
        "plt.ylabel('Number of Fraud Reports')\n",
        "plt.show()\n",
        "print('                                              Plot8\\n')\n",
        "\n",
        "\n",
        "plt.figure(figsize=(12,6))\n",
        "line1,=plt.plot(roles,male_values)\n",
        "line2,=plt.plot(roles,female_values)\n",
        "plt.xlabel('Insured Occupation')\n",
        "plt.ylabel('Fraud Amount')\n",
        "plt.legend([line1,line2],['Male','Female'])\n",
        "\n",
        "\n",
        "plt.xticks(rotation=30)\n",
        "plt.show()\n",
        "print('                                              Plot9\\n')\n",
        "male=np.sum(fraud['AmountOfTotalClaim'][fraud['InsuredGender']=='MALE'])\n",
        "female=np.sum(fraud['AmountOfTotalClaim'][fraud['InsuredGender']=='FEMALE'])\n",
        "print(\"The Sum of Fraud claim amount by Male:\",male)\n",
        "print(\"The Sum of Fraud claim amount by Female:\",female)"
      ],
      "metadata": {
        "colab": {
          "base_uri": "https://localhost:8080/",
          "height": 975
        },
        "id": "fFcKqzw2UF8S",
        "outputId": "13fcdfea-7b7c-4c20-b4e7-bfa650f2ee9d"
      },
      "execution_count": 227,
      "outputs": [
        {
          "output_type": "display_data",
          "data": {
            "text/plain": [
              "<Figure size 864x432 with 1 Axes>"
            ],
            "image/png": "[encoded data removed]"
          },
          "metadata": {
            "needs_background": "light"
          }
        },
        {
          "output_type": "stream",
          "name": "stdout",
          "text": [
            "                                              Plot8\n",
            "\n"
          ]
        },
        {
          "output_type": "display_data",
          "data": {
            "text/plain": [
              "<Figure size 864x432 with 1 Axes>"
            ],
            "image/png": "[encoded data removed]"
          },
          "metadata": {
            "needs_background": "light"
          }
        },
        {
          "output_type": "stream",
          "name": "stdout",
          "text": [
            "                                              Plot9\n",
            "\n",
            "The Sum of Fraud claim amount by Male: 85706801.0\n",
            "The Sum of Fraud claim amount by Female: 87836624.0\n"
          ]
        }
      ]
    },
    {
      "cell_type": "markdown",
      "source": [
        "**Plot12:Fraud Reports vs Insured Occupations**\n",
        "\n",
        "Those working under Sales and Tech-support have the highest fraud reports.\n",
        "\n",
        "**Plot13:Sum Of Fraud Amount vs Insured Occupations vs Insured Gender**\n",
        "\n",
        "Sum of fraud amounts claimed by female customers is more than that claimed by men.\n"
      ],
      "metadata": {
        "id": "lcsx1WCc8wGX"
      }
    },
    {
      "cell_type": "markdown",
      "source": [
        "#Data Cleaning"
      ],
      "metadata": {
        "id": "yOKmuVluiLdN"
      }
    },
    {
      "cell_type": "markdown",
      "source": [
        "#Missing Value Treatment"
      ],
      "metadata": {
        "id": "FkvNIkFAiQPC"
      }
    },
    {
      "cell_type": "code",
      "execution_count": 228,
      "metadata": {
        "id": "Crl6Ce0Oh8T1"
      },
      "outputs": [],
      "source": [
        "#dropping the columns which are not required for the processing ahead.\n",
        "df=data.drop(['CustomerID','ReportedFraud','DateOfPolicyCoverage','DateOfIncident'],axis=1)\n",
        "df_test=data_test.drop(['CustomerID','DateOfPolicyCoverage','DateOfIncident'],axis=1)"
      ]
    },
    {
      "cell_type": "code",
      "execution_count": 229,
      "metadata": {
        "id": "eC8jxsgOh8T2"
      },
      "outputs": [],
      "source": [
        "cat_cols=df.select_dtypes(include='category').columns\n",
        "num_cols=df.select_dtypes(include=['int','float']).columns\n",
        "\n",
        "cat_cols_test=df_test.select_dtypes(include='category').columns\n",
        "num_cols_test=df_test.select_dtypes(include=['int','float']).columns"
      ]
    },
    {
      "cell_type": "markdown",
      "source": [
        "Reading the categorical and numerical column names to use for respective imputations."
      ],
      "metadata": {
        "id": "pDtNVfeW-AqU"
      }
    },
    {
      "cell_type": "markdown",
      "source": [
        "**To obtain the %age of missing values in each column of both Train and Test datasets**"
      ],
      "metadata": {
        "id": "h3O26cCGibgk"
      }
    },
    {
      "cell_type": "code",
      "source": [
        "#to calculate % of missing values:\n",
        "print(\"Percentage of Missing Values in %\")\n",
        "for x in df.columns:\n",
        "  y=((df[x].isna().sum()/df[x].shape[0])*100)\n",
        "  print(x,\":\",y)"
      ],
      "metadata": {
        "id": "QBmL6x7F2-jq",
        "colab": {
          "base_uri": "https://localhost:8080/"
        },
        "outputId": "41762d1b-fba7-426d-8a97-0a8ba1983125"
      },
      "execution_count": 230,
      "outputs": [
        {
          "output_type": "stream",
          "name": "stdout",
          "text": [
            "Percentage of Missing Values in %\n",
            "VehicleModel : 0.0\n",
            "VehicleMake : 0.17339436815092246\n",
            "VehicleYOM : 0.0\n",
            "VehicleID : 0.0\n",
            "InsurancePolicyNumber : 0.0\n",
            "CustomerLoyaltyPeriod : 0.0\n",
            "InsurancePolicyState : 0.0\n",
            "Policy_CombinedSingleLimit : 0.0\n",
            "Policy_Deductible : 0.0\n",
            "PolicyAnnualPremium : 0.0\n",
            "UmbrellaLimit : 0.0\n",
            "InsuredRelationship : 0.0\n",
            "InsuredAge : 0.0\n",
            "InsuredZipCode : 0.0\n",
            "InsuredGender : 0.10403662089055349\n",
            "InsuredEducationLevel : 0.0\n",
            "InsuredOccupation : 0.0\n",
            "InsuredHobbies : 0.0\n",
            "CapitalGains : 0.0\n",
            "CapitalLoss : 0.0\n",
            "Country : 0.006935774726036899\n",
            "TypeOfIncident : 0.0\n",
            "TypeOfCollission : 17.901234567901234\n",
            "SeverityOfIncident : 0.0\n",
            "AuthoritiesContacted : 0.0\n",
            "IncidentState : 0.0\n",
            "IncidentCity : 0.0\n",
            "IncidentAddress : 0.0\n",
            "IncidentTime : 0.10750450825357193\n",
            "NumberOfVehicles : 0.0\n",
            "PropertyDamage : 36.27063392980996\n",
            "BodilyInjuries : 0.0\n",
            "Witnesses : 0.15952281869884866\n",
            "PoliceReport : 34.00263559439589\n",
            "AmountOfTotalClaim : 0.17339436815092246\n",
            "AmountOfInjuryClaim : 0.0\n",
            "AmountOfPropertyClaim : 0.0\n",
            "AmountOfVehicleDamage : 0.0\n"
          ]
        }
      ]
    },
    {
      "cell_type": "code",
      "source": [
        "#to calculate % of missing values in test:\n",
        "print(\"Percentage of Missing Values in test %\")\n",
        "for x in df_test.columns:\n",
        "  y=((df_test[x].isna().sum()/df_test[x].shape[0])*100)\n",
        "  print(x,\":\",y)"
      ],
      "metadata": {
        "id": "R8-f4FAi2-nP",
        "colab": {
          "base_uri": "https://localhost:8080/"
        },
        "outputId": "4574f6c4-bad8-4415-aa38-92cb450800e2"
      },
      "execution_count": 231,
      "outputs": [
        {
          "output_type": "stream",
          "name": "stdout",
          "text": [
            "Percentage of Missing Values in test %\n",
            "VehicleModel : 0.0\n",
            "VehicleMake : 0.08976660682226212\n",
            "VehicleYOM : 0.0\n",
            "VehicleID : 0.0\n",
            "InsurancePolicyNumber : 0.0\n",
            "CustomerLoyaltyPeriod : 0.0\n",
            "InsurancePolicyState : 0.0\n",
            "Policy_CombinedSingleLimit : 0.0\n",
            "Policy_Deductible : 0.0\n",
            "PolicyAnnualPremium : 0.0\n",
            "UmbrellaLimit : 0.0\n",
            "InsuredRelationship : 0.0\n",
            "InsuredAge : 0.0\n",
            "InsuredZipCode : 0.0\n",
            "InsuredGender : 0.08976660682226212\n",
            "InsuredEducationLevel : 0.0\n",
            "InsuredOccupation : 0.0\n",
            "InsuredHobbies : 0.0\n",
            "CapitalGains : 0.0\n",
            "CapitalLoss : 0.0\n",
            "Country : 0.04488330341113106\n",
            "TypeOfIncident : 0.0\n",
            "TypeOfCollission : 19.782315978456015\n",
            "SeverityOfIncident : 0.0\n",
            "AuthoritiesContacted : 0.0\n",
            "IncidentState : 0.0\n",
            "IncidentCity : 0.0\n",
            "IncidentAddress : 0.0\n",
            "IncidentTime : 0.07854578096947935\n",
            "NumberOfVehicles : 0.0\n",
            "PropertyDamage : 35.89542190305207\n",
            "BodilyInjuries : 0.0\n",
            "Witnesses : 0.13464991023339318\n",
            "PoliceReport : 33.819569120287255\n",
            "AmountOfTotalClaim : 0.08976660682226212\n",
            "AmountOfInjuryClaim : 0.0\n",
            "AmountOfPropertyClaim : 0.0\n",
            "AmountOfVehicleDamage : 0.0\n"
          ]
        }
      ]
    },
    {
      "cell_type": "markdown",
      "source": [
        "Iterative Imputer is highly accurate in estimating the missing values compared to other imputers.Features with higher number of missing values will be imputed by Iterative Imputer.\n",
        "\n",
        "Witnesses,Incident Time,Type Of Collission,Insured gender,\\Country and Vehicle Make we can impute the missing values wth the help of Simple Imputer"
      ],
      "metadata": {
        "id": "i38iuJAklw9z"
      }
    },
    {
      "cell_type": "code",
      "source": [
        "si_cat=SimpleImputer(missing_values=np.nan,strategy='most_frequent')\n",
        "\n",
        "df[['Witnesses','IncidentTime','InsuredGender','Country','VehicleMake']]=si_cat.fit_transform(df[['Witnesses','IncidentTime','InsuredGender','Country','VehicleMake']])\n",
        "df_test[['Witnesses','IncidentTime','InsuredGender','Country','VehicleMake']]=si_cat.transform(df_test[['Witnesses','IncidentTime','InsuredGender','Country','VehicleMake']])"
      ],
      "metadata": {
        "id": "qPy6sm_x3COd"
      },
      "execution_count": 232,
      "outputs": []
    },
    {
      "cell_type": "code",
      "source": [
        "cat_le=['VehicleModel', 'VehicleMake', 'VehicleYOM', 'InsurancePolicyState',\n",
        "       'Policy_CombinedSingleLimit', 'InsuredRelationship', 'InsuredGender',\n",
        "       'InsuredEducationLevel', 'InsuredOccupation', 'InsuredHobbies',\n",
        "       'Country', 'TypeOfIncident','SeverityOfIncident',\n",
        "       'AuthoritiesContacted', 'IncidentState', 'IncidentCity',\n",
        "       'IncidentAddress', 'IncidentTime', 'NumberOfVehicles',\n",
        "       'BodilyInjuries', 'Witnesses','InsuredZipCode']\n",
        "cat_le_test=['VehicleModel', 'VehicleMake', 'VehicleYOM', 'InsurancePolicyState',\n",
        "       'Policy_CombinedSingleLimit', 'InsuredRelationship', 'InsuredGender',\n",
        "       'InsuredEducationLevel', 'InsuredOccupation', 'InsuredHobbies',\n",
        "       'Country', 'TypeOfIncident','SeverityOfIncident',\n",
        "       'AuthoritiesContacted', 'IncidentState', 'IncidentCity',\n",
        "       'IncidentAddress', 'IncidentTime', 'NumberOfVehicles',\n",
        "       'BodilyInjuries', 'Witnesses','InsuredZipCode']"
      ],
      "metadata": {
        "id": "jHpK_HgK3KR3"
      },
      "execution_count": 233,
      "outputs": []
    },
    {
      "cell_type": "markdown",
      "source": [
        "Encoding categorical features using LabelEncoder(),as Iterative Imputer expects numerical values as input."
      ],
      "metadata": {
        "id": "zbo7Gu1JVvRA"
      }
    },
    {
      "cell_type": "code",
      "source": [
        "le=LabelEncoder()\n",
        "df_le=pd.DataFrame()\n",
        "df_le=df.drop(['PoliceReport','PropertyDamage','TypeOfCollission'],axis=1)\n",
        "#Encoding labels to categorical data.\n",
        "for x in cat_le:\n",
        "  df_le[x]=le.fit_transform(df_le[x])\n",
        "\n",
        "#Encoding and Mapping the labels to the features with missing values separately and merging them with dataset.\n",
        "PoliceReport=le.fit(df['PoliceReport'].dropna())\n",
        "PoliceReport_map = dict(zip(le.classes_, range(len(le.classes_)))) \n",
        "df_le['PoliceReport'] = df['PoliceReport'].map(PoliceReport_map)\n",
        "df_le['PoliceReport'] = df_le['PoliceReport'].astype('category')\n",
        "\n",
        "PropertyDamage=le.fit(df['PropertyDamage'].dropna())\n",
        "PropertyDamage_map = dict(zip(le.classes_, range(len(le.classes_)))) \n",
        "df_le['PropertyDamage'] = df['PropertyDamage'].map(PropertyDamage_map)\n",
        "df_le['PropertyDamage'] = df_le['PropertyDamage'].astype('category')\n",
        "\n",
        "TypeOfCollission=le.fit(df['TypeOfCollission'].dropna())\n",
        "TypeOfCollission_map = dict(zip(le.classes_, range(len(le.classes_)))) \n",
        "df_le['TypeOfCollission'] = df['TypeOfCollission'].map(TypeOfCollission_map)\n",
        "df_le['TypeOfCollission'] = df_le['TypeOfCollission'].astype('category')\n",
        "\n",
        "#Applying imputer to the dataset.\n",
        "imp = IterativeImputer()\n",
        "imp_cols = df_le.columns\n",
        "df_le=pd.DataFrame(imp.fit_transform(df_le),columns=imp_cols)"
      ],
      "metadata": {
        "id": "ai3g0f_w3SRS"
      },
      "execution_count": 234,
      "outputs": []
    },
    {
      "cell_type": "code",
      "source": [
        "#Repeating same procedure for Test data.\n",
        "le=LabelEncoder()\n",
        "df_le_test=pd.DataFrame()\n",
        "df_le_test=df_test.drop(['PoliceReport','PropertyDamage','TypeOfCollission'],axis=1)\n",
        "\n",
        "for x in cat_le_test:\n",
        "  df_le_test[x]=le.fit_transform(df_le_test[x])\n",
        " \n",
        "df_le_test['PoliceReport'] = df_test['PoliceReport'].map(PoliceReport_map)\n",
        "df_le_test['PoliceReport'] = df_le_test['PoliceReport'].astype('category')\n",
        "\n",
        "df_le_test['PropertyDamage'] = df_test['PropertyDamage'].map(PropertyDamage_map)\n",
        "df_le_test['PropertyDamage'] = df_le_test['PropertyDamage'].astype('category')\n",
        " \n",
        "df_le_test['TypeOfCollission'] = df_test['TypeOfCollission'].map(TypeOfCollission_map)\n",
        "df_le_test['TypeOfCollission'] = df_le_test['TypeOfCollission'].astype('category')\n",
        "\n",
        "imp_cols_test = df_le_test.columns\n",
        "df_le_test=pd.DataFrame(imp.transform(df_le_test),columns=imp_cols_test)"
      ],
      "metadata": {
        "id": "kyhfLPpV28eI"
      },
      "execution_count": 235,
      "outputs": []
    },
    {
      "cell_type": "markdown",
      "source": [
        "Taking the imputed features and merging them with the dataset without labels."
      ],
      "metadata": {
        "id": "EukAPtK5_0G_"
      }
    },
    {
      "cell_type": "code",
      "source": [
        "df_le[['TypeOfCollission','PoliceReport','PropertyDamage']]=np.round(df_le[['TypeOfCollission','PoliceReport','PropertyDamage']])\n",
        "df_le_test[['TypeOfCollission','PoliceReport','PropertyDamage']]=np.round(df_le_test[['TypeOfCollission','PoliceReport','PropertyDamage']])\n",
        "\n",
        "df['PoliceReport']=df_le['PoliceReport'].astype('category')\n",
        "df['TypeOfCollission']=df_le['TypeOfCollission'].astype('category')\n",
        "df['PropertyDamage']=df_le['PropertyDamage'].astype('category')\n",
        "df['AmountOfTotalClaim']=df_le['AmountOfTotalClaim']\n",
        "\n",
        "df_test['PoliceReport']=df_le_test['PoliceReport'].astype('category')\n",
        "df_test['TypeOfCollission']=df_le_test['TypeOfCollission'].astype('category')\n",
        "df_test['PropertyDamage']=df_le_test['PropertyDamage'].astype('category')\n",
        "df_test['AmountOfTotalClaim']=df_le_test['AmountOfTotalClaim']"
      ],
      "metadata": {
        "id": "318uJnF-3eZg"
      },
      "execution_count": 236,
      "outputs": []
    },
    {
      "cell_type": "code",
      "source": [
        "df.dtypes"
      ],
      "metadata": {
        "id": "9qV5hVEoBiF5",
        "colab": {
          "base_uri": "https://localhost:8080/"
        },
        "outputId": "f17ada91-49cf-4719-c1a6-3d84c106c41f"
      },
      "execution_count": 237,
      "outputs": [
        {
          "output_type": "execute_result",
          "data": {
            "text/plain": [
              "VehicleModel                  category\n",
              "VehicleMake                     object\n",
              "VehicleYOM                    category\n",
              "VehicleID                        int64\n",
              "InsurancePolicyNumber            int64\n",
              "CustomerLoyaltyPeriod            int64\n",
              "InsurancePolicyState          category\n",
              "Policy_CombinedSingleLimit    category\n",
              "Policy_Deductible                int64\n",
              "PolicyAnnualPremium            float64\n",
              "UmbrellaLimit                    int64\n",
              "InsuredRelationship           category\n",
              "InsuredAge                       int64\n",
              "InsuredZipCode                   int64\n",
              "InsuredGender                   object\n",
              "InsuredEducationLevel         category\n",
              "InsuredOccupation             category\n",
              "InsuredHobbies                category\n",
              "CapitalGains                     int64\n",
              "CapitalLoss                      int64\n",
              "Country                         object\n",
              "TypeOfIncident                category\n",
              "TypeOfCollission              category\n",
              "SeverityOfIncident            category\n",
              "AuthoritiesContacted          category\n",
              "IncidentState                 category\n",
              "IncidentCity                  category\n",
              "IncidentAddress               category\n",
              "IncidentTime                    object\n",
              "NumberOfVehicles              category\n",
              "PropertyDamage                category\n",
              "BodilyInjuries                category\n",
              "Witnesses                       object\n",
              "PoliceReport                  category\n",
              "AmountOfTotalClaim             float64\n",
              "AmountOfInjuryClaim              int64\n",
              "AmountOfPropertyClaim            int64\n",
              "AmountOfVehicleDamage            int64\n",
              "dtype: object"
            ]
          },
          "metadata": {},
          "execution_count": 237
        }
      ]
    },
    {
      "cell_type": "code",
      "source": [
        "df_test.dtypes"
      ],
      "metadata": {
        "id": "AR7DtM9y1NeE",
        "colab": {
          "base_uri": "https://localhost:8080/"
        },
        "outputId": "96042855-15ea-4d4f-bc91-79817f1fe955"
      },
      "execution_count": 238,
      "outputs": [
        {
          "output_type": "execute_result",
          "data": {
            "text/plain": [
              "VehicleModel                  category\n",
              "VehicleMake                     object\n",
              "VehicleYOM                    category\n",
              "VehicleID                        int64\n",
              "InsurancePolicyNumber            int64\n",
              "CustomerLoyaltyPeriod            int64\n",
              "InsurancePolicyState          category\n",
              "Policy_CombinedSingleLimit    category\n",
              "Policy_Deductible                int64\n",
              "PolicyAnnualPremium            float64\n",
              "UmbrellaLimit                    int64\n",
              "InsuredRelationship           category\n",
              "InsuredAge                       int64\n",
              "InsuredZipCode                   int64\n",
              "InsuredGender                   object\n",
              "InsuredEducationLevel         category\n",
              "InsuredOccupation             category\n",
              "InsuredHobbies                category\n",
              "CapitalGains                     int64\n",
              "CapitalLoss                      int64\n",
              "Country                         object\n",
              "TypeOfIncident                category\n",
              "TypeOfCollission              category\n",
              "SeverityOfIncident            category\n",
              "AuthoritiesContacted          category\n",
              "IncidentState                 category\n",
              "IncidentCity                  category\n",
              "IncidentAddress               category\n",
              "IncidentTime                    object\n",
              "NumberOfVehicles              category\n",
              "PropertyDamage                category\n",
              "BodilyInjuries                category\n",
              "Witnesses                       object\n",
              "PoliceReport                  category\n",
              "AmountOfTotalClaim             float64\n",
              "AmountOfInjuryClaim              int64\n",
              "AmountOfPropertyClaim            int64\n",
              "AmountOfVehicleDamage            int64\n",
              "dtype: object"
            ]
          },
          "metadata": {},
          "execution_count": 238
        }
      ]
    },
    {
      "cell_type": "markdown",
      "source": [
        "Some columns have been missing their dtype,so reassigning the type to those columns."
      ],
      "metadata": {
        "id": "ayj-4UnvAD3o"
      }
    },
    {
      "cell_type": "code",
      "source": [
        "df[['VehicleMake','Witnesses','Country','InsuredGender','IncidentTime',\n",
        "    'InsuredZipCode']]=df[['VehicleMake','Witnesses','Country','InsuredGender','IncidentTime','InsuredZipCode']].astype('category')\n",
        "df_test[['VehicleMake','Witnesses','Country','InsuredGender','IncidentTime',\n",
        "         'InsuredZipCode']]=df_test[['VehicleMake','Witnesses','Country','InsuredGender','IncidentTime','InsuredZipCode']].astype('category')"
      ],
      "metadata": {
        "id": "LpC4RYL1i6QE"
      },
      "execution_count": 239,
      "outputs": []
    },
    {
      "cell_type": "markdown",
      "source": [
        "#Outlier Detection and Treatment"
      ],
      "metadata": {
        "id": "jVAiJ617ksyC"
      }
    },
    {
      "cell_type": "code",
      "source": [
        "box=df[num_cols]\n",
        "box.describe()"
      ],
      "metadata": {
        "colab": {
          "base_uri": "https://localhost:8080/",
          "height": 364
        },
        "id": "dHOFzM_GrvVE",
        "outputId": "354bf2b7-e915-4f0c-a35b-f7cbbd5f2fb5"
      },
      "execution_count": 240,
      "outputs": [
        {
          "output_type": "execute_result",
          "data": {
            "text/plain": [
              "          VehicleID  InsurancePolicyNumber  CustomerLoyaltyPeriod  \\\n",
              "count  28836.000000           28836.000000           28836.000000   \n",
              "mean   20651.174261          129312.517097             203.067867   \n",
              "std    11114.833360           11114.060267              99.932951   \n",
              "min     1401.000000          110122.000000               1.000000   \n",
              "25%    11035.750000          119698.750000             126.000000   \n",
              "50%    20623.000000          129278.500000             199.000000   \n",
              "75%    30275.250000          138933.250000             267.000000   \n",
              "max    39898.000000          148619.000000             479.000000   \n",
              "\n",
              "       Policy_Deductible  PolicyAnnualPremium  UmbrellaLimit    InsuredAge  \\\n",
              "count       28836.000000         28836.000000   2.883600e+04  28836.000000   \n",
              "mean         1114.282529          1255.528382   9.836680e+05     38.815370   \n",
              "std           546.632816           223.013899   1.969282e+06      7.996377   \n",
              "min           500.000000            -1.000000  -1.000000e+06     19.000000   \n",
              "25%           622.000000          1122.007500   0.000000e+00     33.000000   \n",
              "50%          1000.000000          1265.205000   0.000000e+00     38.000000   \n",
              "75%          1627.000000          1396.605000   4.859610e+05     44.000000   \n",
              "max          2000.000000          2047.590000   1.000000e+07     64.000000   \n",
              "\n",
              "        CapitalGains    CapitalLoss  AmountOfTotalClaim  AmountOfInjuryClaim  \\\n",
              "count   28836.000000   28836.000000        28836.000000         28836.000000   \n",
              "mean    23066.569566  -24940.612429        52308.118012          7337.118428   \n",
              "std     27637.813724   27913.209608        25101.479144          4427.638593   \n",
              "min         0.000000 -111100.000000          150.000000             0.000000   \n",
              "25%         0.000000  -50000.000000        44652.000000          4743.750000   \n",
              "50%         0.000000       0.000000        58359.500000          7147.000000   \n",
              "75%     49000.000000       0.000000        68977.000000         10571.250000   \n",
              "max    100500.000000       0.000000       114920.000000         21450.000000   \n",
              "\n",
              "       AmountOfPropertyClaim  AmountOfVehicleDamage  \n",
              "count           28836.000000           28836.000000  \n",
              "mean             7283.870197           37687.129387  \n",
              "std              4375.842738           17977.048232  \n",
              "min                 0.000000             109.000000  \n",
              "25%              4862.000000           32193.250000  \n",
              "50%              7051.000000           42457.500000  \n",
              "75%             10327.000000           49535.750000  \n",
              "max             23670.000000           79560.000000  "
            ],
            "text/html": [
              "\n",
              "  <div id=\"df-a1534571-0e4f-4816-a866-537489b33056\">\n",
              "    <div class=\"colab-df-container\">\n",
              "      <div>\n",
              "<style scoped>\n",
              "    .dataframe tbody tr th:only-of-type {\n",
              "        vertical-align: middle;\n",
              "    }\n",
              "\n",
              "    .dataframe tbody tr th {\n",
              "        vertical-align: top;\n",
              "    }\n",
              "\n",
              "    .dataframe thead th {\n",
              "        text-align: right;\n",
              "    }\n",
              "</style>\n",
              "<table border=\"1\" class=\"dataframe\">\n",
              "  <thead>\n",
              "    <tr style=\"text-align: right;\">\n",
              "      <th></th>\n",
              "      <th>VehicleID</th>\n",
              "      <th>InsurancePolicyNumber</th>\n",
              "      <th>CustomerLoyaltyPeriod</th>\n",
              "      <th>Policy_Deductible</th>\n",
              "      <th>PolicyAnnualPremium</th>\n",
              "      <th>UmbrellaLimit</th>\n",
              "      <th>InsuredAge</th>\n",
              "      <th>CapitalGains</th>\n",
              "      <th>CapitalLoss</th>\n",
              "      <th>AmountOfTotalClaim</th>\n",
              "      <th>AmountOfInjuryClaim</th>\n",
              "      <th>AmountOfPropertyClaim</th>\n",
              "      <th>AmountOfVehicleDamage</th>\n",
              "    </tr>\n",
              "  </thead>\n",
              "  <tbody>\n",
              "    <tr>\n",
              "      <th>count</th>\n",
              "      <td>28836.000000</td>\n",
              "      <td>28836.000000</td>\n",
              "      <td>28836.000000</td>\n",
              "      <td>28836.000000</td>\n",
              "      <td>28836.000000</td>\n",
              "      <td>2.883600e+04</td>\n",
              "      <td>28836.000000</td>\n",
              "      <td>28836.000000</td>\n",
              "      <td>28836.000000</td>\n",
              "      <td>28836.000000</td>\n",
              "      <td>28836.000000</td>\n",
              "      <td>28836.000000</td>\n",
              "      <td>28836.000000</td>\n",
              "    </tr>\n",
              "    <tr>\n",
              "      <th>mean</th>\n",
              "      <td>20651.174261</td>\n",
              "      <td>129312.517097</td>\n",
              "      <td>203.067867</td>\n",
              "      <td>1114.282529</td>\n",
              "      <td>1255.528382</td>\n",
              "      <td>9.836680e+05</td>\n",
              "      <td>38.815370</td>\n",
              "      <td>23066.569566</td>\n",
              "      <td>-24940.612429</td>\n",
              "      <td>52308.118012</td>\n",
              "      <td>7337.118428</td>\n",
              "      <td>7283.870197</td>\n",
              "      <td>37687.129387</td>\n",
              "    </tr>\n",
              "    <tr>\n",
              "      <th>std</th>\n",
              "      <td>11114.833360</td>\n",
              "      <td>11114.060267</td>\n",
              "      <td>99.932951</td>\n",
              "      <td>546.632816</td>\n",
              "      <td>223.013899</td>\n",
              "      <td>1.969282e+06</td>\n",
              "      <td>7.996377</td>\n",
              "      <td>27637.813724</td>\n",
              "      <td>27913.209608</td>\n",
              "      <td>25101.479144</td>\n",
              "      <td>4427.638593</td>\n",
              "      <td>4375.842738</td>\n",
              "      <td>17977.048232</td>\n",
              "    </tr>\n",
              "    <tr>\n",
              "      <th>min</th>\n",
              "      <td>1401.000000</td>\n",
              "      <td>110122.000000</td>\n",
              "      <td>1.000000</td>\n",
              "      <td>500.000000</td>\n",
              "      <td>-1.000000</td>\n",
              "      <td>-1.000000e+06</td>\n",
              "      <td>19.000000</td>\n",
              "      <td>0.000000</td>\n",
              "      <td>-111100.000000</td>\n",
              "      <td>150.000000</td>\n",
              "      <td>0.000000</td>\n",
              "      <td>0.000000</td>\n",
              "      <td>109.000000</td>\n",
              "    </tr>\n",
              "    <tr>\n",
              "      <th>25%</th>\n",
              "      <td>11035.750000</td>\n",
              "      <td>119698.750000</td>\n",
              "      <td>126.000000</td>\n",
              "      <td>622.000000</td>\n",
              "      <td>1122.007500</td>\n",
              "      <td>0.000000e+00</td>\n",
              "      <td>33.000000</td>\n",
              "      <td>0.000000</td>\n",
              "      <td>-50000.000000</td>\n",
              "      <td>44652.000000</td>\n",
              "      <td>4743.750000</td>\n",
              "      <td>4862.000000</td>\n",
              "      <td>32193.250000</td>\n",
              "    </tr>\n",
              "    <tr>\n",
              "      <th>50%</th>\n",
              "      <td>20623.000000</td>\n",
              "      <td>129278.500000</td>\n",
              "      <td>199.000000</td>\n",
              "      <td>1000.000000</td>\n",
              "      <td>1265.205000</td>\n",
              "      <td>0.000000e+00</td>\n",
              "      <td>38.000000</td>\n",
              "      <td>0.000000</td>\n",
              "      <td>0.000000</td>\n",
              "      <td>58359.500000</td>\n",
              "      <td>7147.000000</td>\n",
              "      <td>7051.000000</td>\n",
              "      <td>42457.500000</td>\n",
              "    </tr>\n",
              "    <tr>\n",
              "      <th>75%</th>\n",
              "      <td>30275.250000</td>\n",
              "      <td>138933.250000</td>\n",
              "      <td>267.000000</td>\n",
              "      <td>1627.000000</td>\n",
              "      <td>1396.605000</td>\n",
              "      <td>4.859610e+05</td>\n",
              "      <td>44.000000</td>\n",
              "      <td>49000.000000</td>\n",
              "      <td>0.000000</td>\n",
              "      <td>68977.000000</td>\n",
              "      <td>10571.250000</td>\n",
              "      <td>10327.000000</td>\n",
              "      <td>49535.750000</td>\n",
              "    </tr>\n",
              "    <tr>\n",
              "      <th>max</th>\n",
              "      <td>39898.000000</td>\n",
              "      <td>148619.000000</td>\n",
              "      <td>479.000000</td>\n",
              "      <td>2000.000000</td>\n",
              "      <td>2047.590000</td>\n",
              "      <td>1.000000e+07</td>\n",
              "      <td>64.000000</td>\n",
              "      <td>100500.000000</td>\n",
              "      <td>0.000000</td>\n",
              "      <td>114920.000000</td>\n",
              "      <td>21450.000000</td>\n",
              "      <td>23670.000000</td>\n",
              "      <td>79560.000000</td>\n",
              "    </tr>\n",
              "  </tbody>\n",
              "</table>\n",
              "</div>\n",
              "      <button class=\"colab-df-convert\" onclick=\"convertToInteractive('df-a1534571-0e4f-4816-a866-537489b33056')\"\n",
              "              title=\"Convert this dataframe to an interactive table.\"\n",
              "              style=\"display:none;\">\n",
              "        \n",
              "  <svg xmlns=\"http://www.w3.org/2000/svg\" height=\"24px\"viewBox=\"0 0 24 24\"\n",
              "       width=\"24px\">\n",
              "    <path d=\"M0 0h24v24H0V0z\" fill=\"none\"/>\n",
              "    <path d=\"M18.56 5.44l.94 2.06.94-2.06 2.06-.94-2.06-.94-.94-2.06-.94 2.06-2.06.94zm-11 1L8.5 8.5l.94-2.06 2.06-.94-2.06-.94L8.5 2.5l-.94 2.06-2.06.94zm10 10l.94 2.06.94-2.06 2.06-.94-2.06-.94-.94-2.06-.94 2.06-2.06.94z\"/><path d=\"M17.41 7.96l-1.37-1.37c-.4-.4-.92-.59-1.43-.59-.52 0-1.04.2-1.43.59L10.3 9.45l-7.72 7.72c-.78.78-.78 2.05 0 2.83L4 21.41c.39.39.9.59 1.41.59.51 0 1.02-.2 1.41-.59l7.78-7.78 2.81-2.81c.8-.78.8-2.07 0-2.86zM5.41 20L4 18.59l7.72-7.72 1.47 1.35L5.41 20z\"/>\n",
              "  </svg>\n",
              "      </button>\n",
              "      \n",
              "  <style>\n",
              "    .colab-df-container {\n",
              "      display:flex;\n",
              "      flex-wrap:wrap;\n",
              "      gap: 12px;\n",
              "    }\n",
              "\n",
              "    .colab-df-convert {\n",
              "      background-color: #E8F0FE;\n",
              "      border: none;\n",
              "      border-radius: 50%;\n",
              "      cursor: pointer;\n",
              "      display: none;\n",
              "      fill: #1967D2;\n",
              "      height: 32px;\n",
              "      padding: 0 0 0 0;\n",
              "      width: 32px;\n",
              "    }\n",
              "\n",
              "    .colab-df-convert:hover {\n",
              "      background-color: #E2EBFA;\n",
              "      box-shadow: 0px 1px 2px rgba(60, 64, 67, 0.3), 0px 1px 3px 1px rgba(60, 64, 67, 0.15);\n",
              "      fill: #174EA6;\n",
              "    }\n",
              "\n",
              "    [theme=dark] .colab-df-convert {\n",
              "      background-color: #3B4455;\n",
              "      fill: #D2E3FC;\n",
              "    }\n",
              "\n",
              "    [theme=dark] .colab-df-convert:hover {\n",
              "      background-color: #434B5C;\n",
              "      box-shadow: 0px 1px 3px 1px rgba(0, 0, 0, 0.15);\n",
              "      filter: drop-shadow(0px 1px 2px rgba(0, 0, 0, 0.3));\n",
              "      fill: #FFFFFF;\n",
              "    }\n",
              "  </style>\n",
              "\n",
              "      <script>\n",
              "        const buttonEl =\n",
              "          document.querySelector('#df-a1534571-0e4f-4816-a866-537489b33056 button.colab-df-convert');\n",
              "        buttonEl.style.display =\n",
              "          google.colab.kernel.accessAllowed ? 'block' : 'none';\n",
              "\n",
              "        async function convertToInteractive(key) {\n",
              "          const element = document.querySelector('#df-a1534571-0e4f-4816-a866-537489b33056');\n",
              "          const dataTable =\n",
              "            await google.colab.kernel.invokeFunction('convertToInteractive',\n",
              "                                                     [key], {});\n",
              "          if (!dataTable) return;\n",
              "\n",
              "          const docLinkHtml = 'Like what you see? Visit the ' +\n",
              "            '<a target=\"_blank\" href=https://colab.research.google.com/notebooks/data_table.ipynb>data table notebook</a>'\n",
              "            + ' to learn more about interactive tables.';\n",
              "          element.innerHTML = '';\n",
              "          dataTable['output_type'] = 'display_data';\n",
              "          await google.colab.output.renderOutput(dataTable, element);\n",
              "          const docLink = document.createElement('div');\n",
              "          docLink.innerHTML = docLinkHtml;\n",
              "          element.appendChild(docLink);\n",
              "        }\n",
              "      </script>\n",
              "    </div>\n",
              "  </div>\n",
              "  "
            ]
          },
          "metadata": {},
          "execution_count": 240
        }
      ]
    },
    {
      "cell_type": "markdown",
      "source": [
        "We can see that PolicyAnnualPremium and Umbrella Limit which are expected to be +ve values, have minimum in -ve which are definitely outliers.\n",
        "\n",
        "We will be replacing them with the median.\n",
        "For the Umbrella Limit its better to inverse the sign maybe.\n",
        "\n",
        "Rest all columns appear pretty normal for now so wont change anything"
      ],
      "metadata": {
        "id": "H6XkxBwOtNal"
      }
    },
    {
      "cell_type": "code",
      "source": [
        "policy_premium=df['PolicyAnnualPremium'].to_list()\n",
        "for x in range(len(policy_premium)):\n",
        "  if(policy_premium[x]<0):\n",
        "    policy_premium[x]=median(policy_premium)\n",
        "\n",
        "df['PolicyAnnualPremium']=policy_premium\n",
        "\n",
        "sns.boxplot(df['PolicyAnnualPremium'])"
      ],
      "metadata": {
        "colab": {
          "base_uri": "https://localhost:8080/",
          "height": 351
        },
        "id": "0Pw8O0Cvbp3w",
        "outputId": "5ff370a9-141c-4d61-bfc7-b5206c4a112e"
      },
      "execution_count": 241,
      "outputs": [
        {
          "output_type": "stream",
          "name": "stderr",
          "text": [
            "/usr/local/lib/python3.7/dist-packages/seaborn/_decorators.py:43: FutureWarning: Pass the following variable as a keyword arg: x. From version 0.12, the only valid positional argument will be `data`, and passing other arguments without an explicit keyword will result in an error or misinterpretation.\n",
            "  FutureWarning\n"
          ]
        },
        {
          "output_type": "execute_result",
          "data": {
            "text/plain": [
              "<matplotlib.axes._subplots.AxesSubplot at 0x7f263a948810>"
            ]
          },
          "metadata": {},
          "execution_count": 241
        },
        {
          "output_type": "display_data",
          "data": {
            "text/plain": [
              "<Figure size 432x288 with 1 Axes>"
            ],
            "image/png": "[encoded data removed]"
          },
          "metadata": {
            "needs_background": "light"
          }
        }
      ]
    },
    {
      "cell_type": "code",
      "source": [
        "#the figure shows Umbrella limit has some outlier(-ve values):from industrial view -ve umbrella limit is invalid.so lets multiply them with -1,to make them positive\n",
        "umbrella_limit=df['UmbrellaLimit'].to_list()\n",
        "for x in range(len(umbrella_limit)):\n",
        "  if(umbrella_limit[x]<0):\n",
        "    umbrella_limit[x]=umbrella_limit[x]*(-1)\n",
        "\n",
        "df['UmbrellaLimit']=umbrella_limit\n",
        "\n",
        "sns.boxplot(df['UmbrellaLimit'])"
      ],
      "metadata": {
        "id": "N9P-EWY4W-O5",
        "colab": {
          "base_uri": "https://localhost:8080/",
          "height": 351
        },
        "outputId": "b92cb4a4-bf2f-405f-e62b-3d187d29e630"
      },
      "execution_count": 242,
      "outputs": [
        {
          "output_type": "stream",
          "name": "stderr",
          "text": [
            "/usr/local/lib/python3.7/dist-packages/seaborn/_decorators.py:43: FutureWarning: Pass the following variable as a keyword arg: x. From version 0.12, the only valid positional argument will be `data`, and passing other arguments without an explicit keyword will result in an error or misinterpretation.\n",
            "  FutureWarning\n"
          ]
        },
        {
          "output_type": "execute_result",
          "data": {
            "text/plain": [
              "<matplotlib.axes._subplots.AxesSubplot at 0x7f2639fbb110>"
            ]
          },
          "metadata": {},
          "execution_count": 242
        },
        {
          "output_type": "display_data",
          "data": {
            "text/plain": [
              "<Figure size 432x288 with 1 Axes>"
            ],
            "image/png": "[encoded data removed]"
          },
          "metadata": {
            "needs_background": "light"
          }
        }
      ]
    },
    {
      "cell_type": "markdown",
      "source": [
        "#Feature Engineering"
      ],
      "metadata": {
        "id": "lsvBzi0iwxiD"
      }
    },
    {
      "cell_type": "markdown",
      "source": [
        "**Delta Days**\n",
        "\n",
        "The difference in number of days between the Date Of Policy Coverage and the Date of the incident is calculated and stored as Delta Days."
      ],
      "metadata": {
        "id": "RtgOfjTmSFl6"
      }
    },
    {
      "cell_type": "code",
      "source": [
        "delta,z=[],[]\n",
        "for x in range(len(date)):\n",
        "  y=(date[x]-new_dop[x])\n",
        "  delta.append(y)\n",
        "\n",
        "DifferenceOfDays=pd.Series(delta)\n",
        "for x in range(len(DifferenceOfDays)):\n",
        "  y=(str(DifferenceOfDays[x]).split(\" \"))\n",
        "  z.append(y[0])\n",
        "#######################################\n",
        "delta_test,z_test=[],[]\n",
        "for x in range(len(date_test)):\n",
        "  y=(date_test[x]-new_dop_test[x])\n",
        "  delta_test.append(y)\n",
        "\n",
        "DifferenceOfDays_test=pd.Series(delta_test)\n",
        "for x in range(len(DifferenceOfDays_test)):\n",
        "  y=(str(DifferenceOfDays_test[x]).split(\" \"))\n",
        "  z_test.append(y[0])\n",
        "############################################################\n",
        "df['DeltaDays']=z\n",
        "df_test['DeltaDays']=z_test\n",
        "df['DeltaDays']=df['DeltaDays'].astype('int')\n",
        "df_test['DeltaDays']=df_test['DeltaDays'].astype('int')"
      ],
      "metadata": {
        "id": "kRHQraQ_wm37"
      },
      "execution_count": 243,
      "outputs": []
    },
    {
      "cell_type": "markdown",
      "source": [
        "#Feature Transformation"
      ],
      "metadata": {
        "id": "FSbfMRI3w-OF"
      }
    },
    {
      "cell_type": "markdown",
      "source": [
        "**Numerical To Categorical**\n",
        "\n",
        "1.Umbrella_Limit:There are some datapoints with 0 limit and some very high.As its value is of not much use but the presence or absence of the limit might help us.\n",
        "\n",
        "2.InsuredAge:Binning the age values:\n",
        "\n",
        "20-35:Young\n",
        "\n",
        "36-50:Senior\n",
        "\n",
        "50+:Old"
      ],
      "metadata": {
        "id": "OZX3esx9Qg-e"
      }
    },
    {
      "cell_type": "code",
      "source": [
        "umbrella=np.round(df['UmbrellaLimit'].to_list())\n",
        "new_limit=[]\n",
        "for i in range(len(umbrella)):\n",
        "  if(umbrella[i]==0):\n",
        "    new_limit.append('Absent')\n",
        "  else:\n",
        "    new_limit.append('Present')\n",
        "\n",
        "df['UmbrellaLimit']=new_limit\n",
        "df['UmbrellaLimit']=df['UmbrellaLimit'].astype('category')\n",
        "\n",
        "umbrella_test=np.round(df_test['UmbrellaLimit'].to_list())\n",
        "new_limit_test=[]\n",
        "for i in range(len(umbrella_test)):\n",
        "  if(umbrella_test[i]==0):\n",
        "    new_limit_test.append('Absent')\n",
        "  else:\n",
        "    new_limit_test.append('Present')\n",
        "\n",
        "df_test['UmbrellaLimit']=new_limit_test\n",
        "df_test['UmbrellaLimit']=df_test['UmbrellaLimit'].astype('category')"
      ],
      "metadata": {
        "id": "K0j46-sbPzKJ"
      },
      "execution_count": 244,
      "outputs": []
    },
    {
      "cell_type": "code",
      "source": [
        "age=df['InsuredAge'].to_list()\n",
        "new_age=[]\n",
        "for i in range(len(age)):\n",
        "  if(age[i]<=35):\n",
        "    new_age.append('Young')\n",
        "  elif(35<age[i]<=50):\n",
        "    new_age.append('Senior')\n",
        "  else:\n",
        "    new_age.append('Old')\n",
        "\n",
        "df['InsuredAge']=new_age\n",
        "df['InsuredAge']=df['InsuredAge'].astype('category')\n",
        "\n",
        "age_test=df_test['InsuredAge'].to_list()\n",
        "new_age_test=[]\n",
        "for i in range(len(age_test)):\n",
        "  if(age_test[i]<=35):\n",
        "    new_age_test.append('Young')\n",
        "  elif(35<age_test[i]<=50):\n",
        "    new_age_test.append('Senior')\n",
        "  else:\n",
        "    new_age_test.append('Old')\n",
        "\n",
        "df_test['InsuredAge']=new_age_test\n",
        "df_test['InsuredAge']=df_test['InsuredAge'].astype('category')"
      ],
      "metadata": {
        "id": "yqxuI5FZQnsV"
      },
      "execution_count": 245,
      "outputs": []
    },
    {
      "cell_type": "markdown",
      "source": [
        "#Feature Scaling"
      ],
      "metadata": {
        "id": "6M2oPzJ0w6zs"
      }
    },
    {
      "cell_type": "code",
      "source": [
        "df.dtypes"
      ],
      "metadata": {
        "colab": {
          "base_uri": "https://localhost:8080/"
        },
        "id": "wHJejwsrw311",
        "outputId": "056db794-4e84-4bd0-f021-4b3b1de93ce3"
      },
      "execution_count": 246,
      "outputs": [
        {
          "output_type": "execute_result",
          "data": {
            "text/plain": [
              "VehicleModel                  category\n",
              "VehicleMake                   category\n",
              "VehicleYOM                    category\n",
              "VehicleID                        int64\n",
              "InsurancePolicyNumber            int64\n",
              "CustomerLoyaltyPeriod            int64\n",
              "InsurancePolicyState          category\n",
              "Policy_CombinedSingleLimit    category\n",
              "Policy_Deductible                int64\n",
              "PolicyAnnualPremium            float64\n",
              "UmbrellaLimit                 category\n",
              "InsuredRelationship           category\n",
              "InsuredAge                    category\n",
              "InsuredZipCode                category\n",
              "InsuredGender                 category\n",
              "InsuredEducationLevel         category\n",
              "InsuredOccupation             category\n",
              "InsuredHobbies                category\n",
              "CapitalGains                     int64\n",
              "CapitalLoss                      int64\n",
              "Country                       category\n",
              "TypeOfIncident                category\n",
              "TypeOfCollission              category\n",
              "SeverityOfIncident            category\n",
              "AuthoritiesContacted          category\n",
              "IncidentState                 category\n",
              "IncidentCity                  category\n",
              "IncidentAddress               category\n",
              "IncidentTime                  category\n",
              "NumberOfVehicles              category\n",
              "PropertyDamage                category\n",
              "BodilyInjuries                category\n",
              "Witnesses                     category\n",
              "PoliceReport                  category\n",
              "AmountOfTotalClaim             float64\n",
              "AmountOfInjuryClaim              int64\n",
              "AmountOfPropertyClaim            int64\n",
              "AmountOfVehicleDamage            int64\n",
              "DeltaDays                        int64\n",
              "dtype: object"
            ]
          },
          "metadata": {},
          "execution_count": 246
        }
      ]
    },
    {
      "cell_type": "code",
      "source": [
        "cat_cols=df.select_dtypes(include='category').columns\n",
        "num_cols=df.select_dtypes(include=np.number).columns\n",
        "num_cols_test=num_cols\n",
        "cat_cols_test=cat_cols"
      ],
      "metadata": {
        "id": "xmgmIcKEj2Kj"
      },
      "execution_count": 247,
      "outputs": []
    },
    {
      "cell_type": "markdown",
      "source": [
        "**Robust Scaler() for scaling the numerical values**\n",
        "\n",
        "Why RobustScaler()?\n",
        "\n",
        "Not sensitive to outliers as it uses IQR to scale the data unlike MinMax scaler that uses min and max values"
      ],
      "metadata": {
        "id": "5kEFgpAzSWHL"
      }
    },
    {
      "cell_type": "code",
      "source": [
        "rs=RobustScaler()\n",
        "df[num_cols]=rs.fit_transform(df[num_cols])\n",
        "df_test[num_cols_test]=rs.transform(df_test[num_cols_test])"
      ],
      "metadata": {
        "id": "s6Vr5Ouy_37L"
      },
      "execution_count": 248,
      "outputs": []
    },
    {
      "cell_type": "markdown",
      "source": [
        "**Categorical To Numerical**\n",
        "\n",
        "1.Response Encoding:Used to convert categorical features with more unique values into numerical values.Where each unique data in a feature is assigned its respective chi2 value.Done to retain data importance and to save computation time\n",
        "\n",
        "2.Dummification:To convert categorical features into numerical as required by the models."
      ],
      "metadata": {
        "id": "-piNVV7QxW58"
      }
    },
    {
      "cell_type": "markdown",
      "source": [
        "**Reponse Encoding**"
      ],
      "metadata": {
        "id": "Axqrc6v-BzFS"
      }
    },
    {
      "cell_type": "code",
      "source": [
        "# 1.Response Encoding\n",
        "#Response Encoding:To handle columns with large categorical values:helps to reduce column count\n",
        "#find the related scores of each incident location with target..then map them to their places in dataframe\n",
        "def response_encoding(data,data_test,target):\n",
        "  bin_data=pd.get_dummies(data=data,prefix_sep=\"_\")\n",
        "  fraud=pd.get_dummies(data=target,drop_first=True,prefix_sep=\"_\").astype('category')\n",
        "  features = array(bin_data.columns)\n",
        "  model=SelectKBest(chi2,k='all')\n",
        "  model.fit_transform(X=bin_data,y=fraud)\n",
        "  filter=model.get_support()\n",
        "  scores=model.scores_\n",
        "  bin_map=dict(zip(features,scores))\n",
        "  data=data.map(bin_map).astype('float')\n",
        "  data_test=data_test.map(bin_map).astype('float')\n",
        "  return data,data_test\n",
        "\n",
        "cols=['VehicleModel','Policy_CombinedSingleLimit','InsuredOccupation','InsuredHobbies','InsuredEducationLevel',\n",
        "      'IncidentCity','IncidentAddress','VehicleMake','VehicleYOM','IncidentTime','InsuredRelationship','InsuredZipCode','InsurancePolicyState']\n",
        "for x in cols:\n",
        "  df[x],df_test[x]=response_encoding(df[x],df_test[x],data['ReportedFraud'])"
      ],
      "metadata": {
        "id": "WzWwbSo7wiEq",
        "colab": {
          "base_uri": "https://localhost:8080/"
        },
        "outputId": "b273a779-deea-4934-bdea-003a89799c04"
      },
      "execution_count": 249,
      "outputs": [
        {
          "output_type": "stream",
          "name": "stderr",
          "text": [
            "/usr/local/lib/python3.7/dist-packages/sklearn/utils/validation.py:1692: FutureWarning: Feature names only support names that are all strings. Got feature names with dtypes: ['float']. An error will be raised in 1.2.\n",
            "  FutureWarning,\n",
            "/usr/local/lib/python3.7/dist-packages/sklearn/utils/validation.py:1692: FutureWarning: Feature names only support names that are all strings. Got feature names with dtypes: ['float']. An error will be raised in 1.2.\n",
            "  FutureWarning,\n"
          ]
        }
      ]
    },
    {
      "cell_type": "code",
      "source": [
        "df['InsuredAge']"
      ],
      "metadata": {
        "colab": {
          "base_uri": "https://localhost:8080/"
        },
        "id": "sBOqvEYvVWxY",
        "outputId": "713f1ba9-4df4-40a0-8bb2-115786499c5d"
      },
      "execution_count": 250,
      "outputs": [
        {
          "output_type": "execute_result",
          "data": {
            "text/plain": [
              "0         Young\n",
              "1        Senior\n",
              "2         Young\n",
              "3           Old\n",
              "4        Senior\n",
              "          ...  \n",
              "28831    Senior\n",
              "28832     Young\n",
              "28833    Senior\n",
              "28834    Senior\n",
              "28835     Young\n",
              "Name: InsuredAge, Length: 28836, dtype: category\n",
              "Categories (3, object): ['Old', 'Senior', 'Young']"
            ]
          },
          "metadata": {},
          "execution_count": 250
        }
      ]
    },
    {
      "cell_type": "markdown",
      "source": [
        "**Dummification**"
      ],
      "metadata": {
        "id": "3ZTB_v8JxcqR"
      }
    },
    {
      "cell_type": "code",
      "source": [
        "cat_cols=df.select_dtypes(include='category').columns\n",
        "num_cols=df.select_dtypes(include=np.number).columns\n",
        "num_cols_test=num_cols\n",
        "cat_cols_test=cat_cols"
      ],
      "metadata": {
        "id": "0tw3WQOvLvkr"
      },
      "execution_count": 251,
      "outputs": []
    },
    {
      "cell_type": "code",
      "source": [
        "df_dum=pd.get_dummies(data=df[cat_cols],prefix_sep=\"_\",drop_first=True)\n",
        "df_dum_test=pd.get_dummies(data=df_test[cat_cols_test],prefix_sep=\"_\",drop_first=True)\n",
        "\n",
        "fs_x=pd.DataFrame()\n",
        "fs_x=pd.concat((df[num_cols],df_dum),axis=1)\n",
        "fs_y=pd.get_dummies(data=data['ReportedFraud'],drop_first=True,prefix_sep=\"_\").astype('category')\n",
        "\n",
        "fs_x_test=pd.DataFrame()\n",
        "fs_x_test=pd.concat((df_test[num_cols],df_dum_test),axis=1)"
      ],
      "metadata": {
        "id": "7TWn7loVA_f_"
      },
      "execution_count": 252,
      "outputs": []
    },
    {
      "cell_type": "markdown",
      "source": [
        "#Feature Selection and Elimination\n",
        "\n",
        "To eliminate the features of less importance that helps to avoid overfitting as well as to save computation time and resources."
      ],
      "metadata": {
        "id": "WUHvgyLCxGEU"
      }
    },
    {
      "cell_type": "code",
      "source": [
        "#Feature Selection#coz using chi2 in presence of negative values was not possible\n",
        "model=SelectKBest(f_classif,k='all')\n",
        "model.fit_transform(X=fs_x,y=fs_y)\n",
        "filter = model.get_support()\n",
        "features = array(fs_x.columns)\n",
        "scores=model.scores_\n",
        "new_score=[]\n",
        "feature_select=[]\n",
        "for i in range(len(scores)):\n",
        "  if(scores[i]>100):\n",
        "    new_score.append(scores[i])\n",
        "    feature_select.append(features[i])\n"
      ],
      "metadata": {
        "colab": {
          "base_uri": "https://localhost:8080/"
        },
        "id": "KkE2BbHYzodG",
        "outputId": "342a08fb-5a48-48d3-f452-df88abc2eab8"
      },
      "execution_count": 253,
      "outputs": [
        {
          "output_type": "stream",
          "name": "stderr",
          "text": [
            "/usr/local/lib/python3.7/dist-packages/sklearn/utils/validation.py:993: DataConversionWarning: A column-vector y was passed when a 1d array was expected. Please change the shape of y to (n_samples, ), for example using ravel().\n",
            "  y = column_or_1d(y, warn=True)\n"
          ]
        }
      ]
    },
    {
      "cell_type": "markdown",
      "source": [
        "**Relevance score of 100 is kept as threshold to select features hence able to eliminate low relevant features**"
      ],
      "metadata": {
        "id": "n4RKFOHKXx3T"
      }
    },
    {
      "cell_type": "code",
      "source": [
        "plt.figure(figsize=(15,8))\n",
        "top_features=feature_select\n",
        "top_scores=new_score\n",
        "plt.bar(x=top_features,height=top_scores)\n",
        "plt.xticks(rotation=30)\n",
        "plt.show()"
      ],
      "metadata": {
        "colab": {
          "base_uri": "https://localhost:8080/",
          "height": 583
        },
        "id": "cO7L9PSHKuPx",
        "outputId": "5d6aed68-229a-4373-cd61-5caa2a722aaa"
      },
      "execution_count": 254,
      "outputs": [
        {
          "output_type": "display_data",
          "data": {
            "text/plain": [
              "<Figure size 1080x576 with 1 Axes>"
            ],
            "image/png": "[encoded data removed]"
          },
          "metadata": {
            "needs_background": "light"
          }
        }
      ]
    },
    {
      "cell_type": "code",
      "source": [
        "dict(zip(features,scores))"
      ],
      "metadata": {
        "id": "sjFUQG3b6bdh",
        "colab": {
          "base_uri": "https://localhost:8080/"
        },
        "outputId": "abb77ffd-a25b-4000-bd34-4220059b041e"
      },
      "execution_count": 255,
      "outputs": [
        {
          "output_type": "execute_result",
          "data": {
            "text/plain": [
              "{'VehicleModel': 100.64113361455166,\n",
              " 'VehicleMake': 13.514907464082581,\n",
              " 'VehicleYOM': 6.913559188031048,\n",
              " 'VehicleID': 0.48293364648861903,\n",
              " 'InsurancePolicyNumber': 8822.262373183992,\n",
              " 'CustomerLoyaltyPeriod': 7.212019809563465,\n",
              " 'InsurancePolicyState': 34.3423866459456,\n",
              " 'Policy_CombinedSingleLimit': 5.738191323861359,\n",
              " 'Policy_Deductible': 1.8702436831271831,\n",
              " 'PolicyAnnualPremium': 10.872045694136952,\n",
              " 'InsuredRelationship': 0.9382502500445693,\n",
              " 'InsuredZipCode': 37835.823351808875,\n",
              " 'InsuredEducationLevel': 28.340322671459724,\n",
              " 'InsuredOccupation': 89.95628824739084,\n",
              " 'InsuredHobbies': 3668.338670970535,\n",
              " 'CapitalGains': 0.05423785759426894,\n",
              " 'CapitalLoss': 5.702703425146956,\n",
              " 'IncidentCity': 26.082804176951065,\n",
              " 'IncidentAddress': 38143.01901906945,\n",
              " 'IncidentTime': 0.39549973124208876,\n",
              " 'AmountOfTotalClaim': 721.7540127208904,\n",
              " 'AmountOfInjuryClaim': 184.0303467856476,\n",
              " 'AmountOfPropertyClaim': 534.5467362630837,\n",
              " 'AmountOfVehicleDamage': 814.5014933193462,\n",
              " 'DeltaDays': 1.0685293850361635,\n",
              " 'UmbrellaLimit_Present': 122.40883944038515,\n",
              " 'InsuredAge_Senior': 11.496115632072627,\n",
              " 'InsuredAge_Young': 0.6629755848799045,\n",
              " 'InsuredGender_MALE': 19.223435491302084,\n",
              " 'TypeOfIncident_Parked Car': 311.7546815152351,\n",
              " 'TypeOfIncident_Single Vehicle Collision': 163.94157232581787,\n",
              " 'TypeOfIncident_Vehicle Theft': 286.33846912033437,\n",
              " 'TypeOfCollission_1.0': 34.28489187302478,\n",
              " 'TypeOfCollission_2.0': 7.436571648517008,\n",
              " 'SeverityOfIncident_Minor Damage': 1291.3698502587802,\n",
              " 'SeverityOfIncident_Total Loss': 663.4415429567902,\n",
              " 'SeverityOfIncident_Trivial Damage': 323.47103682946005,\n",
              " 'AuthoritiesContacted_Fire': 24.591068494480304,\n",
              " 'AuthoritiesContacted_None': 448.1969436994176,\n",
              " 'AuthoritiesContacted_Other': 103.49608992037201,\n",
              " 'AuthoritiesContacted_Police': 38.29697633704737,\n",
              " 'IncidentState_State4': 72.99946666339544,\n",
              " 'IncidentState_State5': 54.13679473025757,\n",
              " 'IncidentState_State6': 8.978859191438643,\n",
              " 'IncidentState_State7': 190.1456050323386,\n",
              " 'IncidentState_State8': 13.823302968835877,\n",
              " 'IncidentState_State9': 199.82694949497582,\n",
              " 'NumberOfVehicles_2': 11.372672292162319,\n",
              " 'NumberOfVehicles_3': 5.729044144698478,\n",
              " 'NumberOfVehicles_4': 69.73714083839963,\n",
              " 'PropertyDamage_1.0': 82.72624236295232,\n",
              " 'BodilyInjuries_1': 0.104212920931788,\n",
              " 'BodilyInjuries_2': 12.95468692544809,\n",
              " 'Witnesses_1': 1.7281357669245496,\n",
              " 'Witnesses_2': 120.55720412085424,\n",
              " 'Witnesses_3': 0.5849513215240264,\n",
              " 'PoliceReport_1.0': 0.98167402078747}"
            ]
          },
          "metadata": {},
          "execution_count": 255
        }
      ]
    },
    {
      "cell_type": "markdown",
      "source": [
        "The important features are listed under the name 'feature_select' and stored in train and test."
      ],
      "metadata": {
        "id": "Fvu4J5YERhEe"
      }
    },
    {
      "cell_type": "code",
      "source": [
        "train=fs_x[feature_select]\n",
        "train.drop('InsurancePolicyNumber',axis=1,inplace=True)\n",
        "test=fs_x_test[feature_select]\n",
        "test.drop('InsurancePolicyNumber',axis=1,inplace=True)"
      ],
      "metadata": {
        "id": "k9thIx3SCbjR",
        "colab": {
          "base_uri": "https://localhost:8080/"
        },
        "outputId": "eb320488-cc0e-4349-a9aa-cbff21b66f21"
      },
      "execution_count": 256,
      "outputs": [
        {
          "output_type": "stream",
          "name": "stderr",
          "text": [
            "/usr/local/lib/python3.7/dist-packages/pandas/core/frame.py:4913: SettingWithCopyWarning: \n",
            "A value is trying to be set on a copy of a slice from a DataFrame\n",
            "\n",
            "See the caveats in the documentation: https://pandas.pydata.org/pandas-docs/stable/user_guide/indexing.html#returning-a-view-versus-a-copy\n",
            "  errors=errors,\n"
          ]
        }
      ]
    },
    {
      "cell_type": "code",
      "source": [
        "X=train\n",
        "y=pd.get_dummies(data=data['ReportedFraud'],drop_first=True,prefix_sep=\"_\").astype('category')"
      ],
      "metadata": {
        "id": "lvF9zOoCvy8j"
      },
      "execution_count": 257,
      "outputs": []
    },
    {
      "cell_type": "markdown",
      "source": [
        "Splitting train data into Train and Validation sets to train and validate the models before applying the test data on it."
      ],
      "metadata": {
        "id": "JHj3-JH55ltl"
      }
    },
    {
      "cell_type": "code",
      "source": [
        "X_train,X_val,y_train,y_val=train_test_split(X,y,stratify=y,test_size=0.15,random_state=322)\n",
        "X_test=test"
      ],
      "metadata": {
        "id": "dEoIp6OmwWSr"
      },
      "execution_count": 258,
      "outputs": []
    },
    {
      "cell_type": "markdown",
      "source": [
        "#Model Building"
      ],
      "metadata": {
        "id": "uekYu0aHtAtd"
      }
    },
    {
      "cell_type": "markdown",
      "source": [
        "After a bit of research and recommendations from the web listed the below classifiers to work on"
      ],
      "metadata": {
        "id": "hKHGfSy9ll_p"
      }
    },
    {
      "cell_type": "markdown",
      "source": [
        "**Model Selection and Training**"
      ],
      "metadata": {
        "id": "XES4bukmn4AN"
      }
    },
    {
      "cell_type": "markdown",
      "source": [
        "**Logistic Regression**\n",
        "\n",
        "Computationally low and Simple in execution"
      ],
      "metadata": {
        "id": "Sj25slzDpREr"
      }
    },
    {
      "cell_type": "code",
      "source": [
        "st=time.time()\n",
        "lr=LogisticRegression(max_iter=500)#maxsamples,class_weight\n",
        "lr.fit(X_train,y_train)\n",
        "y_lr=lr.predict(X_val)\n",
        "lr_prob=lr.predict_proba(X_val)\n",
        "et=time.time()\n",
        "time_lr=et-st\n",
        "print(classification_report(y_val,y_lr))\n",
        "print(\"Total time taken:\",time_lr)"
      ],
      "metadata": {
        "colab": {
          "base_uri": "https://localhost:8080/"
        },
        "id": "xU7A5cEfpMKM",
        "outputId": "ecde79b3-98a5-4c7b-9f67-9cc0b9592750"
      },
      "execution_count": 145,
      "outputs": [
        {
          "output_type": "stream",
          "name": "stderr",
          "text": [
            "/usr/local/lib/python3.7/dist-packages/sklearn/utils/validation.py:993: DataConversionWarning: A column-vector y was passed when a 1d array was expected. Please change the shape of y to (n_samples, ), for example using ravel().\n",
            "  y = column_or_1d(y, warn=True)\n"
          ]
        },
        {
          "output_type": "stream",
          "name": "stdout",
          "text": [
            "              precision    recall  f1-score   support\n",
            "\n",
            "           0       0.94      0.98      0.96      3158\n",
            "           1       0.95      0.82      0.88      1168\n",
            "\n",
            "    accuracy                           0.94      4326\n",
            "   macro avg       0.94      0.90      0.92      4326\n",
            "weighted avg       0.94      0.94      0.94      4326\n",
            "\n",
            "Total time taken: 3.2597155570983887\n"
          ]
        }
      ]
    },
    {
      "cell_type": "markdown",
      "source": [
        "**Decision Tree Classifier**\n",
        "\n",
        "Simple to interpret and faster than many others."
      ],
      "metadata": {
        "id": "NpJ_I6R1pwbj"
      }
    },
    {
      "cell_type": "code",
      "source": [
        "st=time.time()\n",
        "dtc=DecisionTreeClassifier()#maxsamples,class_weight\n",
        "dtc.fit(X_train,y_train)\n",
        "y_dtc=dtc.predict(X_val)\n",
        "dtc_prob=dtc.predict_proba(X_val)\n",
        "et=time.time()\n",
        "time_dtc=et-st\n",
        "print(classification_report(y_val,y_dtc))\n",
        "print(\"Total time taken:\",time_dtc)"
      ],
      "metadata": {
        "colab": {
          "base_uri": "https://localhost:8080/"
        },
        "id": "RY_XhtJmpvjj",
        "outputId": "ee29f7c0-0f2e-4f9f-8f4a-3b3494cad13f"
      },
      "execution_count": 147,
      "outputs": [
        {
          "output_type": "stream",
          "name": "stdout",
          "text": [
            "              precision    recall  f1-score   support\n",
            "\n",
            "           0       0.93      0.91      0.92      3158\n",
            "           1       0.77      0.81      0.79      1168\n",
            "\n",
            "    accuracy                           0.88      4326\n",
            "   macro avg       0.85      0.86      0.86      4326\n",
            "weighted avg       0.89      0.88      0.89      4326\n",
            "\n",
            "Total time taken: 0.5864462852478027\n"
          ]
        }
      ]
    },
    {
      "cell_type": "markdown",
      "source": [
        "**Random Forest Classifier**\n",
        "\n",
        "Good at learning patterns with large datasets\n",
        "\n",
        "Does not overfit on the data"
      ],
      "metadata": {
        "id": "TggvXfyY6vmV"
      }
    },
    {
      "cell_type": "code",
      "source": [
        "st=time.time()\n",
        "rfc=RandomForestClassifier()#maxsamples,class_weight\n",
        "model=rfc.fit(X_train,y_train)\n",
        "y_rfc=model.predict(X_val)\n",
        "rfc_prob=model.predict_proba(X_val)\n",
        "et=time.time()\n",
        "time_rfc=et-st\n",
        "print(classification_report(y_val,y_rfc))\n",
        "print(\"Total time taken:\",time_rfc)\n",
        "#n_estimators=200,max_depth=4,class_weight='balanced',warm_start=True,bootstrap=True,oob_score=True"
      ],
      "metadata": {
        "colab": {
          "base_uri": "https://localhost:8080/"
        },
        "id": "dsLMWOSewrBX",
        "outputId": "4c8b8f47-bc64-4405-a5f2-44b0ec3543e1"
      },
      "execution_count": 148,
      "outputs": [
        {
          "output_type": "stream",
          "name": "stderr",
          "text": [
            "/usr/local/lib/python3.7/dist-packages/ipykernel_launcher.py:3: DataConversionWarning: A column-vector y was passed when a 1d array was expected. Please change the shape of y to (n_samples,), for example using ravel().\n",
            "  This is separate from the ipykernel package so we can avoid doing imports until\n"
          ]
        },
        {
          "output_type": "stream",
          "name": "stdout",
          "text": [
            "              precision    recall  f1-score   support\n",
            "\n",
            "           0       0.94      0.98      0.96      3158\n",
            "           1       0.94      0.84      0.89      1168\n",
            "\n",
            "    accuracy                           0.94      4326\n",
            "   macro avg       0.94      0.91      0.92      4326\n",
            "weighted avg       0.94      0.94      0.94      4326\n",
            "\n",
            "Total time taken: 4.8158228397369385\n"
          ]
        }
      ]
    },
    {
      "cell_type": "markdown",
      "source": [
        "**Light Gradient Boosting Classifier**\n",
        "\n",
        "Can handle large size of data and requires low memory for computation"
      ],
      "metadata": {
        "id": "q4SxjSeV672s"
      }
    },
    {
      "cell_type": "code",
      "source": [
        "st=time.time()\n",
        "lgb=lgbm.LGBMClassifier()\n",
        "lgb.fit(X_train,y_train)\n",
        "y_lgb=lgb.predict(X_val)\n",
        "lgb_prob=lgb.predict_proba(X_val)\n",
        "et=time.time()\n",
        "time_lgb=et-st\n",
        "#max_bin=2000,num_leaves=70,boosting_type='dart',objective='binary',num_iterations=700,n_estimators=6000,random_state=115232,learning_rate=0.09\n",
        "print(classification_report(y_val,y_lgb))\n",
        "print(\"Total time taken:\",time_lgb)"
      ],
      "metadata": {
        "colab": {
          "base_uri": "https://localhost:8080/"
        },
        "id": "LkUaWF5fSDKd",
        "outputId": "cce3007e-dabc-4fbe-ad23-144866939969"
      },
      "execution_count": 150,
      "outputs": [
        {
          "output_type": "stream",
          "name": "stderr",
          "text": [
            "/usr/local/lib/python3.7/dist-packages/sklearn/preprocessing/_label.py:98: DataConversionWarning: A column-vector y was passed when a 1d array was expected. Please change the shape of y to (n_samples, ), for example using ravel().\n",
            "  y = column_or_1d(y, warn=True)\n",
            "/usr/local/lib/python3.7/dist-packages/sklearn/preprocessing/_label.py:133: DataConversionWarning: A column-vector y was passed when a 1d array was expected. Please change the shape of y to (n_samples, ), for example using ravel().\n",
            "  y = column_or_1d(y, warn=True)\n"
          ]
        },
        {
          "output_type": "stream",
          "name": "stdout",
          "text": [
            "              precision    recall  f1-score   support\n",
            "\n",
            "           0       0.94      0.98      0.96      3158\n",
            "           1       0.94      0.84      0.89      1168\n",
            "\n",
            "    accuracy                           0.94      4326\n",
            "   macro avg       0.94      0.91      0.93      4326\n",
            "weighted avg       0.94      0.94      0.94      4326\n",
            "\n",
            "Total time taken: 0.4716827869415283\n"
          ]
        }
      ]
    },
    {
      "cell_type": "markdown",
      "source": [
        "**Voting Classifier**\n",
        "\n",
        "Reduces variance as it considers the majority voting from the estimators."
      ],
      "metadata": {
        "id": "Ej9TQUK-7BRq"
      }
    },
    {
      "cell_type": "code",
      "source": [
        "st=time.time()\n",
        "estimators_vote = [('knn',KNeighborsClassifier()),('lr',LogisticRegression(max_iter=500)),('dtc',DecisionTreeClassifier()),\n",
        "               ('nb',GaussianNB()),('lgb',lgbm.LGBMClassifier())]\n",
        "\n",
        "vote = VotingClassifier(estimators=estimators_vote,voting='hard',verbose=0)\n",
        "vote.fit(X_train, y_train)\n",
        "y_vote=vote.predict(X_val)\n",
        "vote1 = VotingClassifier(estimators=estimators_vote,voting='soft',verbose=0)\n",
        "vote1.fit(X_train, y_train)\n",
        "vote_prob=vote1.predict_proba(X_val)\n",
        "et=time.time()\n",
        "time_vote=et-st\n",
        "print(classification_report(y_val,y_vote))\n",
        "print(\"Total time taken:\",time_vote)"
      ],
      "metadata": {
        "colab": {
          "base_uri": "https://localhost:8080/"
        },
        "id": "a3bfkijhTt4t",
        "outputId": "92423fff-6ccb-41ea-bb9e-18fd66f865f1"
      },
      "execution_count": 152,
      "outputs": [
        {
          "output_type": "stream",
          "name": "stderr",
          "text": [
            "/usr/local/lib/python3.7/dist-packages/sklearn/preprocessing/_label.py:98: DataConversionWarning: A column-vector y was passed when a 1d array was expected. Please change the shape of y to (n_samples, ), for example using ravel().\n",
            "  y = column_or_1d(y, warn=True)\n",
            "/usr/local/lib/python3.7/dist-packages/sklearn/preprocessing/_label.py:133: DataConversionWarning: A column-vector y was passed when a 1d array was expected. Please change the shape of y to (n_samples, ), for example using ravel().\n",
            "  y = column_or_1d(y, warn=True)\n",
            "/usr/local/lib/python3.7/dist-packages/sklearn/preprocessing/_label.py:98: DataConversionWarning: A column-vector y was passed when a 1d array was expected. Please change the shape of y to (n_samples, ), for example using ravel().\n",
            "  y = column_or_1d(y, warn=True)\n",
            "/usr/local/lib/python3.7/dist-packages/sklearn/preprocessing/_label.py:133: DataConversionWarning: A column-vector y was passed when a 1d array was expected. Please change the shape of y to (n_samples, ), for example using ravel().\n",
            "  y = column_or_1d(y, warn=True)\n"
          ]
        },
        {
          "output_type": "stream",
          "name": "stdout",
          "text": [
            "              precision    recall  f1-score   support\n",
            "\n",
            "           0       0.94      0.98      0.96      3158\n",
            "           1       0.94      0.84      0.89      1168\n",
            "\n",
            "    accuracy                           0.94      4326\n",
            "   macro avg       0.94      0.91      0.93      4326\n",
            "weighted avg       0.94      0.94      0.94      4326\n",
            "\n",
            "Total time taken: 12.675782680511475\n"
          ]
        }
      ]
    },
    {
      "cell_type": "code",
      "source": [
        "vote_prob1=[]\n",
        "for i in range(len(vote_prob[0])):\n",
        "  if(vote_prob[0][i]>0.5):\n",
        "    vote_prob1.append(vote_prob[0][i])\n",
        "  else:\n",
        "    vote_prob1.append(vote_prob[1][i])\n",
        "\n",
        "vote_prob1"
      ],
      "metadata": {
        "colab": {
          "base_uri": "https://localhost:8080/"
        },
        "id": "NvOWYCVYc8KI",
        "outputId": "4a15ee72-1be7-4b00-fa42-1ee4e9d5f9ec"
      },
      "execution_count": 153,
      "outputs": [
        {
          "output_type": "execute_result",
          "data": {
            "text/plain": [
              "[0.9795500634605773, 0.027450263661490344]"
            ]
          },
          "metadata": {},
          "execution_count": 153
        }
      ]
    },
    {
      "cell_type": "markdown",
      "source": [
        "#Model Evaluation\n"
      ],
      "metadata": {
        "id": "WMutyR8V7Fmt"
      }
    },
    {
      "cell_type": "markdown",
      "source": [
        "**Model Cross Validation**\n",
        "Why?:\n",
        "Applying K Fold cross validation to find the F1_score and Std deviation obtained after training on different subsets of train data to choose an optimal model.\n",
        "\n",
        "Optimal Model:Low STD deviation,less Run Time,More F1_score,More roc_auc score\n",
        "\n",
        "**Repeated Stratified K Fold cross validation**\n",
        "\n",
        "Why??\n",
        "\n",
        "1.Repeats Stratified K-Fold n times with different randomization in each repetition allowing model to run on different data subsets everytime.\n",
        "\n",
        "2.Stratified: ratio of target values(example:ratio of values 0 to 1) are maintained constant in all the subsets."
      ],
      "metadata": {
        "id": "IeQgsRAj5pZn"
      }
    },
    {
      "cell_type": "code",
      "source": [
        "#The entire dataset(X,y) is used for the process\n",
        "estimators_vote = [('knn',KNeighborsClassifier()),('lr',LogisticRegression(max_iter=500,verbose=0)),('dtc',DecisionTreeClassifier()),\n",
        "               ('nb',GaussianNB()),('lgb',lgbm.LGBMClassifier())]\n",
        "\n",
        "estimators=[LogisticRegression(max_iter=500),DecisionTreeClassifier(),RandomForestClassifier(),\n",
        "            lgbm.LGBMClassifier(),VotingClassifier(estimators=estimators_vote,voting='hard')]\n",
        "\n",
        "score_dict={}\n",
        "n=1\n",
        "for i in estimators:\n",
        "  rsk=RepeatedStratifiedKFold(n_splits=5,n_repeats=5)\n",
        "  score=[]\n",
        "  score=cross_val_score(estimator=i,X=X,y=y,scoring='f1_weighted',cv=rsk,verbose=False)\n",
        "  score_dict[n]=[i,mean(score),std(score)]\n",
        "  n=n+1"
      ],
      "metadata": {
        "id": "V0DWdP5mCXvz"
      },
      "execution_count": null,
      "outputs": []
    },
    {
      "cell_type": "code",
      "source": [
        "roc_score=[]\n",
        "y_val_scores=[lr_prob[:,1],dtc_prob[:,1],rfc_prob[:,1],lgb_prob[:,1],vote_prob[:,1]]\n",
        "for i in y_val_scores:\n",
        "  roc_score.append(roc_auc_score(y_val,i))\n",
        "\n",
        "y_pred=[y_lr,y_dtc,y_rfc,y_lgb,y_vote]\n",
        "f1_scores=[]\n",
        "for i in y_pred:\n",
        "  f1_scores.append(f1_score(y_val,i))"
      ],
      "metadata": {
        "id": "kGyQEDeScu6q"
      },
      "execution_count": null,
      "outputs": []
    },
    {
      "cell_type": "code",
      "source": [
        "model_evaluation=pd.DataFrame(score_dict).T\n",
        "model_evaluation.columns=['Estimator','F1_score','STD of score']\n",
        "model_evaluation['Run Time']=[time_lr,time_dtc,time_rfc,time_lgb,time_vote]\n",
        "model_evaluation['F1_score_Train']=f1_scores\n",
        "model_evaluation['roc_auc_score']=roc_score\n",
        "model_evaluation"
      ],
      "metadata": {
        "colab": {
          "base_uri": "https://localhost:8080/",
          "height": 206
        },
        "id": "lQYiuFML6GK0",
        "outputId": "a742a6db-8302-49da-971c-5f8eb12b2826"
      },
      "execution_count": 296,
      "outputs": [
        {
          "output_type": "execute_result",
          "data": {
            "text/plain": [
              "                                           Estimator  F1_score STD of score  \\\n",
              "1                   LogisticRegression(max_iter=500)  0.937818     0.003389   \n",
              "2                           DecisionTreeClassifier()  0.885689     0.003746   \n",
              "3                           RandomForestClassifier()   0.94047     0.002628   \n",
              "4                                   LGBMClassifier()  0.942293     0.002383   \n",
              "5  VotingClassifier(estimators=[('knn', KNeighbor...  0.942175     0.002938   \n",
              "\n",
              "    Run Time  F1_score_Train  roc_auc_score  \n",
              "1   4.302066        0.887082       0.899616  \n",
              "2   0.098595        0.887884       0.932924  \n",
              "3  13.054498        0.888387       0.929865  \n",
              "4   4.496232        0.884097       0.936211  \n",
              "5  38.240140        0.888387       0.923996  "
            ],
            "text/html": [
              "\n",
              "  <div id=\"df-6d8212b0-014c-459c-aa85-cf94109748ce\">\n",
              "    <div class=\"colab-df-container\">\n",
              "      <div>\n",
              "<style scoped>\n",
              "    .dataframe tbody tr th:only-of-type {\n",
              "        vertical-align: middle;\n",
              "    }\n",
              "\n",
              "    .dataframe tbody tr th {\n",
              "        vertical-align: top;\n",
              "    }\n",
              "\n",
              "    .dataframe thead th {\n",
              "        text-align: right;\n",
              "    }\n",
              "</style>\n",
              "<table border=\"1\" class=\"dataframe\">\n",
              "  <thead>\n",
              "    <tr style=\"text-align: right;\">\n",
              "      <th></th>\n",
              "      <th>Estimator</th>\n",
              "      <th>F1_score</th>\n",
              "      <th>STD of score</th>\n",
              "      <th>Run Time</th>\n",
              "      <th>F1_score_Train</th>\n",
              "      <th>roc_auc_score</th>\n",
              "    </tr>\n",
              "  </thead>\n",
              "  <tbody>\n",
              "    <tr>\n",
              "      <th>1</th>\n",
              "      <td>LogisticRegression(max_iter=500)</td>\n",
              "      <td>0.937818</td>\n",
              "      <td>0.003389</td>\n",
              "      <td>4.302066</td>\n",
              "      <td>0.887082</td>\n",
              "      <td>0.899616</td>\n",
              "    </tr>\n",
              "    <tr>\n",
              "      <th>2</th>\n",
              "      <td>DecisionTreeClassifier()</td>\n",
              "      <td>0.885689</td>\n",
              "      <td>0.003746</td>\n",
              "      <td>0.098595</td>\n",
              "      <td>0.887884</td>\n",
              "      <td>0.932924</td>\n",
              "    </tr>\n",
              "    <tr>\n",
              "      <th>3</th>\n",
              "      <td>RandomForestClassifier()</td>\n",
              "      <td>0.94047</td>\n",
              "      <td>0.002628</td>\n",
              "      <td>13.054498</td>\n",
              "      <td>0.888387</td>\n",
              "      <td>0.929865</td>\n",
              "    </tr>\n",
              "    <tr>\n",
              "      <th>4</th>\n",
              "      <td>LGBMClassifier()</td>\n",
              "      <td>0.942293</td>\n",
              "      <td>0.002383</td>\n",
              "      <td>4.496232</td>\n",
              "      <td>0.884097</td>\n",
              "      <td>0.936211</td>\n",
              "    </tr>\n",
              "    <tr>\n",
              "      <th>5</th>\n",
              "      <td>VotingClassifier(estimators=[('knn', KNeighbor...</td>\n",
              "      <td>0.942175</td>\n",
              "      <td>0.002938</td>\n",
              "      <td>38.240140</td>\n",
              "      <td>0.888387</td>\n",
              "      <td>0.923996</td>\n",
              "    </tr>\n",
              "  </tbody>\n",
              "</table>\n",
              "</div>\n",
              "      <button class=\"colab-df-convert\" onclick=\"convertToInteractive('df-6d8212b0-014c-459c-aa85-cf94109748ce')\"\n",
              "              title=\"Convert this dataframe to an interactive table.\"\n",
              "              style=\"display:none;\">\n",
              "        \n",
              "  <svg xmlns=\"http://www.w3.org/2000/svg\" height=\"24px\"viewBox=\"0 0 24 24\"\n",
              "       width=\"24px\">\n",
              "    <path d=\"M0 0h24v24H0V0z\" fill=\"none\"/>\n",
              "    <path d=\"M18.56 5.44l.94 2.06.94-2.06 2.06-.94-2.06-.94-.94-2.06-.94 2.06-2.06.94zm-11 1L8.5 8.5l.94-2.06 2.06-.94-2.06-.94L8.5 2.5l-.94 2.06-2.06.94zm10 10l.94 2.06.94-2.06 2.06-.94-2.06-.94-.94-2.06-.94 2.06-2.06.94z\"/><path d=\"M17.41 7.96l-1.37-1.37c-.4-.4-.92-.59-1.43-.59-.52 0-1.04.2-1.43.59L10.3 9.45l-7.72 7.72c-.78.78-.78 2.05 0 2.83L4 21.41c.39.39.9.59 1.41.59.51 0 1.02-.2 1.41-.59l7.78-7.78 2.81-2.81c.8-.78.8-2.07 0-2.86zM5.41 20L4 18.59l7.72-7.72 1.47 1.35L5.41 20z\"/>\n",
              "  </svg>\n",
              "      </button>\n",
              "      \n",
              "  <style>\n",
              "    .colab-df-container {\n",
              "      display:flex;\n",
              "      flex-wrap:wrap;\n",
              "      gap: 12px;\n",
              "    }\n",
              "\n",
              "    .colab-df-convert {\n",
              "      background-color: #E8F0FE;\n",
              "      border: none;\n",
              "      border-radius: 50%;\n",
              "      cursor: pointer;\n",
              "      display: none;\n",
              "      fill: #1967D2;\n",
              "      height: 32px;\n",
              "      padding: 0 0 0 0;\n",
              "      width: 32px;\n",
              "    }\n",
              "\n",
              "    .colab-df-convert:hover {\n",
              "      background-color: #E2EBFA;\n",
              "      box-shadow: 0px 1px 2px rgba(60, 64, 67, 0.3), 0px 1px 3px 1px rgba(60, 64, 67, 0.15);\n",
              "      fill: #174EA6;\n",
              "    }\n",
              "\n",
              "    [theme=dark] .colab-df-convert {\n",
              "      background-color: #3B4455;\n",
              "      fill: #D2E3FC;\n",
              "    }\n",
              "\n",
              "    [theme=dark] .colab-df-convert:hover {\n",
              "      background-color: #434B5C;\n",
              "      box-shadow: 0px 1px 3px 1px rgba(0, 0, 0, 0.15);\n",
              "      filter: drop-shadow(0px 1px 2px rgba(0, 0, 0, 0.3));\n",
              "      fill: #FFFFFF;\n",
              "    }\n",
              "  </style>\n",
              "\n",
              "      <script>\n",
              "        const buttonEl =\n",
              "          document.querySelector('#df-6d8212b0-014c-459c-aa85-cf94109748ce button.colab-df-convert');\n",
              "        buttonEl.style.display =\n",
              "          google.colab.kernel.accessAllowed ? 'block' : 'none';\n",
              "\n",
              "        async function convertToInteractive(key) {\n",
              "          const element = document.querySelector('#df-6d8212b0-014c-459c-aa85-cf94109748ce');\n",
              "          const dataTable =\n",
              "            await google.colab.kernel.invokeFunction('convertToInteractive',\n",
              "                                                     [key], {});\n",
              "          if (!dataTable) return;\n",
              "\n",
              "          const docLinkHtml = 'Like what you see? Visit the ' +\n",
              "            '<a target=\"_blank\" href=https://colab.research.google.com/notebooks/data_table.ipynb>data table notebook</a>'\n",
              "            + ' to learn more about interactive tables.';\n",
              "          element.innerHTML = '';\n",
              "          dataTable['output_type'] = 'display_data';\n",
              "          await google.colab.output.renderOutput(dataTable, element);\n",
              "          const docLink = document.createElement('div');\n",
              "          docLink.innerHTML = docLinkHtml;\n",
              "          element.appendChild(docLink);\n",
              "        }\n",
              "      </script>\n",
              "    </div>\n",
              "  </div>\n",
              "  "
            ]
          },
          "metadata": {},
          "execution_count": 296
        }
      ]
    },
    {
      "cell_type": "markdown",
      "source": [
        "Shows the classifiers with their performace summary."
      ],
      "metadata": {
        "id": "rDhko3c86JdZ"
      }
    },
    {
      "cell_type": "markdown",
      "source": [
        "#Parameter Tuning\n",
        "\n",
        "Tuning of parameters w.r.t the dataset can lead to improved performance of the model helping us to obtain better results."
      ],
      "metadata": {
        "id": "01jQBbu78d1M"
      }
    },
    {
      "cell_type": "markdown",
      "source": [
        "Using RandomizedSearchCV for hyper parameter tuning on the classifiers:\n",
        "\n",
        "Random Forest,K Neighbors,SV,Decision Tree,LGBM,CatBoost"
      ],
      "metadata": {
        "id": "Y1aSxJBE0C4b"
      }
    },
    {
      "cell_type": "code",
      "source": [
        "param_distributions=dict(n_estimators = [200,300,500],max_depth = [4, 8, 12],min_samples_split = [2, 4, 6])\n",
        "rfc_cv = RandomizedSearchCV(RandomForestClassifier(), param_distributions=param_distributions, scoring = 'f1_weighted', cv=5,verbose=0)\n",
        "rfc_cv.fit(X,y)\n",
        "\n",
        "param_distributions=dict(penalty=['l2','l1'],C = [1,10,0.1],class_weight=['balanced',None])\n",
        "lr_cv = RandomizedSearchCV(LogisticRegression(), param_distributions=param_distributions, scoring = 'f1_weighted', cv=5,verbose=0)\n",
        "lr_cv.fit(X,y)\n",
        "\n",
        "param_distributions=dict(n_neighbors = [3,5,7],weights=['distance','uniform'],p=[1,2])\n",
        "knn_cv = RandomizedSearchCV(KNeighborsClassifier(), param_distributions=param_distributions, scoring = 'f1_weighted', cv=5,verbose=0)\n",
        "knn_cv.fit(X,y)\n",
        "\n",
        "param_distributions=dict(max_depth = [4, 8, 12],min_samples_split = [2, 4, 6])\n",
        "dtc_cv = RandomizedSearchCV(DecisionTreeClassifier(), param_distributions=param_distributions, scoring = 'f1_weighted', cv=5,verbose=0)\n",
        "dtc_cv.fit(X,y)\n",
        "\n",
        "param_distributions=dict(learning_rate = [1,0.1,0.001],max_depth=[4,8,12],n_estimators=[300,500,1000])\n",
        "lgb_cv = RandomizedSearchCV(lgbm.LGBMClassifier(), param_distributions=param_distributions, scoring = 'f1_weighted', cv=5,verbose=0)\n",
        "lgb_cv.fit(X,y)"
      ],
      "metadata": {
        "id": "ejT_ZnuAQCJI"
      },
      "execution_count": null,
      "outputs": []
    },
    {
      "cell_type": "code",
      "source": [
        "print(rfc_cv.best_estimator_)\n",
        "print(knn_cv.best_estimator_)\n",
        "print(lr_cv.best_estimator_)\n",
        "print(dtc_cv.best_estimator_)\n",
        "print(lgb_cv.best_estimator_)"
      ],
      "metadata": {
        "id": "OBJY-hEn9Vwv",
        "colab": {
          "base_uri": "https://localhost:8080/"
        },
        "outputId": "55aa150b-cf4d-4513-de36-219e578e1e04"
      },
      "execution_count": 288,
      "outputs": [
        {
          "output_type": "stream",
          "name": "stdout",
          "text": [
            "RandomForestClassifier(max_depth=12, n_estimators=500)\n",
            "KNeighborsClassifier(n_neighbors=7, p=1)\n",
            "LogisticRegression(C=10, class_weight='balanced')\n",
            "DecisionTreeClassifier(max_depth=4, min_samples_split=4)\n",
            "LGBMClassifier(learning_rate=0.001, max_depth=12, n_estimators=500)\n"
          ]
        }
      ]
    },
    {
      "cell_type": "markdown",
      "source": [
        "**Applying the Tuned parameters and checking the performance**"
      ],
      "metadata": {
        "id": "WJft-pIJKvKP"
      }
    },
    {
      "cell_type": "code",
      "source": [
        "st=time.time()\n",
        "lr=LogisticRegression(C=10,class_weight='balanced',max_iter=800)\n",
        "lr.fit(X_train,y_train)\n",
        "y_lr=lr.predict(X_val)\n",
        "lr_prob=lr.predict_proba(X_val)\n",
        "et=time.time()\n",
        "time_lr=et-st\n",
        "print(classification_report(y_val,y_lr))\n",
        "print(\"Total time taken:\",time_lr)"
      ],
      "metadata": {
        "id": "rBo9jAZhK3Q8",
        "outputId": "a170eb7e-4d26-48fa-ffdb-4e5f3a1794f4",
        "colab": {
          "base_uri": "https://localhost:8080/"
        }
      },
      "execution_count": 275,
      "outputs": [
        {
          "output_type": "stream",
          "name": "stderr",
          "text": [
            "/usr/local/lib/python3.7/dist-packages/sklearn/utils/validation.py:993: DataConversionWarning: A column-vector y was passed when a 1d array was expected. Please change the shape of y to (n_samples, ), for example using ravel().\n",
            "  y = column_or_1d(y, warn=True)\n"
          ]
        },
        {
          "output_type": "stream",
          "name": "stdout",
          "text": [
            "              precision    recall  f1-score   support\n",
            "\n",
            "           0       0.94      0.98      0.96      3158\n",
            "           1       0.94      0.84      0.89      1168\n",
            "\n",
            "    accuracy                           0.94      4326\n",
            "   macro avg       0.94      0.91      0.92      4326\n",
            "weighted avg       0.94      0.94      0.94      4326\n",
            "\n",
            "Total time taken: 4.302066087722778\n"
          ]
        }
      ]
    },
    {
      "cell_type": "code",
      "source": [
        "st=time.time()\n",
        "dtc=DecisionTreeClassifier(max_depth=4,min_samples_split=4)\n",
        "dtc.fit(X_train,y_train)\n",
        "y_dtc=dtc.predict(X_val)\n",
        "dtc_prob=dtc.predict_proba(X_val)\n",
        "et=time.time()\n",
        "time_dtc=et-st\n",
        "print(classification_report(y_val,y_dtc))\n",
        "print(\"Total time taken:\",time_dtc)"
      ],
      "metadata": {
        "id": "MAHel8-fK4EG",
        "outputId": "b91fbaf5-43ed-4237-a9d7-77e6bf5c6452",
        "colab": {
          "base_uri": "https://localhost:8080/"
        }
      },
      "execution_count": 276,
      "outputs": [
        {
          "output_type": "stream",
          "name": "stdout",
          "text": [
            "              precision    recall  f1-score   support\n",
            "\n",
            "           0       0.94      0.98      0.96      3158\n",
            "           1       0.94      0.84      0.89      1168\n",
            "\n",
            "    accuracy                           0.94      4326\n",
            "   macro avg       0.94      0.91      0.92      4326\n",
            "weighted avg       0.94      0.94      0.94      4326\n",
            "\n",
            "Total time taken: 0.09859514236450195\n"
          ]
        }
      ]
    },
    {
      "cell_type": "code",
      "source": [
        "st=time.time()\n",
        "rfc=RandomForestClassifier(n_estimators=300,min_samples_split=4,max_depth=8,class_weight='balanced_subsample',bootstrap=True,oob_score=True)#maxsamples,class_weight\n",
        "rfc.fit(X_train,y_train)\n",
        "y_rfc=rfc.predict(X_val)\n",
        "rfc_prob_t=rfc.predict_proba(X_val)\n",
        "et=time.time()\n",
        "time_rfc=et-st\n",
        "print(classification_report(y_val,y_rfc))\n",
        "print(\"Total time taken:\",time_rfc)"
      ],
      "metadata": {
        "id": "7-_EsUWdMngh",
        "colab": {
          "base_uri": "https://localhost:8080/"
        },
        "outputId": "9d96d1d6-c159-4c65-8854-106b595b3c85"
      },
      "execution_count": 271,
      "outputs": [
        {
          "output_type": "stream",
          "name": "stderr",
          "text": [
            "/usr/local/lib/python3.7/dist-packages/ipykernel_launcher.py:3: DataConversionWarning: A column-vector y was passed when a 1d array was expected. Please change the shape of y to (n_samples,), for example using ravel().\n",
            "  This is separate from the ipykernel package so we can avoid doing imports until\n"
          ]
        },
        {
          "output_type": "stream",
          "name": "stdout",
          "text": [
            "              precision    recall  f1-score   support\n",
            "\n",
            "           0       0.94      0.98      0.96      3158\n",
            "           1       0.94      0.84      0.89      1168\n",
            "\n",
            "    accuracy                           0.94      4326\n",
            "   macro avg       0.94      0.91      0.93      4326\n",
            "weighted avg       0.94      0.94      0.94      4326\n",
            "\n",
            "Total time taken: 13.054497718811035\n"
          ]
        }
      ]
    },
    {
      "cell_type": "code",
      "source": [
        "st=time.time()\n",
        "lgb=lgbm.LGBMClassifier(max_depth=8,n_estimators=1000,learning_rate=0.001,class_weight='balanced')\n",
        "lgb.fit(X_train,y_train)\n",
        "y_lgb=lgb.predict(X_val)\n",
        "lgb_prob_t=lgb.predict_proba(X_val)\n",
        "et=time.time()\n",
        "time_lgb=et-st\n",
        "print(classification_report(y_val,y_lgb))\n",
        "print(\"Total time taken:\",time_lgb)"
      ],
      "metadata": {
        "id": "MYSfPdznMtmT",
        "colab": {
          "base_uri": "https://localhost:8080/"
        },
        "outputId": "c3d025fc-9d2f-413b-e1ff-32462960fbd2"
      },
      "execution_count": 278,
      "outputs": [
        {
          "output_type": "stream",
          "name": "stderr",
          "text": [
            "/usr/local/lib/python3.7/dist-packages/sklearn/preprocessing/_label.py:98: DataConversionWarning: A column-vector y was passed when a 1d array was expected. Please change the shape of y to (n_samples, ), for example using ravel().\n",
            "  y = column_or_1d(y, warn=True)\n",
            "/usr/local/lib/python3.7/dist-packages/sklearn/preprocessing/_label.py:133: DataConversionWarning: A column-vector y was passed when a 1d array was expected. Please change the shape of y to (n_samples, ), for example using ravel().\n",
            "  y = column_or_1d(y, warn=True)\n"
          ]
        },
        {
          "output_type": "stream",
          "name": "stdout",
          "text": [
            "              precision    recall  f1-score   support\n",
            "\n",
            "           0       0.94      0.98      0.96      3158\n",
            "           1       0.93      0.84      0.88      1168\n",
            "\n",
            "    accuracy                           0.94      4326\n",
            "   macro avg       0.94      0.91      0.92      4326\n",
            "weighted avg       0.94      0.94      0.94      4326\n",
            "\n",
            "Total time taken: 4.496232271194458\n"
          ]
        }
      ]
    },
    {
      "cell_type": "code",
      "source": [
        "st=time.time()\n",
        "estimators = [('knn',KNeighborsClassifier(n_neighbors=7,p=1)),('dtc',DecisionTreeClassifier(max_depth=4,min_samples_split=4)),\n",
        "              ('lr',LogisticRegression(max_iter=800,C=10,class_weight='balanced')),\n",
        "               ('nb',GaussianNB()),('lgb',lgbm.LGBMClassifier(n_estimators=1000,learning_rate=0.001,max_depth=8,class_weight='balanced'))]\n",
        "\n",
        "vote = VotingClassifier(estimators=estimators,voting='hard',verbose=0)\n",
        "vote.fit(X_train, y_train)\n",
        "y_vote=vote.predict(X_val)\n",
        "vote1 = VotingClassifier(estimators=estimators,voting='soft',verbose=0)\n",
        "vote1.fit(X_train, y_train)\n",
        "vote_prob_t=vote1.predict_proba(X_val)\n",
        "et=time.time()\n",
        "time_vote=et-st\n"
      ],
      "metadata": {
        "id": "dCcQKVvIMtsW"
      },
      "execution_count": null,
      "outputs": []
    },
    {
      "cell_type": "code",
      "source": [
        "print(classification_report(y_val,y_vote))\n",
        "print(\"Total time taken:\",time_vote)"
      ],
      "metadata": {
        "id": "izby31odN3dS",
        "outputId": "4b09d135-f873-4921-fc38-0b0995cdc4cd",
        "colab": {
          "base_uri": "https://localhost:8080/"
        }
      },
      "execution_count": 286,
      "outputs": [
        {
          "output_type": "stream",
          "name": "stdout",
          "text": [
            "              precision    recall  f1-score   support\n",
            "\n",
            "           0       0.94      0.98      0.96      3158\n",
            "           1       0.94      0.84      0.89      1168\n",
            "\n",
            "    accuracy                           0.94      4326\n",
            "   macro avg       0.94      0.91      0.93      4326\n",
            "weighted avg       0.94      0.94      0.94      4326\n",
            "\n",
            "Total time taken: 38.240139961242676\n"
          ]
        }
      ]
    },
    {
      "cell_type": "code",
      "source": [
        "#Model summary after HP tuning\n",
        "roc_score_hp=[]\n",
        "y_val_scores_hp=[lr_prob[:,1],dtc_prob[:,1],rfc_prob[:,1],lgb_prob_t[:,1],vote_prob_t[:,1]]\n",
        "for i in y_val_scores_hp:\n",
        "  roc_score_hp.append(roc_auc_score(y_val,i))\n",
        "\n",
        "y_pred_hp=[y_lr,y_dtc,y_rfc,y_lgb,y_vote]\n",
        "f1_scores_hp=[]\n",
        "for i in y_pred_hp:\n",
        "  f1_scores_hp.append(f1_score(y_val,i))\n",
        "model_hp=model_evaluation[['Estimator','F1_score','STD of score']]\n",
        "model_hp['Run Time_hp']=[time_lr,time_dtc,time_rfc,time_lgb,time_vote]\n",
        "model_hp['F1_score_hp']=f1_scores_hp\n",
        "model_hp['F1_score_default']=model_evaluation['F1_score_Train']\n",
        "model_hp['roc_auc_score_hp']=roc_score_hp\n",
        "model_hp['roc_auc_score_default']=model_evaluation['roc_auc_score']\n",
        "model_hp"
      ],
      "metadata": {
        "id": "TroSvBMmNyCG",
        "colab": {
          "base_uri": "https://localhost:8080/",
          "height": 414
        },
        "outputId": "efe55c1b-fafd-47ca-85d9-1b4ea3491e73"
      },
      "execution_count": 299,
      "outputs": [
        {
          "output_type": "stream",
          "name": "stderr",
          "text": [
            "/usr/local/lib/python3.7/dist-packages/ipykernel_launcher.py:12: SettingWithCopyWarning: \n",
            "A value is trying to be set on a copy of a slice from a DataFrame.\n",
            "Try using .loc[row_indexer,col_indexer] = value instead\n",
            "\n",
            "See the caveats in the documentation: https://pandas.pydata.org/pandas-docs/stable/user_guide/indexing.html#returning-a-view-versus-a-copy\n",
            "  if sys.path[0] == '':\n",
            "/usr/local/lib/python3.7/dist-packages/ipykernel_launcher.py:13: SettingWithCopyWarning: \n",
            "A value is trying to be set on a copy of a slice from a DataFrame.\n",
            "Try using .loc[row_indexer,col_indexer] = value instead\n",
            "\n",
            "See the caveats in the documentation: https://pandas.pydata.org/pandas-docs/stable/user_guide/indexing.html#returning-a-view-versus-a-copy\n",
            "  del sys.path[0]\n"
          ]
        },
        {
          "output_type": "execute_result",
          "data": {
            "text/plain": [
              "                                           Estimator  F1_score STD of score  \\\n",
              "1                   LogisticRegression(max_iter=500)  0.937818     0.003389   \n",
              "2                           DecisionTreeClassifier()  0.885689     0.003746   \n",
              "3                           RandomForestClassifier()   0.94047     0.002628   \n",
              "4                                   LGBMClassifier()  0.942293     0.002383   \n",
              "5  VotingClassifier(estimators=[('knn', KNeighbor...  0.942175     0.002938   \n",
              "\n",
              "   Run Time_hp  F1_score_hp  F1_score_default  roc_auc_score_hp  \\\n",
              "1     4.302066     0.887082          0.887082          0.899616   \n",
              "2     0.098595     0.887884          0.887884          0.932924   \n",
              "3    13.054498     0.888387          0.888387          0.929865   \n",
              "4     4.496232     0.884097          0.884097          0.934784   \n",
              "5    38.240140     0.888387          0.888387          0.930252   \n",
              "\n",
              "   roc_auc_score_default  \n",
              "1               0.899616  \n",
              "2               0.932924  \n",
              "3               0.929865  \n",
              "4               0.936211  \n",
              "5               0.923996  "
            ],
            "text/html": [
              "\n",
              "  <div id=\"df-77057574-9c8b-42aa-9342-ee71b46c9d36\">\n",
              "    <div class=\"colab-df-container\">\n",
              "      <div>\n",
              "<style scoped>\n",
              "    .dataframe tbody tr th:only-of-type {\n",
              "        vertical-align: middle;\n",
              "    }\n",
              "\n",
              "    .dataframe tbody tr th {\n",
              "        vertical-align: top;\n",
              "    }\n",
              "\n",
              "    .dataframe thead th {\n",
              "        text-align: right;\n",
              "    }\n",
              "</style>\n",
              "<table border=\"1\" class=\"dataframe\">\n",
              "  <thead>\n",
              "    <tr style=\"text-align: right;\">\n",
              "      <th></th>\n",
              "      <th>Estimator</th>\n",
              "      <th>F1_score</th>\n",
              "      <th>STD of score</th>\n",
              "      <th>Run Time_hp</th>\n",
              "      <th>F1_score_hp</th>\n",
              "      <th>F1_score_default</th>\n",
              "      <th>roc_auc_score_hp</th>\n",
              "      <th>roc_auc_score_default</th>\n",
              "    </tr>\n",
              "  </thead>\n",
              "  <tbody>\n",
              "    <tr>\n",
              "      <th>1</th>\n",
              "      <td>LogisticRegression(max_iter=500)</td>\n",
              "      <td>0.937818</td>\n",
              "      <td>0.003389</td>\n",
              "      <td>4.302066</td>\n",
              "      <td>0.887082</td>\n",
              "      <td>0.887082</td>\n",
              "      <td>0.899616</td>\n",
              "      <td>0.899616</td>\n",
              "    </tr>\n",
              "    <tr>\n",
              "      <th>2</th>\n",
              "      <td>DecisionTreeClassifier()</td>\n",
              "      <td>0.885689</td>\n",
              "      <td>0.003746</td>\n",
              "      <td>0.098595</td>\n",
              "      <td>0.887884</td>\n",
              "      <td>0.887884</td>\n",
              "      <td>0.932924</td>\n",
              "      <td>0.932924</td>\n",
              "    </tr>\n",
              "    <tr>\n",
              "      <th>3</th>\n",
              "      <td>RandomForestClassifier()</td>\n",
              "      <td>0.94047</td>\n",
              "      <td>0.002628</td>\n",
              "      <td>13.054498</td>\n",
              "      <td>0.888387</td>\n",
              "      <td>0.888387</td>\n",
              "      <td>0.929865</td>\n",
              "      <td>0.929865</td>\n",
              "    </tr>\n",
              "    <tr>\n",
              "      <th>4</th>\n",
              "      <td>LGBMClassifier()</td>\n",
              "      <td>0.942293</td>\n",
              "      <td>0.002383</td>\n",
              "      <td>4.496232</td>\n",
              "      <td>0.884097</td>\n",
              "      <td>0.884097</td>\n",
              "      <td>0.934784</td>\n",
              "      <td>0.936211</td>\n",
              "    </tr>\n",
              "    <tr>\n",
              "      <th>5</th>\n",
              "      <td>VotingClassifier(estimators=[('knn', KNeighbor...</td>\n",
              "      <td>0.942175</td>\n",
              "      <td>0.002938</td>\n",
              "      <td>38.240140</td>\n",
              "      <td>0.888387</td>\n",
              "      <td>0.888387</td>\n",
              "      <td>0.930252</td>\n",
              "      <td>0.923996</td>\n",
              "    </tr>\n",
              "  </tbody>\n",
              "</table>\n",
              "</div>\n",
              "      <button class=\"colab-df-convert\" onclick=\"convertToInteractive('df-77057574-9c8b-42aa-9342-ee71b46c9d36')\"\n",
              "              title=\"Convert this dataframe to an interactive table.\"\n",
              "              style=\"display:none;\">\n",
              "        \n",
              "  <svg xmlns=\"http://www.w3.org/2000/svg\" height=\"24px\"viewBox=\"0 0 24 24\"\n",
              "       width=\"24px\">\n",
              "    <path d=\"M0 0h24v24H0V0z\" fill=\"none\"/>\n",
              "    <path d=\"M18.56 5.44l.94 2.06.94-2.06 2.06-.94-2.06-.94-.94-2.06-.94 2.06-2.06.94zm-11 1L8.5 8.5l.94-2.06 2.06-.94-2.06-.94L8.5 2.5l-.94 2.06-2.06.94zm10 10l.94 2.06.94-2.06 2.06-.94-2.06-.94-.94-2.06-.94 2.06-2.06.94z\"/><path d=\"M17.41 7.96l-1.37-1.37c-.4-.4-.92-.59-1.43-.59-.52 0-1.04.2-1.43.59L10.3 9.45l-7.72 7.72c-.78.78-.78 2.05 0 2.83L4 21.41c.39.39.9.59 1.41.59.51 0 1.02-.2 1.41-.59l7.78-7.78 2.81-2.81c.8-.78.8-2.07 0-2.86zM5.41 20L4 18.59l7.72-7.72 1.47 1.35L5.41 20z\"/>\n",
              "  </svg>\n",
              "      </button>\n",
              "      \n",
              "  <style>\n",
              "    .colab-df-container {\n",
              "      display:flex;\n",
              "      flex-wrap:wrap;\n",
              "      gap: 12px;\n",
              "    }\n",
              "\n",
              "    .colab-df-convert {\n",
              "      background-color: #E8F0FE;\n",
              "      border: none;\n",
              "      border-radius: 50%;\n",
              "      cursor: pointer;\n",
              "      display: none;\n",
              "      fill: #1967D2;\n",
              "      height: 32px;\n",
              "      padding: 0 0 0 0;\n",
              "      width: 32px;\n",
              "    }\n",
              "\n",
              "    .colab-df-convert:hover {\n",
              "      background-color: #E2EBFA;\n",
              "      box-shadow: 0px 1px 2px rgba(60, 64, 67, 0.3), 0px 1px 3px 1px rgba(60, 64, 67, 0.15);\n",
              "      fill: #174EA6;\n",
              "    }\n",
              "\n",
              "    [theme=dark] .colab-df-convert {\n",
              "      background-color: #3B4455;\n",
              "      fill: #D2E3FC;\n",
              "    }\n",
              "\n",
              "    [theme=dark] .colab-df-convert:hover {\n",
              "      background-color: #434B5C;\n",
              "      box-shadow: 0px 1px 3px 1px rgba(0, 0, 0, 0.15);\n",
              "      filter: drop-shadow(0px 1px 2px rgba(0, 0, 0, 0.3));\n",
              "      fill: #FFFFFF;\n",
              "    }\n",
              "  </style>\n",
              "\n",
              "      <script>\n",
              "        const buttonEl =\n",
              "          document.querySelector('#df-77057574-9c8b-42aa-9342-ee71b46c9d36 button.colab-df-convert');\n",
              "        buttonEl.style.display =\n",
              "          google.colab.kernel.accessAllowed ? 'block' : 'none';\n",
              "\n",
              "        async function convertToInteractive(key) {\n",
              "          const element = document.querySelector('#df-77057574-9c8b-42aa-9342-ee71b46c9d36');\n",
              "          const dataTable =\n",
              "            await google.colab.kernel.invokeFunction('convertToInteractive',\n",
              "                                                     [key], {});\n",
              "          if (!dataTable) return;\n",
              "\n",
              "          const docLinkHtml = 'Like what you see? Visit the ' +\n",
              "            '<a target=\"_blank\" href=https://colab.research.google.com/notebooks/data_table.ipynb>data table notebook</a>'\n",
              "            + ' to learn more about interactive tables.';\n",
              "          element.innerHTML = '';\n",
              "          dataTable['output_type'] = 'display_data';\n",
              "          await google.colab.output.renderOutput(dataTable, element);\n",
              "          const docLink = document.createElement('div');\n",
              "          docLink.innerHTML = docLinkHtml;\n",
              "          element.appendChild(docLink);\n",
              "        }\n",
              "      </script>\n",
              "    </div>\n",
              "  </div>\n",
              "  "
            ]
          },
          "metadata": {},
          "execution_count": 299
        }
      ]
    },
    {
      "cell_type": "markdown",
      "source": [
        "#Model Generalisation"
      ],
      "metadata": {
        "id": "2whLsBPbdVBX"
      }
    },
    {
      "cell_type": "markdown",
      "source": [
        "The results are the same even after parameter tuning:\n",
        "LGBM classifier is the better model,with Low time taken to run,high F1_score,low STD of score and high roc_auc score."
      ],
      "metadata": {
        "id": "WsXXeJe_OOIH"
      }
    },
    {
      "cell_type": "markdown",
      "source": [
        "**Applying Model on Test data**"
      ],
      "metadata": {
        "id": "29lbY3By8pfQ"
      }
    },
    {
      "cell_type": "code",
      "source": [
        "#To train the model on complete data\n",
        "st=time.time()\n",
        "lgb=lgbm.LGBMClassifier(max_depth=8,n_estimators=1000,learning_rate=0.001,class_weight='balanced')\n",
        "lgb.fit(X,y)\n",
        "y_lgb=lgb.predict(X_test)\n",
        "et=time.time()\n",
        "time_lgb=et-st\n",
        "print(\"Total time taken:\",time_lgb)#test_score:0.83"
      ],
      "metadata": {
        "id": "AQJwomyTaWhS",
        "outputId": "23114776-13a6-4c9c-f06f-1790bb0fe3b7",
        "colab": {
          "base_uri": "https://localhost:8080/"
        }
      },
      "execution_count": 308,
      "outputs": [
        {
          "output_type": "stream",
          "name": "stderr",
          "text": [
            "/usr/local/lib/python3.7/dist-packages/sklearn/preprocessing/_label.py:98: DataConversionWarning: A column-vector y was passed when a 1d array was expected. Please change the shape of y to (n_samples, ), for example using ravel().\n",
            "  y = column_or_1d(y, warn=True)\n",
            "/usr/local/lib/python3.7/dist-packages/sklearn/preprocessing/_label.py:133: DataConversionWarning: A column-vector y was passed when a 1d array was expected. Please change the shape of y to (n_samples, ), for example using ravel().\n",
            "  y = column_or_1d(y, warn=True)\n"
          ]
        },
        {
          "output_type": "stream",
          "name": "stdout",
          "text": [
            "Total time taken: 8.139853954315186\n"
          ]
        }
      ]
    },
    {
      "cell_type": "markdown",
      "source": [
        "To convert output to csv and upload"
      ],
      "metadata": {
        "id": "oU42k_09eJK3"
      }
    },
    {
      "cell_type": "code",
      "source": [
        "sub=pd.DataFrame()\n",
        "sub['CustomerID']=data_test['CustomerID']\n",
        "sub['ReportedFraud']=y_lgb"
      ],
      "metadata": {
        "id": "Argewi61eOqi"
      },
      "execution_count": null,
      "outputs": []
    },
    {
      "cell_type": "markdown",
      "source": [
        "#Conclusion"
      ],
      "metadata": {
        "id": "kQGjeHsmXYtr"
      }
    },
    {
      "cell_type": "markdown",
      "source": [
        "The steps involved in the project are:\n",
        "1.Buisness Case understanding:Understanding the requirements of the buisness.\n",
        "\n",
        "2.Data Exploration:Exploring the given data and understanding it statistically.\n",
        "\n",
        "3.Data Visualisation:To provide insights regarding the features and their relation with the event which might lead to fradulent claims.\n",
        "\n",
        "4.Data Cleaning:Missing Value treatment,Outlier treatment,Feature Engineering,Feature Transformation,Feature Scaling,Feature Selection.\n",
        "\n",
        "5.Model Building:Choosing the models,training them and validating the output w.r.t the given evaluation metric.\n",
        "\n",
        "6.Model Validation and Parameter Tuning:Performing Cross-validation to study model performance and further Using GridSearch() for parameter tuning.\n",
        "\n",
        "7.Model Generalisation:Using data augmentation to increase the minority samples in the data hence creating more cases for the model to assess and perform better on test data.\n",
        "\n"
      ],
      "metadata": {
        "id": "1jC_usmPXjfx"
      }
    },
    {
      "cell_type": "markdown",
      "source": [
        "**Recommendations to Buisness**\n",
        "\n",
        "1.To have thorogh verification of background for the claims in the name of \"Not in family' and 'other relative'.\n",
        "\n",
        "2.To keep a check on claims under Minor damages as there are many claims here that are equal to or greater than those from Major damage claims.\n",
        "\n",
        "3."
      ],
      "metadata": {
        "id": "pjWsno2yehHt"
      }
    }
  ],
  "metadata": {
    "colab": {
      "provenance": []
    },
    "kernelspec": {
      "display_name": "Python 3 (ipykernel)",
      "language": "python",
      "name": "python3"
    },
    "language_info": {
      "codemirror_mode": {
        "name": "ipython",
        "version": 3
      },
      "file_extension": ".py",
      "mimetype": "text/x-python",
      "name": "python",
      "nbconvert_exporter": "python",
      "pygments_lexer": "ipython3",
      "version": "3.10.5"
    }
  },
  "nbformat": 4,
  "nbformat_minor": 0
}