{
 "cells": [
  {
   "cell_type": "code",
   "execution_count": 17,
   "metadata": {
    "colab": {
     "base_uri": "https://localhost:8080/"
    },
    "id": "vU41puLeKqTa",
    "outputId": "a1525a44-0dfd-4f27-bbf3-437d1dbb8da8"
   },
   "outputs": [
    {
     "name": "stdout",
     "output_type": "stream",
     "text": [
      "Drive already mounted at /content/gdrive; to attempt to forcibly remount, call drive.mount(\"/content/gdrive\", force_remount=True).\n"
     ]
    }
   ],
   "source": [
    "import os\n",
    "import pandas as pd\n",
    "import numpy as np\n",
    "from google.colab import drive\n",
    "drive.mount('/content/gdrive')"
   ]
  },
  {
   "cell_type": "code",
   "execution_count": 34,
   "metadata": {
    "id": "XOc2QpdyLV51"
   },
   "outputs": [],
   "source": [
    "path = \"/content/gdrive/My Drive/fh/Train_NT/TC.csv\"\n",
    "claim=pd.read_csv(path)"
   ]
  },
  {
   "cell_type": "code",
   "execution_count": null,
   "metadata": {},
   "outputs": [],
   "source": [
    "path = \"/content/gdrive/My Drive/fh/Train_NT/Train_Demographics.csv\"\n",
    "demo=pd.read_csv(path)"
   ]
  },
  {
   "cell_type": "code",
   "execution_count": null,
   "metadata": {},
   "outputs": [],
   "source": [
    "path = \"/content/gdrive/My Drive/fh/Train_NT/Train_Vehicle.csv\"\n",
    "vehicle=pd.read_csv(path)"
   ]
  },
  {
   "cell_type": "code",
   "execution_count": null,
   "metadata": {},
   "outputs": [],
   "source": [
    "path = \"/content/gdrive/My Drive/fh/Train_NT/Train_Policy.csv\"\n",
    "policy=pd.read_csv(path)"
   ]
  },
  {
   "cell_type": "code",
   "execution_count": null,
   "metadata": {},
   "outputs": [],
   "source": [
    "path5 = \"/content/gdrive/My Drive/fh/Train_NT/Traindata_with_Target.csv\"\n",
    "dataset=pd.read_csv(path5)"
   ]
  },
  {
   "cell_type": "code",
   "execution_count": 1,
   "metadata": {},
   "outputs": [],
   "source": [
    "#starting with claim:"
   ]
  },
  {
   "cell_type": "code",
   "execution_count": 19,
   "metadata": {
    "colab": {
     "base_uri": "https://localhost:8080/"
    },
    "id": "CsaQB6ngk3kM",
    "outputId": "a940b7b2-7c68-4fa3-bb21-71361500ef27"
   },
   "outputs": [
    {
     "data": {
      "text/plain": [
       "(28836, 19)"
      ]
     },
     "execution_count": 19,
     "metadata": {},
     "output_type": "execute_result"
    }
   ],
   "source": [
    "claim.shape"
   ]
  },
  {
   "cell_type": "code",
   "execution_count": 20,
   "metadata": {
    "colab": {
     "base_uri": "https://localhost:8080/",
     "height": 357
    },
    "id": "UA308ayRMCJn",
    "outputId": "f2175d04-6faa-4632-ca5a-0c54990dec1c"
   },
   "outputs": [
    {
     "data": {
      "text/html": [
       "\n",
       "  <div id=\"df-89fc49e9-4d44-47d8-9c54-ca1f5d6d7cad\">\n",
       "    <div class=\"colab-df-container\">\n",
       "      <div>\n",
       "<style scoped>\n",
       "    .dataframe tbody tr th:only-of-type {\n",
       "        vertical-align: middle;\n",
       "    }\n",
       "\n",
       "    .dataframe tbody tr th {\n",
       "        vertical-align: top;\n",
       "    }\n",
       "\n",
       "    .dataframe thead th {\n",
       "        text-align: right;\n",
       "    }\n",
       "</style>\n",
       "<table border=\"1\" class=\"dataframe\">\n",
       "  <thead>\n",
       "    <tr style=\"text-align: right;\">\n",
       "      <th></th>\n",
       "      <th>CustomerID</th>\n",
       "      <th>DateOfIncident</th>\n",
       "      <th>TypeOfIncident</th>\n",
       "      <th>TypeOfCollission</th>\n",
       "      <th>SeverityOfIncident</th>\n",
       "      <th>AuthoritiesContacted</th>\n",
       "      <th>IncidentState</th>\n",
       "      <th>IncidentCity</th>\n",
       "      <th>IncidentAddress</th>\n",
       "      <th>IncidentTime</th>\n",
       "      <th>NumberOfVehicles</th>\n",
       "      <th>PropertyDamage</th>\n",
       "      <th>BodilyInjuries</th>\n",
       "      <th>Witnesses</th>\n",
       "      <th>PoliceReport</th>\n",
       "      <th>AmountOfTotalClaim</th>\n",
       "      <th>AmountOfInjuryClaim</th>\n",
       "      <th>AmountOfPropertyClaim</th>\n",
       "      <th>AmountOfVehicleDamage</th>\n",
       "    </tr>\n",
       "  </thead>\n",
       "  <tbody>\n",
       "    <tr>\n",
       "      <th>0</th>\n",
       "      <td>Cust10000</td>\n",
       "      <td>2015-02-03</td>\n",
       "      <td>Multi-vehicle Collision</td>\n",
       "      <td>Side Collision</td>\n",
       "      <td>Total Loss</td>\n",
       "      <td>Police</td>\n",
       "      <td>State7</td>\n",
       "      <td>City1</td>\n",
       "      <td>Location 1311</td>\n",
       "      <td>17</td>\n",
       "      <td>3</td>\n",
       "      <td>?</td>\n",
       "      <td>1</td>\n",
       "      <td>0</td>\n",
       "      <td>?</td>\n",
       "      <td>65501</td>\n",
       "      <td>13417</td>\n",
       "      <td>6071</td>\n",
       "      <td>46013</td>\n",
       "    </tr>\n",
       "    <tr>\n",
       "      <th>1</th>\n",
       "      <td>Cust10001</td>\n",
       "      <td>2015-02-02</td>\n",
       "      <td>Multi-vehicle Collision</td>\n",
       "      <td>Side Collision</td>\n",
       "      <td>Total Loss</td>\n",
       "      <td>Police</td>\n",
       "      <td>State7</td>\n",
       "      <td>City5</td>\n",
       "      <td>Location 1311</td>\n",
       "      <td>10</td>\n",
       "      <td>3</td>\n",
       "      <td>YES</td>\n",
       "      <td>2</td>\n",
       "      <td>1</td>\n",
       "      <td>YES</td>\n",
       "      <td>61382</td>\n",
       "      <td>15560</td>\n",
       "      <td>5919</td>\n",
       "      <td>39903</td>\n",
       "    </tr>\n",
       "    <tr>\n",
       "      <th>2</th>\n",
       "      <td>Cust10002</td>\n",
       "      <td>2015-01-15</td>\n",
       "      <td>Single Vehicle Collision</td>\n",
       "      <td>Side Collision</td>\n",
       "      <td>Minor Damage</td>\n",
       "      <td>Other</td>\n",
       "      <td>State8</td>\n",
       "      <td>City6</td>\n",
       "      <td>Location 2081</td>\n",
       "      <td>22</td>\n",
       "      <td>1</td>\n",
       "      <td>YES</td>\n",
       "      <td>2</td>\n",
       "      <td>3</td>\n",
       "      <td>NO</td>\n",
       "      <td>66755</td>\n",
       "      <td>11630</td>\n",
       "      <td>11630</td>\n",
       "      <td>43495</td>\n",
       "    </tr>\n",
       "    <tr>\n",
       "      <th>3</th>\n",
       "      <td>Cust10003</td>\n",
       "      <td>2015-01-19</td>\n",
       "      <td>Single Vehicle Collision</td>\n",
       "      <td>Side Collision</td>\n",
       "      <td>Minor Damage</td>\n",
       "      <td>Other</td>\n",
       "      <td>State9</td>\n",
       "      <td>City6</td>\n",
       "      <td>Location 2081</td>\n",
       "      <td>22</td>\n",
       "      <td>1</td>\n",
       "      <td>YES</td>\n",
       "      <td>2</td>\n",
       "      <td>3</td>\n",
       "      <td>NO</td>\n",
       "      <td>66243</td>\n",
       "      <td>12003</td>\n",
       "      <td>12003</td>\n",
       "      <td>42237</td>\n",
       "    </tr>\n",
       "    <tr>\n",
       "      <th>4</th>\n",
       "      <td>Cust10004</td>\n",
       "      <td>2015-01-09</td>\n",
       "      <td>Single Vehicle Collision</td>\n",
       "      <td>Rear Collision</td>\n",
       "      <td>Minor Damage</td>\n",
       "      <td>Fire</td>\n",
       "      <td>State8</td>\n",
       "      <td>City6</td>\n",
       "      <td>Location 1695</td>\n",
       "      <td>10</td>\n",
       "      <td>1</td>\n",
       "      <td>NO</td>\n",
       "      <td>2</td>\n",
       "      <td>1</td>\n",
       "      <td>YES</td>\n",
       "      <td>53544</td>\n",
       "      <td>8829</td>\n",
       "      <td>7234</td>\n",
       "      <td>37481</td>\n",
       "    </tr>\n",
       "  </tbody>\n",
       "</table>\n",
       "</div>\n",
       "      <button class=\"colab-df-convert\" onclick=\"convertToInteractive('df-89fc49e9-4d44-47d8-9c54-ca1f5d6d7cad')\"\n",
       "              title=\"Convert this dataframe to an interactive table.\"\n",
       "              style=\"display:none;\">\n",
       "        \n",
       "  <svg xmlns=\"http://www.w3.org/2000/svg\" height=\"24px\"viewBox=\"0 0 24 24\"\n",
       "       width=\"24px\">\n",
       "    <path d=\"M0 0h24v24H0V0z\" fill=\"none\"/>\n",
       "    <path d=\"M18.56 5.44l.94 2.06.94-2.06 2.06-.94-2.06-.94-.94-2.06-.94 2.06-2.06.94zm-11 1L8.5 8.5l.94-2.06 2.06-.94-2.06-.94L8.5 2.5l-.94 2.06-2.06.94zm10 10l.94 2.06.94-2.06 2.06-.94-2.06-.94-.94-2.06-.94 2.06-2.06.94z\"/><path d=\"M17.41 7.96l-1.37-1.37c-.4-.4-.92-.59-1.43-.59-.52 0-1.04.2-1.43.59L10.3 9.45l-7.72 7.72c-.78.78-.78 2.05 0 2.83L4 21.41c.39.39.9.59 1.41.59.51 0 1.02-.2 1.41-.59l7.78-7.78 2.81-2.81c.8-.78.8-2.07 0-2.86zM5.41 20L4 18.59l7.72-7.72 1.47 1.35L5.41 20z\"/>\n",
       "  </svg>\n",
       "      </button>\n",
       "      \n",
       "  <style>\n",
       "    .colab-df-container {\n",
       "      display:flex;\n",
       "      flex-wrap:wrap;\n",
       "      gap: 12px;\n",
       "    }\n",
       "\n",
       "    .colab-df-convert {\n",
       "      background-color: #E8F0FE;\n",
       "      border: none;\n",
       "      border-radius: 50%;\n",
       "      cursor: pointer;\n",
       "      display: none;\n",
       "      fill: #1967D2;\n",
       "      height: 32px;\n",
       "      padding: 0 0 0 0;\n",
       "      width: 32px;\n",
       "    }\n",
       "\n",
       "    .colab-df-convert:hover {\n",
       "      background-color: #E2EBFA;\n",
       "      box-shadow: 0px 1px 2px rgba(60, 64, 67, 0.3), 0px 1px 3px 1px rgba(60, 64, 67, 0.15);\n",
       "      fill: #174EA6;\n",
       "    }\n",
       "\n",
       "    [theme=dark] .colab-df-convert {\n",
       "      background-color: #3B4455;\n",
       "      fill: #D2E3FC;\n",
       "    }\n",
       "\n",
       "    [theme=dark] .colab-df-convert:hover {\n",
       "      background-color: #434B5C;\n",
       "      box-shadow: 0px 1px 3px 1px rgba(0, 0, 0, 0.15);\n",
       "      filter: drop-shadow(0px 1px 2px rgba(0, 0, 0, 0.3));\n",
       "      fill: #FFFFFF;\n",
       "    }\n",
       "  </style>\n",
       "\n",
       "      <script>\n",
       "        const buttonEl =\n",
       "          document.querySelector('#df-89fc49e9-4d44-47d8-9c54-ca1f5d6d7cad button.colab-df-convert');\n",
       "        buttonEl.style.display =\n",
       "          google.colab.kernel.accessAllowed ? 'block' : 'none';\n",
       "\n",
       "        async function convertToInteractive(key) {\n",
       "          const element = document.querySelector('#df-89fc49e9-4d44-47d8-9c54-ca1f5d6d7cad');\n",
       "          const dataTable =\n",
       "            await google.colab.kernel.invokeFunction('convertToInteractive',\n",
       "                                                     [key], {});\n",
       "          if (!dataTable) return;\n",
       "\n",
       "          const docLinkHtml = 'Like what you see? Visit the ' +\n",
       "            '<a target=\"_blank\" href=https://colab.research.google.com/notebooks/data_table.ipynb>data table notebook</a>'\n",
       "            + ' to learn more about interactive tables.';\n",
       "          element.innerHTML = '';\n",
       "          dataTable['output_type'] = 'display_data';\n",
       "          await google.colab.output.renderOutput(dataTable, element);\n",
       "          const docLink = document.createElement('div');\n",
       "          docLink.innerHTML = docLinkHtml;\n",
       "          element.appendChild(docLink);\n",
       "        }\n",
       "      </script>\n",
       "    </div>\n",
       "  </div>\n",
       "  "
      ],
      "text/plain": [
       "  CustomerID DateOfIncident            TypeOfIncident TypeOfCollission  \\\n",
       "0  Cust10000     2015-02-03   Multi-vehicle Collision   Side Collision   \n",
       "1  Cust10001     2015-02-02   Multi-vehicle Collision   Side Collision   \n",
       "2  Cust10002     2015-01-15  Single Vehicle Collision   Side Collision   \n",
       "3  Cust10003     2015-01-19  Single Vehicle Collision   Side Collision   \n",
       "4  Cust10004     2015-01-09  Single Vehicle Collision   Rear Collision   \n",
       "\n",
       "  SeverityOfIncident AuthoritiesContacted IncidentState IncidentCity  \\\n",
       "0         Total Loss               Police        State7        City1   \n",
       "1         Total Loss               Police        State7        City5   \n",
       "2       Minor Damage                Other        State8        City6   \n",
       "3       Minor Damage                Other        State9        City6   \n",
       "4       Minor Damage                 Fire        State8        City6   \n",
       "\n",
       "  IncidentAddress  IncidentTime  NumberOfVehicles PropertyDamage  \\\n",
       "0   Location 1311            17                 3              ?   \n",
       "1   Location 1311            10                 3            YES   \n",
       "2   Location 2081            22                 1            YES   \n",
       "3   Location 2081            22                 1            YES   \n",
       "4   Location 1695            10                 1             NO   \n",
       "\n",
       "   BodilyInjuries Witnesses PoliceReport AmountOfTotalClaim  \\\n",
       "0               1         0            ?              65501   \n",
       "1               2         1          YES              61382   \n",
       "2               2         3           NO              66755   \n",
       "3               2         3           NO              66243   \n",
       "4               2         1          YES              53544   \n",
       "\n",
       "   AmountOfInjuryClaim  AmountOfPropertyClaim  AmountOfVehicleDamage  \n",
       "0                13417                   6071                  46013  \n",
       "1                15560                   5919                  39903  \n",
       "2                11630                  11630                  43495  \n",
       "3                12003                  12003                  42237  \n",
       "4                 8829                   7234                  37481  "
      ]
     },
     "execution_count": 20,
     "metadata": {},
     "output_type": "execute_result"
    }
   ],
   "source": [
    "claim.head()"
   ]
  },
  {
   "cell_type": "code",
   "execution_count": 21,
   "metadata": {
    "colab": {
     "base_uri": "https://localhost:8080/"
    },
    "id": "f9OPA3hIOMpA",
    "outputId": "68fcc1f5-acc9-482c-aca7-1642a583d8b7"
   },
   "outputs": [
    {
     "data": {
      "text/plain": [
       "CustomerID               object\n",
       "DateOfIncident           object\n",
       "TypeOfIncident           object\n",
       "TypeOfCollission         object\n",
       "SeverityOfIncident       object\n",
       "AuthoritiesContacted     object\n",
       "IncidentState            object\n",
       "IncidentCity             object\n",
       "IncidentAddress          object\n",
       "IncidentTime              int64\n",
       "NumberOfVehicles          int64\n",
       "PropertyDamage           object\n",
       "BodilyInjuries            int64\n",
       "Witnesses                object\n",
       "PoliceReport             object\n",
       "AmountOfTotalClaim       object\n",
       "AmountOfInjuryClaim       int64\n",
       "AmountOfPropertyClaim     int64\n",
       "AmountOfVehicleDamage     int64\n",
       "dtype: object"
      ]
     },
     "execution_count": 21,
     "metadata": {},
     "output_type": "execute_result"
    }
   ],
   "source": [
    "claim.dtypes"
   ]
  },
  {
   "cell_type": "code",
   "execution_count": 22,
   "metadata": {
    "colab": {
     "base_uri": "https://localhost:8080/",
     "height": 476
    },
    "id": "QKsgF66iOkyQ",
    "outputId": "b26ff439-e294-49d5-ec1d-42a6eb3c9949"
   },
   "outputs": [
    {
     "data": {
      "text/html": [
       "\n",
       "  <div id=\"df-ef83ca72-0377-44a7-a221-6e85ddc35bac\">\n",
       "    <div class=\"colab-df-container\">\n",
       "      <div>\n",
       "<style scoped>\n",
       "    .dataframe tbody tr th:only-of-type {\n",
       "        vertical-align: middle;\n",
       "    }\n",
       "\n",
       "    .dataframe tbody tr th {\n",
       "        vertical-align: top;\n",
       "    }\n",
       "\n",
       "    .dataframe thead th {\n",
       "        text-align: right;\n",
       "    }\n",
       "</style>\n",
       "<table border=\"1\" class=\"dataframe\">\n",
       "  <thead>\n",
       "    <tr style=\"text-align: right;\">\n",
       "      <th></th>\n",
       "      <th>CustomerID</th>\n",
       "      <th>DateOfIncident</th>\n",
       "      <th>TypeOfIncident</th>\n",
       "      <th>TypeOfCollission</th>\n",
       "      <th>SeverityOfIncident</th>\n",
       "      <th>AuthoritiesContacted</th>\n",
       "      <th>IncidentState</th>\n",
       "      <th>IncidentCity</th>\n",
       "      <th>IncidentAddress</th>\n",
       "      <th>IncidentTime</th>\n",
       "      <th>NumberOfVehicles</th>\n",
       "      <th>PropertyDamage</th>\n",
       "      <th>BodilyInjuries</th>\n",
       "      <th>Witnesses</th>\n",
       "      <th>PoliceReport</th>\n",
       "      <th>AmountOfTotalClaim</th>\n",
       "      <th>AmountOfInjuryClaim</th>\n",
       "      <th>AmountOfPropertyClaim</th>\n",
       "      <th>AmountOfVehicleDamage</th>\n",
       "    </tr>\n",
       "  </thead>\n",
       "  <tbody>\n",
       "    <tr>\n",
       "      <th>count</th>\n",
       "      <td>28836</td>\n",
       "      <td>28836</td>\n",
       "      <td>28836</td>\n",
       "      <td>28836</td>\n",
       "      <td>28836</td>\n",
       "      <td>28836</td>\n",
       "      <td>28836</td>\n",
       "      <td>28836</td>\n",
       "      <td>28836</td>\n",
       "      <td>28836.000000</td>\n",
       "      <td>28836.000000</td>\n",
       "      <td>28836</td>\n",
       "      <td>28836.000000</td>\n",
       "      <td>28836</td>\n",
       "      <td>28836</td>\n",
       "      <td>28836</td>\n",
       "      <td>28836.000000</td>\n",
       "      <td>28836.000000</td>\n",
       "      <td>28836.000000</td>\n",
       "    </tr>\n",
       "    <tr>\n",
       "      <th>unique</th>\n",
       "      <td>28836</td>\n",
       "      <td>72</td>\n",
       "      <td>4</td>\n",
       "      <td>4</td>\n",
       "      <td>4</td>\n",
       "      <td>5</td>\n",
       "      <td>7</td>\n",
       "      <td>7</td>\n",
       "      <td>1000</td>\n",
       "      <td>NaN</td>\n",
       "      <td>NaN</td>\n",
       "      <td>3</td>\n",
       "      <td>NaN</td>\n",
       "      <td>5</td>\n",
       "      <td>3</td>\n",
       "      <td>21976</td>\n",
       "      <td>NaN</td>\n",
       "      <td>NaN</td>\n",
       "      <td>NaN</td>\n",
       "    </tr>\n",
       "    <tr>\n",
       "      <th>top</th>\n",
       "      <td>Cust10000</td>\n",
       "      <td>2015-01-10</td>\n",
       "      <td>Multi-vehicle Collision</td>\n",
       "      <td>Rear Collision</td>\n",
       "      <td>Minor Damage</td>\n",
       "      <td>Police</td>\n",
       "      <td>State5</td>\n",
       "      <td>City2</td>\n",
       "      <td>Location 1341</td>\n",
       "      <td>NaN</td>\n",
       "      <td>NaN</td>\n",
       "      <td>?</td>\n",
       "      <td>NaN</td>\n",
       "      <td>2</td>\n",
       "      <td>NO</td>\n",
       "      <td>MISSEDDATA</td>\n",
       "      <td>NaN</td>\n",
       "      <td>NaN</td>\n",
       "      <td>NaN</td>\n",
       "    </tr>\n",
       "    <tr>\n",
       "      <th>freq</th>\n",
       "      <td>1</td>\n",
       "      <td>661</td>\n",
       "      <td>11966</td>\n",
       "      <td>8561</td>\n",
       "      <td>10400</td>\n",
       "      <td>8324</td>\n",
       "      <td>7886</td>\n",
       "      <td>4486</td>\n",
       "      <td>73</td>\n",
       "      <td>NaN</td>\n",
       "      <td>NaN</td>\n",
       "      <td>10459</td>\n",
       "      <td>NaN</td>\n",
       "      <td>8449</td>\n",
       "      <td>9898</td>\n",
       "      <td>50</td>\n",
       "      <td>NaN</td>\n",
       "      <td>NaN</td>\n",
       "      <td>NaN</td>\n",
       "    </tr>\n",
       "    <tr>\n",
       "      <th>mean</th>\n",
       "      <td>NaN</td>\n",
       "      <td>NaN</td>\n",
       "      <td>NaN</td>\n",
       "      <td>NaN</td>\n",
       "      <td>NaN</td>\n",
       "      <td>NaN</td>\n",
       "      <td>NaN</td>\n",
       "      <td>NaN</td>\n",
       "      <td>NaN</td>\n",
       "      <td>11.746047</td>\n",
       "      <td>1.823207</td>\n",
       "      <td>NaN</td>\n",
       "      <td>0.985782</td>\n",
       "      <td>NaN</td>\n",
       "      <td>NaN</td>\n",
       "      <td>NaN</td>\n",
       "      <td>7337.118428</td>\n",
       "      <td>7283.870197</td>\n",
       "      <td>37687.129387</td>\n",
       "    </tr>\n",
       "    <tr>\n",
       "      <th>std</th>\n",
       "      <td>NaN</td>\n",
       "      <td>NaN</td>\n",
       "      <td>NaN</td>\n",
       "      <td>NaN</td>\n",
       "      <td>NaN</td>\n",
       "      <td>NaN</td>\n",
       "      <td>NaN</td>\n",
       "      <td>NaN</td>\n",
       "      <td>NaN</td>\n",
       "      <td>6.170069</td>\n",
       "      <td>0.980099</td>\n",
       "      <td>NaN</td>\n",
       "      <td>0.784764</td>\n",
       "      <td>NaN</td>\n",
       "      <td>NaN</td>\n",
       "      <td>NaN</td>\n",
       "      <td>4427.638593</td>\n",
       "      <td>4375.842738</td>\n",
       "      <td>17977.048232</td>\n",
       "    </tr>\n",
       "    <tr>\n",
       "      <th>min</th>\n",
       "      <td>NaN</td>\n",
       "      <td>NaN</td>\n",
       "      <td>NaN</td>\n",
       "      <td>NaN</td>\n",
       "      <td>NaN</td>\n",
       "      <td>NaN</td>\n",
       "      <td>NaN</td>\n",
       "      <td>NaN</td>\n",
       "      <td>NaN</td>\n",
       "      <td>-5.000000</td>\n",
       "      <td>1.000000</td>\n",
       "      <td>NaN</td>\n",
       "      <td>0.000000</td>\n",
       "      <td>NaN</td>\n",
       "      <td>NaN</td>\n",
       "      <td>NaN</td>\n",
       "      <td>0.000000</td>\n",
       "      <td>0.000000</td>\n",
       "      <td>109.000000</td>\n",
       "    </tr>\n",
       "    <tr>\n",
       "      <th>25%</th>\n",
       "      <td>NaN</td>\n",
       "      <td>NaN</td>\n",
       "      <td>NaN</td>\n",
       "      <td>NaN</td>\n",
       "      <td>NaN</td>\n",
       "      <td>NaN</td>\n",
       "      <td>NaN</td>\n",
       "      <td>NaN</td>\n",
       "      <td>NaN</td>\n",
       "      <td>6.000000</td>\n",
       "      <td>1.000000</td>\n",
       "      <td>NaN</td>\n",
       "      <td>0.000000</td>\n",
       "      <td>NaN</td>\n",
       "      <td>NaN</td>\n",
       "      <td>NaN</td>\n",
       "      <td>4743.750000</td>\n",
       "      <td>4862.000000</td>\n",
       "      <td>32193.250000</td>\n",
       "    </tr>\n",
       "    <tr>\n",
       "      <th>50%</th>\n",
       "      <td>NaN</td>\n",
       "      <td>NaN</td>\n",
       "      <td>NaN</td>\n",
       "      <td>NaN</td>\n",
       "      <td>NaN</td>\n",
       "      <td>NaN</td>\n",
       "      <td>NaN</td>\n",
       "      <td>NaN</td>\n",
       "      <td>NaN</td>\n",
       "      <td>12.000000</td>\n",
       "      <td>1.000000</td>\n",
       "      <td>NaN</td>\n",
       "      <td>1.000000</td>\n",
       "      <td>NaN</td>\n",
       "      <td>NaN</td>\n",
       "      <td>NaN</td>\n",
       "      <td>7147.000000</td>\n",
       "      <td>7051.000000</td>\n",
       "      <td>42457.500000</td>\n",
       "    </tr>\n",
       "    <tr>\n",
       "      <th>75%</th>\n",
       "      <td>NaN</td>\n",
       "      <td>NaN</td>\n",
       "      <td>NaN</td>\n",
       "      <td>NaN</td>\n",
       "      <td>NaN</td>\n",
       "      <td>NaN</td>\n",
       "      <td>NaN</td>\n",
       "      <td>NaN</td>\n",
       "      <td>NaN</td>\n",
       "      <td>17.000000</td>\n",
       "      <td>3.000000</td>\n",
       "      <td>NaN</td>\n",
       "      <td>2.000000</td>\n",
       "      <td>NaN</td>\n",
       "      <td>NaN</td>\n",
       "      <td>NaN</td>\n",
       "      <td>10571.250000</td>\n",
       "      <td>10327.000000</td>\n",
       "      <td>49535.750000</td>\n",
       "    </tr>\n",
       "    <tr>\n",
       "      <th>max</th>\n",
       "      <td>NaN</td>\n",
       "      <td>NaN</td>\n",
       "      <td>NaN</td>\n",
       "      <td>NaN</td>\n",
       "      <td>NaN</td>\n",
       "      <td>NaN</td>\n",
       "      <td>NaN</td>\n",
       "      <td>NaN</td>\n",
       "      <td>NaN</td>\n",
       "      <td>23.000000</td>\n",
       "      <td>4.000000</td>\n",
       "      <td>NaN</td>\n",
       "      <td>2.000000</td>\n",
       "      <td>NaN</td>\n",
       "      <td>NaN</td>\n",
       "      <td>NaN</td>\n",
       "      <td>21450.000000</td>\n",
       "      <td>23670.000000</td>\n",
       "      <td>79560.000000</td>\n",
       "    </tr>\n",
       "  </tbody>\n",
       "</table>\n",
       "</div>\n",
       "      <button class=\"colab-df-convert\" onclick=\"convertToInteractive('df-ef83ca72-0377-44a7-a221-6e85ddc35bac')\"\n",
       "              title=\"Convert this dataframe to an interactive table.\"\n",
       "              style=\"display:none;\">\n",
       "        \n",
       "  <svg xmlns=\"http://www.w3.org/2000/svg\" height=\"24px\"viewBox=\"0 0 24 24\"\n",
       "       width=\"24px\">\n",
       "    <path d=\"M0 0h24v24H0V0z\" fill=\"none\"/>\n",
       "    <path d=\"M18.56 5.44l.94 2.06.94-2.06 2.06-.94-2.06-.94-.94-2.06-.94 2.06-2.06.94zm-11 1L8.5 8.5l.94-2.06 2.06-.94-2.06-.94L8.5 2.5l-.94 2.06-2.06.94zm10 10l.94 2.06.94-2.06 2.06-.94-2.06-.94-.94-2.06-.94 2.06-2.06.94z\"/><path d=\"M17.41 7.96l-1.37-1.37c-.4-.4-.92-.59-1.43-.59-.52 0-1.04.2-1.43.59L10.3 9.45l-7.72 7.72c-.78.78-.78 2.05 0 2.83L4 21.41c.39.39.9.59 1.41.59.51 0 1.02-.2 1.41-.59l7.78-7.78 2.81-2.81c.8-.78.8-2.07 0-2.86zM5.41 20L4 18.59l7.72-7.72 1.47 1.35L5.41 20z\"/>\n",
       "  </svg>\n",
       "      </button>\n",
       "      \n",
       "  <style>\n",
       "    .colab-df-container {\n",
       "      display:flex;\n",
       "      flex-wrap:wrap;\n",
       "      gap: 12px;\n",
       "    }\n",
       "\n",
       "    .colab-df-convert {\n",
       "      background-color: #E8F0FE;\n",
       "      border: none;\n",
       "      border-radius: 50%;\n",
       "      cursor: pointer;\n",
       "      display: none;\n",
       "      fill: #1967D2;\n",
       "      height: 32px;\n",
       "      padding: 0 0 0 0;\n",
       "      width: 32px;\n",
       "    }\n",
       "\n",
       "    .colab-df-convert:hover {\n",
       "      background-color: #E2EBFA;\n",
       "      box-shadow: 0px 1px 2px rgba(60, 64, 67, 0.3), 0px 1px 3px 1px rgba(60, 64, 67, 0.15);\n",
       "      fill: #174EA6;\n",
       "    }\n",
       "\n",
       "    [theme=dark] .colab-df-convert {\n",
       "      background-color: #3B4455;\n",
       "      fill: #D2E3FC;\n",
       "    }\n",
       "\n",
       "    [theme=dark] .colab-df-convert:hover {\n",
       "      background-color: #434B5C;\n",
       "      box-shadow: 0px 1px 3px 1px rgba(0, 0, 0, 0.15);\n",
       "      filter: drop-shadow(0px 1px 2px rgba(0, 0, 0, 0.3));\n",
       "      fill: #FFFFFF;\n",
       "    }\n",
       "  </style>\n",
       "\n",
       "      <script>\n",
       "        const buttonEl =\n",
       "          document.querySelector('#df-ef83ca72-0377-44a7-a221-6e85ddc35bac button.colab-df-convert');\n",
       "        buttonEl.style.display =\n",
       "          google.colab.kernel.accessAllowed ? 'block' : 'none';\n",
       "\n",
       "        async function convertToInteractive(key) {\n",
       "          const element = document.querySelector('#df-ef83ca72-0377-44a7-a221-6e85ddc35bac');\n",
       "          const dataTable =\n",
       "            await google.colab.kernel.invokeFunction('convertToInteractive',\n",
       "                                                     [key], {});\n",
       "          if (!dataTable) return;\n",
       "\n",
       "          const docLinkHtml = 'Like what you see? Visit the ' +\n",
       "            '<a target=\"_blank\" href=https://colab.research.google.com/notebooks/data_table.ipynb>data table notebook</a>'\n",
       "            + ' to learn more about interactive tables.';\n",
       "          element.innerHTML = '';\n",
       "          dataTable['output_type'] = 'display_data';\n",
       "          await google.colab.output.renderOutput(dataTable, element);\n",
       "          const docLink = document.createElement('div');\n",
       "          docLink.innerHTML = docLinkHtml;\n",
       "          element.appendChild(docLink);\n",
       "        }\n",
       "      </script>\n",
       "    </div>\n",
       "  </div>\n",
       "  "
      ],
      "text/plain": [
       "       CustomerID DateOfIncident           TypeOfIncident TypeOfCollission  \\\n",
       "count       28836          28836                    28836            28836   \n",
       "unique      28836             72                        4                4   \n",
       "top     Cust10000     2015-01-10  Multi-vehicle Collision   Rear Collision   \n",
       "freq            1            661                    11966             8561   \n",
       "mean          NaN            NaN                      NaN              NaN   \n",
       "std           NaN            NaN                      NaN              NaN   \n",
       "min           NaN            NaN                      NaN              NaN   \n",
       "25%           NaN            NaN                      NaN              NaN   \n",
       "50%           NaN            NaN                      NaN              NaN   \n",
       "75%           NaN            NaN                      NaN              NaN   \n",
       "max           NaN            NaN                      NaN              NaN   \n",
       "\n",
       "       SeverityOfIncident AuthoritiesContacted IncidentState IncidentCity  \\\n",
       "count               28836                28836         28836        28836   \n",
       "unique                  4                    5             7            7   \n",
       "top          Minor Damage               Police        State5        City2   \n",
       "freq                10400                 8324          7886         4486   \n",
       "mean                  NaN                  NaN           NaN          NaN   \n",
       "std                   NaN                  NaN           NaN          NaN   \n",
       "min                   NaN                  NaN           NaN          NaN   \n",
       "25%                   NaN                  NaN           NaN          NaN   \n",
       "50%                   NaN                  NaN           NaN          NaN   \n",
       "75%                   NaN                  NaN           NaN          NaN   \n",
       "max                   NaN                  NaN           NaN          NaN   \n",
       "\n",
       "       IncidentAddress  IncidentTime  NumberOfVehicles PropertyDamage  \\\n",
       "count            28836  28836.000000      28836.000000          28836   \n",
       "unique            1000           NaN               NaN              3   \n",
       "top      Location 1341           NaN               NaN              ?   \n",
       "freq                73           NaN               NaN          10459   \n",
       "mean               NaN     11.746047          1.823207            NaN   \n",
       "std                NaN      6.170069          0.980099            NaN   \n",
       "min                NaN     -5.000000          1.000000            NaN   \n",
       "25%                NaN      6.000000          1.000000            NaN   \n",
       "50%                NaN     12.000000          1.000000            NaN   \n",
       "75%                NaN     17.000000          3.000000            NaN   \n",
       "max                NaN     23.000000          4.000000            NaN   \n",
       "\n",
       "        BodilyInjuries Witnesses PoliceReport AmountOfTotalClaim  \\\n",
       "count     28836.000000     28836        28836              28836   \n",
       "unique             NaN         5            3              21976   \n",
       "top                NaN         2           NO         MISSEDDATA   \n",
       "freq               NaN      8449         9898                 50   \n",
       "mean          0.985782       NaN          NaN                NaN   \n",
       "std           0.784764       NaN          NaN                NaN   \n",
       "min           0.000000       NaN          NaN                NaN   \n",
       "25%           0.000000       NaN          NaN                NaN   \n",
       "50%           1.000000       NaN          NaN                NaN   \n",
       "75%           2.000000       NaN          NaN                NaN   \n",
       "max           2.000000       NaN          NaN                NaN   \n",
       "\n",
       "        AmountOfInjuryClaim  AmountOfPropertyClaim  AmountOfVehicleDamage  \n",
       "count          28836.000000           28836.000000           28836.000000  \n",
       "unique                  NaN                    NaN                    NaN  \n",
       "top                     NaN                    NaN                    NaN  \n",
       "freq                    NaN                    NaN                    NaN  \n",
       "mean            7337.118428            7283.870197           37687.129387  \n",
       "std             4427.638593            4375.842738           17977.048232  \n",
       "min                0.000000               0.000000             109.000000  \n",
       "25%             4743.750000            4862.000000           32193.250000  \n",
       "50%             7147.000000            7051.000000           42457.500000  \n",
       "75%            10571.250000           10327.000000           49535.750000  \n",
       "max            21450.000000           23670.000000           79560.000000  "
      ]
     },
     "execution_count": 22,
     "metadata": {},
     "output_type": "execute_result"
    }
   ],
   "source": [
    "claim.describe(include='all')"
   ]
  },
  {
   "cell_type": "code",
   "execution_count": null,
   "metadata": {
    "id": "2UBLUHTVSM2d"
   },
   "outputs": [],
   "source": [
    "#Preprocess requirements:"
   ]
  },
  {
   "cell_type": "code",
   "execution_count": null,
   "metadata": {
    "id": "g3Qqmd8DPR82"
   },
   "outputs": [],
   "source": [
    "#categ=TypeOfIncident,SeverityOfIncident,TypeOfCollision,AuthoritiesContacted,IncidentState,IncidentCity,IncidentAddess,PropertyDamage,BodilyInjuries,Witnesses,PoliceReport,NumberOfVehicles,IncidentTime(hours)\n",
    "#num=CustomerID,AmountOfInjuryClaim,AmountOfPropertyClaim,AmountOfTotalClaim,AmountOfPropertyClaim,AmountOfVehicleDamage\n",
    "#date-time=DateOfIncident"
   ]
  },
  {
   "cell_type": "code",
   "execution_count": null,
   "metadata": {
    "colab": {
     "base_uri": "https://localhost:8080/"
    },
    "id": "tEcus1xNkqiX",
    "outputId": "a6c120af-27f8-4018-97c2-1d82094a1742"
   },
   "outputs": [
    {
     "name": "stdout",
     "output_type": "stream",
     "text": [
      "Cust10000    1\n",
      "Cust33397    1\n",
      "Cust33356    1\n",
      "Cust33354    1\n",
      "Cust33353    1\n",
      "            ..\n",
      "Cust21600    1\n",
      "Cust2160     1\n",
      "Cust21599    1\n",
      "Cust21598    1\n",
      "Cust9999     1\n",
      "Name: CustomerID, Length: 28836, dtype: int64\n",
      "2015-01-10    661\n",
      "2015-01-18    657\n",
      "2015-02-17    648\n",
      "2015-01-17    647\n",
      "2015-01-09    646\n",
      "             ... \n",
      "2015-03-08      2\n",
      "2015-03-07      1\n",
      "2015-03-12      1\n",
      "2015-03-10      1\n",
      "2015-03-14      1\n",
      "Name: DateOfIncident, Length: 72, dtype: int64\n",
      "Multi-vehicle Collision     11966\n",
      "Single Vehicle Collision    11677\n",
      "Vehicle Theft                2685\n",
      "Parked Car                   2508\n",
      "Name: TypeOfIncident, dtype: int64\n",
      "Rear Collision     8561\n",
      "Side Collision     7867\n",
      "Front Collision    7246\n",
      "?                  5162\n",
      "Name: TypeOfCollission, dtype: int64\n",
      "Minor Damage      10400\n",
      "Total Loss         8218\n",
      "Major Damage       7671\n",
      "Trivial Damage     2547\n",
      "Name: SeverityOfIncident, dtype: int64\n",
      "Police       8324\n",
      "Fire         6518\n",
      "Ambulance    5732\n",
      "Other        5570\n",
      "None         2692\n",
      "Name: AuthoritiesContacted, dtype: int64\n",
      "State5    7886\n",
      "State7    7168\n",
      "State9    6161\n",
      "State8    3181\n",
      "State4    3029\n",
      "State6     810\n",
      "State3     601\n",
      "Name: IncidentState, dtype: int64\n",
      "City2    4486\n",
      "City1    4374\n",
      "City4    4311\n",
      "City7    4216\n",
      "City3    4073\n",
      "City5    3698\n",
      "City6    3678\n",
      "Name: IncidentCity, dtype: int64\n",
      "Location 1341    73\n",
      "Location 1254    72\n",
      "Location 1227    71\n",
      "Location 2006    70\n",
      "Location 1136    68\n",
      "                 ..\n",
      "Location 1359    10\n",
      "Location 1464    10\n",
      "Location 2072     9\n",
      "Location 1043     9\n",
      "Location 1555     9\n",
      "Name: IncidentAddress, Length: 1000, dtype: int64\n",
      " 16    1616\n",
      " 17    1615\n",
      " 6     1564\n",
      " 15    1541\n",
      " 14    1461\n",
      " 5     1434\n",
      " 13    1420\n",
      " 18    1419\n",
      " 4     1406\n",
      " 12    1363\n",
      " 7     1331\n",
      " 11    1286\n",
      " 19    1280\n",
      " 8     1251\n",
      " 3     1232\n",
      " 9     1210\n",
      " 10    1165\n",
      " 20    1153\n",
      " 21     971\n",
      " 22     809\n",
      " 2      713\n",
      " 1      648\n",
      " 23     526\n",
      " 0      391\n",
      "-5       31\n",
      "Name: IncidentTime, dtype: int64\n",
      "1    16169\n",
      "3     9711\n",
      "2     2276\n",
      "4      680\n",
      "Name: NumberOfVehicles, dtype: int64\n",
      "?      10459\n",
      "NO      9687\n",
      "YES     8690\n",
      "Name: PropertyDamage, dtype: int64\n",
      "1    11072\n",
      "0     9087\n",
      "2     8677\n",
      "Name: BodilyInjuries, dtype: int64\n",
      "2               8449\n",
      "1               8345\n",
      "0               6128\n",
      "3               5868\n",
      "MISSINGVALUE      46\n",
      "Name: Witnesses, dtype: int64\n",
      "NO     9898\n",
      "?      9805\n",
      "YES    9133\n",
      "Name: PoliceReport, dtype: int64\n",
      "MISSEDDATA    50\n",
      "6820          12\n",
      "5400           8\n",
      "60600          8\n",
      "55000          7\n",
      "              ..\n",
      "37863          1\n",
      "33412          1\n",
      "62879          1\n",
      "54465          1\n",
      "55830          1\n",
      "Name: AmountOfTotalClaim, Length: 21976, dtype: int64\n",
      "0        68\n",
      "480      51\n",
      "640      34\n",
      "580      19\n",
      "536      17\n",
      "         ..\n",
      "14398     1\n",
      "5925      1\n",
      "16236     1\n",
      "15321     1\n",
      "14699     1\n",
      "Name: AmountOfInjuryClaim, Length: 11958, dtype: int64\n",
      "0        35\n",
      "580      17\n",
      "578      16\n",
      "606      16\n",
      "506      15\n",
      "         ..\n",
      "12312     1\n",
      "11987     1\n",
      "12477     1\n",
      "10953     1\n",
      "13131     1\n",
      "Name: AmountOfPropertyClaim, Length: 11785, dtype: int64\n",
      "2560     19\n",
      "5040     12\n",
      "28000    11\n",
      "3600      8\n",
      "3290      8\n",
      "         ..\n",
      "62176     1\n",
      "30734     1\n",
      "43250     1\n",
      "42999     1\n",
      "41183     1\n",
      "Name: AmountOfVehicleDamage, Length: 20041, dtype: int64\n"
     ]
    }
   ],
   "source": [
    "for x in claim.columns:\n",
    "  print(claim[x].value_counts())"
   ]
  },
  {
   "cell_type": "code",
   "execution_count": null,
   "metadata": {
    "id": "wT1dLhLxOo_d"
   },
   "outputs": [],
   "source": [
    "#########################ACTIONS\n",
    "#CustomerID is of no use,but required to merge with other datasets\n",
    "#DateOfIncident:Convert into date and time stamp,separate the month and day dates,analyse and plot them to find the major months of accidents\n",
    "#TypeOfCollision:has missing values:\"?\"...\n",
    "#Location:remove the column\n",
    "#IncidentTime:has missing values:\"-5\"\n",
    "#PropertyDamage:has missing values:\"?\"\n",
    "#AmountOfTotalClaim:missing values:\"MISSEDDATA\"\n",
    "#PoliceReport:missing values:\"?\"\n",
    "#Witnesses:has missing values:\"MISSINGVALUE\""
   ]
  },
  {
   "cell_type": "code",
   "execution_count": 35,
   "metadata": {
    "colab": {
     "base_uri": "https://localhost:8080/"
    },
    "id": "jGdJ96N3eJaV",
    "outputId": "37035075-c385-4721-893c-20aeabb9ac28"
   },
   "outputs": [
    {
     "name": "stdout",
     "output_type": "stream",
     "text": [
      "2015    28836\n",
      "Name: YearOfIncident, dtype: int64\n",
      "1    14796\n",
      "2    13803\n",
      "3      237\n",
      "Name: MonthOfIncident, dtype: int64\n"
     ]
    }
   ],
   "source": [
    "#obtaining the month and year from the DateOfIncident and understanding them\n",
    "claim['YearOfIncident']=pd.to_datetime(claim['DateOfIncident']).dt.year.astype('category')\n",
    "claim['MonthOfIncident']=pd.to_datetime(claim['DateOfIncident']).dt.month.astype('category')\n",
    "print(claim.YearOfIncident.value_counts())\n",
    "print(claim.MonthOfIncident.value_counts())"
   ]
  },
  {
   "cell_type": "code",
   "execution_count": null,
   "metadata": {
    "id": "IWnpgcHKe4VT"
   },
   "outputs": [],
   "source": [
    "#to drop the DateOfIncident and IncidentAddress column\n",
    "#IncidentAddress:as the location of incident has no importance logically for the insurance company\n",
    "#DateOfTime:the month and year of accidents are good enough for any further analysis"
   ]
  },
  {
   "cell_type": "code",
   "execution_count": 36,
   "metadata": {
    "id": "hLI0B8FzbLeo"
   },
   "outputs": [],
   "source": [
    "claim.TypeOfCollission.replace('?',np.nan,inplace=True)\n",
    "claim.IncidentTime.replace(-5,np.nan,inplace=True)\n",
    "claim.PropertyDamage.replace('?',np.nan,inplace=True)\n",
    "claim.AmountOfTotalClaim.replace('MISSEDDATA',np.nan,inplace=True)\n",
    "claim.PoliceReport.replace('?',np.nan,inplace=True)\n",
    "claim.Witnesses.replace('MISSINGVALUE',np.nan,inplace=True)"
   ]
  },
  {
   "cell_type": "code",
   "execution_count": 28,
   "metadata": {
    "colab": {
     "base_uri": "https://localhost:8080/"
    },
    "id": "WlIwTT22cLV6",
    "outputId": "3e820383-15ce-4dbd-d80c-70ef8f3039c2"
   },
   "outputs": [
    {
     "data": {
      "text/plain": [
       "CustomerID                   0\n",
       "TypeOfIncident               0\n",
       "TypeOfCollission          5162\n",
       "SeverityOfIncident           0\n",
       "AuthoritiesContacted         0\n",
       "IncidentState                0\n",
       "IncidentCity                 0\n",
       "IncidentTime                31\n",
       "NumberOfVehicles             0\n",
       "PropertyDamage           10459\n",
       "BodilyInjuries               0\n",
       "Witnesses                   46\n",
       "PoliceReport              9805\n",
       "AmountOfTotalClaim          50\n",
       "AmountOfInjuryClaim          0\n",
       "AmountOfPropertyClaim        0\n",
       "AmountOfVehicleDamage        0\n",
       "MonthOfIncident              0\n",
       "dtype: int64"
      ]
     },
     "execution_count": 28,
     "metadata": {},
     "output_type": "execute_result"
    }
   ],
   "source": [
    "claim.isna().sum()"
   ]
  },
  {
   "cell_type": "code",
   "execution_count": 45,
   "metadata": {
    "id": "t2AuxLwlTFj2"
   },
   "outputs": [],
   "source": [
    "#not important:\n",
    "#TypeOfCollission\n",
    "#AuthoritiesContacted\n",
    "#IncidentTime\n",
    "#NumberOfVehicles\n",
    "#Witnesses\n",
    "#IncidentAddress\n",
    "#DateOfIncident"
   ]
  },
  {
   "cell_type": "code",
   "execution_count": 37,
   "metadata": {
    "id": "jtG06K1wimi4"
   },
   "outputs": [],
   "source": [
    "claim.drop(['DateOfIncident','IncidentAddress','IncidentTime','TypeOfCollission','NumberOfVehicles'],axis=1,inplace=True)"
   ]
  },
  {
   "cell_type": "code",
   "execution_count": 43,
   "metadata": {
    "id": "mirt1I1JTBJS"
   },
   "outputs": [],
   "source": [
    "cat_cols=['TypeOfIncident','SeverityOfIncident','AuthoritiesContacted','IncidentState'\n",
    "          ,'IncidentCity','PropertyDamage',\n",
    "          'Witnesses','PoliceReport']\n",
    "claim[cat_cols]=claim[cat_cols].astype('category')"
   ]
  },
  {
   "cell_type": "code",
   "execution_count": 44,
   "metadata": {
    "colab": {
     "base_uri": "https://localhost:8080/"
    },
    "id": "jDAef-UCWOik",
    "outputId": "4acc95c8-a449-481e-ae9c-50c04479c099"
   },
   "outputs": [
    {
     "data": {
      "text/plain": [
       "Index(['AmountOfTotalClaim', 'AmountOfInjuryClaim', 'AmountOfPropertyClaim',\n",
       "       'AmountOfVehicleDamage'],\n",
       "      dtype='object')"
      ]
     },
     "execution_count": 44,
     "metadata": {},
     "output_type": "execute_result"
    }
   ],
   "source": [
    "num_cols=claim.drop('CustomerID',axis=1).select_dtypes(exclude='category').columns\n",
    "#claim[num_cols]=claim[num_cols].astype('int')\n",
    "num_cols"
   ]
  },
  {
   "cell_type": "code",
   "execution_count": 29,
   "metadata": {
    "colab": {
     "base_uri": "https://localhost:8080/"
    },
    "id": "nWjITL1lgabV",
    "outputId": "a89790ce-4843-4f47-d151-d8f61b7733cf"
   },
   "outputs": [
    {
     "data": {
      "text/plain": [
       "CustomerID               category\n",
       "TypeOfIncident           category\n",
       "TypeOfCollission         category\n",
       "SeverityOfIncident       category\n",
       "AuthoritiesContacted     category\n",
       "IncidentState            category\n",
       "IncidentCity             category\n",
       "IncidentTime              float64\n",
       "NumberOfVehicles         category\n",
       "PropertyDamage           category\n",
       "BodilyInjuries           category\n",
       "Witnesses                category\n",
       "PoliceReport             category\n",
       "AmountOfTotalClaim         object\n",
       "AmountOfInjuryClaim         int64\n",
       "AmountOfPropertyClaim       int64\n",
       "AmountOfVehicleDamage       int64\n",
       "MonthOfIncident          category\n",
       "dtype: object"
      ]
     },
     "execution_count": 29,
     "metadata": {},
     "output_type": "execute_result"
    }
   ],
   "source": [
    "claim.dtypes"
   ]
  },
  {
   "cell_type": "code",
   "execution_count": null,
   "metadata": {
    "id": "gAkknAWig5bs"
   },
   "outputs": [],
   "source": [
    "#we will update the missing values with the help of IterativeImputer once combining all the datasets"
   ]
  },
  {
   "cell_type": "code",
   "execution_count": 41,
   "metadata": {
    "id": "wlDMV9RPkno-"
   },
   "outputs": [],
   "source": [
    "claim.to_csv('claim.csv',index=False)"
   ]
  },
  {
   "cell_type": "code",
   "execution_count": 2,
   "metadata": {
    "id": "cTv6y31jOhvU"
   },
   "outputs": [],
   "source": [
    "#starting with demo:"
   ]
  },
  {
   "cell_type": "code",
   "execution_count": null,
   "metadata": {},
   "outputs": [],
   "source": [
    "demo.shape"
   ]
  },
  {
   "cell_type": "code",
   "execution_count": null,
   "metadata": {},
   "outputs": [],
   "source": [
    "demo.describe(include='all')"
   ]
  },
  {
   "cell_type": "code",
   "execution_count": null,
   "metadata": {},
   "outputs": [],
   "source": [
    "demo.dtypes"
   ]
  },
  {
   "cell_type": "code",
   "execution_count": null,
   "metadata": {},
   "outputs": [],
   "source": [
    "#observations:\n",
    "#cat:CustomerID,InsuredGender,InsuredEducationLevel,InsuredOccupation,InsuredHobbies,Country\n",
    "#num:InsuredAge,InsuredZipCode,CapitalGains,CapitalLoss"
   ]
  },
  {
   "cell_type": "code",
   "execution_count": null,
   "metadata": {},
   "outputs": [],
   "source": [
    "#finding the unique values and analysing the data\n",
    "for x in demo.select_dtypes(include='object').columns:\n",
    "  print(demo[x].value_counts())"
   ]
  },
  {
   "cell_type": "code",
   "execution_count": null,
   "metadata": {},
   "outputs": [],
   "source": [
    "demo.isna().sum()"
   ]
  },
  {
   "cell_type": "code",
   "execution_count": null,
   "metadata": {},
   "outputs": [],
   "source": [
    "#the columns country is the same for everyone so we will drop it\n",
    "#InsuredGender has missing values:'NA'"
   ]
  },
  {
   "cell_type": "code",
   "execution_count": null,
   "metadata": {},
   "outputs": [],
   "source": [
    "demo.InsuredGender.replace('NA',np.nan,inplace=True)\n",
    "demo.drop('Country',axis=1,inplace=True)"
   ]
  },
  {
   "cell_type": "code",
   "execution_count": null,
   "metadata": {},
   "outputs": [],
   "source": [
    "demo.columns"
   ]
  },
  {
   "cell_type": "code",
   "execution_count": null,
   "metadata": {},
   "outputs": [],
   "source": [
    "demo.drop('InsuredHobbies',axis=1,inplace=True)"
   ]
  },
  {
   "cell_type": "code",
   "execution_count": null,
   "metadata": {},
   "outputs": [],
   "source": [
    "cat_cols=demo.select_dtypes(include='object').columns\n",
    "demo[cat_cols]=demo[cat_cols].astype('category')"
   ]
  },
  {
   "cell_type": "code",
   "execution_count": null,
   "metadata": {},
   "outputs": [],
   "source": [
    "#the int columns are predefined yet once again to avoid any confusions\n",
    "num_cols=demo.drop('CustomerID',axis=1).select_dtypes(exclude='category').columns\n",
    "demo[num_cols]=demo[num_cols].astype('int')"
   ]
  },
  {
   "cell_type": "code",
   "execution_count": null,
   "metadata": {},
   "outputs": [],
   "source": [
    "demo.to_csv('demo.csv',index=False)"
   ]
  },
  {
   "cell_type": "code",
   "execution_count": 3,
   "metadata": {},
   "outputs": [],
   "source": [
    "#statring with policy"
   ]
  },
  {
   "cell_type": "code",
   "execution_count": null,
   "metadata": {},
   "outputs": [],
   "source": [
    "policy.shape"
   ]
  },
  {
   "cell_type": "code",
   "execution_count": null,
   "metadata": {},
   "outputs": [],
   "source": [
    "policy.dtypes"
   ]
  },
  {
   "cell_type": "code",
   "execution_count": null,
   "metadata": {},
   "outputs": [],
   "source": [
    "policy.describe(include='all')"
   ]
  },
  {
   "cell_type": "code",
   "execution_count": null,
   "metadata": {},
   "outputs": [],
   "source": [
    "for x in policy.drop('CustomerID',axis=1).select_dtypes(include='object').columns:\n",
    "  print(policy[x].value_counts())"
   ]
  },
  {
   "cell_type": "code",
   "execution_count": null,
   "metadata": {},
   "outputs": [],
   "source": [
    "#seems there are no missing values in the set\n",
    "policy.isna().sum()"
   ]
  },
  {
   "cell_type": "code",
   "execution_count": null,
   "metadata": {},
   "outputs": [],
   "source": [
    "#not important columns:\n",
    "#InsurancePolicyNumber\n",
    "#DateOfPolicyCoverage\n",
    "#InsurancePolicyState"
   ]
  },
  {
   "cell_type": "code",
   "execution_count": null,
   "metadata": {},
   "outputs": [],
   "source": [
    "#assign date time stamp to DateOfPolicyCoverage column and obtain dates months and years from it separately\n",
    "#policy['PolicyDay']=pd.to_datetime(policy['DateOfPolicyCoverage']).dt.day\n",
    "policy['PolicyMonth']=pd.to_datetime(policy['DateOfPolicyCoverage']).dt.month\n",
    "policy['PolicyYear']=pd.to_datetime(policy['DateOfPolicyCoverage']).dt.year"
   ]
  },
  {
   "cell_type": "code",
   "execution_count": null,
   "metadata": {},
   "outputs": [],
   "source": [
    "policy.drop(['InsurancePolicyNumber','InsurancePolicyState','DateOfPolicyCoverage'],axis=1,inplace=True)"
   ]
  },
  {
   "cell_type": "code",
   "execution_count": null,
   "metadata": {},
   "outputs": [],
   "source": [
    "#to covert the cols into cat\n",
    "cat_cols=policy.drop('CustomerID',axis=1).select_dtypes(include='object').columns\n",
    "policy[cat_cols]=policy[cat_cols].astype('category')"
   ]
  },
  {
   "cell_type": "code",
   "execution_count": null,
   "metadata": {},
   "outputs": [],
   "source": [
    "policy.dtypes"
   ]
  },
  {
   "cell_type": "code",
   "execution_count": null,
   "metadata": {},
   "outputs": [],
   "source": [
    "policy.to_csv('policy.csv',index=False)"
   ]
  },
  {
   "cell_type": "code",
   "execution_count": 4,
   "metadata": {},
   "outputs": [],
   "source": [
    "#starting with  vehicle"
   ]
  },
  {
   "cell_type": "code",
   "execution_count": null,
   "metadata": {},
   "outputs": [],
   "source": [
    "vehicle.shape"
   ]
  },
  {
   "cell_type": "code",
   "execution_count": null,
   "metadata": {},
   "outputs": [],
   "source": [
    "vehicle.head()"
   ]
  },
  {
   "cell_type": "code",
   "execution_count": null,
   "metadata": {},
   "outputs": [],
   "source": [
    "vehicle.describe(include='all')"
   ]
  },
  {
   "cell_type": "code",
   "execution_count": null,
   "metadata": {},
   "outputs": [],
   "source": [
    "#both VehicleAttribute and VehicleAttributeDetails are cat\n",
    "for x in vehicle.drop('CustomerID',axis=1).columns:\n",
    "  print(vehicle[x].value_counts())"
   ]
  },
  {
   "cell_type": "code",
   "execution_count": null,
   "metadata": {},
   "outputs": [],
   "source": [
    "#VehicleAttribute has multiple vehicle data:VehicleID,VehicleModel,VehicleMake,VehicleYOM..To split them into separate columns using dict"
   ]
  },
  {
   "cell_type": "code",
   "execution_count": null,
   "metadata": {},
   "outputs": [],
   "source": [
    "vehicle['VehicleAttribute']=vehicle['VehicleAttribute'].astype('category')"
   ]
  },
  {
   "cell_type": "code",
   "execution_count": null,
   "metadata": {},
   "outputs": [],
   "source": [
    "new_v=pd.DataFrame(vehicle['CustomerID'].unique(),columns=['CustomerID'])\n",
    "\n",
    "df=vehicle.groupby(by='VehicleAttribute')\n",
    "#by_id=pd.DataFrame(df.get_group('VehicleID'))\n",
    "#attr_details=pd.Series(by_id.VehicleAttributeDetails)\n",
    "#new_v=new_v.merge(by_id,on='CustomerID',how='left')\n",
    "\n",
    "by_model=pd.DataFrame(df.get_group('VehicleModel'))\n",
    "model_details=pd.Series(by_model.VehicleAttributeDetails)\n",
    "new_v=new_v.merge(by_model,on='CustomerID',how='inner')\n",
    "\n",
    "by_make=pd.DataFrame(df.get_group('VehicleMake'))\n",
    "make_details=pd.Series(by_make.VehicleAttributeDetails)\n",
    "new_v=new_v.merge(by_make,on='CustomerID',how='inner')\n",
    "\n",
    "by_yom=pd.DataFrame(df.get_group('VehicleYOM'))\n",
    "yom_details=pd.Series(by_yom.VehicleAttributeDetails)\n",
    "new_v=new_v.merge(by_yom,on='CustomerID',how='inner')\n",
    "\n",
    "#new_v.columns=['CustomerID','VID','ID','VM','Model','VMK','Make','VYOM','YOM']\n",
    "new_v.columns=['CustomerID','VM','Model','VMK','Make','VYOM','YOM']"
   ]
  },
  {
   "cell_type": "code",
   "execution_count": null,
   "metadata": {},
   "outputs": [],
   "source": [
    "new_v"
   ]
  },
  {
   "cell_type": "code",
   "execution_count": null,
   "metadata": {},
   "outputs": [],
   "source": [
    "vehicle=pd.DataFrame()\n",
    "vehicle['CustomerID']=new_v['CustomerID']\n",
    "#vehicle['VehicleID']=new_v['ID'].astype('category')\n",
    "vehicle['VehicleModel']=new_v['Model'].astype('category')\n",
    "vehicle['VehicleMake']=new_v['Make'].astype('category')\n",
    "vehicle['VehicleYOM']=new_v['YOM'].astype('category')\n",
    "vehicle.head()"
   ]
  },
  {
   "cell_type": "code",
   "execution_count": null,
   "metadata": {},
   "outputs": [],
   "source": [
    "vehicle.shape"
   ]
  },
  {
   "cell_type": "code",
   "execution_count": null,
   "metadata": {},
   "outputs": [],
   "source": [
    "#to check for missing values after converting them to cat\n",
    "vehicle.dtypes"
   ]
  },
  {
   "cell_type": "code",
   "execution_count": null,
   "metadata": {},
   "outputs": [],
   "source": [
    "for x in vehicle.drop('CustomerID',axis=1).columns:\n",
    "  print(vehicle[x].value_counts())\n",
    "  #there are missing values in VehicleMake:'???'"
   ]
  },
  {
   "cell_type": "code",
   "execution_count": null,
   "metadata": {},
   "outputs": [],
   "source": [
    "#to replace missing values in VehicleMake with np.nan\n",
    "vehicle.VehicleMake.replace('???',np.nan,inplace=True)"
   ]
  },
  {
   "cell_type": "code",
   "execution_count": null,
   "metadata": {},
   "outputs": [],
   "source": [
    "#binning years\n",
    "yom=vehicle.VehicleYOM.to_list()\n",
    "new_yom=[]\n",
    "for x in range(len(yom)):\n",
    "  if(yom[x]<='2000'):\n",
    "    new_yom.append('0')\n",
    "  elif('2000'<yom[x]<='2005'):\n",
    "    new_yom.append('1')\n",
    "  elif('2005'<yom[x]<='2010'):\n",
    "    new_yom.append('2')\n",
    "  else:\n",
    "    new_yom.append('3')\n",
    "\n",
    "vehicle.VehicleYOM=new_yom"
   ]
  },
  {
   "cell_type": "code",
   "execution_count": null,
   "metadata": {},
   "outputs": [],
   "source": [
    "vehicle.to_csv('vehicle.csv',index=False)"
   ]
  },
  {
   "cell_type": "code",
   "execution_count": 5,
   "metadata": {},
   "outputs": [],
   "source": [
    "#start with combined"
   ]
  },
  {
   "cell_type": "code",
   "execution_count": null,
   "metadata": {},
   "outputs": [],
   "source": [
    "vehicle[['VehicleModel','VehicleMake','VehicleYOM']]=vehicle[['VehicleModel','VehicleMake','VehicleYOM']].astype('category')\n",
    "#vehicleyOM is labelled such that recent cars have higher values"
   ]
  },
  {
   "cell_type": "code",
   "execution_count": null,
   "metadata": {},
   "outputs": [],
   "source": [
    "policy[['Policy_CombinedSingleLimit',\n",
    "        'InsuredRelationship']]=policy[['Policy_CombinedSingleLimit',\n",
    "                                                     'InsuredRelationship']].astype('category')"
   ]
  },
  {
   "cell_type": "code",
   "execution_count": null,
   "metadata": {},
   "outputs": [],
   "source": [
    "demo.dtypes"
   ]
  },
  {
   "cell_type": "code",
   "execution_count": null,
   "metadata": {},
   "outputs": [],
   "source": [
    "demo[['InsuredGender','InsuredEducationLevel',\n",
    "      'InsuredOccupation']]=demo[['InsuredGender','InsuredEducationLevel',\n",
    "                                                   'InsuredOccupation']].astype('category')"
   ]
  },
  {
   "cell_type": "code",
   "execution_count": null,
   "metadata": {},
   "outputs": [],
   "source": [
    "claim.dtypes"
   ]
  },
  {
   "cell_type": "code",
   "execution_count": null,
   "metadata": {},
   "outputs": [],
   "source": [
    "claim[['TypeOfIncident','SeverityOfIncident','PropertyDamage','PoliceReport',\n",
    "       'AuthoritiesContacted','IncidentState','IncidentCity','Witnesses','BodilyInjuries']]=claim[['TypeOfIncident','SeverityOfIncident','PropertyDamage','PoliceReport',\n",
    "                                                                     'AuthoritiesContacted','IncidentState','IncidentCity','Witnesses','BodilyInjuries']].astype('category')"
   ]
  },
  {
   "cell_type": "code",
   "execution_count": null,
   "metadata": {},
   "outputs": [],
   "source": [
    "#to merge all the datasets\n",
    "dataset=dataset.merge(right=vehicle,on='CustomerID',how='inner')\n",
    "dataset=dataset.merge(right=policy,on='CustomerID',how='inner')\n",
    "dataset=dataset.merge(right=demo,on='CustomerID',how='inner')\n",
    "dataset=dataset.merge(right=claim,on='CustomerID',how='inner')"
   ]
  },
  {
   "cell_type": "code",
   "execution_count": null,
   "metadata": {},
   "outputs": [],
   "source": [
    "dataset.head()"
   ]
  },
  {
   "cell_type": "code",
   "execution_count": null,
   "metadata": {},
   "outputs": [],
   "source": [
    "dataset.isna().sum()"
   ]
  },
  {
   "cell_type": "code",
   "execution_count": null,
   "metadata": {},
   "outputs": [],
   "source": [
    "dataset.dtypes"
   ]
  },
  {
   "cell_type": "code",
   "execution_count": null,
   "metadata": {},
   "outputs": [],
   "source": [
    "dataset.describe(include='all')"
   ]
  },
  {
   "cell_type": "code",
   "execution_count": null,
   "metadata": {},
   "outputs": [],
   "source": [
    "#have to perfrom encoding(label/onehot)\n",
    "df=dataset.drop(['CustomerID','ReportedFraud'],axis=1)"
   ]
  },
  {
   "cell_type": "code",
   "execution_count": null,
   "metadata": {},
   "outputs": [],
   "source": [
    "#Lets encode minor damage:2,Trivial Damage:1,Major damage:3,Total Loss:4\n",
    "#to assign labels in the order that i want according to the damage level\n",
    "soi=df['SeverityOfIncident'].to_list()\n",
    "new_soi=[]\n",
    "for x in range(len(soi)):\n",
    "  if(soi[x]=='Trivial Damage'):\n",
    "    new_soi.append('1')\n",
    "  elif(soi[x]=='Minor Damage'):\n",
    "    new_soi.append('2')\n",
    "  elif(soi[x]=='Major Damage'):\n",
    "    new_soi.append('3')\n",
    "  else:\n",
    "    new_soi.append('4')\n",
    "\n",
    "df['SeverityOfIncident']=new_soi\n",
    "df['SeverityOfIncident'].value_counts()\n",
    "df['SeverityOfIncident']=df['SeverityOfIncident'].astype('category')"
   ]
  },
  {
   "cell_type": "code",
   "execution_count": null,
   "metadata": {},
   "outputs": [],
   "source": [
    "cat_cols=df.select_dtypes(include='category')\n",
    "num_cols=df.select_dtypes(exclude='category')"
   ]
  },
  {
   "cell_type": "code",
   "execution_count": null,
   "metadata": {},
   "outputs": [],
   "source": [
    "cat_cols\n",
    "#can label encode the SeverityOfIncident column\n",
    "#insuredrelationship//authoritiescontacted//incidentstate/incidentcity are not so important which we will confirm later with feature selection methods"
   ]
  },
  {
   "cell_type": "code",
   "execution_count": null,
   "metadata": {},
   "outputs": [],
   "source": [
    "num_cols\n",
    "#policymonth//policyyear//monthofincident  are not so important"
   ]
  },
  {
   "cell_type": "code",
   "execution_count": null,
   "metadata": {},
   "outputs": [],
   "source": []
  },
  {
   "cell_type": "code",
   "execution_count": null,
   "metadata": {},
   "outputs": [],
   "source": []
  },
  {
   "cell_type": "code",
   "execution_count": null,
   "metadata": {},
   "outputs": [],
   "source": []
  },
  {
   "cell_type": "code",
   "execution_count": null,
   "metadata": {},
   "outputs": [],
   "source": []
  },
  {
   "cell_type": "code",
   "execution_count": null,
   "metadata": {},
   "outputs": [],
   "source": []
  }
 ],
 "metadata": {
  "colab": {
   "provenance": []
  },
  "kernelspec": {
   "display_name": "Python 3 (ipykernel)",
   "language": "python",
   "name": "python3"
  },
  "language_info": {
   "codemirror_mode": {
    "name": "ipython",
    "version": 3
   },
   "file_extension": ".py",
   "mimetype": "text/x-python",
   "name": "python",
   "nbconvert_exporter": "python",
   "pygments_lexer": "ipython3",
   "version": "3.10.5"
  }
 },
 "nbformat": 4,
 "nbformat_minor": 1
}
