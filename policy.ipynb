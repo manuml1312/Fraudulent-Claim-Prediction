{
 "cells": [
  {
   "cell_type": "code",
   "execution_count": 2,
   "metadata": {
    "colab": {
     "base_uri": "https://localhost:8080/"
    },
    "id": "aBBcLK-8Eh4n",
    "outputId": "de1aae4a-cc88-42f9-81f5-5d35875b9527"
   },
   "outputs": [
    {
     "name": "stdout",
     "output_type": "stream",
     "text": [
      "Mounted at /content/gdrive\n"
     ]
    }
   ],
   "source": [
    "import os\n",
    "import pandas as pd\n",
    "import numpy as np\n",
    "from google.colab import drive\n",
    "drive.mount('/content/gdrive')"
   ]
  },
  {
   "cell_type": "code",
   "execution_count": 10,
   "metadata": {
    "id": "3lvIVixTEi0h"
   },
   "outputs": [],
   "source": [
    "path = \"/content/gdrive/My Drive/fh/Train_NT/Train_Policy.csv\"\n",
    "policy=pd.read_csv(path)"
   ]
  },
  {
   "cell_type": "code",
   "execution_count": 11,
   "metadata": {
    "colab": {
     "base_uri": "https://localhost:8080/"
    },
    "id": "QTZrguy6FRp9",
    "outputId": "d7097b7b-d8eb-4fe2-c52d-fd9c544e6e11"
   },
   "outputs": [
    {
     "data": {
      "text/plain": [
       "(28836, 10)"
      ]
     },
     "execution_count": 11,
     "metadata": {},
     "output_type": "execute_result"
    }
   ],
   "source": [
    "policy.shape"
   ]
  },
  {
   "cell_type": "code",
   "execution_count": 13,
   "metadata": {
    "colab": {
     "base_uri": "https://localhost:8080/"
    },
    "id": "7OJiapqUGOyc",
    "outputId": "14301207-9deb-4d0e-e627-fdb9e3e1e2a2"
   },
   "outputs": [
    {
     "data": {
      "text/plain": [
       "InsurancePolicyNumber           int64\n",
       "CustomerLoyaltyPeriod           int64\n",
       "DateOfPolicyCoverage           object\n",
       "InsurancePolicyState           object\n",
       "Policy_CombinedSingleLimit     object\n",
       "Policy_Deductible               int64\n",
       "PolicyAnnualPremium           float64\n",
       "UmbrellaLimit                   int64\n",
       "InsuredRelationship            object\n",
       "CustomerID                     object\n",
       "dtype: object"
      ]
     },
     "execution_count": 13,
     "metadata": {},
     "output_type": "execute_result"
    }
   ],
   "source": [
    "policy.dtypes"
   ]
  },
  {
   "cell_type": "code",
   "execution_count": 12,
   "metadata": {
    "colab": {
     "base_uri": "https://localhost:8080/",
     "height": 458
    },
    "id": "20SbB-2YGQ9U",
    "outputId": "5bd80cde-4728-4675-9744-25a31d6d8f5d"
   },
   "outputs": [
    {
     "data": {
      "text/html": [
       "\n",
       "  <div id=\"df-3e45789a-9490-48b4-ba16-59f84aff03e8\">\n",
       "    <div class=\"colab-df-container\">\n",
       "      <div>\n",
       "<style scoped>\n",
       "    .dataframe tbody tr th:only-of-type {\n",
       "        vertical-align: middle;\n",
       "    }\n",
       "\n",
       "    .dataframe tbody tr th {\n",
       "        vertical-align: top;\n",
       "    }\n",
       "\n",
       "    .dataframe thead th {\n",
       "        text-align: right;\n",
       "    }\n",
       "</style>\n",
       "<table border=\"1\" class=\"dataframe\">\n",
       "  <thead>\n",
       "    <tr style=\"text-align: right;\">\n",
       "      <th></th>\n",
       "      <th>InsurancePolicyNumber</th>\n",
       "      <th>CustomerLoyaltyPeriod</th>\n",
       "      <th>DateOfPolicyCoverage</th>\n",
       "      <th>InsurancePolicyState</th>\n",
       "      <th>Policy_CombinedSingleLimit</th>\n",
       "      <th>Policy_Deductible</th>\n",
       "      <th>PolicyAnnualPremium</th>\n",
       "      <th>UmbrellaLimit</th>\n",
       "      <th>InsuredRelationship</th>\n",
       "      <th>CustomerID</th>\n",
       "    </tr>\n",
       "  </thead>\n",
       "  <tbody>\n",
       "    <tr>\n",
       "      <th>count</th>\n",
       "      <td>28836.000000</td>\n",
       "      <td>28836.000000</td>\n",
       "      <td>28836</td>\n",
       "      <td>28836</td>\n",
       "      <td>28836</td>\n",
       "      <td>28836.000000</td>\n",
       "      <td>28836.000000</td>\n",
       "      <td>2.883600e+04</td>\n",
       "      <td>28836</td>\n",
       "      <td>28836</td>\n",
       "    </tr>\n",
       "    <tr>\n",
       "      <th>unique</th>\n",
       "      <td>NaN</td>\n",
       "      <td>NaN</td>\n",
       "      <td>6779</td>\n",
       "      <td>3</td>\n",
       "      <td>9</td>\n",
       "      <td>NaN</td>\n",
       "      <td>NaN</td>\n",
       "      <td>NaN</td>\n",
       "      <td>6</td>\n",
       "      <td>28836</td>\n",
       "    </tr>\n",
       "    <tr>\n",
       "      <th>top</th>\n",
       "      <td>NaN</td>\n",
       "      <td>NaN</td>\n",
       "      <td>1998-11-11</td>\n",
       "      <td>State3</td>\n",
       "      <td>250/500</td>\n",
       "      <td>NaN</td>\n",
       "      <td>NaN</td>\n",
       "      <td>NaN</td>\n",
       "      <td>own-child</td>\n",
       "      <td>Cust1001</td>\n",
       "    </tr>\n",
       "    <tr>\n",
       "      <th>freq</th>\n",
       "      <td>NaN</td>\n",
       "      <td>NaN</td>\n",
       "      <td>38</td>\n",
       "      <td>10146</td>\n",
       "      <td>8260</td>\n",
       "      <td>NaN</td>\n",
       "      <td>NaN</td>\n",
       "      <td>NaN</td>\n",
       "      <td>5242</td>\n",
       "      <td>1</td>\n",
       "    </tr>\n",
       "    <tr>\n",
       "      <th>mean</th>\n",
       "      <td>129312.517097</td>\n",
       "      <td>203.067867</td>\n",
       "      <td>NaN</td>\n",
       "      <td>NaN</td>\n",
       "      <td>NaN</td>\n",
       "      <td>1114.282529</td>\n",
       "      <td>1255.528382</td>\n",
       "      <td>9.836680e+05</td>\n",
       "      <td>NaN</td>\n",
       "      <td>NaN</td>\n",
       "    </tr>\n",
       "    <tr>\n",
       "      <th>std</th>\n",
       "      <td>11114.060267</td>\n",
       "      <td>99.932951</td>\n",
       "      <td>NaN</td>\n",
       "      <td>NaN</td>\n",
       "      <td>NaN</td>\n",
       "      <td>546.632816</td>\n",
       "      <td>223.013899</td>\n",
       "      <td>1.969282e+06</td>\n",
       "      <td>NaN</td>\n",
       "      <td>NaN</td>\n",
       "    </tr>\n",
       "    <tr>\n",
       "      <th>min</th>\n",
       "      <td>110122.000000</td>\n",
       "      <td>1.000000</td>\n",
       "      <td>NaN</td>\n",
       "      <td>NaN</td>\n",
       "      <td>NaN</td>\n",
       "      <td>500.000000</td>\n",
       "      <td>-1.000000</td>\n",
       "      <td>-1.000000e+06</td>\n",
       "      <td>NaN</td>\n",
       "      <td>NaN</td>\n",
       "    </tr>\n",
       "    <tr>\n",
       "      <th>25%</th>\n",
       "      <td>119698.750000</td>\n",
       "      <td>126.000000</td>\n",
       "      <td>NaN</td>\n",
       "      <td>NaN</td>\n",
       "      <td>NaN</td>\n",
       "      <td>622.000000</td>\n",
       "      <td>1122.007500</td>\n",
       "      <td>0.000000e+00</td>\n",
       "      <td>NaN</td>\n",
       "      <td>NaN</td>\n",
       "    </tr>\n",
       "    <tr>\n",
       "      <th>50%</th>\n",
       "      <td>129278.500000</td>\n",
       "      <td>199.000000</td>\n",
       "      <td>NaN</td>\n",
       "      <td>NaN</td>\n",
       "      <td>NaN</td>\n",
       "      <td>1000.000000</td>\n",
       "      <td>1265.205000</td>\n",
       "      <td>0.000000e+00</td>\n",
       "      <td>NaN</td>\n",
       "      <td>NaN</td>\n",
       "    </tr>\n",
       "    <tr>\n",
       "      <th>75%</th>\n",
       "      <td>138933.250000</td>\n",
       "      <td>267.000000</td>\n",
       "      <td>NaN</td>\n",
       "      <td>NaN</td>\n",
       "      <td>NaN</td>\n",
       "      <td>1627.000000</td>\n",
       "      <td>1396.605000</td>\n",
       "      <td>4.859610e+05</td>\n",
       "      <td>NaN</td>\n",
       "      <td>NaN</td>\n",
       "    </tr>\n",
       "    <tr>\n",
       "      <th>max</th>\n",
       "      <td>148619.000000</td>\n",
       "      <td>479.000000</td>\n",
       "      <td>NaN</td>\n",
       "      <td>NaN</td>\n",
       "      <td>NaN</td>\n",
       "      <td>2000.000000</td>\n",
       "      <td>2047.590000</td>\n",
       "      <td>1.000000e+07</td>\n",
       "      <td>NaN</td>\n",
       "      <td>NaN</td>\n",
       "    </tr>\n",
       "  </tbody>\n",
       "</table>\n",
       "</div>\n",
       "      <button class=\"colab-df-convert\" onclick=\"convertToInteractive('df-3e45789a-9490-48b4-ba16-59f84aff03e8')\"\n",
       "              title=\"Convert this dataframe to an interactive table.\"\n",
       "              style=\"display:none;\">\n",
       "        \n",
       "  <svg xmlns=\"http://www.w3.org/2000/svg\" height=\"24px\"viewBox=\"0 0 24 24\"\n",
       "       width=\"24px\">\n",
       "    <path d=\"M0 0h24v24H0V0z\" fill=\"none\"/>\n",
       "    <path d=\"M18.56 5.44l.94 2.06.94-2.06 2.06-.94-2.06-.94-.94-2.06-.94 2.06-2.06.94zm-11 1L8.5 8.5l.94-2.06 2.06-.94-2.06-.94L8.5 2.5l-.94 2.06-2.06.94zm10 10l.94 2.06.94-2.06 2.06-.94-2.06-.94-.94-2.06-.94 2.06-2.06.94z\"/><path d=\"M17.41 7.96l-1.37-1.37c-.4-.4-.92-.59-1.43-.59-.52 0-1.04.2-1.43.59L10.3 9.45l-7.72 7.72c-.78.78-.78 2.05 0 2.83L4 21.41c.39.39.9.59 1.41.59.51 0 1.02-.2 1.41-.59l7.78-7.78 2.81-2.81c.8-.78.8-2.07 0-2.86zM5.41 20L4 18.59l7.72-7.72 1.47 1.35L5.41 20z\"/>\n",
       "  </svg>\n",
       "      </button>\n",
       "      \n",
       "  <style>\n",
       "    .colab-df-container {\n",
       "      display:flex;\n",
       "      flex-wrap:wrap;\n",
       "      gap: 12px;\n",
       "    }\n",
       "\n",
       "    .colab-df-convert {\n",
       "      background-color: #E8F0FE;\n",
       "      border: none;\n",
       "      border-radius: 50%;\n",
       "      cursor: pointer;\n",
       "      display: none;\n",
       "      fill: #1967D2;\n",
       "      height: 32px;\n",
       "      padding: 0 0 0 0;\n",
       "      width: 32px;\n",
       "    }\n",
       "\n",
       "    .colab-df-convert:hover {\n",
       "      background-color: #E2EBFA;\n",
       "      box-shadow: 0px 1px 2px rgba(60, 64, 67, 0.3), 0px 1px 3px 1px rgba(60, 64, 67, 0.15);\n",
       "      fill: #174EA6;\n",
       "    }\n",
       "\n",
       "    [theme=dark] .colab-df-convert {\n",
       "      background-color: #3B4455;\n",
       "      fill: #D2E3FC;\n",
       "    }\n",
       "\n",
       "    [theme=dark] .colab-df-convert:hover {\n",
       "      background-color: #434B5C;\n",
       "      box-shadow: 0px 1px 3px 1px rgba(0, 0, 0, 0.15);\n",
       "      filter: drop-shadow(0px 1px 2px rgba(0, 0, 0, 0.3));\n",
       "      fill: #FFFFFF;\n",
       "    }\n",
       "  </style>\n",
       "\n",
       "      <script>\n",
       "        const buttonEl =\n",
       "          document.querySelector('#df-3e45789a-9490-48b4-ba16-59f84aff03e8 button.colab-df-convert');\n",
       "        buttonEl.style.display =\n",
       "          google.colab.kernel.accessAllowed ? 'block' : 'none';\n",
       "\n",
       "        async function convertToInteractive(key) {\n",
       "          const element = document.querySelector('#df-3e45789a-9490-48b4-ba16-59f84aff03e8');\n",
       "          const dataTable =\n",
       "            await google.colab.kernel.invokeFunction('convertToInteractive',\n",
       "                                                     [key], {});\n",
       "          if (!dataTable) return;\n",
       "\n",
       "          const docLinkHtml = 'Like what you see? Visit the ' +\n",
       "            '<a target=\"_blank\" href=https://colab.research.google.com/notebooks/data_table.ipynb>data table notebook</a>'\n",
       "            + ' to learn more about interactive tables.';\n",
       "          element.innerHTML = '';\n",
       "          dataTable['output_type'] = 'display_data';\n",
       "          await google.colab.output.renderOutput(dataTable, element);\n",
       "          const docLink = document.createElement('div');\n",
       "          docLink.innerHTML = docLinkHtml;\n",
       "          element.appendChild(docLink);\n",
       "        }\n",
       "      </script>\n",
       "    </div>\n",
       "  </div>\n",
       "  "
      ],
      "text/plain": [
       "        InsurancePolicyNumber  CustomerLoyaltyPeriod DateOfPolicyCoverage  \\\n",
       "count            28836.000000           28836.000000                28836   \n",
       "unique                    NaN                    NaN                 6779   \n",
       "top                       NaN                    NaN           1998-11-11   \n",
       "freq                      NaN                    NaN                   38   \n",
       "mean            129312.517097             203.067867                  NaN   \n",
       "std              11114.060267              99.932951                  NaN   \n",
       "min             110122.000000               1.000000                  NaN   \n",
       "25%             119698.750000             126.000000                  NaN   \n",
       "50%             129278.500000             199.000000                  NaN   \n",
       "75%             138933.250000             267.000000                  NaN   \n",
       "max             148619.000000             479.000000                  NaN   \n",
       "\n",
       "       InsurancePolicyState Policy_CombinedSingleLimit  Policy_Deductible  \\\n",
       "count                 28836                      28836       28836.000000   \n",
       "unique                    3                          9                NaN   \n",
       "top                  State3                    250/500                NaN   \n",
       "freq                  10146                       8260                NaN   \n",
       "mean                    NaN                        NaN        1114.282529   \n",
       "std                     NaN                        NaN         546.632816   \n",
       "min                     NaN                        NaN         500.000000   \n",
       "25%                     NaN                        NaN         622.000000   \n",
       "50%                     NaN                        NaN        1000.000000   \n",
       "75%                     NaN                        NaN        1627.000000   \n",
       "max                     NaN                        NaN        2000.000000   \n",
       "\n",
       "        PolicyAnnualPremium  UmbrellaLimit InsuredRelationship CustomerID  \n",
       "count          28836.000000   2.883600e+04               28836      28836  \n",
       "unique                  NaN            NaN                   6      28836  \n",
       "top                     NaN            NaN           own-child   Cust1001  \n",
       "freq                    NaN            NaN                5242          1  \n",
       "mean            1255.528382   9.836680e+05                 NaN        NaN  \n",
       "std              223.013899   1.969282e+06                 NaN        NaN  \n",
       "min               -1.000000  -1.000000e+06                 NaN        NaN  \n",
       "25%             1122.007500   0.000000e+00                 NaN        NaN  \n",
       "50%             1265.205000   0.000000e+00                 NaN        NaN  \n",
       "75%             1396.605000   4.859610e+05                 NaN        NaN  \n",
       "max             2047.590000   1.000000e+07                 NaN        NaN  "
      ]
     },
     "execution_count": 12,
     "metadata": {},
     "output_type": "execute_result"
    }
   ],
   "source": [
    "policy.describe(include='all')"
   ]
  },
  {
   "cell_type": "code",
   "execution_count": 14,
   "metadata": {
    "colab": {
     "base_uri": "https://localhost:8080/"
    },
    "id": "lJEIoN-2GSyE",
    "outputId": "05a76575-69a8-4c38-dd0e-23f21466f050"
   },
   "outputs": [
    {
     "name": "stdout",
     "output_type": "stream",
     "text": [
      "1998-11-11    38\n",
      "1995-08-19    32\n",
      "1999-05-23    28\n",
      "2001-06-10    27\n",
      "2005-06-17    27\n",
      "              ..\n",
      "2012-09-27     1\n",
      "2004-12-31     1\n",
      "1999-07-31     1\n",
      "1997-12-22     1\n",
      "2010-12-14     1\n",
      "Name: DateOfPolicyCoverage, Length: 6779, dtype: int64\n",
      "State3    10146\n",
      "State1     9716\n",
      "State2     8974\n",
      "Name: InsurancePolicyState, dtype: int64\n",
      "250/500     8260\n",
      "100/300     8050\n",
      "500/1000    7000\n",
      "250/300     1024\n",
      "100/500      962\n",
      "250/1000     953\n",
      "500/500      872\n",
      "500/300      868\n",
      "100/1000     847\n",
      "Name: Policy_CombinedSingleLimit, dtype: int64\n",
      "own-child         5242\n",
      "not-in-family     5222\n",
      "other-relative    5153\n",
      "husband           5002\n",
      "wife              4224\n",
      "unmarried         3993\n",
      "Name: InsuredRelationship, dtype: int64\n"
     ]
    }
   ],
   "source": [
    "for x in policy.drop('CustomerID',axis=1).select_dtypes(include='object').columns:\n",
    "  print(policy[x].value_counts())"
   ]
  },
  {
   "cell_type": "code",
   "execution_count": 7,
   "metadata": {
    "colab": {
     "base_uri": "https://localhost:8080/"
    },
    "id": "ABZHPKUEQ-2-",
    "outputId": "ad86b930-b6b4-4300-af45-edfcd7c8ee2b"
   },
   "outputs": [
    {
     "data": {
      "text/plain": [
       "InsurancePolicyNumber         0\n",
       "CustomerLoyaltyPeriod         0\n",
       "InsurancePolicyState          0\n",
       "Policy_CombinedSingleLimit    0\n",
       "Policy_Deductible             0\n",
       "PolicyAnnualPremium           0\n",
       "UmbrellaLimit                 0\n",
       "InsuredRelationship           0\n",
       "CustomerID                    0\n",
       "PolicyDay                     0\n",
       "PolicyMonth                   0\n",
       "PolicyYear                    0\n",
       "dtype: int64"
      ]
     },
     "execution_count": 7,
     "metadata": {},
     "output_type": "execute_result"
    }
   ],
   "source": [
    "#seems there are no missing values in the set\n",
    "policy.isna().sum()"
   ]
  },
  {
   "cell_type": "code",
   "execution_count": 16,
   "metadata": {
    "id": "przV1HGeQsud"
   },
   "outputs": [],
   "source": [
    "#not important columns:\n",
    "#InsurancePolicyNumber\n",
    "#DateOfPolicyCoverage\n",
    "#InsurancePolicyState"
   ]
  },
  {
   "cell_type": "code",
   "execution_count": 17,
   "metadata": {
    "id": "De4Ii-LHBeiG"
   },
   "outputs": [],
   "source": [
    "#assign date time stamp to DateOfPolicyCoverage column and obtain dates months and years from it separately\n",
    "#policy['PolicyDay']=pd.to_datetime(policy['DateOfPolicyCoverage']).dt.day\n",
    "policy['PolicyMonth']=pd.to_datetime(policy['DateOfPolicyCoverage']).dt.month\n",
    "policy['PolicyYear']=pd.to_datetime(policy['DateOfPolicyCoverage']).dt.year"
   ]
  },
  {
   "cell_type": "code",
   "execution_count": 18,
   "metadata": {
    "id": "RCL_aRHnMwHs"
   },
   "outputs": [],
   "source": [
    "policy.drop(['InsurancePolicyNumber','InsurancePolicyState','DateOfPolicyCoverage'],axis=1,inplace=True)"
   ]
  },
  {
   "cell_type": "code",
   "execution_count": 19,
   "metadata": {
    "id": "yQ4FQGmBA2Sv"
   },
   "outputs": [],
   "source": [
    "#to covert the cols into cat\n",
    "cat_cols=policy.drop('CustomerID',axis=1).select_dtypes(include='object').columns\n",
    "policy[cat_cols]=policy[cat_cols].astype('category')"
   ]
  },
  {
   "cell_type": "code",
   "execution_count": 20,
   "metadata": {
    "colab": {
     "base_uri": "https://localhost:8080/"
    },
    "id": "Y4HcWq6MA2WK",
    "outputId": "3fe04e9f-f80f-4775-a4df-98ae445332b5"
   },
   "outputs": [
    {
     "data": {
      "text/plain": [
       "CustomerLoyaltyPeriod            int64\n",
       "Policy_CombinedSingleLimit    category\n",
       "Policy_Deductible                int64\n",
       "PolicyAnnualPremium            float64\n",
       "UmbrellaLimit                    int64\n",
       "InsuredRelationship           category\n",
       "CustomerID                      object\n",
       "PolicyDay                        int64\n",
       "PolicyMonth                      int64\n",
       "PolicyYear                       int64\n",
       "dtype: object"
      ]
     },
     "execution_count": 20,
     "metadata": {},
     "output_type": "execute_result"
    }
   ],
   "source": [
    "policy.dtypes"
   ]
  },
  {
   "cell_type": "code",
   "execution_count": null,
   "metadata": {
    "id": "lXlyuNbLATvf"
   },
   "outputs": [],
   "source": [
    "policy.to_csv('policy.csv',index=False)"
   ]
  },
  {
   "cell_type": "code",
   "execution_count": null,
   "metadata": {
    "id": "XY9cfO-6ClJX"
   },
   "outputs": [],
   "source": []
  }
 ],
 "metadata": {
  "colab": {
   "provenance": []
  },
  "kernelspec": {
   "display_name": "Python 3 (ipykernel)",
   "language": "python",
   "name": "python3"
  },
  "language_info": {
   "codemirror_mode": {
    "name": "ipython",
    "version": 3
   },
   "file_extension": ".py",
   "mimetype": "text/x-python",
   "name": "python",
   "nbconvert_exporter": "python",
   "pygments_lexer": "ipython3",
   "version": "3.10.5"
  }
 },
 "nbformat": 4,
 "nbformat_minor": 1
}
